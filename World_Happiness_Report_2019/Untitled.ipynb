{
 "cells": [
  {
   "cell_type": "markdown",
   "metadata": {},
   "source": [
    "The data used is World Happiness Report 2019 data. \n",
    "Puprose of this analysis to ensure whether the selected indicator is consequent/linear with the correlation result."
   ]
  },
  {
   "cell_type": "markdown",
   "metadata": {},
   "source": [
    "First, we importing the necessary package."
   ]
  },
  {
   "cell_type": "code",
   "execution_count": 202,
   "metadata": {},
   "outputs": [],
   "source": [
    "import numpy as np\n",
    "import pandas as pd\n",
    "import matplotlib.pyplot as plt\n",
    "import seaborn as sns\n",
    "\n",
    "import plotly.express as px\n",
    "from plotly.subplots import make_subplots\n",
    "import plotly.graph_objects as go\n",
    "\n",
    "# to removing the warning attention in sake of esthetics\n",
    "import warnings\n",
    "warnings.filterwarnings('ignore')"
   ]
  },
  {
   "cell_type": "markdown",
   "metadata": {},
   "source": [
    "Then, we input the dataframe"
   ]
  },
  {
   "cell_type": "code",
   "execution_count": 203,
   "metadata": {},
   "outputs": [
    {
     "data": {
      "text/plain": [
       "(156, 9)"
      ]
     },
     "execution_count": 203,
     "metadata": {},
     "output_type": "execute_result"
    }
   ],
   "source": [
    "df = pd.read_csv(\"./2019.csv\")\n",
    "\n",
    "# we add some additional years for further comparison\n",
    "df2 = pd.read_csv(\"./2015.csv\")\n",
    "df3 = pd.read_csv(\"./2016.csv\")\n",
    "df4 = pd.read_csv(\"./2017.csv\")\n",
    "df5 = pd.read_csv(\"./2018.csv\")\n",
    "\n",
    "df.shape #return to rows and cols"
   ]
  },
  {
   "cell_type": "markdown",
   "metadata": {},
   "source": [
    "Also, we can check our data input like this.\n",
    "We just pick one dataframe for simplicity."
   ]
  },
  {
   "cell_type": "code",
   "execution_count": 204,
   "metadata": {},
   "outputs": [
    {
     "data": {
      "text/html": [
       "<div>\n",
       "<style scoped>\n",
       "    .dataframe tbody tr th:only-of-type {\n",
       "        vertical-align: middle;\n",
       "    }\n",
       "\n",
       "    .dataframe tbody tr th {\n",
       "        vertical-align: top;\n",
       "    }\n",
       "\n",
       "    .dataframe thead th {\n",
       "        text-align: right;\n",
       "    }\n",
       "</style>\n",
       "<table border=\"1\" class=\"dataframe\">\n",
       "  <thead>\n",
       "    <tr style=\"text-align: right;\">\n",
       "      <th></th>\n",
       "      <th>Overall rank</th>\n",
       "      <th>Country or region</th>\n",
       "      <th>Score</th>\n",
       "      <th>GDP per capita</th>\n",
       "      <th>Social support</th>\n",
       "      <th>Healthy life expectancy</th>\n",
       "      <th>Freedom to make life choices</th>\n",
       "      <th>Generosity</th>\n",
       "      <th>Perceptions of corruption</th>\n",
       "    </tr>\n",
       "  </thead>\n",
       "  <tbody>\n",
       "    <tr>\n",
       "      <th>0</th>\n",
       "      <td>1</td>\n",
       "      <td>Finland</td>\n",
       "      <td>7.769</td>\n",
       "      <td>1.340</td>\n",
       "      <td>1.587</td>\n",
       "      <td>0.986</td>\n",
       "      <td>0.596</td>\n",
       "      <td>0.153</td>\n",
       "      <td>0.393</td>\n",
       "    </tr>\n",
       "    <tr>\n",
       "      <th>1</th>\n",
       "      <td>2</td>\n",
       "      <td>Denmark</td>\n",
       "      <td>7.600</td>\n",
       "      <td>1.383</td>\n",
       "      <td>1.573</td>\n",
       "      <td>0.996</td>\n",
       "      <td>0.592</td>\n",
       "      <td>0.252</td>\n",
       "      <td>0.410</td>\n",
       "    </tr>\n",
       "    <tr>\n",
       "      <th>2</th>\n",
       "      <td>3</td>\n",
       "      <td>Norway</td>\n",
       "      <td>7.554</td>\n",
       "      <td>1.488</td>\n",
       "      <td>1.582</td>\n",
       "      <td>1.028</td>\n",
       "      <td>0.603</td>\n",
       "      <td>0.271</td>\n",
       "      <td>0.341</td>\n",
       "    </tr>\n",
       "    <tr>\n",
       "      <th>3</th>\n",
       "      <td>4</td>\n",
       "      <td>Iceland</td>\n",
       "      <td>7.494</td>\n",
       "      <td>1.380</td>\n",
       "      <td>1.624</td>\n",
       "      <td>1.026</td>\n",
       "      <td>0.591</td>\n",
       "      <td>0.354</td>\n",
       "      <td>0.118</td>\n",
       "    </tr>\n",
       "    <tr>\n",
       "      <th>4</th>\n",
       "      <td>5</td>\n",
       "      <td>Netherlands</td>\n",
       "      <td>7.488</td>\n",
       "      <td>1.396</td>\n",
       "      <td>1.522</td>\n",
       "      <td>0.999</td>\n",
       "      <td>0.557</td>\n",
       "      <td>0.322</td>\n",
       "      <td>0.298</td>\n",
       "    </tr>\n",
       "    <tr>\n",
       "      <th>...</th>\n",
       "      <td>...</td>\n",
       "      <td>...</td>\n",
       "      <td>...</td>\n",
       "      <td>...</td>\n",
       "      <td>...</td>\n",
       "      <td>...</td>\n",
       "      <td>...</td>\n",
       "      <td>...</td>\n",
       "      <td>...</td>\n",
       "    </tr>\n",
       "    <tr>\n",
       "      <th>151</th>\n",
       "      <td>152</td>\n",
       "      <td>Rwanda</td>\n",
       "      <td>3.334</td>\n",
       "      <td>0.359</td>\n",
       "      <td>0.711</td>\n",
       "      <td>0.614</td>\n",
       "      <td>0.555</td>\n",
       "      <td>0.217</td>\n",
       "      <td>0.411</td>\n",
       "    </tr>\n",
       "    <tr>\n",
       "      <th>152</th>\n",
       "      <td>153</td>\n",
       "      <td>Tanzania</td>\n",
       "      <td>3.231</td>\n",
       "      <td>0.476</td>\n",
       "      <td>0.885</td>\n",
       "      <td>0.499</td>\n",
       "      <td>0.417</td>\n",
       "      <td>0.276</td>\n",
       "      <td>0.147</td>\n",
       "    </tr>\n",
       "    <tr>\n",
       "      <th>153</th>\n",
       "      <td>154</td>\n",
       "      <td>Afghanistan</td>\n",
       "      <td>3.203</td>\n",
       "      <td>0.350</td>\n",
       "      <td>0.517</td>\n",
       "      <td>0.361</td>\n",
       "      <td>0.000</td>\n",
       "      <td>0.158</td>\n",
       "      <td>0.025</td>\n",
       "    </tr>\n",
       "    <tr>\n",
       "      <th>154</th>\n",
       "      <td>155</td>\n",
       "      <td>Central African Republic</td>\n",
       "      <td>3.083</td>\n",
       "      <td>0.026</td>\n",
       "      <td>0.000</td>\n",
       "      <td>0.105</td>\n",
       "      <td>0.225</td>\n",
       "      <td>0.235</td>\n",
       "      <td>0.035</td>\n",
       "    </tr>\n",
       "    <tr>\n",
       "      <th>155</th>\n",
       "      <td>156</td>\n",
       "      <td>South Sudan</td>\n",
       "      <td>2.853</td>\n",
       "      <td>0.306</td>\n",
       "      <td>0.575</td>\n",
       "      <td>0.295</td>\n",
       "      <td>0.010</td>\n",
       "      <td>0.202</td>\n",
       "      <td>0.091</td>\n",
       "    </tr>\n",
       "  </tbody>\n",
       "</table>\n",
       "<p>156 rows × 9 columns</p>\n",
       "</div>"
      ],
      "text/plain": [
       "     Overall rank         Country or region  Score  GDP per capita  \\\n",
       "0               1                   Finland  7.769           1.340   \n",
       "1               2                   Denmark  7.600           1.383   \n",
       "2               3                    Norway  7.554           1.488   \n",
       "3               4                   Iceland  7.494           1.380   \n",
       "4               5               Netherlands  7.488           1.396   \n",
       "..            ...                       ...    ...             ...   \n",
       "151           152                    Rwanda  3.334           0.359   \n",
       "152           153                  Tanzania  3.231           0.476   \n",
       "153           154               Afghanistan  3.203           0.350   \n",
       "154           155  Central African Republic  3.083           0.026   \n",
       "155           156               South Sudan  2.853           0.306   \n",
       "\n",
       "     Social support  Healthy life expectancy  Freedom to make life choices  \\\n",
       "0             1.587                    0.986                         0.596   \n",
       "1             1.573                    0.996                         0.592   \n",
       "2             1.582                    1.028                         0.603   \n",
       "3             1.624                    1.026                         0.591   \n",
       "4             1.522                    0.999                         0.557   \n",
       "..              ...                      ...                           ...   \n",
       "151           0.711                    0.614                         0.555   \n",
       "152           0.885                    0.499                         0.417   \n",
       "153           0.517                    0.361                         0.000   \n",
       "154           0.000                    0.105                         0.225   \n",
       "155           0.575                    0.295                         0.010   \n",
       "\n",
       "     Generosity  Perceptions of corruption  \n",
       "0         0.153                      0.393  \n",
       "1         0.252                      0.410  \n",
       "2         0.271                      0.341  \n",
       "3         0.354                      0.118  \n",
       "4         0.322                      0.298  \n",
       "..          ...                        ...  \n",
       "151       0.217                      0.411  \n",
       "152       0.276                      0.147  \n",
       "153       0.158                      0.025  \n",
       "154       0.235                      0.035  \n",
       "155       0.202                      0.091  \n",
       "\n",
       "[156 rows x 9 columns]"
      ]
     },
     "execution_count": 204,
     "metadata": {},
     "output_type": "execute_result"
    }
   ],
   "source": [
    "df"
   ]
  },
  {
   "cell_type": "code",
   "execution_count": 205,
   "metadata": {},
   "outputs": [
    {
     "name": "stdout",
     "output_type": "stream",
     "text": [
      "<class 'pandas.core.frame.DataFrame'>\n",
      "RangeIndex: 156 entries, 0 to 155\n",
      "Data columns (total 9 columns):\n",
      " #   Column                        Non-Null Count  Dtype  \n",
      "---  ------                        --------------  -----  \n",
      " 0   Overall rank                  156 non-null    int64  \n",
      " 1   Country or region             156 non-null    object \n",
      " 2   Score                         156 non-null    float64\n",
      " 3   GDP per capita                156 non-null    float64\n",
      " 4   Social support                156 non-null    float64\n",
      " 5   Healthy life expectancy       156 non-null    float64\n",
      " 6   Freedom to make life choices  156 non-null    float64\n",
      " 7   Generosity                    156 non-null    float64\n",
      " 8   Perceptions of corruption     156 non-null    float64\n",
      "dtypes: float64(7), int64(1), object(1)\n",
      "memory usage: 11.1+ KB\n"
     ]
    }
   ],
   "source": [
    "df.info()"
   ]
  },
  {
   "cell_type": "markdown",
   "metadata": {},
   "source": [
    "This is for basic statistical describtion."
   ]
  },
  {
   "cell_type": "code",
   "execution_count": 206,
   "metadata": {},
   "outputs": [
    {
     "data": {
      "text/html": [
       "<div>\n",
       "<style scoped>\n",
       "    .dataframe tbody tr th:only-of-type {\n",
       "        vertical-align: middle;\n",
       "    }\n",
       "\n",
       "    .dataframe tbody tr th {\n",
       "        vertical-align: top;\n",
       "    }\n",
       "\n",
       "    .dataframe thead th {\n",
       "        text-align: right;\n",
       "    }\n",
       "</style>\n",
       "<table border=\"1\" class=\"dataframe\">\n",
       "  <thead>\n",
       "    <tr style=\"text-align: right;\">\n",
       "      <th></th>\n",
       "      <th>Overall rank</th>\n",
       "      <th>Score</th>\n",
       "      <th>GDP per capita</th>\n",
       "      <th>Social support</th>\n",
       "      <th>Healthy life expectancy</th>\n",
       "      <th>Freedom to make life choices</th>\n",
       "      <th>Generosity</th>\n",
       "      <th>Perceptions of corruption</th>\n",
       "    </tr>\n",
       "  </thead>\n",
       "  <tbody>\n",
       "    <tr>\n",
       "      <th>count</th>\n",
       "      <td>156.000000</td>\n",
       "      <td>156.000000</td>\n",
       "      <td>156.000000</td>\n",
       "      <td>156.000000</td>\n",
       "      <td>156.000000</td>\n",
       "      <td>156.000000</td>\n",
       "      <td>156.000000</td>\n",
       "      <td>156.000000</td>\n",
       "    </tr>\n",
       "    <tr>\n",
       "      <th>mean</th>\n",
       "      <td>78.500000</td>\n",
       "      <td>5.407096</td>\n",
       "      <td>0.905147</td>\n",
       "      <td>1.208814</td>\n",
       "      <td>0.725244</td>\n",
       "      <td>0.392571</td>\n",
       "      <td>0.184846</td>\n",
       "      <td>0.110603</td>\n",
       "    </tr>\n",
       "    <tr>\n",
       "      <th>std</th>\n",
       "      <td>45.177428</td>\n",
       "      <td>1.113120</td>\n",
       "      <td>0.398389</td>\n",
       "      <td>0.299191</td>\n",
       "      <td>0.242124</td>\n",
       "      <td>0.143289</td>\n",
       "      <td>0.095254</td>\n",
       "      <td>0.094538</td>\n",
       "    </tr>\n",
       "    <tr>\n",
       "      <th>min</th>\n",
       "      <td>1.000000</td>\n",
       "      <td>2.853000</td>\n",
       "      <td>0.000000</td>\n",
       "      <td>0.000000</td>\n",
       "      <td>0.000000</td>\n",
       "      <td>0.000000</td>\n",
       "      <td>0.000000</td>\n",
       "      <td>0.000000</td>\n",
       "    </tr>\n",
       "    <tr>\n",
       "      <th>25%</th>\n",
       "      <td>39.750000</td>\n",
       "      <td>4.544500</td>\n",
       "      <td>0.602750</td>\n",
       "      <td>1.055750</td>\n",
       "      <td>0.547750</td>\n",
       "      <td>0.308000</td>\n",
       "      <td>0.108750</td>\n",
       "      <td>0.047000</td>\n",
       "    </tr>\n",
       "    <tr>\n",
       "      <th>50%</th>\n",
       "      <td>78.500000</td>\n",
       "      <td>5.379500</td>\n",
       "      <td>0.960000</td>\n",
       "      <td>1.271500</td>\n",
       "      <td>0.789000</td>\n",
       "      <td>0.417000</td>\n",
       "      <td>0.177500</td>\n",
       "      <td>0.085500</td>\n",
       "    </tr>\n",
       "    <tr>\n",
       "      <th>75%</th>\n",
       "      <td>117.250000</td>\n",
       "      <td>6.184500</td>\n",
       "      <td>1.232500</td>\n",
       "      <td>1.452500</td>\n",
       "      <td>0.881750</td>\n",
       "      <td>0.507250</td>\n",
       "      <td>0.248250</td>\n",
       "      <td>0.141250</td>\n",
       "    </tr>\n",
       "    <tr>\n",
       "      <th>max</th>\n",
       "      <td>156.000000</td>\n",
       "      <td>7.769000</td>\n",
       "      <td>1.684000</td>\n",
       "      <td>1.624000</td>\n",
       "      <td>1.141000</td>\n",
       "      <td>0.631000</td>\n",
       "      <td>0.566000</td>\n",
       "      <td>0.453000</td>\n",
       "    </tr>\n",
       "  </tbody>\n",
       "</table>\n",
       "</div>"
      ],
      "text/plain": [
       "       Overall rank       Score  GDP per capita  Social support  \\\n",
       "count    156.000000  156.000000      156.000000      156.000000   \n",
       "mean      78.500000    5.407096        0.905147        1.208814   \n",
       "std       45.177428    1.113120        0.398389        0.299191   \n",
       "min        1.000000    2.853000        0.000000        0.000000   \n",
       "25%       39.750000    4.544500        0.602750        1.055750   \n",
       "50%       78.500000    5.379500        0.960000        1.271500   \n",
       "75%      117.250000    6.184500        1.232500        1.452500   \n",
       "max      156.000000    7.769000        1.684000        1.624000   \n",
       "\n",
       "       Healthy life expectancy  Freedom to make life choices  Generosity  \\\n",
       "count               156.000000                    156.000000  156.000000   \n",
       "mean                  0.725244                      0.392571    0.184846   \n",
       "std                   0.242124                      0.143289    0.095254   \n",
       "min                   0.000000                      0.000000    0.000000   \n",
       "25%                   0.547750                      0.308000    0.108750   \n",
       "50%                   0.789000                      0.417000    0.177500   \n",
       "75%                   0.881750                      0.507250    0.248250   \n",
       "max                   1.141000                      0.631000    0.566000   \n",
       "\n",
       "       Perceptions of corruption  \n",
       "count                 156.000000  \n",
       "mean                    0.110603  \n",
       "std                     0.094538  \n",
       "min                     0.000000  \n",
       "25%                     0.047000  \n",
       "50%                     0.085500  \n",
       "75%                     0.141250  \n",
       "max                     0.453000  "
      ]
     },
     "execution_count": 206,
     "metadata": {},
     "output_type": "execute_result"
    }
   ],
   "source": [
    "df.describe()"
   ]
  },
  {
   "cell_type": "markdown",
   "metadata": {},
   "source": [
    "Lets check there is a null value or not."
   ]
  },
  {
   "cell_type": "code",
   "execution_count": 207,
   "metadata": {},
   "outputs": [
    {
     "data": {
      "text/plain": [
       "Overall rank                    0\n",
       "Country or region               0\n",
       "Score                           0\n",
       "GDP per capita                  0\n",
       "Social support                  0\n",
       "Healthy life expectancy         0\n",
       "Freedom to make life choices    0\n",
       "Generosity                      0\n",
       "Perceptions of corruption       0\n",
       "dtype: int64"
      ]
     },
     "execution_count": 207,
     "metadata": {},
     "output_type": "execute_result"
    }
   ],
   "source": [
    "df.isnull().sum()"
   ]
  },
  {
   "cell_type": "markdown",
   "metadata": {},
   "source": [
    "And we check there is a duplicated/double value or not."
   ]
  },
  {
   "cell_type": "code",
   "execution_count": 208,
   "metadata": {},
   "outputs": [
    {
     "data": {
      "text/plain": [
       "np.int64(0)"
      ]
     },
     "execution_count": 208,
     "metadata": {},
     "output_type": "execute_result"
    }
   ],
   "source": [
    "df.duplicated().sum()"
   ]
  },
  {
   "cell_type": "markdown",
   "metadata": {},
   "source": [
    "EXPLORATORY DATA ANALYSYS (EDA)\n",
    "\n",
    "Here we will find the relationship between our target column which is (score) column and the rest (GDP per capita, Social support, Healthy life expectancy, Freedom to make life choices, Generosity, Perceptions of corruption)."
   ]
  },
  {
   "cell_type": "code",
   "execution_count": 209,
   "metadata": {},
   "outputs": [],
   "source": [
    "cols = ['GDP per capita',\n",
    "        'Social support',\n",
    "        'Healthy life expectancy',\n",
    "        'Freedom to make life choices',\n",
    "        'Generosity',\n",
    "        'Perceptions of corruption']"
   ]
  },
  {
   "cell_type": "markdown",
   "metadata": {},
   "source": [
    "In sake of columns name's similarities, we rename some columns name."
   ]
  },
  {
   "cell_type": "code",
   "execution_count": 210,
   "metadata": {},
   "outputs": [],
   "source": [
    "df2.rename(columns={'Family': 'Social support'}, inplace=True)\n",
    "df3.rename(columns={'Family': 'Social support'}, inplace=True)\n",
    "df4.rename(columns={'Family': 'Social support'}, inplace=True)\n",
    "\n",
    "df2.rename(columns={'Economy (GDP per Capita)': 'GDP per capita'}, inplace=True)\n",
    "df3.rename(columns={'Economy (GDP per Capita)': 'GDP per capita'}, inplace=True)\n",
    "df4.rename(columns={'Economy..GDP.per.Capita.': 'GDP per capita'}, inplace=True)\n",
    "\n",
    "df2.rename(columns={'Happiness Score': 'Score'}, inplace=True)\n",
    "df3.rename(columns={'Happiness Score': 'Score'}, inplace=True)\n",
    "df4.rename(columns={'Happiness.Score': 'Score'}, inplace=True)\n",
    "\n",
    "df2.rename(columns={'Health (Life Expectancy)': 'Healthy life expectancy'}, inplace=True)\n",
    "df3.rename(columns={'Health (Life Expectancy)': 'Healthy life expectancy'}, inplace=True)\n",
    "df4.rename(columns={'Health..Life.Expectancy.': 'Healthy life expectancy'}, inplace=True)\n",
    "\n",
    "df2.rename(columns={'Freedom': 'Freedom to make life choices'}, inplace=True)\n",
    "df3.rename(columns={'Freedom': 'Freedom to make life choices'}, inplace=True)\n",
    "df4.rename(columns={'Freedom': 'Freedom to make life choices'}, inplace=True)\n",
    "\n",
    "df2.rename(columns={'Trust (Government Corruption)': 'Perceptions of corruption'}, inplace=True)\n",
    "df3.rename(columns={'Trust (Government Corruption)': 'Perceptions of corruption'}, inplace=True)\n",
    "df4.rename(columns={'Trust..Government.Corruption.': 'Perceptions of corruption'}, inplace=True)"
   ]
  },
  {
   "cell_type": "markdown",
   "metadata": {},
   "source": [
    "Then, we wrap all of the dataframe into one list"
   ]
  },
  {
   "cell_type": "code",
   "execution_count": 211,
   "metadata": {},
   "outputs": [],
   "source": [
    "years = [df2, df3, df4, df5, df]"
   ]
  },
  {
   "cell_type": "markdown",
   "metadata": {},
   "source": [
    "Don't forget to checking every dataframe. "
   ]
  },
  {
   "cell_type": "code",
   "execution_count": 212,
   "metadata": {},
   "outputs": [
    {
     "name": "stdout",
     "output_type": "stream",
     "text": [
      "<class 'pandas.core.frame.DataFrame'>\n",
      "RangeIndex: 158 entries, 0 to 157\n",
      "Data columns (total 12 columns):\n",
      " #   Column                        Non-Null Count  Dtype  \n",
      "---  ------                        --------------  -----  \n",
      " 0   Country                       158 non-null    object \n",
      " 1   Region                        158 non-null    object \n",
      " 2   Happiness Rank                158 non-null    int64  \n",
      " 3   Score                         158 non-null    float64\n",
      " 4   Standard Error                158 non-null    float64\n",
      " 5   GDP per capita                158 non-null    float64\n",
      " 6   Social support                158 non-null    float64\n",
      " 7   Healthy life expectancy       158 non-null    float64\n",
      " 8   Freedom to make life choices  158 non-null    float64\n",
      " 9   Perceptions of corruption     158 non-null    float64\n",
      " 10  Generosity                    158 non-null    float64\n",
      " 11  Dystopia Residual             158 non-null    float64\n",
      "dtypes: float64(9), int64(1), object(2)\n",
      "memory usage: 14.9+ KB\n",
      "<class 'pandas.core.frame.DataFrame'>\n",
      "RangeIndex: 157 entries, 0 to 156\n",
      "Data columns (total 13 columns):\n",
      " #   Column                        Non-Null Count  Dtype  \n",
      "---  ------                        --------------  -----  \n",
      " 0   Country                       157 non-null    object \n",
      " 1   Region                        157 non-null    object \n",
      " 2   Happiness Rank                157 non-null    int64  \n",
      " 3   Score                         157 non-null    float64\n",
      " 4   Lower Confidence Interval     157 non-null    float64\n",
      " 5   Upper Confidence Interval     157 non-null    float64\n",
      " 6   GDP per capita                157 non-null    float64\n",
      " 7   Social support                157 non-null    float64\n",
      " 8   Healthy life expectancy       157 non-null    float64\n",
      " 9   Freedom to make life choices  157 non-null    float64\n",
      " 10  Perceptions of corruption     157 non-null    float64\n",
      " 11  Generosity                    157 non-null    float64\n",
      " 12  Dystopia Residual             157 non-null    float64\n",
      "dtypes: float64(10), int64(1), object(2)\n",
      "memory usage: 16.1+ KB\n",
      "<class 'pandas.core.frame.DataFrame'>\n",
      "RangeIndex: 155 entries, 0 to 154\n",
      "Data columns (total 12 columns):\n",
      " #   Column                        Non-Null Count  Dtype  \n",
      "---  ------                        --------------  -----  \n",
      " 0   Country                       155 non-null    object \n",
      " 1   Happiness.Rank                155 non-null    int64  \n",
      " 2   Score                         155 non-null    float64\n",
      " 3   Whisker.high                  155 non-null    float64\n",
      " 4   Whisker.low                   155 non-null    float64\n",
      " 5   GDP per capita                155 non-null    float64\n",
      " 6   Social support                155 non-null    float64\n",
      " 7   Healthy life expectancy       155 non-null    float64\n",
      " 8   Freedom to make life choices  155 non-null    float64\n",
      " 9   Generosity                    155 non-null    float64\n",
      " 10  Perceptions of corruption     155 non-null    float64\n",
      " 11  Dystopia.Residual             155 non-null    float64\n",
      "dtypes: float64(10), int64(1), object(1)\n",
      "memory usage: 14.7+ KB\n",
      "<class 'pandas.core.frame.DataFrame'>\n",
      "RangeIndex: 156 entries, 0 to 155\n",
      "Data columns (total 9 columns):\n",
      " #   Column                        Non-Null Count  Dtype  \n",
      "---  ------                        --------------  -----  \n",
      " 0   Overall rank                  156 non-null    int64  \n",
      " 1   Country or region             156 non-null    object \n",
      " 2   Score                         156 non-null    float64\n",
      " 3   GDP per capita                156 non-null    float64\n",
      " 4   Social support                156 non-null    float64\n",
      " 5   Healthy life expectancy       156 non-null    float64\n",
      " 6   Freedom to make life choices  156 non-null    float64\n",
      " 7   Generosity                    156 non-null    float64\n",
      " 8   Perceptions of corruption     155 non-null    float64\n",
      "dtypes: float64(7), int64(1), object(1)\n",
      "memory usage: 11.1+ KB\n",
      "<class 'pandas.core.frame.DataFrame'>\n",
      "RangeIndex: 156 entries, 0 to 155\n",
      "Data columns (total 9 columns):\n",
      " #   Column                        Non-Null Count  Dtype  \n",
      "---  ------                        --------------  -----  \n",
      " 0   Overall rank                  156 non-null    int64  \n",
      " 1   Country or region             156 non-null    object \n",
      " 2   Score                         156 non-null    float64\n",
      " 3   GDP per capita                156 non-null    float64\n",
      " 4   Social support                156 non-null    float64\n",
      " 5   Healthy life expectancy       156 non-null    float64\n",
      " 6   Freedom to make life choices  156 non-null    float64\n",
      " 7   Generosity                    156 non-null    float64\n",
      " 8   Perceptions of corruption     156 non-null    float64\n",
      "dtypes: float64(7), int64(1), object(1)\n",
      "memory usage: 11.1+ KB\n"
     ]
    }
   ],
   "source": [
    "for year in years:\n",
    "    year.info()"
   ]
  },
  {
   "cell_type": "markdown",
   "metadata": {},
   "source": [
    "On the table we saw that in df5['Perceptions of corruption'] we have different number than the other columns in that dataframebecause of the 'Nan' value in one position.\n"
   ]
  },
  {
   "cell_type": "markdown",
   "metadata": {},
   "source": [
    "After knowing that we drop the entire row to be similar with the other."
   ]
  },
  {
   "cell_type": "code",
   "execution_count": 213,
   "metadata": {},
   "outputs": [],
   "source": [
    "df5.dropna(subset=['Perceptions of corruption'], inplace=True) # we remove the unlikely data\n",
    "\n",
    "df5.reset_index(drop=True, inplace=True)\n",
    "\n",
    "# we also renaming the 'Overall rank' column\n",
    "df5['Overall rank'] =  range(1, df5.shape[0]+1)"
   ]
  },
  {
   "cell_type": "markdown",
   "metadata": {},
   "source": [
    "Now, we plotting the ['GDP per capita','Social support','Healthy life expectancy','Freedom to make life choices','Generosity','Perceptions of corruption'] data with the 'Score' data."
   ]
  },
  {
   "cell_type": "markdown",
   "metadata": {},
   "source": [
    "We plotting that in year 2015-2019 to comparing. We also plotting the trends in that data."
   ]
  },
  {
   "cell_type": "code",
   "execution_count": 225,
   "metadata": {},
   "outputs": [
    {
     "name": "stdout",
     "output_type": "stream",
     "text": [
      "Score VS GDP per capita\n",
      "Correlation:  0.7938828678781273\n"
     ]
    },
    {
     "data": {
      "application/vnd.plotly.v1+json": {
       "config": {
        "plotlyServerURL": "https://plot.ly"
       },
       "data": [
        {
         "mode": "markers",
         "name": "2015",
         "type": "scatter",
         "x": [
          1.39651,
          1.30232,
          1.32548,
          1.459,
          1.32629,
          1.29025,
          1.32944,
          1.33171,
          1.25018,
          1.33358,
          1.22857,
          0.95578,
          1.33723,
          1.02054,
          1.39451,
          0.98124,
          1.56391,
          1.33596,
          1.30782,
          1.42727,
          1.26637,
          1.36011,
          1.04424,
          1.52186,
          1.06353,
          1.32792,
          1.10715,
          1.69042,
          1.27778,
          1.05351,
          1.17898,
          1.06166,
          0.91861,
          0.9669,
          1.39541,
          1.23011,
          1.2074,
          1.29098,
          1.55422,
          0.99534,
          1.21183,
          0.76454,
          0.74553,
          0.63244,
          1.16891,
          1.27074,
          1.24461,
          0.86402,
          1.32376,
          1.25114,
          0.68133,
          0.59448,
          0.75985,
          1.12254,
          1.18498,
          1.14723,
          0.59325,
          0.90019,
          1.03192,
          1.12555,
          1.12486,
          1.08254,
          1.13145,
          1.13764,
          0.81038,
          1.20806,
          1.20813,
          0.93929,
          0.80148,
          0.95847,
          1.00761,
          1.38604,
          1.15174,
          0.82827,
          0.63216,
          1.06098,
          0.47428,
          0.65435,
          0.77042,
          1.02389,
          0.59543,
          0.90198,
          0.97438,
          0.89012,
          0.47038,
          1.04345,
          0.92053,
          1.15991,
          1.11312,
          0.70532,
          0.18847,
          0.73479,
          0.91851,
          0.08308,
          0.87867,
          0.83223,
          0.37545,
          0.89537,
          0.59066,
          0.82819,
          0.71206,
          1.15406,
          1.02564,
          1.12094,
          0.59532,
          0.39047,
          0.88113,
          0.59867,
          0.39753,
          1.0088,
          0.79907,
          0.98549,
          0.92049,
          0.54558,
          0.271,
          0.0712,
          0.64499,
          0.52107,
          0.26673,
          0,
          0.35997,
          0.19073,
          0.33024,
          0.45407,
          0.36471,
          0.44025,
          0.76821,
          0.99355,
          0.27108,
          0.7419,
          0.01604,
          0.83524,
          0.4225,
          1.01216,
          0.8818,
          0.54649,
          0.75778,
          0.26074,
          0.67866,
          0.23906,
          0.21102,
          0.36498,
          1.06024,
          0.0694,
          0.46038,
          0.2852,
          0.20824,
          0.0785,
          0.34193,
          0.17417,
          0.46534,
          0.25812,
          0.31982,
          0.22208,
          0.28665,
          0.6632,
          0.0153,
          0.20868
         ],
         "y": [
          7.587,
          7.561,
          7.527,
          7.522,
          7.427,
          7.406,
          7.378,
          7.364,
          7.286,
          7.284,
          7.278,
          7.226,
          7.2,
          7.187,
          7.119,
          6.983,
          6.946,
          6.94,
          6.937,
          6.901,
          6.867,
          6.853,
          6.81,
          6.798,
          6.786,
          6.75,
          6.67,
          6.611,
          6.575,
          6.574,
          6.505,
          6.485,
          6.477,
          6.455,
          6.411,
          6.329,
          6.302,
          6.298,
          6.295,
          6.269,
          6.168,
          6.13,
          6.123,
          6.003,
          5.995,
          5.987,
          5.984,
          5.975,
          5.96,
          5.948,
          5.89,
          5.889,
          5.878,
          5.855,
          5.848,
          5.833,
          5.828,
          5.824,
          5.813,
          5.791,
          5.77,
          5.759,
          5.754,
          5.716,
          5.709,
          5.695,
          5.689,
          5.605,
          5.589,
          5.548,
          5.477,
          5.474,
          5.429,
          5.399,
          5.36,
          5.332,
          5.286,
          5.268,
          5.253,
          5.212,
          5.194,
          5.192,
          5.192,
          5.14,
          5.129,
          5.124,
          5.123,
          5.102,
          5.098,
          5.073,
          5.057,
          5.013,
          5.007,
          4.971,
          4.959,
          4.949,
          4.898,
          4.885,
          4.876,
          4.874,
          4.867,
          4.857,
          4.839,
          4.8,
          4.788,
          4.786,
          4.739,
          4.715,
          4.694,
          4.686,
          4.681,
          4.677,
          4.642,
          4.633,
          4.61,
          4.571,
          4.565,
          4.55,
          4.518,
          4.517,
          4.514,
          4.512,
          4.507,
          4.436,
          4.419,
          4.369,
          4.35,
          4.332,
          4.307,
          4.297,
          4.292,
          4.271,
          4.252,
          4.218,
          4.194,
          4.077,
          4.033,
          3.995,
          3.989,
          3.956,
          3.931,
          3.904,
          3.896,
          3.845,
          3.819,
          3.781,
          3.681,
          3.678,
          3.667,
          3.656,
          3.655,
          3.587,
          3.575,
          3.465,
          3.34,
          3.006,
          2.905,
          2.839
         ]
        },
        {
         "mode": "markers",
         "name": "2016",
         "type": "scatter",
         "x": [
          1.44178,
          1.52733,
          1.42666,
          1.57744,
          1.40598,
          1.44015,
          1.46468,
          1.36066,
          1.44443,
          1.45181,
          1.33766,
          1.45038,
          1.50796,
          1.06879,
          1.35943,
          1.44787,
          1.08754,
          1.42539,
          1.48341,
          1.69752,
          1.11508,
          1.64555,
          1.40283,
          1.2167,
          1.18306,
          1.15137,
          1.30915,
          1.57352,
          1.18157,
          1.30782,
          1.03032,
          1.39488,
          1.0893,
          1.48953,
          1.39729,
          1.82427,
          1.34253,
          1.05266,
          0.83454,
          1.09686,
          1.61714,
          1.44024,
          1.32572,
          1.13367,
          1.27973,
          0.8737,
          1.25142,
          0.69384,
          0.73591,
          1.35495,
          0.97306,
          0.87616,
          1.38007,
          1.22943,
          0.69177,
          1.23228,
          1.24585,
          1.35948,
          0.79422,
          1.2692,
          1.13062,
          1.31141,
          1.29947,
          0.99602,
          1.08017,
          1.14372,
          1.06688,
          1.21788,
          1.31857,
          0.89373,
          1.1697,
          1.27964,
          0.89333,
          1.18649,
          1.5107,
          0,
          0.90145,
          1.16492,
          0.95104,
          0.99673,
          1.12373,
          0.81217,
          1.0278,
          0.8527,
          0.56044,
          1.03437,
          0.93383,
          1.07838,
          1.02787,
          0.84058,
          1.24142,
          0.68816,
          1.12268,
          1.27607,
          1.0193,
          0.74037,
          0.25558,
          0.97724,
          1.24886,
          0.48835,
          0.98853,
          0.68042,
          0.75216,
          0.69429,
          1.11758,
          0.61202,
          0.44626,
          0.67024,
          0.9553,
          0.54177,
          0.36485,
          1.07474,
          0.93287,
          0.52497,
          0.29283,
          1.02416,
          0.97318,
          0.74036,
          0.34112,
          0.95395,
          0.86086,
          0.52267,
          0.87287,
          0.63107,
          0.05661,
          0.83792,
          0.77109,
          0.44314,
          1.11306,
          0.61391,
          0.35041,
          0.08709,
          0.63069,
          1.15851,
          0.31292,
          0.34097,
          1.09426,
          0.27509,
          0.55507,
          0.55604,
          0.84731,
          0.1327,
          0.39394,
          0.42214,
          0.31995,
          0.34719,
          0.57939,
          0.27954,
          0.47155,
          0.10706,
          0.22415,
          0.32846,
          0.39499,
          0.38227,
          0.28123,
          0.74719,
          0.06831
         ],
         "y": [
          7.526,
          7.509,
          7.501,
          7.498,
          7.413,
          7.404,
          7.339,
          7.334,
          7.313,
          7.291,
          7.267,
          7.119,
          7.104,
          7.087,
          7.039,
          6.994,
          6.952,
          6.929,
          6.907,
          6.871,
          6.778,
          6.739,
          6.725,
          6.705,
          6.701,
          6.65,
          6.596,
          6.573,
          6.545,
          6.488,
          6.481,
          6.478,
          6.474,
          6.379,
          6.379,
          6.375,
          6.361,
          6.355,
          6.324,
          6.269,
          6.239,
          6.218,
          6.168,
          6.084,
          6.078,
          6.068,
          6.005,
          5.992,
          5.987,
          5.977,
          5.976,
          5.956,
          5.921,
          5.919,
          5.897,
          5.856,
          5.835,
          5.835,
          5.822,
          5.813,
          5.802,
          5.771,
          5.768,
          5.743,
          5.658,
          5.648,
          5.615,
          5.56,
          5.546,
          5.538,
          5.528,
          5.517,
          5.51,
          5.488,
          5.458,
          5.44,
          5.401,
          5.389,
          5.314,
          5.303,
          5.291,
          5.279,
          5.245,
          5.196,
          5.185,
          5.177,
          5.163,
          5.161,
          5.155,
          5.151,
          5.145,
          5.132,
          5.129,
          5.123,
          5.121,
          5.061,
          5.057,
          5.045,
          5.033,
          4.996,
          4.907,
          4.876,
          4.875,
          4.871,
          4.813,
          4.795,
          4.793,
          4.754,
          4.655,
          4.643,
          4.635,
          4.575,
          4.574,
          4.513,
          4.508,
          4.459,
          4.415,
          4.404,
          4.395,
          4.362,
          4.36,
          4.356,
          4.324,
          4.276,
          4.272,
          4.252,
          4.236,
          4.219,
          4.217,
          4.201,
          4.193,
          4.156,
          4.139,
          4.121,
          4.073,
          4.028,
          3.974,
          3.956,
          3.916,
          3.907,
          3.866,
          3.856,
          3.832,
          3.763,
          3.739,
          3.739,
          3.724,
          3.695,
          3.666,
          3.622,
          3.607,
          3.515,
          3.484,
          3.36,
          3.303,
          3.069,
          2.905
         ]
        },
        {
         "mode": "markers",
         "name": "2017",
         "type": "scatter",
         "x": [
          1.61646318435669,
          1.48238301277161,
          1.480633020401,
          1.56497955322266,
          1.44357192516327,
          1.50394463539124,
          1.47920441627502,
          1.40570604801178,
          1.49438726902008,
          1.484414935112,
          1.37538242340088,
          1.10970628261566,
          1.48709726333618,
          1.54625928401947,
          1.53570663928986,
          1.48792338371277,
          1.46378076076508,
          1.74194359779358,
          1.44163393974304,
          1.25278460979462,
          1.62634336948395,
          1.10735321044922,
          1.35268235206604,
          1.18529546260834,
          1.15318381786346,
          1.69227766990662,
          1.34327983856201,
          1.21755969524384,
          0.872001945972443,
          1.23374843597412,
          1.43092346191406,
          1.12786877155304,
          1.43362653255463,
          1.38439786434174,
          1.87076568603516,
          1.07062232494354,
          1.53062355518341,
          1.36135590076447,
          1.63295245170593,
          1.32539355754852,
          1.48841226100922,
          1.29121541976929,
          0.737299203872681,
          1.00082039833069,
          0.909784495830536,
          1.29178786277771,
          0.786441087722778,
          1.39506661891937,
          1.28177809715271,
          0.907975316047668,
          1.41691517829895,
          1.31458234786987,
          1.09186446666718,
          1.26074862480164,
          1.40167844295502,
          0.728870630264282,
          1.21768391132355,
          0.833756566047668,
          1.13077676296234,
          1.28455626964569,
          1.3469113111496,
          1.3412059545517,
          1.03522527217865,
          1.18939554691315,
          1.35593807697296,
          1.32087934017181,
          1.15655755996704,
          1.10180306434631,
          1.19827437400818,
          0.932537317276001,
          1.55167484283447,
          0.85769921541214,
          1.06931757926941,
          0.991012394428253,
          1.2860119342804,
          0.925579309463501,
          1.22255623340607,
          0.951484382152557,
          1.08116579055786,
          0.72688353061676,
          0.995538592338562,
          1.12843120098114,
          1.12112903594971,
          0.878114581108093,
          1.15360176563263,
          1.07937383651733,
          1.28948748111725,
          1.07498753070831,
          1.3151752948761,
          0.982409417629242,
          0.730573117733002,
          1.06457793712616,
          0.0226431842893362,
          0.788547575473785,
          0.783756256103516,
          0.524713635444641,
          0.885416388511658,
          0.596220076084137,
          0.479820191860199,
          1.02723586559296,
          1.05469870567322,
          1.00726580619812,
          0.716249227523804,
          0.989701807498932,
          1.1614590883255,
          0.36842092871666,
          0.564305365085602,
          1.15687310695648,
          0.996192753314972,
          0.586682975292206,
          0.964434325695038,
          0.560479462146759,
          0.234305649995804,
          0.367110550403595,
          0.479309022426605,
          0.636406779289246,
          1.10271048545837,
          1.1982102394104,
          0.339233845472336,
          1.00985014438629,
          0.900596737861633,
          0.792221248149872,
          0.648457288742065,
          0.808964252471924,
          0.950612664222717,
          0.0921023488044739,
          0.476180493831635,
          0.603048920631409,
          0.601765096187592,
          0.65951669216156,
          0.667224824428558,
          0.89465194940567,
          0.381430715322495,
          0.3502277135849,
          0.161925330758095,
          0.233442038297653,
          0.438012987375259,
          0.375846534967422,
          0.521021246910095,
          0.858428180217743,
          0.401477217674255,
          1.12209415435791,
          0.431085407733917,
          0.305808693170547,
          0.368610262870789,
          0.591683447360992,
          0.39724862575531,
          0.119041793048382,
          0.244549930095673,
          0.305444717407227,
          0.368745893239975,
          0.777153134346008,
          0.511135876178741,
          0.091622568666935,
          0
         ],
         "y": [
          7.53700017929077,
          7.52199983596802,
          7.50400018692017,
          7.49399995803833,
          7.4689998626709,
          7.3769998550415,
          7.31599998474121,
          7.31400012969971,
          7.28399991989136,
          7.28399991989136,
          7.21299982070923,
          7.0789999961853,
          7.00600004196167,
          6.99300003051758,
          6.97700023651123,
          6.95100021362305,
          6.89099979400635,
          6.86299991607666,
          6.71400022506714,
          6.65199995040894,
          6.64799976348877,
          6.63500022888184,
          6.60900020599365,
          6.59899997711182,
          6.57800006866455,
          6.57200002670288,
          6.52699995040894,
          6.4539999961853,
          6.4539999961853,
          6.4520001411438,
          6.44199991226196,
          6.42399978637695,
          6.42199993133545,
          6.40299987792969,
          6.375,
          6.35699987411499,
          6.3439998626709,
          6.16800022125244,
          6.10500001907349,
          6.09800004959106,
          6.08699989318848,
          6.08400011062622,
          6.07100009918213,
          6.00799989700317,
          6.00299978256226,
          5.97300004959106,
          5.97100019454956,
          5.96400022506714,
          5.96299982070923,
          5.95599985122681,
          5.92000007629395,
          5.90199995040894,
          5.87200021743774,
          5.84999990463257,
          5.83799982070923,
          5.83799982070923,
          5.82499980926514,
          5.82299995422363,
          5.82200002670288,
          5.81899976730347,
          5.80999994277954,
          5.75799989700317,
          5.71500015258789,
          5.62900018692017,
          5.62099981307983,
          5.61100006103516,
          5.56899976730347,
          5.52500009536743,
          5.5,
          5.49300003051758,
          5.47200012207031,
          5.42999982833862,
          5.39499998092651,
          5.33599996566772,
          5.32399988174438,
          5.31099987030029,
          5.29300022125244,
          5.27899980545044,
          5.27299976348877,
          5.26900005340576,
          5.26200008392334,
          5.25,
          5.23699998855591,
          5.2350001335144,
          5.23400020599365,
          5.23000001907349,
          5.22700023651123,
          5.22499990463257,
          5.19500017166138,
          5.18200016021729,
          5.18100023269653,
          5.17500019073486,
          5.15100002288818,
          5.07399988174438,
          5.07399988174438,
          5.04099988937378,
          5.01100015640259,
          5.00400018692017,
          4.96199989318848,
          4.95499992370605,
          4.8289999961853,
          4.80499982833862,
          4.77500009536743,
          4.7350001335144,
          4.71400022506714,
          4.70900011062622,
          4.69500017166138,
          4.69199991226196,
          4.64400005340576,
          4.60799980163574,
          4.57399988174438,
          4.55299997329712,
          4.55000019073486,
          4.54500007629395,
          4.53499984741211,
          4.51399993896484,
          4.49700021743774,
          4.46500015258789,
          4.46000003814697,
          4.44000005722046,
          4.37599992752075,
          4.31500005722046,
          4.29199981689453,
          4.29099988937378,
          4.28599977493286,
          4.28000020980835,
          4.19000005722046,
          4.17999982833862,
          4.16800022125244,
          4.13899993896484,
          4.11999988555908,
          4.09600019454956,
          4.08099985122681,
          4.03200006484985,
          4.02799987792969,
          3.97000002861023,
          3.93600010871887,
          3.875,
          3.80800008773804,
          3.79500007629395,
          3.79399991035461,
          3.76600003242493,
          3.65700006484985,
          3.64400005340576,
          3.6029999256134,
          3.59299993515015,
          3.59100008010864,
          3.53299999237061,
          3.50699996948242,
          3.49499988555908,
          3.47099995613098,
          3.46199989318848,
          3.34899997711182,
          2.90499997138977,
          2.69300007820129
         ]
        },
        {
         "mode": "markers",
         "name": "2018",
         "type": "scatter",
         "x": [
          1.305,
          1.456,
          1.351,
          1.343,
          1.42,
          1.361,
          1.33,
          1.268,
          1.355,
          1.34,
          1.244,
          1.341,
          1.01,
          1.448,
          1.34,
          1.324,
          1.576,
          1.398,
          1.301,
          1.233,
          1.27,
          1.293,
          1.038,
          1.131,
          1.365,
          1.112,
          0.986,
          1.073,
          0.781,
          1.093,
          1.649,
          1.379,
          1.529,
          1.161,
          1.251,
          0.96,
          1.223,
          1.21,
          0.806,
          0.668,
          1.176,
          1.338,
          0.719,
          1.474,
          1.016,
          1.264,
          0.889,
          0.807,
          1.197,
          1.219,
          1.116,
          1.148,
          1.294,
          1.09,
          0.819,
          1.266,
          1.229,
          1.151,
          1.143,
          1.229,
          0.751,
          1.2,
          0.835,
          0.934,
          0.855,
          0.657,
          1.016,
          1.171,
          0.985,
          0.775,
          0.62,
          1.039,
          1.148,
          0.652,
          1.405,
          1.188,
          0.975,
          1.154,
          0.965,
          1.017,
          1.115,
          0.982,
          0.979,
          0.779,
          0.989,
          1.024,
          0.474,
          0.959,
          0.822,
          0.689,
          0.53,
          0.915,
          0.914,
          0.715,
          0.899,
          0.796,
          0,
          0.535,
          1.054,
          0.425,
          0.996,
          1.036,
          0.642,
          0.94,
          1.059,
          0.541,
          0.592,
          0.429,
          0.72,
          0.9,
          0.916,
          0.256,
          0.682,
          0.532,
          0.918,
          1.01,
          0.37,
          0.874,
          0.549,
          0.314,
          0.885,
          0.198,
          0.493,
          0.562,
          0.557,
          0.308,
          0.853,
          0.816,
          0.682,
          0.358,
          0.069,
          0.721,
          0.131,
          0.322,
          0.378,
          0.605,
          0.793,
          0.259,
          0.344,
          0.472,
          0.73,
          0.262,
          0.357,
          0.332,
          1.017,
          0.186,
          0.315,
          0.076,
          0.689,
          0.332,
          0.442,
          0.455,
          0.337,
          0.024,
          0.091
         ],
         "y": [
          7.632,
          7.594,
          7.555,
          7.495,
          7.487,
          7.441,
          7.328,
          7.324,
          7.314,
          7.272,
          7.19,
          7.139,
          7.072,
          6.977,
          6.965,
          6.927,
          6.91,
          6.886,
          6.814,
          6.711,
          6.627,
          6.489,
          6.488,
          6.476,
          6.441,
          6.43,
          6.419,
          6.388,
          6.382,
          6.379,
          6.374,
          6.371,
          6.343,
          6.322,
          6.31,
          6.26,
          6.192,
          6.173,
          6.167,
          6.141,
          6.123,
          6.105,
          6.096,
          6.083,
          6.072,
          6,
          5.973,
          5.956,
          5.952,
          5.948,
          5.945,
          5.933,
          5.915,
          5.891,
          5.89,
          5.875,
          5.835,
          5.81,
          5.79,
          5.762,
          5.752,
          5.739,
          5.681,
          5.663,
          5.662,
          5.64,
          5.636,
          5.62,
          5.566,
          5.524,
          5.504,
          5.483,
          5.483,
          5.472,
          5.43,
          5.41,
          5.398,
          5.358,
          5.358,
          5.347,
          5.321,
          5.302,
          5.295,
          5.254,
          5.246,
          5.201,
          5.199,
          5.185,
          5.161,
          5.155,
          5.131,
          5.129,
          5.125,
          5.103,
          5.093,
          5.082,
          4.982,
          4.975,
          4.933,
          4.88,
          4.806,
          4.758,
          4.743,
          4.724,
          4.707,
          4.671,
          4.657,
          4.631,
          4.623,
          4.592,
          4.586,
          4.571,
          4.559,
          4.5,
          4.471,
          4.456,
          4.447,
          4.441,
          4.433,
          4.424,
          4.419,
          4.417,
          4.41,
          4.377,
          4.356,
          4.35,
          4.34,
          4.321,
          4.308,
          4.301,
          4.245,
          4.19,
          4.166,
          4.161,
          4.141,
          4.139,
          4.103,
          3.999,
          3.964,
          3.808,
          3.795,
          3.774,
          3.692,
          3.632,
          3.59,
          3.587,
          3.582,
          3.495,
          3.462,
          3.408,
          3.355,
          3.303,
          3.254,
          3.083,
          2.905
         ]
        },
        {
         "mode": "markers",
         "name": "2019",
         "type": "scatter",
         "x": [
          1.34,
          1.383,
          1.488,
          1.38,
          1.396,
          1.452,
          1.387,
          1.303,
          1.365,
          1.376,
          1.372,
          1.034,
          1.276,
          1.609,
          1.333,
          1.499,
          1.373,
          1.356,
          1.433,
          1.269,
          1.503,
          1.3,
          1.07,
          1.324,
          1.368,
          1.159,
          0.8,
          1.403,
          1.684,
          1.286,
          1.149,
          1.004,
          1.124,
          1.572,
          0.794,
          1.294,
          1.362,
          1.246,
          1.231,
          1.206,
          0.745,
          1.238,
          0.985,
          1.258,
          0.694,
          0.882,
          1.092,
          1.162,
          1.263,
          0.912,
          1.5,
          1.05,
          1.187,
          1.301,
          1.237,
          0.831,
          1.12,
          1.327,
          0.642,
          1.173,
          0.776,
          1.201,
          0.855,
          1.263,
          0.96,
          1.221,
          0.677,
          1.183,
          0.807,
          1.004,
          0.685,
          1.044,
          1.051,
          0.493,
          1.155,
          1.438,
          1.015,
          0.945,
          1.183,
          1.221,
          1.067,
          1.181,
          0.948,
          0.983,
          0.696,
          0.551,
          1.052,
          1.002,
          0.801,
          1.043,
          0.987,
          0.931,
          1.029,
          0.741,
          0.813,
          0.549,
          1.092,
          0.611,
          0.569,
          0.446,
          0.837,
          0.393,
          0.673,
          1.057,
          0.764,
          0.96,
          0.947,
          0.96,
          0.574,
          0.657,
          0.45,
          0,
          0.879,
          0.138,
          0.331,
          0.85,
          1.1,
          0.38,
          0.886,
          0.308,
          0.512,
          0.57,
          0.204,
          0.921,
          0.562,
          1.043,
          0.094,
          0.385,
          0.268,
          0.949,
          0.71,
          0.35,
          0.82,
          0.336,
          0.811,
          0.332,
          0.913,
          0.578,
          0.275,
          0.755,
          0.073,
          0.274,
          0.274,
          0.489,
          0.046,
          0.366,
          0.323,
          1.041,
          0.619,
          0.191,
          0.287,
          0.359,
          0.476,
          0.35,
          0.026,
          0.306
         ],
         "y": [
          7.769,
          7.6,
          7.554,
          7.494,
          7.488,
          7.48,
          7.343,
          7.307,
          7.278,
          7.246,
          7.228,
          7.167,
          7.139,
          7.09,
          7.054,
          7.021,
          6.985,
          6.923,
          6.892,
          6.852,
          6.825,
          6.726,
          6.595,
          6.592,
          6.446,
          6.444,
          6.436,
          6.375,
          6.374,
          6.354,
          6.321,
          6.3,
          6.293,
          6.262,
          6.253,
          6.223,
          6.199,
          6.198,
          6.192,
          6.182,
          6.174,
          6.149,
          6.125,
          6.118,
          6.105,
          6.1,
          6.086,
          6.07,
          6.046,
          6.028,
          6.021,
          6.008,
          5.94,
          5.895,
          5.893,
          5.89,
          5.888,
          5.886,
          5.86,
          5.809,
          5.779,
          5.758,
          5.743,
          5.718,
          5.697,
          5.693,
          5.653,
          5.648,
          5.631,
          5.603,
          5.529,
          5.525,
          5.523,
          5.467,
          5.432,
          5.43,
          5.425,
          5.386,
          5.373,
          5.339,
          5.323,
          5.287,
          5.285,
          5.274,
          5.265,
          5.261,
          5.247,
          5.211,
          5.208,
          5.208,
          5.197,
          5.192,
          5.191,
          5.175,
          5.082,
          5.044,
          5.011,
          4.996,
          4.944,
          4.913,
          4.906,
          4.883,
          4.812,
          4.799,
          4.796,
          4.722,
          4.719,
          4.707,
          4.7,
          4.696,
          4.681,
          4.668,
          4.639,
          4.628,
          4.587,
          4.559,
          4.548,
          4.534,
          4.519,
          4.516,
          4.509,
          4.49,
          4.466,
          4.461,
          4.456,
          4.437,
          4.418,
          4.39,
          4.374,
          4.366,
          4.36,
          4.35,
          4.332,
          4.286,
          4.212,
          4.189,
          4.166,
          4.107,
          4.085,
          4.015,
          3.975,
          3.973,
          3.933,
          3.802,
          3.775,
          3.663,
          3.597,
          3.488,
          3.462,
          3.41,
          3.38,
          3.334,
          3.231,
          3.203,
          3.083,
          2.853
         ]
        }
       ],
       "layout": {
        "height": 500,
        "template": {
         "data": {
          "bar": [
           {
            "error_x": {
             "color": "#2a3f5f"
            },
            "error_y": {
             "color": "#2a3f5f"
            },
            "marker": {
             "line": {
              "color": "#E5ECF6",
              "width": 0.5
             },
             "pattern": {
              "fillmode": "overlay",
              "size": 10,
              "solidity": 0.2
             }
            },
            "type": "bar"
           }
          ],
          "barpolar": [
           {
            "marker": {
             "line": {
              "color": "#E5ECF6",
              "width": 0.5
             },
             "pattern": {
              "fillmode": "overlay",
              "size": 10,
              "solidity": 0.2
             }
            },
            "type": "barpolar"
           }
          ],
          "carpet": [
           {
            "aaxis": {
             "endlinecolor": "#2a3f5f",
             "gridcolor": "white",
             "linecolor": "white",
             "minorgridcolor": "white",
             "startlinecolor": "#2a3f5f"
            },
            "baxis": {
             "endlinecolor": "#2a3f5f",
             "gridcolor": "white",
             "linecolor": "white",
             "minorgridcolor": "white",
             "startlinecolor": "#2a3f5f"
            },
            "type": "carpet"
           }
          ],
          "choropleth": [
           {
            "colorbar": {
             "outlinewidth": 0,
             "ticks": ""
            },
            "type": "choropleth"
           }
          ],
          "contour": [
           {
            "colorbar": {
             "outlinewidth": 0,
             "ticks": ""
            },
            "colorscale": [
             [
              0,
              "#0d0887"
             ],
             [
              0.1111111111111111,
              "#46039f"
             ],
             [
              0.2222222222222222,
              "#7201a8"
             ],
             [
              0.3333333333333333,
              "#9c179e"
             ],
             [
              0.4444444444444444,
              "#bd3786"
             ],
             [
              0.5555555555555556,
              "#d8576b"
             ],
             [
              0.6666666666666666,
              "#ed7953"
             ],
             [
              0.7777777777777778,
              "#fb9f3a"
             ],
             [
              0.8888888888888888,
              "#fdca26"
             ],
             [
              1,
              "#f0f921"
             ]
            ],
            "type": "contour"
           }
          ],
          "contourcarpet": [
           {
            "colorbar": {
             "outlinewidth": 0,
             "ticks": ""
            },
            "type": "contourcarpet"
           }
          ],
          "heatmap": [
           {
            "colorbar": {
             "outlinewidth": 0,
             "ticks": ""
            },
            "colorscale": [
             [
              0,
              "#0d0887"
             ],
             [
              0.1111111111111111,
              "#46039f"
             ],
             [
              0.2222222222222222,
              "#7201a8"
             ],
             [
              0.3333333333333333,
              "#9c179e"
             ],
             [
              0.4444444444444444,
              "#bd3786"
             ],
             [
              0.5555555555555556,
              "#d8576b"
             ],
             [
              0.6666666666666666,
              "#ed7953"
             ],
             [
              0.7777777777777778,
              "#fb9f3a"
             ],
             [
              0.8888888888888888,
              "#fdca26"
             ],
             [
              1,
              "#f0f921"
             ]
            ],
            "type": "heatmap"
           }
          ],
          "heatmapgl": [
           {
            "colorbar": {
             "outlinewidth": 0,
             "ticks": ""
            },
            "colorscale": [
             [
              0,
              "#0d0887"
             ],
             [
              0.1111111111111111,
              "#46039f"
             ],
             [
              0.2222222222222222,
              "#7201a8"
             ],
             [
              0.3333333333333333,
              "#9c179e"
             ],
             [
              0.4444444444444444,
              "#bd3786"
             ],
             [
              0.5555555555555556,
              "#d8576b"
             ],
             [
              0.6666666666666666,
              "#ed7953"
             ],
             [
              0.7777777777777778,
              "#fb9f3a"
             ],
             [
              0.8888888888888888,
              "#fdca26"
             ],
             [
              1,
              "#f0f921"
             ]
            ],
            "type": "heatmapgl"
           }
          ],
          "histogram": [
           {
            "marker": {
             "pattern": {
              "fillmode": "overlay",
              "size": 10,
              "solidity": 0.2
             }
            },
            "type": "histogram"
           }
          ],
          "histogram2d": [
           {
            "colorbar": {
             "outlinewidth": 0,
             "ticks": ""
            },
            "colorscale": [
             [
              0,
              "#0d0887"
             ],
             [
              0.1111111111111111,
              "#46039f"
             ],
             [
              0.2222222222222222,
              "#7201a8"
             ],
             [
              0.3333333333333333,
              "#9c179e"
             ],
             [
              0.4444444444444444,
              "#bd3786"
             ],
             [
              0.5555555555555556,
              "#d8576b"
             ],
             [
              0.6666666666666666,
              "#ed7953"
             ],
             [
              0.7777777777777778,
              "#fb9f3a"
             ],
             [
              0.8888888888888888,
              "#fdca26"
             ],
             [
              1,
              "#f0f921"
             ]
            ],
            "type": "histogram2d"
           }
          ],
          "histogram2dcontour": [
           {
            "colorbar": {
             "outlinewidth": 0,
             "ticks": ""
            },
            "colorscale": [
             [
              0,
              "#0d0887"
             ],
             [
              0.1111111111111111,
              "#46039f"
             ],
             [
              0.2222222222222222,
              "#7201a8"
             ],
             [
              0.3333333333333333,
              "#9c179e"
             ],
             [
              0.4444444444444444,
              "#bd3786"
             ],
             [
              0.5555555555555556,
              "#d8576b"
             ],
             [
              0.6666666666666666,
              "#ed7953"
             ],
             [
              0.7777777777777778,
              "#fb9f3a"
             ],
             [
              0.8888888888888888,
              "#fdca26"
             ],
             [
              1,
              "#f0f921"
             ]
            ],
            "type": "histogram2dcontour"
           }
          ],
          "mesh3d": [
           {
            "colorbar": {
             "outlinewidth": 0,
             "ticks": ""
            },
            "type": "mesh3d"
           }
          ],
          "parcoords": [
           {
            "line": {
             "colorbar": {
              "outlinewidth": 0,
              "ticks": ""
             }
            },
            "type": "parcoords"
           }
          ],
          "pie": [
           {
            "automargin": true,
            "type": "pie"
           }
          ],
          "scatter": [
           {
            "fillpattern": {
             "fillmode": "overlay",
             "size": 10,
             "solidity": 0.2
            },
            "type": "scatter"
           }
          ],
          "scatter3d": [
           {
            "line": {
             "colorbar": {
              "outlinewidth": 0,
              "ticks": ""
             }
            },
            "marker": {
             "colorbar": {
              "outlinewidth": 0,
              "ticks": ""
             }
            },
            "type": "scatter3d"
           }
          ],
          "scattercarpet": [
           {
            "marker": {
             "colorbar": {
              "outlinewidth": 0,
              "ticks": ""
             }
            },
            "type": "scattercarpet"
           }
          ],
          "scattergeo": [
           {
            "marker": {
             "colorbar": {
              "outlinewidth": 0,
              "ticks": ""
             }
            },
            "type": "scattergeo"
           }
          ],
          "scattergl": [
           {
            "marker": {
             "colorbar": {
              "outlinewidth": 0,
              "ticks": ""
             }
            },
            "type": "scattergl"
           }
          ],
          "scattermapbox": [
           {
            "marker": {
             "colorbar": {
              "outlinewidth": 0,
              "ticks": ""
             }
            },
            "type": "scattermapbox"
           }
          ],
          "scatterpolar": [
           {
            "marker": {
             "colorbar": {
              "outlinewidth": 0,
              "ticks": ""
             }
            },
            "type": "scatterpolar"
           }
          ],
          "scatterpolargl": [
           {
            "marker": {
             "colorbar": {
              "outlinewidth": 0,
              "ticks": ""
             }
            },
            "type": "scatterpolargl"
           }
          ],
          "scatterternary": [
           {
            "marker": {
             "colorbar": {
              "outlinewidth": 0,
              "ticks": ""
             }
            },
            "type": "scatterternary"
           }
          ],
          "surface": [
           {
            "colorbar": {
             "outlinewidth": 0,
             "ticks": ""
            },
            "colorscale": [
             [
              0,
              "#0d0887"
             ],
             [
              0.1111111111111111,
              "#46039f"
             ],
             [
              0.2222222222222222,
              "#7201a8"
             ],
             [
              0.3333333333333333,
              "#9c179e"
             ],
             [
              0.4444444444444444,
              "#bd3786"
             ],
             [
              0.5555555555555556,
              "#d8576b"
             ],
             [
              0.6666666666666666,
              "#ed7953"
             ],
             [
              0.7777777777777778,
              "#fb9f3a"
             ],
             [
              0.8888888888888888,
              "#fdca26"
             ],
             [
              1,
              "#f0f921"
             ]
            ],
            "type": "surface"
           }
          ],
          "table": [
           {
            "cells": {
             "fill": {
              "color": "#EBF0F8"
             },
             "line": {
              "color": "white"
             }
            },
            "header": {
             "fill": {
              "color": "#C8D4E3"
             },
             "line": {
              "color": "white"
             }
            },
            "type": "table"
           }
          ]
         },
         "layout": {
          "annotationdefaults": {
           "arrowcolor": "#2a3f5f",
           "arrowhead": 0,
           "arrowwidth": 1
          },
          "autotypenumbers": "strict",
          "coloraxis": {
           "colorbar": {
            "outlinewidth": 0,
            "ticks": ""
           }
          },
          "colorscale": {
           "diverging": [
            [
             0,
             "#8e0152"
            ],
            [
             0.1,
             "#c51b7d"
            ],
            [
             0.2,
             "#de77ae"
            ],
            [
             0.3,
             "#f1b6da"
            ],
            [
             0.4,
             "#fde0ef"
            ],
            [
             0.5,
             "#f7f7f7"
            ],
            [
             0.6,
             "#e6f5d0"
            ],
            [
             0.7,
             "#b8e186"
            ],
            [
             0.8,
             "#7fbc41"
            ],
            [
             0.9,
             "#4d9221"
            ],
            [
             1,
             "#276419"
            ]
           ],
           "sequential": [
            [
             0,
             "#0d0887"
            ],
            [
             0.1111111111111111,
             "#46039f"
            ],
            [
             0.2222222222222222,
             "#7201a8"
            ],
            [
             0.3333333333333333,
             "#9c179e"
            ],
            [
             0.4444444444444444,
             "#bd3786"
            ],
            [
             0.5555555555555556,
             "#d8576b"
            ],
            [
             0.6666666666666666,
             "#ed7953"
            ],
            [
             0.7777777777777778,
             "#fb9f3a"
            ],
            [
             0.8888888888888888,
             "#fdca26"
            ],
            [
             1,
             "#f0f921"
            ]
           ],
           "sequentialminus": [
            [
             0,
             "#0d0887"
            ],
            [
             0.1111111111111111,
             "#46039f"
            ],
            [
             0.2222222222222222,
             "#7201a8"
            ],
            [
             0.3333333333333333,
             "#9c179e"
            ],
            [
             0.4444444444444444,
             "#bd3786"
            ],
            [
             0.5555555555555556,
             "#d8576b"
            ],
            [
             0.6666666666666666,
             "#ed7953"
            ],
            [
             0.7777777777777778,
             "#fb9f3a"
            ],
            [
             0.8888888888888888,
             "#fdca26"
            ],
            [
             1,
             "#f0f921"
            ]
           ]
          },
          "colorway": [
           "#636efa",
           "#EF553B",
           "#00cc96",
           "#ab63fa",
           "#FFA15A",
           "#19d3f3",
           "#FF6692",
           "#B6E880",
           "#FF97FF",
           "#FECB52"
          ],
          "font": {
           "color": "#2a3f5f"
          },
          "geo": {
           "bgcolor": "white",
           "lakecolor": "white",
           "landcolor": "#E5ECF6",
           "showlakes": true,
           "showland": true,
           "subunitcolor": "white"
          },
          "hoverlabel": {
           "align": "left"
          },
          "hovermode": "closest",
          "mapbox": {
           "style": "light"
          },
          "paper_bgcolor": "white",
          "plot_bgcolor": "#E5ECF6",
          "polar": {
           "angularaxis": {
            "gridcolor": "white",
            "linecolor": "white",
            "ticks": ""
           },
           "bgcolor": "#E5ECF6",
           "radialaxis": {
            "gridcolor": "white",
            "linecolor": "white",
            "ticks": ""
           }
          },
          "scene": {
           "xaxis": {
            "backgroundcolor": "#E5ECF6",
            "gridcolor": "white",
            "gridwidth": 2,
            "linecolor": "white",
            "showbackground": true,
            "ticks": "",
            "zerolinecolor": "white"
           },
           "yaxis": {
            "backgroundcolor": "#E5ECF6",
            "gridcolor": "white",
            "gridwidth": 2,
            "linecolor": "white",
            "showbackground": true,
            "ticks": "",
            "zerolinecolor": "white"
           },
           "zaxis": {
            "backgroundcolor": "#E5ECF6",
            "gridcolor": "white",
            "gridwidth": 2,
            "linecolor": "white",
            "showbackground": true,
            "ticks": "",
            "zerolinecolor": "white"
           }
          },
          "shapedefaults": {
           "line": {
            "color": "#2a3f5f"
           }
          },
          "ternary": {
           "aaxis": {
            "gridcolor": "white",
            "linecolor": "white",
            "ticks": ""
           },
           "baxis": {
            "gridcolor": "white",
            "linecolor": "white",
            "ticks": ""
           },
           "bgcolor": "#E5ECF6",
           "caxis": {
            "gridcolor": "white",
            "linecolor": "white",
            "ticks": ""
           }
          },
          "title": {
           "x": 0.05
          },
          "xaxis": {
           "automargin": true,
           "gridcolor": "white",
           "linecolor": "white",
           "ticks": "",
           "title": {
            "standoff": 15
           },
           "zerolinecolor": "white",
           "zerolinewidth": 2
          },
          "yaxis": {
           "automargin": true,
           "gridcolor": "white",
           "linecolor": "white",
           "ticks": "",
           "title": {
            "standoff": 15
           },
           "zerolinecolor": "white",
           "zerolinewidth": 2
          }
         }
        },
        "title": {
         "text": "Score vs GDP per capita"
        },
        "width": 1000
       }
      }
     },
     "metadata": {},
     "output_type": "display_data"
    },
    {
     "data": {
      "application/vnd.plotly.v1+json": {
       "config": {
        "plotlyServerURL": "https://plot.ly"
       },
       "data": [
        {
         "mode": "lines",
         "name": "2015",
         "type": "scatter",
         "x": [
          1.39651,
          1.30232,
          1.32548,
          1.459,
          1.32629,
          1.29025,
          1.32944,
          1.33171,
          1.25018,
          1.33358,
          1.22857,
          0.95578,
          1.33723,
          1.02054,
          1.39451,
          0.98124,
          1.56391,
          1.33596,
          1.30782,
          1.42727,
          1.26637,
          1.36011,
          1.04424,
          1.52186,
          1.06353,
          1.32792,
          1.10715,
          1.69042,
          1.27778,
          1.05351,
          1.17898,
          1.06166,
          0.91861,
          0.9669,
          1.39541,
          1.23011,
          1.2074,
          1.29098,
          1.55422,
          0.99534,
          1.21183,
          0.76454,
          0.74553,
          0.63244,
          1.16891,
          1.27074,
          1.24461,
          0.86402,
          1.32376,
          1.25114,
          0.68133,
          0.59448,
          0.75985,
          1.12254,
          1.18498,
          1.14723,
          0.59325,
          0.90019,
          1.03192,
          1.12555,
          1.12486,
          1.08254,
          1.13145,
          1.13764,
          0.81038,
          1.20806,
          1.20813,
          0.93929,
          0.80148,
          0.95847,
          1.00761,
          1.38604,
          1.15174,
          0.82827,
          0.63216,
          1.06098,
          0.47428,
          0.65435,
          0.77042,
          1.02389,
          0.59543,
          0.90198,
          0.97438,
          0.89012,
          0.47038,
          1.04345,
          0.92053,
          1.15991,
          1.11312,
          0.70532,
          0.18847,
          0.73479,
          0.91851,
          0.08308,
          0.87867,
          0.83223,
          0.37545,
          0.89537,
          0.59066,
          0.82819,
          0.71206,
          1.15406,
          1.02564,
          1.12094,
          0.59532,
          0.39047,
          0.88113,
          0.59867,
          0.39753,
          1.0088,
          0.79907,
          0.98549,
          0.92049,
          0.54558,
          0.271,
          0.0712,
          0.64499,
          0.52107,
          0.26673,
          0,
          0.35997,
          0.19073,
          0.33024,
          0.45407,
          0.36471,
          0.44025,
          0.76821,
          0.99355,
          0.27108,
          0.7419,
          0.01604,
          0.83524,
          0.4225,
          1.01216,
          0.8818,
          0.54649,
          0.75778,
          0.26074,
          0.67866,
          0.23906,
          0.21102,
          0.36498,
          1.06024,
          0.0694,
          0.46038,
          0.2852,
          0.20824,
          0.0785,
          0.34193,
          0.17417,
          0.46534,
          0.25812,
          0.31982,
          0.22208,
          0.28665,
          0.6632,
          0.0153,
          0.20868
         ],
         "y": [
          6.596586014210665,
          6.387651201842944,
          6.4390253419261425,
          6.735203026896289,
          6.440822105892783,
          6.360877200512884,
          6.447809521318606,
          6.452844896879438,
          6.27199283984217,
          6.4569929815925455,
          6.2240569517939015,
          5.618946775917581,
          6.465089510578024,
          5.762599164164037,
          6.592149559972047,
          5.675422838375191,
          6.967917233983003,
          6.462272362136502,
          6.399851450999145,
          6.664818680400613,
          6.307905936903784,
          6.515842547067816,
          5.815171146891661,
          6.874640783616057,
          5.8579607480231335,
          6.444437816097256,
          5.954719814967395,
          7.2485451468467925,
          6.3332159083351005,
          5.835734112287656,
          6.114055068947364,
          5.853812663310025,
          5.5364952738928634,
          5.643613461484298,
          6.594145964379425,
          6.227473021557637,
          6.177097083678128,
          6.36249650630998,
          6.946422613196898,
          5.706699840757448,
          6.186923829816667,
          5.194733021620916,
          5.152564524082851,
          4.901705219160188,
          6.091717521855922,
          6.317599589415165,
          6.259637314787619,
          5.415402255449782,
          6.4352099912809315,
          6.274122337876706,
          5.010154343023208,
          4.8175013177112165,
          5.184329536431356,
          5.988858330333562,
          6.127364431663219,
          6.043626357909302,
          4.814772898354466,
          5.495635530355191,
          5.787842588781773,
          5.995535193962681,
          5.994004617250358,
          5.900129245561199,
          6.008622733966606,
          6.022353559835128,
          5.296416552770044,
          6.1785611135768725,
          6.178716389475223,
          5.582368210720174,
          5.276674331408192,
          5.624913806868523,
          5.73391748751137,
          6.573361176271499,
          6.053630562217386,
          5.336100635934482,
          4.901084115566782,
          5.852304268868895,
          4.550870417970266,
          4.95030657534425,
          5.2077761970824525,
          5.770030225013722,
          4.81960863347456,
          5.4996061568987535,
          5.66020580033673,
          5.473297983263748,
          4.5422193322049615,
          5.8134187474674075,
          5.540754269961937,
          6.07175347778214,
          5.967962630869669,
          5.063369611615433,
          3.9168789250005425,
          5.128740764821471,
          5.536273451180932,
          3.68309996889656,
          5.4478992827476596,
          5.344884815326946,
          4.331643031768952,
          5.484943675640121,
          4.809027690115455,
          5.335923177764938,
          5.078320462399576,
          6.058776849134183,
          5.773912122472513,
          5.985309166942667,
          4.819364628491436,
          4.364960803100974,
          5.45335612146116,
          4.826795689341122,
          4.380621486563296,
          5.736557177783348,
          5.271328404050657,
          5.6848503036322535,
          5.540665540877164,
          4.709030011577003,
          4.09994920915712,
          3.6567474307191685,
          4.929543969507517,
          4.654661264882738,
          4.0904773793576705,
          3.498809659824363,
          4.297304875962047,
          3.9218921182901814,
          4.2313569837049885,
          4.50604004788903,
          4.307819272507572,
          4.475384149100179,
          5.20287391514878,
          5.7027292142138855,
          4.1001266673266645,
          5.144512359639759,
          3.5343900228180805,
          5.351561678956067,
          4.436010617732443,
          5.744010420904226,
          5.454842333631097,
          4.711048598255575,
          5.179737806294387,
          4.077190198913009,
          5.004231676614653,
          4.029099034966388,
          3.9668999465409622,
          4.308418193829786,
          5.850662780800606,
          3.6527546219044122,
          4.5200370610118705,
          4.131448034251308,
          3.9607332751492828,
          3.672940488690125,
          4.257288058729712,
          3.885158277194423,
          4.531039467523644,
          4.071378443860419,
          4.208243057121789,
          3.9914335384805204,
          4.134664463574307,
          4.969937885350135,
          3.532748534749792,
          3.961709295081779
         ]
        },
        {
         "mode": "lines",
         "name": "2016",
         "type": "scatter",
         "x": [
          1.44178,
          1.52733,
          1.42666,
          1.57744,
          1.40598,
          1.44015,
          1.46468,
          1.36066,
          1.44443,
          1.45181,
          1.33766,
          1.45038,
          1.50796,
          1.06879,
          1.35943,
          1.44787,
          1.08754,
          1.42539,
          1.48341,
          1.69752,
          1.11508,
          1.64555,
          1.40283,
          1.2167,
          1.18306,
          1.15137,
          1.30915,
          1.57352,
          1.18157,
          1.30782,
          1.03032,
          1.39488,
          1.0893,
          1.48953,
          1.39729,
          1.82427,
          1.34253,
          1.05266,
          0.83454,
          1.09686,
          1.61714,
          1.44024,
          1.32572,
          1.13367,
          1.27973,
          0.8737,
          1.25142,
          0.69384,
          0.73591,
          1.35495,
          0.97306,
          0.87616,
          1.38007,
          1.22943,
          0.69177,
          1.23228,
          1.24585,
          1.35948,
          0.79422,
          1.2692,
          1.13062,
          1.31141,
          1.29947,
          0.99602,
          1.08017,
          1.14372,
          1.06688,
          1.21788,
          1.31857,
          0.89373,
          1.1697,
          1.27964,
          0.89333,
          1.18649,
          1.5107,
          0,
          0.90145,
          1.16492,
          0.95104,
          0.99673,
          1.12373,
          0.81217,
          1.0278,
          0.8527,
          0.56044,
          1.03437,
          0.93383,
          1.07838,
          1.02787,
          0.84058,
          1.24142,
          0.68816,
          1.12268,
          1.27607,
          1.0193,
          0.74037,
          0.25558,
          0.97724,
          1.24886,
          0.48835,
          0.98853,
          0.68042,
          0.75216,
          0.69429,
          1.11758,
          0.61202,
          0.44626,
          0.67024,
          0.9553,
          0.54177,
          0.36485,
          1.07474,
          0.93287,
          0.52497,
          0.29283,
          1.02416,
          0.97318,
          0.74036,
          0.34112,
          0.95395,
          0.86086,
          0.52267,
          0.87287,
          0.63107,
          0.05661,
          0.83792,
          0.77109,
          0.44314,
          1.11306,
          0.61391,
          0.35041,
          0.08709,
          0.63069,
          1.15851,
          0.31292,
          0.34097,
          1.09426,
          0.27509,
          0.55507,
          0.55604,
          0.84731,
          0.1327,
          0.39394,
          0.42214,
          0.31995,
          0.34719,
          0.57939,
          0.27954,
          0.47155,
          0.10706,
          0.22415,
          0.32846,
          0.39499,
          0.38227,
          0.28123,
          0.74719,
          0.06831
         ],
         "y": [
          6.449155697127731,
          6.636241845746367,
          6.416090325215238,
          6.7458255617870435,
          6.37086599378995,
          6.445591110076318,
          6.49923486490525,
          6.271757352581339,
          6.454950884665305,
          6.47108993524164,
          6.221459498481648,
          6.4679627208345725,
          6.593882305141539,
          5.6334775840562505,
          6.269067510818617,
          6.4624736941480405,
          5.674481269463608,
          6.413313008923646,
          6.540194813048172,
          7.008424097451869,
          5.7347074825899345,
          6.894772815818783,
          6.363977374641514,
          5.956936523181703,
          5.88337044440285,
          5.814068748906362,
          6.159112028030247,
          6.737253057957878,
          5.880112018202478,
          6.156203499945352,
          5.549348955916462,
          6.346591812028794,
          5.678330148733846,
          6.553578415965134,
          6.351862152393153,
          7.285609010805605,
          6.232109522371452,
          5.598203480289815,
          5.121204874366999,
          5.694862834690092,
          6.832644031689554,
          6.445787927766274,
          6.195348351614243,
          5.775361269881817,
          6.094774512047076,
          5.206842438129778,
          6.032864414240021,
          4.813513219070188,
          4.90551455480819,
          6.259270363585285,
          5.424129167840446,
          5.212222121655223,
          6.3142043677150355,
          5.984775291994272,
          4.808986412201216,
          5.991007852176191,
          6.020683586095008,
          6.269176853979703,
          5.033030549267017,
          6.071746842322304,
          5.768691337055552,
          6.164054338911347,
          6.137943192043942,
          5.474339547411269,
          5.658364087519489,
          5.79733924526016,
          5.629300675302755,
          5.9595170217833395,
          6.1797122795789035,
          5.250645308460944,
          5.854153951760594,
          6.094577694357121,
          5.2497705631722535,
          5.890871385253369,
          6.599874310369068,
          3.296180041308008,
          5.267527892532667,
          5.843700745560746,
          5.375974439698046,
          5.475892220298695,
          5.7536238494578615,
          5.072284744096994,
          5.543838060597713,
          5.160918310473538,
          4.521785665291976,
          5.558205751964451,
          5.338338523652146,
          5.6544496023526,
          5.543991141023234,
          5.134413528226222,
          6.010995782022763,
          4.801091835970786,
          5.75132764307505,
          6.08677059265556,
          5.525249723213045,
          4.915267964777087,
          3.85509854351667,
          5.43327025610726,
          6.0272660443924035,
          4.364134695637768,
          5.457959941880544,
          4.784165514634629,
          4.941051082161233,
          4.814497307519964,
          5.740174640644249,
          4.634584070268589,
          4.272089622635332,
          4.761903247037461,
          5.385290477022598,
          4.480956928942357,
          4.09405708775464,
          5.646489420225519,
          5.336239134959289,
          4.444217626817364,
          3.9365591985259534,
          5.5358778784706315,
          5.424391591427054,
          4.91524609614487,
          4.042162823503089,
          5.382338211673268,
          5.17876311436282,
          4.439187841407395,
          5.205027341655746,
          4.676243814642464,
          3.419978368289901,
          5.128596472056431,
          4.982448402948501,
          4.265266609383548,
          5.730290018882048,
          4.63871724175765,
          4.062478782832921,
          3.4866339592881017,
          4.675412806618208,
          5.829682952309483,
          3.980493280650423,
          4.04183479401983,
          5.689176990313605,
          3.8977642449725387,
          4.510042209791308,
          4.512163467116382,
          5.149131117708436,
          3.5863767908310122,
          4.157672938874642,
          4.219342481727308,
          3.9958669290991553,
          4.055437083258964,
          4.5632267233436785,
          3.9074957863092186,
          4.327395393512775,
          3.5303056178259644,
          3.78636543245783,
          4.014477135116041,
          4.159969145257454,
          4.132152245077102,
          3.9111915851539347,
          4.930182371949256,
          3.4455646679840926
         ]
        },
        {
         "mode": "lines",
         "name": "2017",
         "type": "scatter",
         "x": [
          1.61646318435669,
          1.48238301277161,
          1.480633020401,
          1.56497955322266,
          1.44357192516327,
          1.50394463539124,
          1.47920441627502,
          1.40570604801178,
          1.49438726902008,
          1.484414935112,
          1.37538242340088,
          1.10970628261566,
          1.48709726333618,
          1.54625928401947,
          1.53570663928986,
          1.48792338371277,
          1.46378076076508,
          1.74194359779358,
          1.44163393974304,
          1.25278460979462,
          1.62634336948395,
          1.10735321044922,
          1.35268235206604,
          1.18529546260834,
          1.15318381786346,
          1.69227766990662,
          1.34327983856201,
          1.21755969524384,
          0.872001945972443,
          1.23374843597412,
          1.43092346191406,
          1.12786877155304,
          1.43362653255463,
          1.38439786434174,
          1.87076568603516,
          1.07062232494354,
          1.53062355518341,
          1.36135590076447,
          1.63295245170593,
          1.32539355754852,
          1.48841226100922,
          1.29121541976929,
          0.737299203872681,
          1.00082039833069,
          0.909784495830536,
          1.29178786277771,
          0.786441087722778,
          1.39506661891937,
          1.28177809715271,
          0.907975316047668,
          1.41691517829895,
          1.31458234786987,
          1.09186446666718,
          1.26074862480164,
          1.40167844295502,
          0.728870630264282,
          1.21768391132355,
          0.833756566047668,
          1.13077676296234,
          1.28455626964569,
          1.3469113111496,
          1.3412059545517,
          1.03522527217865,
          1.18939554691315,
          1.35593807697296,
          1.32087934017181,
          1.15655755996704,
          1.10180306434631,
          1.19827437400818,
          0.932537317276001,
          1.55167484283447,
          0.85769921541214,
          1.06931757926941,
          0.991012394428253,
          1.2860119342804,
          0.925579309463501,
          1.22255623340607,
          0.951484382152557,
          1.08116579055786,
          0.72688353061676,
          0.995538592338562,
          1.12843120098114,
          1.12112903594971,
          0.878114581108093,
          1.15360176563263,
          1.07937383651733,
          1.28948748111725,
          1.07498753070831,
          1.3151752948761,
          0.982409417629242,
          0.730573117733002,
          1.06457793712616,
          0.0226431842893362,
          0.788547575473785,
          0.783756256103516,
          0.524713635444641,
          0.885416388511658,
          0.596220076084137,
          0.479820191860199,
          1.02723586559296,
          1.05469870567322,
          1.00726580619812,
          0.716249227523804,
          0.989701807498932,
          1.1614590883255,
          0.36842092871666,
          0.564305365085602,
          1.15687310695648,
          0.996192753314972,
          0.586682975292206,
          0.964434325695038,
          0.560479462146759,
          0.234305649995804,
          0.367110550403595,
          0.479309022426605,
          0.636406779289246,
          1.10271048545837,
          1.1982102394104,
          0.339233845472336,
          1.00985014438629,
          0.900596737861633,
          0.792221248149872,
          0.648457288742065,
          0.808964252471924,
          0.950612664222717,
          0.0921023488044739,
          0.476180493831635,
          0.603048920631409,
          0.601765096187592,
          0.65951669216156,
          0.667224824428558,
          0.89465194940567,
          0.381430715322495,
          0.3502277135849,
          0.161925330758095,
          0.233442038297653,
          0.438012987375259,
          0.375846534967422,
          0.521021246910095,
          0.858428180217743,
          0.401477217674255,
          1.12209415435791,
          0.431085407733917,
          0.305808693170547,
          0.368610262870789,
          0.591683447360992,
          0.39724862575531,
          0.119041793048382,
          0.244549930095673,
          0.305444717407227,
          0.368745893239975,
          0.777153134346008,
          0.511135876178741,
          0.091622568666935,
          0
         ],
         "y": [
          6.733867236286539,
          6.441011343906425,
          6.437189036914312,
          6.621417464180171,
          6.35624075060083,
          6.488105915451094,
          6.434068701288053,
          6.273534671746219,
          6.467230859696457,
          6.445449438094457,
          6.207302267352333,
          5.627016440044978,
          6.4513081390228795,
          6.58052893399495,
          6.5574800062323595,
          6.453112538713301,
          6.400380585105559,
          7.007939666377128,
          6.352007832019719,
          5.939525968418156,
          6.7554473879086485,
          5.621876895241364,
          6.157721113261712,
          5.792117189091906,
          5.721979418037609,
          6.899460094339942,
          6.1371842848083595,
          5.862588240319888,
          5.107826206266825,
          5.897947444123323,
          6.328614167577449,
          5.666686674970245,
          6.334518173779502,
          6.2269936577400635,
          7.289310932271718,
          5.541649848053765,
          6.546377610446022,
          6.176665747760254,
          6.769882845807084,
          6.098117339072514,
          6.454180337144818,
          6.023465965040855,
          4.8136105047405024,
          5.389189530719772,
          5.190350282901578,
          6.024716286442489,
          4.920945467681149,
          6.250296190884823,
          6.002853107047876,
          5.186398699654598,
          6.298017485381129,
          6.074503657640577,
          5.588046614234765,
          5.956920850108991,
          6.264737637411402,
          4.795200941145836,
          5.862859551211285,
          5.024291223167708,
          5.673038266030552,
          6.008921149585405,
          6.145116092567255,
          6.132654538572566,
          5.4643361382595455,
          5.801072531509236,
          6.164832218592862,
          6.088257453433755,
          5.729348294753114,
          5.609754349673347,
          5.820465531991442,
          5.240046652989745,
          6.592357516034744,
          5.0765863974853165,
          5.538800042193515,
          5.367767036242331,
          6.0121005903674725,
          5.224849077069099,
          5.873501603757693,
          5.28143054687063,
          5.564678726930918,
          4.790860748008822,
          5.3776530895822265,
          5.667915124860485,
          5.651965845923074,
          5.121177331912641,
          5.722892293263391,
          5.560764767891042,
          6.019691827448854,
          5.551184264772894,
          6.075798763565568,
          5.348976543824135,
          4.798919488646364,
          5.5284477871731434,
          3.2526695849483773,
          4.925546426516568,
          4.915081298874872,
          4.349284306368787,
          5.137125829724652,
          4.505467597580621,
          4.25122872270185,
          5.446885796664816,
          5.506869718552128,
          5.403267493556896,
          4.767633463278268,
          5.364904472000425,
          5.7400541392077695,
          4.007912129109285,
          4.4357599662505205,
          5.730037507737316,
          5.3790818981393915,
          4.484636805599066,
          5.309715618612195,
          4.4274034866453045,
          3.7149795562517003,
          4.005050020523866,
          4.25011223411996,
          4.593242789764643,
          5.611736325206309,
          5.820325450168431,
          3.944162141259178,
          5.408912166123774,
          5.1702825202551965,
          4.933570407073494,
          4.619563331107335,
          4.970140225070387,
          5.27952655369081,
          3.4043812464683674,
          4.2432789490586025,
          4.520383057041735,
          4.517578947017794,
          4.6437191135718034,
          4.660555100033853,
          5.157298002800449,
          4.036327909168972,
          3.968174782492794,
          3.556887552560712,
          3.7130932685811073,
          4.1599140560168815,
          4.02413102649972,
          4.341219446915558,
          5.078178591440134,
          4.08011317783265,
          5.65407384302171,
          4.144782940849623,
          3.871155426772165,
          4.008325669918564,
          4.49555876141635,
          4.070877151019034,
          3.463221975048938,
          3.7373549586320234,
          3.8703604363890856,
          4.0086219117292075,
          4.900658859733209,
          4.319627968975048,
          3.403333317914397,
          3.2032126826861878
         ]
        },
        {
         "mode": "lines",
         "name": "2018",
         "type": "scatter",
         "x": [
          1.305,
          1.456,
          1.351,
          1.343,
          1.42,
          1.361,
          1.33,
          1.268,
          1.355,
          1.34,
          1.244,
          1.341,
          1.01,
          1.448,
          1.34,
          1.324,
          1.576,
          1.398,
          1.301,
          1.233,
          1.27,
          1.293,
          1.038,
          1.131,
          1.365,
          1.112,
          0.986,
          1.073,
          0.781,
          1.093,
          1.649,
          1.379,
          1.529,
          1.161,
          1.251,
          0.96,
          1.223,
          1.21,
          0.806,
          0.668,
          1.176,
          1.338,
          0.719,
          1.474,
          1.016,
          1.264,
          0.889,
          0.807,
          1.197,
          1.219,
          1.116,
          1.148,
          1.294,
          1.09,
          0.819,
          1.266,
          1.229,
          1.151,
          1.143,
          1.229,
          0.751,
          1.2,
          0.835,
          0.934,
          0.855,
          0.657,
          1.016,
          1.171,
          0.985,
          0.775,
          0.62,
          1.039,
          1.148,
          0.652,
          1.405,
          1.188,
          0.975,
          1.154,
          0.965,
          1.017,
          1.115,
          0.982,
          0.979,
          0.779,
          0.989,
          1.024,
          0.474,
          0.959,
          0.822,
          0.689,
          0.53,
          0.915,
          0.914,
          0.715,
          0.899,
          0.796,
          0,
          0.535,
          1.054,
          0.425,
          0.996,
          1.036,
          0.642,
          0.94,
          1.059,
          0.541,
          0.592,
          0.429,
          0.72,
          0.9,
          0.916,
          0.256,
          0.682,
          0.532,
          0.918,
          1.01,
          0.37,
          0.874,
          0.549,
          0.314,
          0.885,
          0.198,
          0.493,
          0.562,
          0.557,
          0.308,
          0.853,
          0.816,
          0.682,
          0.358,
          0.069,
          0.721,
          0.131,
          0.322,
          0.378,
          0.605,
          0.793,
          0.259,
          0.344,
          0.472,
          0.73,
          0.262,
          0.357,
          0.332,
          1.017,
          0.186,
          0.315,
          0.076,
          0.689,
          0.332,
          0.442,
          0.455,
          0.337,
          0.024,
          0.091
         ],
         "y": [
          6.363370668711607,
          6.720502151771023,
          6.472165690040965,
          6.453244816766295,
          6.635358222035004,
          6.495816781634304,
          6.422498397694954,
          6.275861629816253,
          6.481626126678301,
          6.446149489288294,
          6.219099009992241,
          6.448514598447627,
          5.665663466708113,
          6.701581278496352,
          6.446149489288294,
          6.408307742738952,
          7.004315250891088,
          6.583325820529658,
          6.353910232074272,
          6.193082809239568,
          6.280591848134922,
          6.334989358799601,
          5.731886523169463,
          5.951841674987513,
          6.50527721827164,
          5.90690460096017,
          5.608900846884101,
          5.814665343746148,
          5.124053469220655,
          5.861967526932825,
          7.176968219522461,
          6.5383887465023145,
          6.893155120402396,
          6.022794949767529,
          6.235654774107578,
          5.547408008741419,
          6.16943171764623,
          6.138685298574889,
          5.183181198204002,
          4.856796134215927,
          6.058271587157536,
          6.441419270969625,
          4.977416701341955,
          6.763074116639032,
          5.679854121664117,
          6.266401193178918,
          5.379485258428714,
          5.185546307363336,
          6.107938879503548,
          6.159971281008894,
          5.9163650375975045,
          5.992048530696188,
          6.337354467958935,
          5.854872199454824,
          5.213927617275343,
          6.271131411497587,
          6.183622372602233,
          5.99914385817419,
          5.98022298489952,
          6.183622372602233,
          5.053100194440639,
          6.11503420698155,
          5.2517693638246845,
          5.485915170598739,
          5.299071547011362,
          4.830779933463255,
          5.679854121664117,
          6.046446041360868,
          5.606535737724766,
          5.109862814264652,
          4.743270894567901,
          5.734251632328796,
          5.992048530696188,
          4.818954387666585,
          6.599881584644995,
          6.086652897069543,
          5.582884646131427,
          6.006239185652191,
          5.559233554538089,
          5.682219230823451,
          5.91399992843817,
          5.599440410246765,
          5.592345082768763,
          5.119323250901988,
          5.6159961743621025,
          5.698774994938788,
          4.397964957305154,
          5.545042899582086,
          5.2210229447533445,
          4.906463426561938,
          4.530411070227852,
          5.440978096571396,
          5.438612987412061,
          4.967956264704619,
          5.403136350022053,
          5.159530106610664,
          3.2769032157808966,
          4.542236616024521,
          5.769728269718804,
          4.282074608497795,
          5.632551938477439,
          5.727156304850794,
          4.7953032960732465,
          5.500105825554742,
          5.781553815515473,
          4.5564272709805245,
          4.677047838106552,
          4.29153504513513,
          4.979781810501288,
          5.405501459181387,
          5.443343205730729,
          3.8823711605703695,
          4.889907662446602,
          4.535141288546519,
          5.448073424049397,
          5.665663466708113,
          4.1519936047344315,
          5.344008621038705,
          4.575348144255196,
          4.019547491811735,
          5.370024821791379,
          3.7451948293290043,
          4.4429020313324985,
          4.606094563326536,
          4.594269017529867,
          4.005356836855731,
          5.294341328692695,
          5.206832289797341,
          4.889907662446602,
          4.123612294822425,
          3.4400957477749343,
          4.9821469196606225,
          3.5867325156536345,
          4.0384683650864055,
          4.170914478009102,
          4.707794257177893,
          5.152434779132662,
          3.889466488048371,
          4.0905007665917505,
          4.393234738986487,
          5.0034329020946275,
          3.896561815526373,
          4.121247185663091,
          4.062119456679744,
          5.682219230823451,
          3.716813519416998,
          4.021912600971068,
          3.4566515118902714,
          4.906463426561938,
          4.062119456679744,
          4.322281464206471,
          4.353027883277811,
          4.073945002476414,
          3.3336658356049096,
          3.4921281492802794
         ]
        },
        {
         "mode": "lines",
         "name": "2019",
         "type": "scatter",
         "x": [
          1.34,
          1.383,
          1.488,
          1.38,
          1.396,
          1.452,
          1.387,
          1.303,
          1.365,
          1.376,
          1.372,
          1.034,
          1.276,
          1.609,
          1.333,
          1.499,
          1.373,
          1.356,
          1.433,
          1.269,
          1.503,
          1.3,
          1.07,
          1.324,
          1.368,
          1.159,
          0.8,
          1.403,
          1.684,
          1.286,
          1.149,
          1.004,
          1.124,
          1.572,
          0.794,
          1.294,
          1.362,
          1.246,
          1.231,
          1.206,
          0.745,
          1.238,
          0.985,
          1.258,
          0.694,
          0.882,
          1.092,
          1.162,
          1.263,
          0.912,
          1.5,
          1.05,
          1.187,
          1.301,
          1.237,
          0.831,
          1.12,
          1.327,
          0.642,
          1.173,
          0.776,
          1.201,
          0.855,
          1.263,
          0.96,
          1.221,
          0.677,
          1.183,
          0.807,
          1.004,
          0.685,
          1.044,
          1.051,
          0.493,
          1.155,
          1.438,
          1.015,
          0.945,
          1.183,
          1.221,
          1.067,
          1.181,
          0.948,
          0.983,
          0.696,
          0.551,
          1.052,
          1.002,
          0.801,
          1.043,
          0.987,
          0.931,
          1.029,
          0.741,
          0.813,
          0.549,
          1.092,
          0.611,
          0.569,
          0.446,
          0.837,
          0.393,
          0.673,
          1.057,
          0.764,
          0.96,
          0.947,
          0.96,
          0.574,
          0.657,
          0.45,
          0,
          0.879,
          0.138,
          0.331,
          0.85,
          1.1,
          0.38,
          0.886,
          0.308,
          0.512,
          0.57,
          0.204,
          0.921,
          0.562,
          1.043,
          0.094,
          0.385,
          0.268,
          0.949,
          0.71,
          0.35,
          0.82,
          0.336,
          0.811,
          0.332,
          0.913,
          0.578,
          0.275,
          0.755,
          0.073,
          0.274,
          0.274,
          0.489,
          0.046,
          0.366,
          0.323,
          1.041,
          0.619,
          0.191,
          0.287,
          0.359,
          0.476,
          0.35,
          0.026,
          0.306
         ],
         "y": [
          6.371663499643615,
          6.467043863686975,
          6.699949403792852,
          6.460389419683949,
          6.495879787700083,
          6.6200960757565515,
          6.475916455691008,
          6.289592023606306,
          6.4271171996688246,
          6.4515168276799155,
          6.442644235675883,
          5.692910211335058,
          6.22970202757908,
          6.968345311914863,
          6.356136463636557,
          6.7243490318039445,
          6.444862383676892,
          6.4071538676597495,
          6.5779512637373925,
          6.214174991572022,
          6.733221623807977,
          6.282937579603281,
          5.772763539371359,
          6.336173131627482,
          6.43377164367185,
          5.970178711461102,
          5.173863579099103,
          6.511406823707142,
          7.13470641199049,
          6.251883507589164,
          5.947997231451019,
          5.626365771304807,
          5.89254353142581,
          6.886273835877555,
          5.160554691093052,
          6.269628691597231,
          6.420462755665799,
          6.163157587548829,
          6.129885367533705,
          6.074431667508495,
          5.051865439043643,
          6.145412403540763,
          5.584220959285648,
          6.18977536356093,
          4.938739890992217,
          5.355751715181787,
          5.821562795393543,
          5.976833155464128,
          6.200866103565971,
          5.422296155212038,
          6.7265671798049524,
          5.728400579351192,
          6.032286855489337,
          6.285155727604289,
          6.143194255539754,
          5.242626167130362,
          5.883670939421776,
          6.342827575630507,
          4.823396194939782,
          6.00123278347522,
          5.120628027074902,
          6.063340927503454,
          5.295861719154562,
          6.200866103565971,
          5.528767259260439,
          6.107703887523622,
          4.901031374975075,
          6.023414263485304,
          5.189390615106161,
          5.626365771304807,
          4.918776558983142,
          5.715091691345142,
          5.7306187273522,
          4.492892142789537,
          5.961306119457069,
          6.589042003742434,
          5.650765399315899,
          5.495495039245315,
          6.023414263485304,
          6.107703887523622,
          5.766109095368334,
          6.018977967483286,
          5.502149483248339,
          5.579784663283632,
          4.943176186994233,
          4.621544726848022,
          5.732836875353208,
          5.621929475302791,
          5.176081727100111,
          5.712873543344132,
          5.588657255287665,
          5.464440967231197,
          5.681819471330016,
          5.042992847039609,
          5.2026995031122105,
          4.617108430846005,
          5.821562795393543,
          4.754633606908523,
          4.661471390866172,
          4.388639186742144,
          5.255935055136412,
          4.271077342688701,
          4.892158782971041,
          5.74392761535825,
          5.094010251062802,
          5.528767259260439,
          5.4999313352473305,
          5.528767259260439,
          4.6725621308712135,
          4.856668414954907,
          4.3975117787461775,
          3.3993451782924167,
          5.3490972711787625,
          3.70544960243157,
          4.133552166626183,
          5.2847709791495205,
          5.83930797940161,
          4.242241418675593,
          5.364624307185821,
          4.08253476260299,
          4.535036954808696,
          4.66368953886718,
          3.8518473704981213,
          5.442259487221113,
          4.645944354859114,
          5.712873543344132,
          3.6078510903872023,
          4.253332158680634,
          3.9938088425626566,
          5.504367631249348,
          4.97423025900835,
          4.175696978645342,
          5.21822653911927,
          4.1446429066312245,
          5.198263207110195,
          4.135770314627191,
          5.424514303213047,
          4.681434722875247,
          4.009335878569715,
          5.0740469190537265,
          3.5612699823660265,
          4.007117730568707,
          4.007117730568707,
          4.484019550785503,
          3.501379986338801,
          4.211187346661475,
          4.115806982618116,
          5.7084372473421165,
          4.77237879091659,
          3.8230114464850127,
          4.0359536545818155,
          4.195660310654417,
          4.455183626772395,
          4.175696978645342,
          3.457017026318634,
          4.078098466600974
         ]
        }
       ],
       "layout": {
        "height": 500,
        "template": {
         "data": {
          "bar": [
           {
            "error_x": {
             "color": "#2a3f5f"
            },
            "error_y": {
             "color": "#2a3f5f"
            },
            "marker": {
             "line": {
              "color": "#E5ECF6",
              "width": 0.5
             },
             "pattern": {
              "fillmode": "overlay",
              "size": 10,
              "solidity": 0.2
             }
            },
            "type": "bar"
           }
          ],
          "barpolar": [
           {
            "marker": {
             "line": {
              "color": "#E5ECF6",
              "width": 0.5
             },
             "pattern": {
              "fillmode": "overlay",
              "size": 10,
              "solidity": 0.2
             }
            },
            "type": "barpolar"
           }
          ],
          "carpet": [
           {
            "aaxis": {
             "endlinecolor": "#2a3f5f",
             "gridcolor": "white",
             "linecolor": "white",
             "minorgridcolor": "white",
             "startlinecolor": "#2a3f5f"
            },
            "baxis": {
             "endlinecolor": "#2a3f5f",
             "gridcolor": "white",
             "linecolor": "white",
             "minorgridcolor": "white",
             "startlinecolor": "#2a3f5f"
            },
            "type": "carpet"
           }
          ],
          "choropleth": [
           {
            "colorbar": {
             "outlinewidth": 0,
             "ticks": ""
            },
            "type": "choropleth"
           }
          ],
          "contour": [
           {
            "colorbar": {
             "outlinewidth": 0,
             "ticks": ""
            },
            "colorscale": [
             [
              0,
              "#0d0887"
             ],
             [
              0.1111111111111111,
              "#46039f"
             ],
             [
              0.2222222222222222,
              "#7201a8"
             ],
             [
              0.3333333333333333,
              "#9c179e"
             ],
             [
              0.4444444444444444,
              "#bd3786"
             ],
             [
              0.5555555555555556,
              "#d8576b"
             ],
             [
              0.6666666666666666,
              "#ed7953"
             ],
             [
              0.7777777777777778,
              "#fb9f3a"
             ],
             [
              0.8888888888888888,
              "#fdca26"
             ],
             [
              1,
              "#f0f921"
             ]
            ],
            "type": "contour"
           }
          ],
          "contourcarpet": [
           {
            "colorbar": {
             "outlinewidth": 0,
             "ticks": ""
            },
            "type": "contourcarpet"
           }
          ],
          "heatmap": [
           {
            "colorbar": {
             "outlinewidth": 0,
             "ticks": ""
            },
            "colorscale": [
             [
              0,
              "#0d0887"
             ],
             [
              0.1111111111111111,
              "#46039f"
             ],
             [
              0.2222222222222222,
              "#7201a8"
             ],
             [
              0.3333333333333333,
              "#9c179e"
             ],
             [
              0.4444444444444444,
              "#bd3786"
             ],
             [
              0.5555555555555556,
              "#d8576b"
             ],
             [
              0.6666666666666666,
              "#ed7953"
             ],
             [
              0.7777777777777778,
              "#fb9f3a"
             ],
             [
              0.8888888888888888,
              "#fdca26"
             ],
             [
              1,
              "#f0f921"
             ]
            ],
            "type": "heatmap"
           }
          ],
          "heatmapgl": [
           {
            "colorbar": {
             "outlinewidth": 0,
             "ticks": ""
            },
            "colorscale": [
             [
              0,
              "#0d0887"
             ],
             [
              0.1111111111111111,
              "#46039f"
             ],
             [
              0.2222222222222222,
              "#7201a8"
             ],
             [
              0.3333333333333333,
              "#9c179e"
             ],
             [
              0.4444444444444444,
              "#bd3786"
             ],
             [
              0.5555555555555556,
              "#d8576b"
             ],
             [
              0.6666666666666666,
              "#ed7953"
             ],
             [
              0.7777777777777778,
              "#fb9f3a"
             ],
             [
              0.8888888888888888,
              "#fdca26"
             ],
             [
              1,
              "#f0f921"
             ]
            ],
            "type": "heatmapgl"
           }
          ],
          "histogram": [
           {
            "marker": {
             "pattern": {
              "fillmode": "overlay",
              "size": 10,
              "solidity": 0.2
             }
            },
            "type": "histogram"
           }
          ],
          "histogram2d": [
           {
            "colorbar": {
             "outlinewidth": 0,
             "ticks": ""
            },
            "colorscale": [
             [
              0,
              "#0d0887"
             ],
             [
              0.1111111111111111,
              "#46039f"
             ],
             [
              0.2222222222222222,
              "#7201a8"
             ],
             [
              0.3333333333333333,
              "#9c179e"
             ],
             [
              0.4444444444444444,
              "#bd3786"
             ],
             [
              0.5555555555555556,
              "#d8576b"
             ],
             [
              0.6666666666666666,
              "#ed7953"
             ],
             [
              0.7777777777777778,
              "#fb9f3a"
             ],
             [
              0.8888888888888888,
              "#fdca26"
             ],
             [
              1,
              "#f0f921"
             ]
            ],
            "type": "histogram2d"
           }
          ],
          "histogram2dcontour": [
           {
            "colorbar": {
             "outlinewidth": 0,
             "ticks": ""
            },
            "colorscale": [
             [
              0,
              "#0d0887"
             ],
             [
              0.1111111111111111,
              "#46039f"
             ],
             [
              0.2222222222222222,
              "#7201a8"
             ],
             [
              0.3333333333333333,
              "#9c179e"
             ],
             [
              0.4444444444444444,
              "#bd3786"
             ],
             [
              0.5555555555555556,
              "#d8576b"
             ],
             [
              0.6666666666666666,
              "#ed7953"
             ],
             [
              0.7777777777777778,
              "#fb9f3a"
             ],
             [
              0.8888888888888888,
              "#fdca26"
             ],
             [
              1,
              "#f0f921"
             ]
            ],
            "type": "histogram2dcontour"
           }
          ],
          "mesh3d": [
           {
            "colorbar": {
             "outlinewidth": 0,
             "ticks": ""
            },
            "type": "mesh3d"
           }
          ],
          "parcoords": [
           {
            "line": {
             "colorbar": {
              "outlinewidth": 0,
              "ticks": ""
             }
            },
            "type": "parcoords"
           }
          ],
          "pie": [
           {
            "automargin": true,
            "type": "pie"
           }
          ],
          "scatter": [
           {
            "fillpattern": {
             "fillmode": "overlay",
             "size": 10,
             "solidity": 0.2
            },
            "type": "scatter"
           }
          ],
          "scatter3d": [
           {
            "line": {
             "colorbar": {
              "outlinewidth": 0,
              "ticks": ""
             }
            },
            "marker": {
             "colorbar": {
              "outlinewidth": 0,
              "ticks": ""
             }
            },
            "type": "scatter3d"
           }
          ],
          "scattercarpet": [
           {
            "marker": {
             "colorbar": {
              "outlinewidth": 0,
              "ticks": ""
             }
            },
            "type": "scattercarpet"
           }
          ],
          "scattergeo": [
           {
            "marker": {
             "colorbar": {
              "outlinewidth": 0,
              "ticks": ""
             }
            },
            "type": "scattergeo"
           }
          ],
          "scattergl": [
           {
            "marker": {
             "colorbar": {
              "outlinewidth": 0,
              "ticks": ""
             }
            },
            "type": "scattergl"
           }
          ],
          "scattermapbox": [
           {
            "marker": {
             "colorbar": {
              "outlinewidth": 0,
              "ticks": ""
             }
            },
            "type": "scattermapbox"
           }
          ],
          "scatterpolar": [
           {
            "marker": {
             "colorbar": {
              "outlinewidth": 0,
              "ticks": ""
             }
            },
            "type": "scatterpolar"
           }
          ],
          "scatterpolargl": [
           {
            "marker": {
             "colorbar": {
              "outlinewidth": 0,
              "ticks": ""
             }
            },
            "type": "scatterpolargl"
           }
          ],
          "scatterternary": [
           {
            "marker": {
             "colorbar": {
              "outlinewidth": 0,
              "ticks": ""
             }
            },
            "type": "scatterternary"
           }
          ],
          "surface": [
           {
            "colorbar": {
             "outlinewidth": 0,
             "ticks": ""
            },
            "colorscale": [
             [
              0,
              "#0d0887"
             ],
             [
              0.1111111111111111,
              "#46039f"
             ],
             [
              0.2222222222222222,
              "#7201a8"
             ],
             [
              0.3333333333333333,
              "#9c179e"
             ],
             [
              0.4444444444444444,
              "#bd3786"
             ],
             [
              0.5555555555555556,
              "#d8576b"
             ],
             [
              0.6666666666666666,
              "#ed7953"
             ],
             [
              0.7777777777777778,
              "#fb9f3a"
             ],
             [
              0.8888888888888888,
              "#fdca26"
             ],
             [
              1,
              "#f0f921"
             ]
            ],
            "type": "surface"
           }
          ],
          "table": [
           {
            "cells": {
             "fill": {
              "color": "#EBF0F8"
             },
             "line": {
              "color": "white"
             }
            },
            "header": {
             "fill": {
              "color": "#C8D4E3"
             },
             "line": {
              "color": "white"
             }
            },
            "type": "table"
           }
          ]
         },
         "layout": {
          "annotationdefaults": {
           "arrowcolor": "#2a3f5f",
           "arrowhead": 0,
           "arrowwidth": 1
          },
          "autotypenumbers": "strict",
          "coloraxis": {
           "colorbar": {
            "outlinewidth": 0,
            "ticks": ""
           }
          },
          "colorscale": {
           "diverging": [
            [
             0,
             "#8e0152"
            ],
            [
             0.1,
             "#c51b7d"
            ],
            [
             0.2,
             "#de77ae"
            ],
            [
             0.3,
             "#f1b6da"
            ],
            [
             0.4,
             "#fde0ef"
            ],
            [
             0.5,
             "#f7f7f7"
            ],
            [
             0.6,
             "#e6f5d0"
            ],
            [
             0.7,
             "#b8e186"
            ],
            [
             0.8,
             "#7fbc41"
            ],
            [
             0.9,
             "#4d9221"
            ],
            [
             1,
             "#276419"
            ]
           ],
           "sequential": [
            [
             0,
             "#0d0887"
            ],
            [
             0.1111111111111111,
             "#46039f"
            ],
            [
             0.2222222222222222,
             "#7201a8"
            ],
            [
             0.3333333333333333,
             "#9c179e"
            ],
            [
             0.4444444444444444,
             "#bd3786"
            ],
            [
             0.5555555555555556,
             "#d8576b"
            ],
            [
             0.6666666666666666,
             "#ed7953"
            ],
            [
             0.7777777777777778,
             "#fb9f3a"
            ],
            [
             0.8888888888888888,
             "#fdca26"
            ],
            [
             1,
             "#f0f921"
            ]
           ],
           "sequentialminus": [
            [
             0,
             "#0d0887"
            ],
            [
             0.1111111111111111,
             "#46039f"
            ],
            [
             0.2222222222222222,
             "#7201a8"
            ],
            [
             0.3333333333333333,
             "#9c179e"
            ],
            [
             0.4444444444444444,
             "#bd3786"
            ],
            [
             0.5555555555555556,
             "#d8576b"
            ],
            [
             0.6666666666666666,
             "#ed7953"
            ],
            [
             0.7777777777777778,
             "#fb9f3a"
            ],
            [
             0.8888888888888888,
             "#fdca26"
            ],
            [
             1,
             "#f0f921"
            ]
           ]
          },
          "colorway": [
           "#636efa",
           "#EF553B",
           "#00cc96",
           "#ab63fa",
           "#FFA15A",
           "#19d3f3",
           "#FF6692",
           "#B6E880",
           "#FF97FF",
           "#FECB52"
          ],
          "font": {
           "color": "#2a3f5f"
          },
          "geo": {
           "bgcolor": "white",
           "lakecolor": "white",
           "landcolor": "#E5ECF6",
           "showlakes": true,
           "showland": true,
           "subunitcolor": "white"
          },
          "hoverlabel": {
           "align": "left"
          },
          "hovermode": "closest",
          "mapbox": {
           "style": "light"
          },
          "paper_bgcolor": "white",
          "plot_bgcolor": "#E5ECF6",
          "polar": {
           "angularaxis": {
            "gridcolor": "white",
            "linecolor": "white",
            "ticks": ""
           },
           "bgcolor": "#E5ECF6",
           "radialaxis": {
            "gridcolor": "white",
            "linecolor": "white",
            "ticks": ""
           }
          },
          "scene": {
           "xaxis": {
            "backgroundcolor": "#E5ECF6",
            "gridcolor": "white",
            "gridwidth": 2,
            "linecolor": "white",
            "showbackground": true,
            "ticks": "",
            "zerolinecolor": "white"
           },
           "yaxis": {
            "backgroundcolor": "#E5ECF6",
            "gridcolor": "white",
            "gridwidth": 2,
            "linecolor": "white",
            "showbackground": true,
            "ticks": "",
            "zerolinecolor": "white"
           },
           "zaxis": {
            "backgroundcolor": "#E5ECF6",
            "gridcolor": "white",
            "gridwidth": 2,
            "linecolor": "white",
            "showbackground": true,
            "ticks": "",
            "zerolinecolor": "white"
           }
          },
          "shapedefaults": {
           "line": {
            "color": "#2a3f5f"
           }
          },
          "ternary": {
           "aaxis": {
            "gridcolor": "white",
            "linecolor": "white",
            "ticks": ""
           },
           "baxis": {
            "gridcolor": "white",
            "linecolor": "white",
            "ticks": ""
           },
           "bgcolor": "#E5ECF6",
           "caxis": {
            "gridcolor": "white",
            "linecolor": "white",
            "ticks": ""
           }
          },
          "title": {
           "x": 0.05
          },
          "xaxis": {
           "automargin": true,
           "gridcolor": "white",
           "linecolor": "white",
           "ticks": "",
           "title": {
            "standoff": 15
           },
           "zerolinecolor": "white",
           "zerolinewidth": 2
          },
          "yaxis": {
           "automargin": true,
           "gridcolor": "white",
           "linecolor": "white",
           "ticks": "",
           "title": {
            "standoff": 15
           },
           "zerolinecolor": "white",
           "zerolinewidth": 2
          }
         }
        },
        "title": {
         "text": "Score vs GDP per capita (Trendline)"
        },
        "width": 1000
       }
      }
     },
     "metadata": {},
     "output_type": "display_data"
    },
    {
     "name": "stdout",
     "output_type": "stream",
     "text": [
      "Score VS Social support\n",
      "Correlation:  0.7770577880638639\n"
     ]
    },
    {
     "data": {
      "application/vnd.plotly.v1+json": {
       "config": {
        "plotlyServerURL": "https://plot.ly"
       },
       "data": [
        {
         "mode": "markers",
         "name": "2015",
         "type": "scatter",
         "x": [
          1.34951,
          1.40223,
          1.36058,
          1.33095,
          1.32261,
          1.31826,
          1.28017,
          1.28907,
          1.31967,
          1.30923,
          1.22393,
          1.23788,
          1.29704,
          0.91451,
          1.24711,
          1.23287,
          1.21963,
          1.36948,
          1.28566,
          1.12575,
          1.28548,
          1.08182,
          1.25596,
          1.02,
          1.1985,
          1.29937,
          1.12447,
          1.0786,
          1.26038,
          1.24823,
          1.20643,
          1.2089,
          1.24018,
          1.26504,
          1.08393,
          1.31379,
          1.30203,
          1.07617,
          1.16594,
          0.972,
          1.18354,
          1.02507,
          1.04356,
          1.34043,
          1.26999,
          1.25712,
          0.95774,
          0.99903,
          1.21624,
          1.19777,
          0.97841,
          1.01528,
          1.30477,
          1.12241,
          1.27385,
          1.25745,
          1.14184,
          0.97459,
          1.23289,
          1.27948,
          1.07023,
          0.79624,
          1.11862,
          1.23617,
          1.15102,
          1.07008,
          0.89318,
          1.07772,
          0.81198,
          1.22668,
          0.98521,
          1.05818,
          1.22791,
          1.08708,
          0.91226,
          0.94632,
          1.15115,
          0.90432,
          1.10395,
          0.93793,
          0.41411,
          1.05392,
          0.90557,
          0.94675,
          0.91612,
          0.88588,
          1.00964,
          1.13935,
          1.09562,
          1.03516,
          0.95152,
          0.64095,
          1.00232,
          1.02626,
          0.80434,
          0.91916,
          1.04103,
          1.17202,
          0.73803,
          1.3006,
          1.07284,
          0.92933,
          0.80001,
          1.20215,
          0.95348,
          0.85563,
          0.60429,
          0.92558,
          0.43106,
          0.54447,
          1.20278,
          0.81889,
          1.18468,
          0.67954,
          1.03276,
          0.78968,
          0.38174,
          1.01404,
          0.74302,
          1.0012,
          0.86449,
          0.60406,
          0.95571,
          0.86908,
          0.99876,
          0.59207,
          0.77711,
          1.10464,
          0.70905,
          0.38562,
          0.41134,
          1.01905,
          0.88767,
          1.10614,
          0.747,
          0.68093,
          0.8604,
          1.03526,
          0.6629,
          0.79273,
          1.13299,
          0.97619,
          0.90528,
          0.77265,
          0.62736,
          1.00268,
          0.66801,
          0,
          0.76062,
          0.46475,
          0.77115,
          0.85188,
          0.30285,
          0.7737,
          0.35386,
          0.47489,
          0.41587,
          0.13995
         ],
         "y": [
          7.587,
          7.561,
          7.527,
          7.522,
          7.427,
          7.406,
          7.378,
          7.364,
          7.286,
          7.284,
          7.278,
          7.226,
          7.2,
          7.187,
          7.119,
          6.983,
          6.946,
          6.94,
          6.937,
          6.901,
          6.867,
          6.853,
          6.81,
          6.798,
          6.786,
          6.75,
          6.67,
          6.611,
          6.575,
          6.574,
          6.505,
          6.485,
          6.477,
          6.455,
          6.411,
          6.329,
          6.302,
          6.298,
          6.295,
          6.269,
          6.168,
          6.13,
          6.123,
          6.003,
          5.995,
          5.987,
          5.984,
          5.975,
          5.96,
          5.948,
          5.89,
          5.889,
          5.878,
          5.855,
          5.848,
          5.833,
          5.828,
          5.824,
          5.813,
          5.791,
          5.77,
          5.759,
          5.754,
          5.716,
          5.709,
          5.695,
          5.689,
          5.605,
          5.589,
          5.548,
          5.477,
          5.474,
          5.429,
          5.399,
          5.36,
          5.332,
          5.286,
          5.268,
          5.253,
          5.212,
          5.194,
          5.192,
          5.192,
          5.14,
          5.129,
          5.124,
          5.123,
          5.102,
          5.098,
          5.073,
          5.057,
          5.013,
          5.007,
          4.971,
          4.959,
          4.949,
          4.898,
          4.885,
          4.876,
          4.874,
          4.867,
          4.857,
          4.839,
          4.8,
          4.788,
          4.786,
          4.739,
          4.715,
          4.694,
          4.686,
          4.681,
          4.677,
          4.642,
          4.633,
          4.61,
          4.571,
          4.565,
          4.55,
          4.518,
          4.517,
          4.514,
          4.512,
          4.507,
          4.436,
          4.419,
          4.369,
          4.35,
          4.332,
          4.307,
          4.297,
          4.292,
          4.271,
          4.252,
          4.218,
          4.194,
          4.077,
          4.033,
          3.995,
          3.989,
          3.956,
          3.931,
          3.904,
          3.896,
          3.845,
          3.819,
          3.781,
          3.681,
          3.678,
          3.667,
          3.656,
          3.655,
          3.587,
          3.575,
          3.465,
          3.34,
          3.006,
          2.905,
          2.839
         ]
        },
        {
         "mode": "markers",
         "name": "2016",
         "type": "scatter",
         "x": [
          1.16374,
          1.14524,
          1.18326,
          1.1269,
          1.13464,
          1.0961,
          1.02912,
          1.17278,
          1.10476,
          1.08764,
          0.99537,
          1.08383,
          1.04782,
          1.02152,
          1.08113,
          1.09774,
          1.03938,
          1.05249,
          1.16157,
          1.03999,
          0.7146,
          0.86758,
          1.08672,
          0.90587,
          0.98912,
          1.06612,
          1.00793,
          0.87114,
          1.03143,
          1.09879,
          1.02169,
          1.00508,
          1.04477,
          0.84829,
          0.92624,
          0.87964,
          1.12945,
          0.83309,
          0.87119,
          0.77866,
          0.87758,
          0.94397,
          0.98569,
          1.03302,
          1.08268,
          0.80975,
          0.88025,
          0.89521,
          1.1681,
          1.04167,
          0.85974,
          0.68655,
          1.06054,
          0.95544,
          0.83132,
          1.05261,
          1.04685,
          0.72194,
          0.83779,
          1.06411,
          1.04993,
          0.81826,
          1.05613,
          0.81255,
          1.03817,
          0.75695,
          0.95076,
          0.95025,
          0.70697,
          1.11111,
          0.72803,
          1.05163,
          0.96372,
          0.60809,
          0.87021,
          0.33613,
          0.66062,
          0.87717,
          0.87625,
          0.86216,
          0.76042,
          0.87877,
          0.79381,
          0.90836,
          0.95434,
          0.81329,
          0.64367,
          0.74173,
          0.99496,
          0.38595,
          0.93164,
          0.26135,
          0.64184,
          0.94367,
          0.78236,
          0.79117,
          0.75862,
          0.43165,
          0.75473,
          0.75602,
          1.08983,
          0.5497,
          0.64498,
          0.75596,
          0.38857,
          0.6376,
          0.69699,
          0.71629,
          0.50163,
          0.24749,
          0.628,
          0.59205,
          0.70362,
          0.62542,
          0.37932,
          0.96053,
          0.84783,
          0.29247,
          0.69981,
          0.49813,
          0.62477,
          0.7624,
          1.01413,
          0.49353,
          0.80676,
          0.19249,
          0.47799,
          0.77416,
          0.92542,
          0.84142,
          0.71478,
          0.147,
          0.81928,
          0.72368,
          0.86333,
          0.29561,
          0.89186,
          0.60323,
          0.57576,
          0.5375,
          0.66366,
          0.6053,
          0.18519,
          0.63178,
          0.63054,
          0.90981,
          0.47493,
          0.46115,
          0.77623,
          0.50353,
          0.3109,
          0.61586,
          0.10419,
          0.11037,
          0,
          0.14866,
          0.23442
         ],
         "y": [
          7.526,
          7.509,
          7.501,
          7.498,
          7.413,
          7.404,
          7.339,
          7.334,
          7.313,
          7.291,
          7.267,
          7.119,
          7.104,
          7.087,
          7.039,
          6.994,
          6.952,
          6.929,
          6.907,
          6.871,
          6.778,
          6.739,
          6.725,
          6.705,
          6.701,
          6.65,
          6.596,
          6.573,
          6.545,
          6.488,
          6.481,
          6.478,
          6.474,
          6.379,
          6.379,
          6.375,
          6.361,
          6.355,
          6.324,
          6.269,
          6.239,
          6.218,
          6.168,
          6.084,
          6.078,
          6.068,
          6.005,
          5.992,
          5.987,
          5.977,
          5.976,
          5.956,
          5.921,
          5.919,
          5.897,
          5.856,
          5.835,
          5.835,
          5.822,
          5.813,
          5.802,
          5.771,
          5.768,
          5.743,
          5.658,
          5.648,
          5.615,
          5.56,
          5.546,
          5.538,
          5.528,
          5.517,
          5.51,
          5.488,
          5.458,
          5.44,
          5.401,
          5.389,
          5.314,
          5.303,
          5.291,
          5.279,
          5.245,
          5.196,
          5.185,
          5.177,
          5.163,
          5.161,
          5.155,
          5.151,
          5.145,
          5.132,
          5.129,
          5.123,
          5.121,
          5.061,
          5.057,
          5.045,
          5.033,
          4.996,
          4.907,
          4.876,
          4.875,
          4.871,
          4.813,
          4.795,
          4.793,
          4.754,
          4.655,
          4.643,
          4.635,
          4.575,
          4.574,
          4.513,
          4.508,
          4.459,
          4.415,
          4.404,
          4.395,
          4.362,
          4.36,
          4.356,
          4.324,
          4.276,
          4.272,
          4.252,
          4.236,
          4.219,
          4.217,
          4.201,
          4.193,
          4.156,
          4.139,
          4.121,
          4.073,
          4.028,
          3.974,
          3.956,
          3.916,
          3.907,
          3.866,
          3.856,
          3.832,
          3.763,
          3.739,
          3.739,
          3.724,
          3.695,
          3.666,
          3.622,
          3.607,
          3.515,
          3.484,
          3.36,
          3.303,
          3.069,
          2.905
         ]
        },
        {
         "mode": "markers",
         "name": "2017",
         "type": "scatter",
         "x": [
          1.53352355957031,
          1.55112159252167,
          1.6105740070343,
          1.51691174507141,
          1.5402467250824,
          1.42893922328949,
          1.48134899139404,
          1.54819512367249,
          1.47816216945648,
          1.51004195213318,
          1.37628996372223,
          1.41640365123749,
          1.4599449634552,
          1.41992056369781,
          1.55823111534119,
          1.47252035140991,
          1.46231269836426,
          1.45758366584778,
          1.49646008014679,
          1.28402495384216,
          1.26641023159027,
          1.43130600452423,
          1.43388521671295,
          1.44045114517212,
          1.210862159729,
          1.35381436347961,
          1.48841166496277,
          1.41222786903381,
          1.25558519363403,
          1.37319254875183,
          1.38777685165405,
          1.42579245567322,
          1.38456535339355,
          1.53209090232849,
          1.27429687976837,
          1.4021829366684,
          1.28667759895325,
          1.3802285194397,
          1.25969874858856,
          1.50505924224854,
          1.32311046123505,
          1.28464603424072,
          1.28721570968628,
          1.28616881370544,
          1.18212509155273,
          1.44571197032928,
          1.54896914958954,
          1.44492328166962,
          1.46928238868713,
          1.08141779899597,
          1.43633782863617,
          1.47351610660553,
          1.1462174654007,
          1.40471494197845,
          1.12827444076538,
          1.25182557106018,
          1.15009129047394,
          1.22761905193329,
          1.49314916133881,
          1.38436901569366,
          1.18630337715149,
          1.45251882076263,
          1.21877038478851,
          1.20956099033356,
          1.13136327266693,
          1.47667109966278,
          1.44494521617889,
          1.35756433010101,
          1.33775317668915,
          1.50728487968445,
          1.26279091835022,
          1.25391757488251,
          1.25818979740143,
          1.23908889293671,
          1.34313309192657,
          1.36821806430817,
          0.96798300743103,
          1.13785350322723,
          1.16083741188049,
          0.672690689563751,
          1.27444469928741,
          1.43133759498596,
          1.23837649822235,
          0.774864435195923,
          1.15240025520325,
          1.40241670608521,
          1.23941457271576,
          1.12962424755096,
          1.36704301834106,
          1.0693359375,
          1.14394497871399,
          1.20789301395416,
          0.721151351928711,
          1.27749133110046,
          1.21577048301697,
          1.27146327495575,
          1.34012651443481,
          1.39423859119415,
          1.17928326129913,
          1.4930112361908,
          1.38478863239288,
          0.868351459503174,
          1.15564715862274,
          0.997471392154694,
          1.43437945842743,
          0.984136044979095,
          0.946018218994141,
          0.711551249027252,
          0.803685247898102,
          0.735131740570068,
          1.0984708070755,
          1.06795072555542,
          0.870701014995575,
          1.12323594093323,
          1.17969191074371,
          1.00318729877472,
          0.978613197803497,
          1.1556202173233,
          0.86466920375824,
          1.25997638702393,
          1.00748372077942,
          0.754372596740723,
          1.2720308303833,
          0.832044363021851,
          0.57061493396759,
          1.22902345657349,
          1.28147339820862,
          0.904780030250549,
          1.00623834133148,
          1.21400856971741,
          0.873664736747742,
          1.39453756809235,
          1.12982773780823,
          1.04328000545502,
          0.993025004863739,
          0.512568831443787,
          0.953855872154236,
          1.08309590816498,
          1.19009518623352,
          1.10441195964813,
          0.581543326377869,
          1.22155499458313,
          0.435299843549728,
          0.913020372390747,
          0.640449821949005,
          0.93538224697113,
          0.601323127746582,
          0.872117936611176,
          0.791244685649872,
          0.431882530450821,
          0.945707023143768,
          0.396102607250214,
          1.04198980331421,
          0.629793584346771,
          0
         ],
         "y": [
          7.53700017929077,
          7.52199983596802,
          7.50400018692017,
          7.49399995803833,
          7.4689998626709,
          7.3769998550415,
          7.31599998474121,
          7.31400012969971,
          7.28399991989136,
          7.28399991989136,
          7.21299982070923,
          7.0789999961853,
          7.00600004196167,
          6.99300003051758,
          6.97700023651123,
          6.95100021362305,
          6.89099979400635,
          6.86299991607666,
          6.71400022506714,
          6.65199995040894,
          6.64799976348877,
          6.63500022888184,
          6.60900020599365,
          6.59899997711182,
          6.57800006866455,
          6.57200002670288,
          6.52699995040894,
          6.4539999961853,
          6.4539999961853,
          6.4520001411438,
          6.44199991226196,
          6.42399978637695,
          6.42199993133545,
          6.40299987792969,
          6.375,
          6.35699987411499,
          6.3439998626709,
          6.16800022125244,
          6.10500001907349,
          6.09800004959106,
          6.08699989318848,
          6.08400011062622,
          6.07100009918213,
          6.00799989700317,
          6.00299978256226,
          5.97300004959106,
          5.97100019454956,
          5.96400022506714,
          5.96299982070923,
          5.95599985122681,
          5.92000007629395,
          5.90199995040894,
          5.87200021743774,
          5.84999990463257,
          5.83799982070923,
          5.83799982070923,
          5.82499980926514,
          5.82299995422363,
          5.82200002670288,
          5.81899976730347,
          5.80999994277954,
          5.75799989700317,
          5.71500015258789,
          5.62900018692017,
          5.62099981307983,
          5.61100006103516,
          5.56899976730347,
          5.52500009536743,
          5.5,
          5.49300003051758,
          5.47200012207031,
          5.42999982833862,
          5.39499998092651,
          5.33599996566772,
          5.32399988174438,
          5.31099987030029,
          5.29300022125244,
          5.27899980545044,
          5.27299976348877,
          5.26900005340576,
          5.26200008392334,
          5.25,
          5.23699998855591,
          5.2350001335144,
          5.23400020599365,
          5.23000001907349,
          5.22700023651123,
          5.22499990463257,
          5.19500017166138,
          5.18200016021729,
          5.18100023269653,
          5.17500019073486,
          5.15100002288818,
          5.07399988174438,
          5.07399988174438,
          5.04099988937378,
          5.01100015640259,
          5.00400018692017,
          4.96199989318848,
          4.95499992370605,
          4.8289999961853,
          4.80499982833862,
          4.77500009536743,
          4.7350001335144,
          4.71400022506714,
          4.70900011062622,
          4.69500017166138,
          4.69199991226196,
          4.64400005340576,
          4.60799980163574,
          4.57399988174438,
          4.55299997329712,
          4.55000019073486,
          4.54500007629395,
          4.53499984741211,
          4.51399993896484,
          4.49700021743774,
          4.46500015258789,
          4.46000003814697,
          4.44000005722046,
          4.37599992752075,
          4.31500005722046,
          4.29199981689453,
          4.29099988937378,
          4.28599977493286,
          4.28000020980835,
          4.19000005722046,
          4.17999982833862,
          4.16800022125244,
          4.13899993896484,
          4.11999988555908,
          4.09600019454956,
          4.08099985122681,
          4.03200006484985,
          4.02799987792969,
          3.97000002861023,
          3.93600010871887,
          3.875,
          3.80800008773804,
          3.79500007629395,
          3.79399991035461,
          3.76600003242493,
          3.65700006484985,
          3.64400005340576,
          3.6029999256134,
          3.59299993515015,
          3.59100008010864,
          3.53299999237061,
          3.50699996948242,
          3.49499988555908,
          3.47099995613098,
          3.46199989318848,
          3.34899997711182,
          2.90499997138977,
          2.69300007820129
         ]
        },
        {
         "mode": "markers",
         "name": "2018",
         "type": "scatter",
         "x": [
          1.592,
          1.582,
          1.59,
          1.644,
          1.549,
          1.488,
          1.532,
          1.601,
          1.501,
          1.573,
          1.433,
          1.504,
          1.459,
          1.583,
          1.474,
          1.483,
          1.52,
          1.471,
          1.559,
          1.489,
          1.525,
          1.466,
          1.252,
          1.331,
          1.436,
          1.438,
          1.474,
          1.468,
          1.268,
          1.459,
          1.303,
          1.331,
          1.451,
          1.258,
          1.538,
          1.439,
          1.492,
          1.537,
          1.231,
          1.319,
          1.448,
          1.366,
          1.584,
          1.301,
          1.417,
          1.501,
          1.33,
          1.101,
          1.527,
          1.506,
          1.219,
          1.454,
          1.462,
          1.387,
          1.493,
          1.204,
          1.211,
          1.479,
          1.516,
          1.191,
          1.223,
          1.532,
          1.522,
          1.249,
          1.23,
          1.301,
          1.533,
          1.401,
          1.35,
          1.312,
          1.205,
          1.498,
          1.38,
          0.81,
          1.29,
          1.429,
          1.369,
          1.202,
          1.179,
          1.279,
          1.161,
          1.441,
          1.154,
          0.797,
          1.142,
          1.161,
          1.166,
          1.239,
          1.265,
          1.172,
          1.416,
          1.078,
          1.517,
          1.365,
          1.215,
          1.335,
          0.712,
          0.891,
          1.515,
          1.228,
          1.469,
          1.164,
          1.217,
          1.41,
          0.771,
          0.872,
          0.896,
          1.117,
          1.034,
          0.906,
          0.817,
          0.813,
          0.811,
          0.85,
          1.314,
          0.971,
          1.233,
          1.281,
          1.088,
          1.097,
          1.025,
          0.902,
          1.048,
          1.047,
          1.245,
          0.95,
          0.592,
          0.99,
          1.174,
          0.907,
          1.136,
          0.747,
          0.867,
          1.09,
          0.372,
          1.24,
          1.413,
          0.474,
          0.792,
          1.215,
          1.125,
          0.908,
          1.094,
          0.537,
          1.174,
          0.541,
          0.714,
          0.858,
          0.382,
          0.896,
          1.073,
          0.991,
          0.608,
          0,
          0.627
         ],
         "y": [
          7.632,
          7.594,
          7.555,
          7.495,
          7.487,
          7.441,
          7.328,
          7.324,
          7.314,
          7.272,
          7.19,
          7.139,
          7.072,
          6.977,
          6.965,
          6.927,
          6.91,
          6.886,
          6.814,
          6.711,
          6.627,
          6.489,
          6.488,
          6.476,
          6.441,
          6.43,
          6.419,
          6.388,
          6.382,
          6.379,
          6.374,
          6.371,
          6.343,
          6.322,
          6.31,
          6.26,
          6.192,
          6.173,
          6.167,
          6.141,
          6.123,
          6.105,
          6.096,
          6.083,
          6.072,
          6,
          5.973,
          5.956,
          5.952,
          5.948,
          5.945,
          5.933,
          5.915,
          5.891,
          5.89,
          5.875,
          5.835,
          5.81,
          5.79,
          5.762,
          5.752,
          5.739,
          5.681,
          5.663,
          5.662,
          5.64,
          5.636,
          5.62,
          5.566,
          5.524,
          5.504,
          5.483,
          5.483,
          5.472,
          5.43,
          5.41,
          5.398,
          5.358,
          5.358,
          5.347,
          5.321,
          5.302,
          5.295,
          5.254,
          5.246,
          5.201,
          5.199,
          5.185,
          5.161,
          5.155,
          5.131,
          5.129,
          5.125,
          5.103,
          5.093,
          5.082,
          4.982,
          4.975,
          4.933,
          4.88,
          4.806,
          4.758,
          4.743,
          4.724,
          4.707,
          4.671,
          4.657,
          4.631,
          4.623,
          4.592,
          4.586,
          4.571,
          4.559,
          4.5,
          4.471,
          4.456,
          4.447,
          4.441,
          4.433,
          4.424,
          4.419,
          4.417,
          4.41,
          4.377,
          4.356,
          4.35,
          4.34,
          4.321,
          4.308,
          4.301,
          4.245,
          4.19,
          4.166,
          4.161,
          4.141,
          4.139,
          4.103,
          3.999,
          3.964,
          3.808,
          3.795,
          3.774,
          3.692,
          3.632,
          3.59,
          3.587,
          3.582,
          3.495,
          3.462,
          3.408,
          3.355,
          3.303,
          3.254,
          3.083,
          2.905
         ]
        },
        {
         "mode": "markers",
         "name": "2019",
         "type": "scatter",
         "x": [
          1.587,
          1.573,
          1.582,
          1.624,
          1.522,
          1.526,
          1.487,
          1.557,
          1.505,
          1.475,
          1.548,
          1.441,
          1.455,
          1.479,
          1.538,
          1.553,
          1.454,
          1.504,
          1.457,
          1.487,
          1.31,
          1.52,
          1.323,
          1.472,
          1.43,
          1.369,
          1.269,
          1.357,
          1.313,
          1.484,
          1.442,
          1.439,
          1.465,
          1.463,
          1.242,
          1.488,
          1.368,
          1.504,
          1.477,
          1.438,
          1.529,
          1.515,
          1.41,
          1.523,
          1.325,
          1.232,
          1.432,
          1.232,
          1.223,
          1.312,
          1.319,
          1.409,
          1.465,
          1.219,
          1.528,
          1.478,
          1.402,
          1.419,
          1.236,
          1.508,
          1.209,
          1.41,
          1.475,
          1.252,
          1.274,
          1.431,
          0.886,
          1.452,
          1.293,
          1.383,
          1.328,
          1.303,
          1.361,
          1.098,
          1.266,
          1.277,
          1.401,
          1.212,
          1.36,
          1.171,
          1.465,
          1.156,
          1.531,
          1.294,
          1.111,
          1.438,
          1.538,
          1.16,
          0.782,
          1.147,
          1.224,
          1.203,
          1.125,
          1.346,
          1.321,
          0.91,
          1.513,
          0.868,
          0.808,
          1.226,
          1.225,
          0.437,
          0.799,
          1.183,
          1.03,
          1.351,
          0.848,
          1.427,
          1.122,
          1.247,
          1.134,
          0.698,
          1.313,
          0.774,
          1.056,
          1.055,
          0.842,
          0.829,
          0.666,
          0.939,
          0.983,
          1.167,
          0.986,
          1,
          0.928,
          0.98,
          1.125,
          1.105,
          0.841,
          1.265,
          1.181,
          0.766,
          1.39,
          1.033,
          1.149,
          1.069,
          1.039,
          1.058,
          0.572,
          0.765,
          0.922,
          0.757,
          0.916,
          1.169,
          0.447,
          1.114,
          0.688,
          1.145,
          0.378,
          0.56,
          1.163,
          0.711,
          0.885,
          0.517,
          0,
          0.575
         ],
         "y": [
          7.769,
          7.6,
          7.554,
          7.494,
          7.488,
          7.48,
          7.343,
          7.307,
          7.278,
          7.246,
          7.228,
          7.167,
          7.139,
          7.09,
          7.054,
          7.021,
          6.985,
          6.923,
          6.892,
          6.852,
          6.825,
          6.726,
          6.595,
          6.592,
          6.446,
          6.444,
          6.436,
          6.375,
          6.374,
          6.354,
          6.321,
          6.3,
          6.293,
          6.262,
          6.253,
          6.223,
          6.199,
          6.198,
          6.192,
          6.182,
          6.174,
          6.149,
          6.125,
          6.118,
          6.105,
          6.1,
          6.086,
          6.07,
          6.046,
          6.028,
          6.021,
          6.008,
          5.94,
          5.895,
          5.893,
          5.89,
          5.888,
          5.886,
          5.86,
          5.809,
          5.779,
          5.758,
          5.743,
          5.718,
          5.697,
          5.693,
          5.653,
          5.648,
          5.631,
          5.603,
          5.529,
          5.525,
          5.523,
          5.467,
          5.432,
          5.43,
          5.425,
          5.386,
          5.373,
          5.339,
          5.323,
          5.287,
          5.285,
          5.274,
          5.265,
          5.261,
          5.247,
          5.211,
          5.208,
          5.208,
          5.197,
          5.192,
          5.191,
          5.175,
          5.082,
          5.044,
          5.011,
          4.996,
          4.944,
          4.913,
          4.906,
          4.883,
          4.812,
          4.799,
          4.796,
          4.722,
          4.719,
          4.707,
          4.7,
          4.696,
          4.681,
          4.668,
          4.639,
          4.628,
          4.587,
          4.559,
          4.548,
          4.534,
          4.519,
          4.516,
          4.509,
          4.49,
          4.466,
          4.461,
          4.456,
          4.437,
          4.418,
          4.39,
          4.374,
          4.366,
          4.36,
          4.35,
          4.332,
          4.286,
          4.212,
          4.189,
          4.166,
          4.107,
          4.085,
          4.015,
          3.975,
          3.973,
          3.933,
          3.802,
          3.775,
          3.663,
          3.597,
          3.488,
          3.462,
          3.41,
          3.38,
          3.334,
          3.231,
          3.203,
          3.083,
          2.853
         ]
        }
       ],
       "layout": {
        "height": 500,
        "template": {
         "data": {
          "bar": [
           {
            "error_x": {
             "color": "#2a3f5f"
            },
            "error_y": {
             "color": "#2a3f5f"
            },
            "marker": {
             "line": {
              "color": "#E5ECF6",
              "width": 0.5
             },
             "pattern": {
              "fillmode": "overlay",
              "size": 10,
              "solidity": 0.2
             }
            },
            "type": "bar"
           }
          ],
          "barpolar": [
           {
            "marker": {
             "line": {
              "color": "#E5ECF6",
              "width": 0.5
             },
             "pattern": {
              "fillmode": "overlay",
              "size": 10,
              "solidity": 0.2
             }
            },
            "type": "barpolar"
           }
          ],
          "carpet": [
           {
            "aaxis": {
             "endlinecolor": "#2a3f5f",
             "gridcolor": "white",
             "linecolor": "white",
             "minorgridcolor": "white",
             "startlinecolor": "#2a3f5f"
            },
            "baxis": {
             "endlinecolor": "#2a3f5f",
             "gridcolor": "white",
             "linecolor": "white",
             "minorgridcolor": "white",
             "startlinecolor": "#2a3f5f"
            },
            "type": "carpet"
           }
          ],
          "choropleth": [
           {
            "colorbar": {
             "outlinewidth": 0,
             "ticks": ""
            },
            "type": "choropleth"
           }
          ],
          "contour": [
           {
            "colorbar": {
             "outlinewidth": 0,
             "ticks": ""
            },
            "colorscale": [
             [
              0,
              "#0d0887"
             ],
             [
              0.1111111111111111,
              "#46039f"
             ],
             [
              0.2222222222222222,
              "#7201a8"
             ],
             [
              0.3333333333333333,
              "#9c179e"
             ],
             [
              0.4444444444444444,
              "#bd3786"
             ],
             [
              0.5555555555555556,
              "#d8576b"
             ],
             [
              0.6666666666666666,
              "#ed7953"
             ],
             [
              0.7777777777777778,
              "#fb9f3a"
             ],
             [
              0.8888888888888888,
              "#fdca26"
             ],
             [
              1,
              "#f0f921"
             ]
            ],
            "type": "contour"
           }
          ],
          "contourcarpet": [
           {
            "colorbar": {
             "outlinewidth": 0,
             "ticks": ""
            },
            "type": "contourcarpet"
           }
          ],
          "heatmap": [
           {
            "colorbar": {
             "outlinewidth": 0,
             "ticks": ""
            },
            "colorscale": [
             [
              0,
              "#0d0887"
             ],
             [
              0.1111111111111111,
              "#46039f"
             ],
             [
              0.2222222222222222,
              "#7201a8"
             ],
             [
              0.3333333333333333,
              "#9c179e"
             ],
             [
              0.4444444444444444,
              "#bd3786"
             ],
             [
              0.5555555555555556,
              "#d8576b"
             ],
             [
              0.6666666666666666,
              "#ed7953"
             ],
             [
              0.7777777777777778,
              "#fb9f3a"
             ],
             [
              0.8888888888888888,
              "#fdca26"
             ],
             [
              1,
              "#f0f921"
             ]
            ],
            "type": "heatmap"
           }
          ],
          "heatmapgl": [
           {
            "colorbar": {
             "outlinewidth": 0,
             "ticks": ""
            },
            "colorscale": [
             [
              0,
              "#0d0887"
             ],
             [
              0.1111111111111111,
              "#46039f"
             ],
             [
              0.2222222222222222,
              "#7201a8"
             ],
             [
              0.3333333333333333,
              "#9c179e"
             ],
             [
              0.4444444444444444,
              "#bd3786"
             ],
             [
              0.5555555555555556,
              "#d8576b"
             ],
             [
              0.6666666666666666,
              "#ed7953"
             ],
             [
              0.7777777777777778,
              "#fb9f3a"
             ],
             [
              0.8888888888888888,
              "#fdca26"
             ],
             [
              1,
              "#f0f921"
             ]
            ],
            "type": "heatmapgl"
           }
          ],
          "histogram": [
           {
            "marker": {
             "pattern": {
              "fillmode": "overlay",
              "size": 10,
              "solidity": 0.2
             }
            },
            "type": "histogram"
           }
          ],
          "histogram2d": [
           {
            "colorbar": {
             "outlinewidth": 0,
             "ticks": ""
            },
            "colorscale": [
             [
              0,
              "#0d0887"
             ],
             [
              0.1111111111111111,
              "#46039f"
             ],
             [
              0.2222222222222222,
              "#7201a8"
             ],
             [
              0.3333333333333333,
              "#9c179e"
             ],
             [
              0.4444444444444444,
              "#bd3786"
             ],
             [
              0.5555555555555556,
              "#d8576b"
             ],
             [
              0.6666666666666666,
              "#ed7953"
             ],
             [
              0.7777777777777778,
              "#fb9f3a"
             ],
             [
              0.8888888888888888,
              "#fdca26"
             ],
             [
              1,
              "#f0f921"
             ]
            ],
            "type": "histogram2d"
           }
          ],
          "histogram2dcontour": [
           {
            "colorbar": {
             "outlinewidth": 0,
             "ticks": ""
            },
            "colorscale": [
             [
              0,
              "#0d0887"
             ],
             [
              0.1111111111111111,
              "#46039f"
             ],
             [
              0.2222222222222222,
              "#7201a8"
             ],
             [
              0.3333333333333333,
              "#9c179e"
             ],
             [
              0.4444444444444444,
              "#bd3786"
             ],
             [
              0.5555555555555556,
              "#d8576b"
             ],
             [
              0.6666666666666666,
              "#ed7953"
             ],
             [
              0.7777777777777778,
              "#fb9f3a"
             ],
             [
              0.8888888888888888,
              "#fdca26"
             ],
             [
              1,
              "#f0f921"
             ]
            ],
            "type": "histogram2dcontour"
           }
          ],
          "mesh3d": [
           {
            "colorbar": {
             "outlinewidth": 0,
             "ticks": ""
            },
            "type": "mesh3d"
           }
          ],
          "parcoords": [
           {
            "line": {
             "colorbar": {
              "outlinewidth": 0,
              "ticks": ""
             }
            },
            "type": "parcoords"
           }
          ],
          "pie": [
           {
            "automargin": true,
            "type": "pie"
           }
          ],
          "scatter": [
           {
            "fillpattern": {
             "fillmode": "overlay",
             "size": 10,
             "solidity": 0.2
            },
            "type": "scatter"
           }
          ],
          "scatter3d": [
           {
            "line": {
             "colorbar": {
              "outlinewidth": 0,
              "ticks": ""
             }
            },
            "marker": {
             "colorbar": {
              "outlinewidth": 0,
              "ticks": ""
             }
            },
            "type": "scatter3d"
           }
          ],
          "scattercarpet": [
           {
            "marker": {
             "colorbar": {
              "outlinewidth": 0,
              "ticks": ""
             }
            },
            "type": "scattercarpet"
           }
          ],
          "scattergeo": [
           {
            "marker": {
             "colorbar": {
              "outlinewidth": 0,
              "ticks": ""
             }
            },
            "type": "scattergeo"
           }
          ],
          "scattergl": [
           {
            "marker": {
             "colorbar": {
              "outlinewidth": 0,
              "ticks": ""
             }
            },
            "type": "scattergl"
           }
          ],
          "scattermapbox": [
           {
            "marker": {
             "colorbar": {
              "outlinewidth": 0,
              "ticks": ""
             }
            },
            "type": "scattermapbox"
           }
          ],
          "scatterpolar": [
           {
            "marker": {
             "colorbar": {
              "outlinewidth": 0,
              "ticks": ""
             }
            },
            "type": "scatterpolar"
           }
          ],
          "scatterpolargl": [
           {
            "marker": {
             "colorbar": {
              "outlinewidth": 0,
              "ticks": ""
             }
            },
            "type": "scatterpolargl"
           }
          ],
          "scatterternary": [
           {
            "marker": {
             "colorbar": {
              "outlinewidth": 0,
              "ticks": ""
             }
            },
            "type": "scatterternary"
           }
          ],
          "surface": [
           {
            "colorbar": {
             "outlinewidth": 0,
             "ticks": ""
            },
            "colorscale": [
             [
              0,
              "#0d0887"
             ],
             [
              0.1111111111111111,
              "#46039f"
             ],
             [
              0.2222222222222222,
              "#7201a8"
             ],
             [
              0.3333333333333333,
              "#9c179e"
             ],
             [
              0.4444444444444444,
              "#bd3786"
             ],
             [
              0.5555555555555556,
              "#d8576b"
             ],
             [
              0.6666666666666666,
              "#ed7953"
             ],
             [
              0.7777777777777778,
              "#fb9f3a"
             ],
             [
              0.8888888888888888,
              "#fdca26"
             ],
             [
              1,
              "#f0f921"
             ]
            ],
            "type": "surface"
           }
          ],
          "table": [
           {
            "cells": {
             "fill": {
              "color": "#EBF0F8"
             },
             "line": {
              "color": "white"
             }
            },
            "header": {
             "fill": {
              "color": "#C8D4E3"
             },
             "line": {
              "color": "white"
             }
            },
            "type": "table"
           }
          ]
         },
         "layout": {
          "annotationdefaults": {
           "arrowcolor": "#2a3f5f",
           "arrowhead": 0,
           "arrowwidth": 1
          },
          "autotypenumbers": "strict",
          "coloraxis": {
           "colorbar": {
            "outlinewidth": 0,
            "ticks": ""
           }
          },
          "colorscale": {
           "diverging": [
            [
             0,
             "#8e0152"
            ],
            [
             0.1,
             "#c51b7d"
            ],
            [
             0.2,
             "#de77ae"
            ],
            [
             0.3,
             "#f1b6da"
            ],
            [
             0.4,
             "#fde0ef"
            ],
            [
             0.5,
             "#f7f7f7"
            ],
            [
             0.6,
             "#e6f5d0"
            ],
            [
             0.7,
             "#b8e186"
            ],
            [
             0.8,
             "#7fbc41"
            ],
            [
             0.9,
             "#4d9221"
            ],
            [
             1,
             "#276419"
            ]
           ],
           "sequential": [
            [
             0,
             "#0d0887"
            ],
            [
             0.1111111111111111,
             "#46039f"
            ],
            [
             0.2222222222222222,
             "#7201a8"
            ],
            [
             0.3333333333333333,
             "#9c179e"
            ],
            [
             0.4444444444444444,
             "#bd3786"
            ],
            [
             0.5555555555555556,
             "#d8576b"
            ],
            [
             0.6666666666666666,
             "#ed7953"
            ],
            [
             0.7777777777777778,
             "#fb9f3a"
            ],
            [
             0.8888888888888888,
             "#fdca26"
            ],
            [
             1,
             "#f0f921"
            ]
           ],
           "sequentialminus": [
            [
             0,
             "#0d0887"
            ],
            [
             0.1111111111111111,
             "#46039f"
            ],
            [
             0.2222222222222222,
             "#7201a8"
            ],
            [
             0.3333333333333333,
             "#9c179e"
            ],
            [
             0.4444444444444444,
             "#bd3786"
            ],
            [
             0.5555555555555556,
             "#d8576b"
            ],
            [
             0.6666666666666666,
             "#ed7953"
            ],
            [
             0.7777777777777778,
             "#fb9f3a"
            ],
            [
             0.8888888888888888,
             "#fdca26"
            ],
            [
             1,
             "#f0f921"
            ]
           ]
          },
          "colorway": [
           "#636efa",
           "#EF553B",
           "#00cc96",
           "#ab63fa",
           "#FFA15A",
           "#19d3f3",
           "#FF6692",
           "#B6E880",
           "#FF97FF",
           "#FECB52"
          ],
          "font": {
           "color": "#2a3f5f"
          },
          "geo": {
           "bgcolor": "white",
           "lakecolor": "white",
           "landcolor": "#E5ECF6",
           "showlakes": true,
           "showland": true,
           "subunitcolor": "white"
          },
          "hoverlabel": {
           "align": "left"
          },
          "hovermode": "closest",
          "mapbox": {
           "style": "light"
          },
          "paper_bgcolor": "white",
          "plot_bgcolor": "#E5ECF6",
          "polar": {
           "angularaxis": {
            "gridcolor": "white",
            "linecolor": "white",
            "ticks": ""
           },
           "bgcolor": "#E5ECF6",
           "radialaxis": {
            "gridcolor": "white",
            "linecolor": "white",
            "ticks": ""
           }
          },
          "scene": {
           "xaxis": {
            "backgroundcolor": "#E5ECF6",
            "gridcolor": "white",
            "gridwidth": 2,
            "linecolor": "white",
            "showbackground": true,
            "ticks": "",
            "zerolinecolor": "white"
           },
           "yaxis": {
            "backgroundcolor": "#E5ECF6",
            "gridcolor": "white",
            "gridwidth": 2,
            "linecolor": "white",
            "showbackground": true,
            "ticks": "",
            "zerolinecolor": "white"
           },
           "zaxis": {
            "backgroundcolor": "#E5ECF6",
            "gridcolor": "white",
            "gridwidth": 2,
            "linecolor": "white",
            "showbackground": true,
            "ticks": "",
            "zerolinecolor": "white"
           }
          },
          "shapedefaults": {
           "line": {
            "color": "#2a3f5f"
           }
          },
          "ternary": {
           "aaxis": {
            "gridcolor": "white",
            "linecolor": "white",
            "ticks": ""
           },
           "baxis": {
            "gridcolor": "white",
            "linecolor": "white",
            "ticks": ""
           },
           "bgcolor": "#E5ECF6",
           "caxis": {
            "gridcolor": "white",
            "linecolor": "white",
            "ticks": ""
           }
          },
          "title": {
           "x": 0.05
          },
          "xaxis": {
           "automargin": true,
           "gridcolor": "white",
           "linecolor": "white",
           "ticks": "",
           "title": {
            "standoff": 15
           },
           "zerolinecolor": "white",
           "zerolinewidth": 2
          },
          "yaxis": {
           "automargin": true,
           "gridcolor": "white",
           "linecolor": "white",
           "ticks": "",
           "title": {
            "standoff": 15
           },
           "zerolinecolor": "white",
           "zerolinewidth": 2
          }
         }
        },
        "title": {
         "text": "Score vs Social support"
        },
        "width": 1000
       }
      }
     },
     "metadata": {},
     "output_type": "display_data"
    },
    {
     "data": {
      "application/vnd.plotly.v1+json": {
       "config": {
        "plotlyServerURL": "https://plot.ly"
       },
       "data": [
        {
         "mode": "lines",
         "name": "2015",
         "type": "scatter",
         "x": [
          1.34951,
          1.40223,
          1.36058,
          1.33095,
          1.32261,
          1.31826,
          1.28017,
          1.28907,
          1.31967,
          1.30923,
          1.22393,
          1.23788,
          1.29704,
          0.91451,
          1.24711,
          1.23287,
          1.21963,
          1.36948,
          1.28566,
          1.12575,
          1.28548,
          1.08182,
          1.25596,
          1.02,
          1.1985,
          1.29937,
          1.12447,
          1.0786,
          1.26038,
          1.24823,
          1.20643,
          1.2089,
          1.24018,
          1.26504,
          1.08393,
          1.31379,
          1.30203,
          1.07617,
          1.16594,
          0.972,
          1.18354,
          1.02507,
          1.04356,
          1.34043,
          1.26999,
          1.25712,
          0.95774,
          0.99903,
          1.21624,
          1.19777,
          0.97841,
          1.01528,
          1.30477,
          1.12241,
          1.27385,
          1.25745,
          1.14184,
          0.97459,
          1.23289,
          1.27948,
          1.07023,
          0.79624,
          1.11862,
          1.23617,
          1.15102,
          1.07008,
          0.89318,
          1.07772,
          0.81198,
          1.22668,
          0.98521,
          1.05818,
          1.22791,
          1.08708,
          0.91226,
          0.94632,
          1.15115,
          0.90432,
          1.10395,
          0.93793,
          0.41411,
          1.05392,
          0.90557,
          0.94675,
          0.91612,
          0.88588,
          1.00964,
          1.13935,
          1.09562,
          1.03516,
          0.95152,
          0.64095,
          1.00232,
          1.02626,
          0.80434,
          0.91916,
          1.04103,
          1.17202,
          0.73803,
          1.3006,
          1.07284,
          0.92933,
          0.80001,
          1.20215,
          0.95348,
          0.85563,
          0.60429,
          0.92558,
          0.43106,
          0.54447,
          1.20278,
          0.81889,
          1.18468,
          0.67954,
          1.03276,
          0.78968,
          0.38174,
          1.01404,
          0.74302,
          1.0012,
          0.86449,
          0.60406,
          0.95571,
          0.86908,
          0.99876,
          0.59207,
          0.77711,
          1.10464,
          0.70905,
          0.38562,
          0.41134,
          1.01905,
          0.88767,
          1.10614,
          0.747,
          0.68093,
          0.8604,
          1.03526,
          0.6629,
          0.79273,
          1.13299,
          0.97619,
          0.90528,
          0.77265,
          0.62736,
          1.00268,
          0.66801,
          0,
          0.76062,
          0.46475,
          0.77115,
          0.85188,
          0.30285,
          0.7737,
          0.35386,
          0.47489,
          0.41587,
          0.13995
         ],
         "y": [
          6.49178476559417,
          6.6559244803450754,
          6.5262503695830265,
          6.433999615636341,
          6.408033659243652,
          6.394490264722285,
          6.275899943499562,
          6.303609417347875,
          6.3988801926016246,
          6.3663760457503455,
          6.100800976170449,
          6.144233241359658,
          6.3284234068502405,
          5.1374453134575315,
          6.172970145137178,
          6.128634986979877,
          6.087413252850477,
          6.55395984343134,
          6.292992641412735,
          5.7951250051111955,
          6.292432225087713,
          5.658352287565535,
          6.200523947784095,
          5.465880414160736,
          6.021626603140943,
          6.3356776848352485,
          5.791139822355483,
          5.648327062195695,
          6.214285281987415,
          6.176457180048426,
          6.046316055682192,
          6.054006213031107,
          6.151394116623829,
          6.228793837957431,
          5.664921612264404,
          6.380573259317571,
          6.343959392749464,
          5.640761441807898,
          5.920253516792509,
          5.3164360608215215,
          5.975049779683555,
          5.481665473982191,
          5.539232684258068,
          6.463514875420835,
          6.2442052868955376,
          6.20413551965646,
          5.272038634183662,
          5.400591912295667,
          6.076858745395895,
          6.019353803600576,
          5.336393108840362,
          5.451185052749047,
          6.352490174585911,
          5.784726168858008,
          6.256223103643232,
          6.205162949585667,
          5.845219997720111,
          5.324499829053783,
          6.128697255460436,
          6.273751680920311,
          5.622267703082169,
          4.769220653677761,
          5.772926291792266,
          6.138909286271948,
          5.873801230296236,
          5.621800689477984,
          5.071035978942417,
          5.645587249051143,
          4.818225947876912,
          6.109362892247175,
          5.357564392230085,
          5.58475094354597,
          6.1131924038014915,
          5.67472889795229,
          5.130440109394756,
          5.236483331785041,
          5.874205975419863,
          5.105719522613228,
          5.727252361302968,
          5.210361704190957,
          3.579487929896212,
          5.571487757187115,
          5.109611302648103,
          5.237822104117038,
          5.142457926142452,
          5.048307983538745,
          5.433625341231689,
          5.83746757189064,
          5.701317539150558,
          5.513079922423705,
          5.252673136730122,
          4.28573703638512,
          5.410835077347459,
          5.485370448575392,
          4.794439388303754,
          5.151922735187268,
          5.531355721467479,
          5.939183134882143,
          4.587988241013683,
          6.339507196389566,
          5.6303937397949895,
          5.183586257551014,
          4.780958262262946,
          6.03299060084278,
          5.2587754478248065,
          4.954126906694761,
          4.1715989115222945,
          5.171910917446388,
          3.632260467169122,
          3.9853538861732973,
          6.034952057980357,
          4.839739707909703,
          5.978599083075361,
          4.405884069621793,
          5.505607704756744,
          4.748796592054735,
          3.4787063941130785,
          5.447324406954451,
          4.603524226912906,
          5.407348042436211,
          4.981711843581957,
          4.1708828239958775,
          5.265718383407025,
          4.99600245987002,
          5.399751287808133,
          4.133552869901353,
          4.709660852024028,
          5.72940062388222,
          4.497761212685132,
          3.490786479341332,
          3.5708637453389276,
          5.462922661334231,
          5.053881012548687,
          5.7340707599240694,
          4.615915654543949,
          4.410211729020575,
          4.9689779393078455,
          5.513391264826495,
          4.354076693797532,
          4.75829253533983,
          5.817666195073193,
          5.3294813074984235,
          5.108708409680012,
          4.695774980859593,
          4.243425603845955,
          5.411955909997503,
          4.369986290580103,
          2.2901879057024104,
          4.658320489803952,
          3.7371517226690836,
          4.691104844817742,
          4.942451566590135,
          3.233088372552022,
          4.699044076088888,
          3.3919041322152177,
          3.768721842311993,
          3.5849675561853163,
          2.72591159840706
         ]
        },
        {
         "mode": "lines",
         "name": "2016",
         "type": "scatter",
         "x": [
          1.16374,
          1.14524,
          1.18326,
          1.1269,
          1.13464,
          1.0961,
          1.02912,
          1.17278,
          1.10476,
          1.08764,
          0.99537,
          1.08383,
          1.04782,
          1.02152,
          1.08113,
          1.09774,
          1.03938,
          1.05249,
          1.16157,
          1.03999,
          0.7146,
          0.86758,
          1.08672,
          0.90587,
          0.98912,
          1.06612,
          1.00793,
          0.87114,
          1.03143,
          1.09879,
          1.02169,
          1.00508,
          1.04477,
          0.84829,
          0.92624,
          0.87964,
          1.12945,
          0.83309,
          0.87119,
          0.77866,
          0.87758,
          0.94397,
          0.98569,
          1.03302,
          1.08268,
          0.80975,
          0.88025,
          0.89521,
          1.1681,
          1.04167,
          0.85974,
          0.68655,
          1.06054,
          0.95544,
          0.83132,
          1.05261,
          1.04685,
          0.72194,
          0.83779,
          1.06411,
          1.04993,
          0.81826,
          1.05613,
          0.81255,
          1.03817,
          0.75695,
          0.95076,
          0.95025,
          0.70697,
          1.11111,
          0.72803,
          1.05163,
          0.96372,
          0.60809,
          0.87021,
          0.33613,
          0.66062,
          0.87717,
          0.87625,
          0.86216,
          0.76042,
          0.87877,
          0.79381,
          0.90836,
          0.95434,
          0.81329,
          0.64367,
          0.74173,
          0.99496,
          0.38595,
          0.93164,
          0.26135,
          0.64184,
          0.94367,
          0.78236,
          0.79117,
          0.75862,
          0.43165,
          0.75473,
          0.75602,
          1.08983,
          0.5497,
          0.64498,
          0.75596,
          0.38857,
          0.6376,
          0.69699,
          0.71629,
          0.50163,
          0.24749,
          0.628,
          0.59205,
          0.70362,
          0.62542,
          0.37932,
          0.96053,
          0.84783,
          0.29247,
          0.69981,
          0.49813,
          0.62477,
          0.7624,
          1.01413,
          0.49353,
          0.80676,
          0.19249,
          0.47799,
          0.77416,
          0.92542,
          0.84142,
          0.71478,
          0.147,
          0.81928,
          0.72368,
          0.86333,
          0.29561,
          0.89186,
          0.60323,
          0.57576,
          0.5375,
          0.66366,
          0.6053,
          0.18519,
          0.63178,
          0.63054,
          0.90981,
          0.47493,
          0.46115,
          0.77623,
          0.50353,
          0.3109,
          0.61586,
          0.10419,
          0.11037,
          0,
          0.14866,
          0.23442
         ],
         "y": [
          6.553417166001859,
          6.494874358901775,
          6.615187738682596,
          6.436837867971207,
          6.461330912671459,
          6.339372005339717,
          6.1274153988768205,
          6.582024029579413,
          6.3667763680146745,
          6.312600537876651,
          6.020614331869911,
          6.300543884090094,
          6.186591101188796,
          6.1033653808248935,
          6.291999798729541,
          6.344561746077238,
          6.15988292324692,
          6.201369204386493,
          6.546550252952822,
          6.161813253643194,
          5.132124388654215,
          5.616225936231012,
          6.309689219901944,
          5.7373937245478865,
          6.000836356498262,
          6.244501013076986,
          6.060360151176779,
          5.6274914710027035,
          6.1347253385741825,
          6.347884445939675,
          6.103903341755003,
          6.051341394407307,
          6.176939449207431,
          5.555183193043952,
          5.801854101879168,
          5.654389517508147,
          6.4449072819228395,
          5.5070831569401,
          5.627649694805676,
          5.334840725023476,
          5.647870696825652,
          5.857960262413464,
          5.9899822036143,
          6.13975685550873,
          6.296904736621711,
          5.43322428571221,
          5.65631984790442,
          5.703660409754001,
          6.567214281621121,
          6.167129573423093,
          5.591416443924814,
          5.043360835186251,
          6.226843236665179,
          5.894256802815516,
          5.501482034314848,
          6.201748941513629,
          6.183521559411116,
          5.155351642930681,
          5.52195619441958,
          6.238140416197464,
          6.193268145674265,
          5.4601539769782494,
          6.2128878972429415,
          5.44208481867871,
          6.15605390721497,
          5.266139949772514,
          5.879447054857224,
          5.8778331720668975,
          5.107979436320504,
          6.386870790992271,
          5.174623302132815,
          6.1986477549753545,
          5.920458664587877,
          4.795076043560708,
          5.624548508267402,
          3.9344651344288883,
          4.96130597096435,
          5.6465732616412705,
          5.643661943666564,
          5.599074475988717,
          5.277120681698854,
          5.651636423336414,
          5.3827825373243545,
          5.745273269935952,
          5.890775879150105,
          5.444426530962713,
          4.907668101756435,
          5.217976624147472,
          6.019316896685531,
          4.092119331711383,
          5.818942272600273,
          3.6978256147021735,
          4.901877110567616,
          5.857010919595625,
          5.3465492864434925,
          5.37442832052737,
          5.271424624791818,
          4.236735887628886,
          5.259114812920504,
          5.263196987037212,
          6.3195307404468775,
          4.610302286448607,
          4.911813565394334,
          5.263007118473644,
          4.1004102589871785,
          4.888459732075489,
          5.076397965247054,
          5.137472353194709,
          4.458185922270174,
          3.653965976518003,
          4.858080761904636,
          4.744317847566906,
          5.0973784415213,
          4.8499164136712185,
          4.0711388554371375,
          5.9103639859581865,
          5.553727534056598,
          3.796304109672692,
          5.085321787734743,
          4.44711025606205,
          4.8478595042325665,
          5.283386344296591,
          6.079979902745455,
          4.432553666188516,
          5.423762502294414,
          3.479919793247485,
          4.3833777082244465,
          5.320600582755889,
          5.7992592315104075,
          5.533443242515434,
          5.132693994344918,
          3.335967777302469,
          5.463381742558902,
          5.160857831274147,
          5.60277691297829,
          3.806240564499409,
          5.693059414954797,
          4.779696689911713,
          4.6927685325582384,
          4.571695678523147,
          4.97092597818512,
          4.786247155354803,
          3.4568191180133976,
          4.870042481409409,
          4.866118531095674,
          5.749861760222175,
          4.373694411482487,
          4.330087931383073,
          5.327151048198979,
          4.464198426783156,
          3.8546254034486127,
          4.819664022542742,
          3.200496557196817,
          3.220053019244304,
          2.8707897965612665,
          3.341220807561179,
          3.6126062744208087
         ]
        },
        {
         "mode": "lines",
         "name": "2017",
         "type": "scatter",
         "x": [
          1.53352355957031,
          1.55112159252167,
          1.6105740070343,
          1.51691174507141,
          1.5402467250824,
          1.42893922328949,
          1.48134899139404,
          1.54819512367249,
          1.47816216945648,
          1.51004195213318,
          1.37628996372223,
          1.41640365123749,
          1.4599449634552,
          1.41992056369781,
          1.55823111534119,
          1.47252035140991,
          1.46231269836426,
          1.45758366584778,
          1.49646008014679,
          1.28402495384216,
          1.26641023159027,
          1.43130600452423,
          1.43388521671295,
          1.44045114517212,
          1.210862159729,
          1.35381436347961,
          1.48841166496277,
          1.41222786903381,
          1.25558519363403,
          1.37319254875183,
          1.38777685165405,
          1.42579245567322,
          1.38456535339355,
          1.53209090232849,
          1.27429687976837,
          1.4021829366684,
          1.28667759895325,
          1.3802285194397,
          1.25969874858856,
          1.50505924224854,
          1.32311046123505,
          1.28464603424072,
          1.28721570968628,
          1.28616881370544,
          1.18212509155273,
          1.44571197032928,
          1.54896914958954,
          1.44492328166962,
          1.46928238868713,
          1.08141779899597,
          1.43633782863617,
          1.47351610660553,
          1.1462174654007,
          1.40471494197845,
          1.12827444076538,
          1.25182557106018,
          1.15009129047394,
          1.22761905193329,
          1.49314916133881,
          1.38436901569366,
          1.18630337715149,
          1.45251882076263,
          1.21877038478851,
          1.20956099033356,
          1.13136327266693,
          1.47667109966278,
          1.44494521617889,
          1.35756433010101,
          1.33775317668915,
          1.50728487968445,
          1.26279091835022,
          1.25391757488251,
          1.25818979740143,
          1.23908889293671,
          1.34313309192657,
          1.36821806430817,
          0.96798300743103,
          1.13785350322723,
          1.16083741188049,
          0.672690689563751,
          1.27444469928741,
          1.43133759498596,
          1.23837649822235,
          0.774864435195923,
          1.15240025520325,
          1.40241670608521,
          1.23941457271576,
          1.12962424755096,
          1.36704301834106,
          1.0693359375,
          1.14394497871399,
          1.20789301395416,
          0.721151351928711,
          1.27749133110046,
          1.21577048301697,
          1.27146327495575,
          1.34012651443481,
          1.39423859119415,
          1.17928326129913,
          1.4930112361908,
          1.38478863239288,
          0.868351459503174,
          1.15564715862274,
          0.997471392154694,
          1.43437945842743,
          0.984136044979095,
          0.946018218994141,
          0.711551249027252,
          0.803685247898102,
          0.735131740570068,
          1.0984708070755,
          1.06795072555542,
          0.870701014995575,
          1.12323594093323,
          1.17969191074371,
          1.00318729877472,
          0.978613197803497,
          1.1556202173233,
          0.86466920375824,
          1.25997638702393,
          1.00748372077942,
          0.754372596740723,
          1.2720308303833,
          0.832044363021851,
          0.57061493396759,
          1.22902345657349,
          1.28147339820862,
          0.904780030250549,
          1.00623834133148,
          1.21400856971741,
          0.873664736747742,
          1.39453756809235,
          1.12982773780823,
          1.04328000545502,
          0.993025004863739,
          0.512568831443787,
          0.953855872154236,
          1.08309590816498,
          1.19009518623352,
          1.10441195964813,
          0.581543326377869,
          1.22155499458313,
          0.435299843549728,
          0.913020372390747,
          0.640449821949005,
          0.93538224697113,
          0.601323127746582,
          0.872117936611176,
          0.791244685649872,
          0.431882530450821,
          0.945707023143768,
          0.396102607250214,
          1.04198980331421,
          0.629793584346771,
          0
         ],
         "y": [
          6.375575554130147,
          6.427740479579189,
          6.603972151572805,
          6.326334024278284,
          6.395504680793853,
          6.065561695177521,
          6.220917220055327,
          6.419065701564603,
          6.211470691045427,
          6.305970257630976,
          5.909496258326457,
          6.028403156870366,
          6.157470383421661,
          6.038828155892158,
          6.448814864931437,
          6.194746945919491,
          6.16448893574257,
          6.150470912856142,
          6.265710227343119,
          5.635999932046589,
          5.58378553537992,
          6.072577420571697,
          6.080222843893367,
          6.099685881013653,
          5.419127301389212,
          5.84287301615392,
          6.2418527326323305,
          6.016025104848957,
          5.551697443515842,
          5.900314753696806,
          5.943546237336105,
          6.056233897089979,
          5.934026561597245,
          6.371328803460902,
          5.6071635126453625,
          5.986249439044115,
          5.64386302872593,
          5.921171112325571,
          5.563891038568578,
          6.29120027223631,
          5.751859050217551,
          5.63784096807478,
          5.645458122129234,
          5.642354863319323,
          5.333943518452647,
          6.1152802689138355,
          6.421360105965943,
          6.112942400514147,
          6.185148822964075,
          5.035422176725513,
          6.0874929926926,
          6.1976986107838865,
          5.227504426853606,
          5.993754929492986,
          5.17431686066261,
          5.540552991643096,
          5.238987403201403,
          5.468798877468792,
          6.255895844493428,
          5.9334445680582,
          5.346328991156701,
          6.13545745839745,
          5.442569237871762,
          5.415270313241884,
          5.183472922951749,
          6.207050791114415,
          6.113007419828748,
          5.853988845393609,
          5.795263683118619,
          6.297797612475514,
          5.573056995101254,
          5.546754208775294,
          5.559418133761521,
          5.502798325163289,
          5.811211083493301,
          5.885569150545126,
          4.699173377688261,
          5.202711572763402,
          5.2708415668791515,
          3.8238538581830346,
          5.60760168628738,
          6.072671062519385,
          5.500686610901381,
          4.126722129795162,
          5.245831746163018,
          5.986942389457031,
          5.503763720639098,
          5.1783180220728084,
          5.882086023456837,
          4.999608548806704,
          5.220768213839127,
          5.410326018403781,
          3.9675032561848718,
          5.61663265706904,
          5.433676786499534,
          5.598764006620404,
          5.802298843633999,
          5.962700432711924,
          5.325519630184701,
          6.255487000216151,
          5.934688415816213,
          4.403840809304381,
          5.2554563715564395,
          4.786584248833592,
          6.081687898667438,
          4.747054979103565,
          4.634064308141613,
          3.9390461750132486,
          4.212154152234568,
          4.008944588476994,
          5.085971513552494,
          4.995502437741913,
          4.41080547333463,
          5.1593815000546615,
          5.326730968285399,
          4.803527610829303,
          4.730683893086292,
          5.255376510876518,
          4.39292569186201,
          5.564714027610757,
          4.816263269081125,
          4.065979248571797,
          5.600446381386275,
          4.296217588774324,
          3.5212760532916687,
          5.4729618804338855,
          5.628436489599891,
          4.511824109625746,
          4.812571656147046,
          5.4284540393792575,
          4.41959067817433,
          5.963586674239525,
          5.178921217562295,
          4.922372316985315,
          4.773404056354619,
          3.3492130381165746,
          4.657297052046676,
          5.040396507660039,
          5.357568851806343,
          5.103582560303527,
          3.5536705133393203,
          5.450823510536355,
          3.120168632747106,
          4.53625052333949,
          3.7282839464670943,
          4.602536654500324,
          3.6123027403983134,
          4.415005579712954,
          4.175277246502162,
          3.1100388708849005,
          4.633141846615395,
          3.003978322442304,
          4.918547838495272,
          3.6966962206329486,
          1.8298321531238768
         ]
        },
        {
         "mode": "lines",
         "name": "2018",
         "type": "scatter",
         "x": [
          1.592,
          1.582,
          1.59,
          1.644,
          1.549,
          1.488,
          1.532,
          1.601,
          1.501,
          1.573,
          1.433,
          1.504,
          1.459,
          1.583,
          1.474,
          1.483,
          1.52,
          1.471,
          1.559,
          1.489,
          1.525,
          1.466,
          1.252,
          1.331,
          1.436,
          1.438,
          1.474,
          1.468,
          1.268,
          1.459,
          1.303,
          1.331,
          1.451,
          1.258,
          1.538,
          1.439,
          1.492,
          1.537,
          1.231,
          1.319,
          1.448,
          1.366,
          1.584,
          1.301,
          1.417,
          1.501,
          1.33,
          1.101,
          1.527,
          1.506,
          1.219,
          1.454,
          1.462,
          1.387,
          1.493,
          1.204,
          1.211,
          1.479,
          1.516,
          1.191,
          1.223,
          1.532,
          1.522,
          1.249,
          1.23,
          1.301,
          1.533,
          1.401,
          1.35,
          1.312,
          1.205,
          1.498,
          1.38,
          0.81,
          1.29,
          1.429,
          1.369,
          1.202,
          1.179,
          1.279,
          1.161,
          1.441,
          1.154,
          0.797,
          1.142,
          1.161,
          1.166,
          1.239,
          1.265,
          1.172,
          1.416,
          1.078,
          1.517,
          1.365,
          1.215,
          1.335,
          0.712,
          0.891,
          1.515,
          1.228,
          1.469,
          1.164,
          1.217,
          1.41,
          0.771,
          0.872,
          0.896,
          1.117,
          1.034,
          0.906,
          0.817,
          0.813,
          0.811,
          0.85,
          1.314,
          0.971,
          1.233,
          1.281,
          1.088,
          1.097,
          1.025,
          0.902,
          1.048,
          1.047,
          1.245,
          0.95,
          0.592,
          0.99,
          1.174,
          0.907,
          1.136,
          0.747,
          0.867,
          1.09,
          0.372,
          1.24,
          1.413,
          0.474,
          0.792,
          1.215,
          1.125,
          0.908,
          1.094,
          0.537,
          1.174,
          0.541,
          0.714,
          0.858,
          0.382,
          0.896,
          1.073,
          0.991,
          0.608,
          0,
          0.627
         ],
         "y": [
          6.435748072176416,
          6.407316785397857,
          6.4300618148207045,
          6.583590763424926,
          6.3134935390286095,
          6.140062689679397,
          6.265160351505059,
          6.46133623027712,
          6.177023362491524,
          6.381728627297153,
          5.983690612397319,
          6.185552748525092,
          6.057611958021575,
          6.410159914075712,
          6.100258888189413,
          6.125847046290117,
          6.2310428073707875,
          6.091729502155846,
          6.34192482580717,
          6.142905818357253,
          6.245258450760067,
          6.077513858766565,
          5.469084321705391,
          5.693691487256011,
          5.992219998430887,
          5.9979062557865985,
          6.100258888189413,
          6.083200116122278,
          5.514574380551086,
          6.057611958021575,
          5.614083884276044,
          5.693691487256011,
          6.034866928598727,
          5.486143093772526,
          6.282219123572195,
          6.000749384464455,
          6.151435204390821,
          6.279375994894338,
          5.4093786194704165,
          5.65957394312174,
          6.026337542565158,
          5.793200990980971,
          6.4130030427535685,
          5.608397626920333,
          5.938200553551624,
          6.177023362491524,
          5.6908483585781555,
          5.039771891349141,
          6.250944708115779,
          6.191239005880804,
          5.3752610753361445,
          6.043396314632294,
          6.066141344055142,
          5.852906693215945,
          6.154278333068677,
          5.332614145168305,
          5.352516045913297,
          6.1144745315786935,
          6.219670292659363,
          5.295653472356177,
          5.386633590047568,
          6.265160351505059,
          6.236729064726499,
          5.460554935671823,
          5.40653549079256,
          5.608397626920333,
          6.268003480182915,
          5.892710494705929,
          5.747710932135275,
          5.639672042376748,
          5.335457273846162,
          6.168493976457956,
          5.833004792470954,
          4.2124214460930585,
          5.577123211463917,
          5.972318097685895,
          5.801730377014538,
          5.326927887812593,
          5.261535928221906,
          5.545848796007501,
          5.210359612020499,
          6.0064356418201665,
          5.190457711275506,
          4.17546077328093,
          5.156340167141235,
          5.210359612020499,
          5.224575255409778,
          5.432123648893263,
          5.506044994517518,
          5.241634027476914,
          5.935357424873768,
          4.974379931758454,
          6.2225134213372195,
          5.7903578623031144,
          5.363888560624721,
          5.705064001967435,
          3.933794835663174,
          4.44271486899939,
          6.216827163981507,
          5.400849233436848,
          6.086043244800134,
          5.218888998054066,
          5.369574817980432,
          5.918298652806632,
          4.101539427656675,
          4.388695424120128,
          4.45693051238867,
          5.085261950194837,
          4.849282269932792,
          4.485361799167229,
          4.232323346838049,
          4.220950832126626,
          4.215264574770914,
          4.326146593207296,
          5.645358299732461,
          4.670165163227867,
          5.415064876826127,
          5.551535053363214,
          5.002811218537014,
          5.028399376637717,
          4.823694111832088,
          4.473989284455806,
          4.889086071422776,
          4.88624294274492,
          5.449182420960399,
          4.6104594609928915,
          3.592619394320459,
          4.72418460810713,
          5.247320284832626,
          4.488204927845086,
          5.1392813950741,
          4.033304339388133,
          4.374479780730847,
          5.008497475892726,
          2.9671310851921486,
          5.43496677757112,
          5.9268280388402,
          3.257130210333456,
          4.16124512989165,
          5.363888560624721,
          5.108006979617684,
          4.491048056522942,
          5.01986999060415,
          3.436247317038381,
          5.247320284832626,
          3.4476198317498055,
          3.9394810930188857,
          4.348891622630143,
          2.995562371970708,
          4.45693051238867,
          4.960164288369175,
          4.7270277367849864,
          3.6381094531661544,
          1.9094872170297323,
          3.6921288980454174
         ]
        },
        {
         "mode": "lines",
         "name": "2019",
         "type": "scatter",
         "x": [
          1.587,
          1.573,
          1.582,
          1.624,
          1.522,
          1.526,
          1.487,
          1.557,
          1.505,
          1.475,
          1.548,
          1.441,
          1.455,
          1.479,
          1.538,
          1.553,
          1.454,
          1.504,
          1.457,
          1.487,
          1.31,
          1.52,
          1.323,
          1.472,
          1.43,
          1.369,
          1.269,
          1.357,
          1.313,
          1.484,
          1.442,
          1.439,
          1.465,
          1.463,
          1.242,
          1.488,
          1.368,
          1.504,
          1.477,
          1.438,
          1.529,
          1.515,
          1.41,
          1.523,
          1.325,
          1.232,
          1.432,
          1.232,
          1.223,
          1.312,
          1.319,
          1.409,
          1.465,
          1.219,
          1.528,
          1.478,
          1.402,
          1.419,
          1.236,
          1.508,
          1.209,
          1.41,
          1.475,
          1.252,
          1.274,
          1.431,
          0.886,
          1.452,
          1.293,
          1.383,
          1.328,
          1.303,
          1.361,
          1.098,
          1.266,
          1.277,
          1.401,
          1.212,
          1.36,
          1.171,
          1.465,
          1.156,
          1.531,
          1.294,
          1.111,
          1.438,
          1.538,
          1.16,
          0.782,
          1.147,
          1.224,
          1.203,
          1.125,
          1.346,
          1.321,
          0.91,
          1.513,
          0.868,
          0.808,
          1.226,
          1.225,
          0.437,
          0.799,
          1.183,
          1.03,
          1.351,
          0.848,
          1.427,
          1.122,
          1.247,
          1.134,
          0.698,
          1.313,
          0.774,
          1.056,
          1.055,
          0.842,
          0.829,
          0.666,
          0.939,
          0.983,
          1.167,
          0.986,
          1,
          0.928,
          0.98,
          1.125,
          1.105,
          0.841,
          1.265,
          1.181,
          0.766,
          1.39,
          1.033,
          1.149,
          1.069,
          1.039,
          1.058,
          0.572,
          0.765,
          0.922,
          0.757,
          0.916,
          1.169,
          0.447,
          1.114,
          0.688,
          1.145,
          0.378,
          0.56,
          1.163,
          0.711,
          0.885,
          0.517,
          0,
          0.575
         ],
         "y": [
          6.500426683560711,
          6.459952864944568,
          6.48597174834066,
          6.60739320418909,
          6.312512525700046,
          6.3240764738760875,
          6.211327979159688,
          6.413697072240404,
          6.263365745951872,
          6.176636134631566,
          6.387678188844312,
          6.078342575135218,
          6.118816393751361,
          6.188200082807607,
          6.35876831840421,
          6.402133124064363,
          6.11592540670735,
          6.260474758907862,
          6.124598367839382,
          6.211327979159688,
          5.6996232723698785,
          6.306730551612025,
          5.737206103942011,
          6.167963173499535,
          6.046541717651105,
          5.8701915079664815,
          5.581092803565459,
          5.835499663438359,
          5.708296233501909,
          6.202655018027658,
          6.081233562179228,
          6.072560601047198,
          6.147726264191464,
          6.141944290103443,
          5.503036153377183,
          6.214218966203698,
          5.867300520922472,
          6.260474758907862,
          6.182418108719586,
          6.069669614003187,
          6.332749435008117,
          6.292275616391974,
          5.988721976770901,
          6.315403512744056,
          5.742988078030032,
          5.474126282937081,
          6.052323691739126,
          5.474126282937081,
          5.448107399540989,
          5.705405246457899,
          5.7256421557659705,
          5.985830989726891,
          6.147726264191464,
          5.436543451364948,
          6.329858447964107,
          6.185309095763596,
          5.965594080418819,
          6.014740860166993,
          5.4856902311131215,
          6.272038707083903,
          5.407633580924846,
          5.988721976770901,
          6.176636134631566,
          5.5319460238172855,
          5.59554773878551,
          6.049432704695116,
          4.473844765709543,
          6.1101434326193305,
          5.650476492621705,
          5.910665326582625,
          5.751661039162062,
          5.679386363061806,
          5.8470636116143995,
          5.086734019039711,
          5.572419842433429,
          5.604220699917541,
          5.962703093374809,
          5.416306542056876,
          5.8441726245703896,
          5.297776073252457,
          6.147726264191464,
          5.254411267592303,
          6.338531409096138,
          5.6533674796657145,
          5.1243168506118435,
          6.069669614003187,
          6.35876831840421,
          5.265975215768345,
          4.173182113132479,
          5.228392384196211,
          5.450998386584999,
          5.390287658660784,
          5.164790669227987,
          5.803698805954247,
          5.73142412985399,
          4.543228454765788,
          6.286493642303954,
          4.421806998917358,
          4.248347776276745,
          5.45678036067302,
          5.45388937362901,
          3.1757915829489507,
          4.222328892880653,
          5.33246791778058,
          4.890146900047015,
          5.818153741174298,
          4.363987258037153,
          6.0378687565190745,
          5.156117708095956,
          5.517491088597234,
          5.190809552624078,
          3.9303392014356193,
          5.708296233501909,
          4.150054216780397,
          4.965312563191281,
          4.96242157614727,
          4.346641335773092,
          4.3090585042009595,
          3.8378276160272926,
          4.627067079042084,
          4.754270508978534,
          5.286212125076416,
          4.762943470110565,
          4.803417288726708,
          4.595266221557972,
          4.745597547846503,
          5.164790669227987,
          5.106970928347782,
          4.343750348729082,
          5.569528855389418,
          5.326685943692559,
          4.126926320428315,
          5.930902235890696,
          4.898819861179045,
          5.234174358284232,
          5.002895394763414,
          4.916165783443107,
          4.971094537279302,
          3.566074833890331,
          4.124035333384305,
          4.57792029929391,
          4.100907437032223,
          4.560574377029849,
          5.2919940991644365,
          3.204701453389053,
          5.132989811743874,
          3.9014293309955175,
          5.222610410108191,
          3.0052233473523473,
          3.531382989362209,
          5.274648176900375,
          3.9679220330077527,
          4.470953778665532,
          3.407070546469769,
          1.9124302447164816,
          3.574747795022362
         ]
        }
       ],
       "layout": {
        "height": 500,
        "template": {
         "data": {
          "bar": [
           {
            "error_x": {
             "color": "#2a3f5f"
            },
            "error_y": {
             "color": "#2a3f5f"
            },
            "marker": {
             "line": {
              "color": "#E5ECF6",
              "width": 0.5
             },
             "pattern": {
              "fillmode": "overlay",
              "size": 10,
              "solidity": 0.2
             }
            },
            "type": "bar"
           }
          ],
          "barpolar": [
           {
            "marker": {
             "line": {
              "color": "#E5ECF6",
              "width": 0.5
             },
             "pattern": {
              "fillmode": "overlay",
              "size": 10,
              "solidity": 0.2
             }
            },
            "type": "barpolar"
           }
          ],
          "carpet": [
           {
            "aaxis": {
             "endlinecolor": "#2a3f5f",
             "gridcolor": "white",
             "linecolor": "white",
             "minorgridcolor": "white",
             "startlinecolor": "#2a3f5f"
            },
            "baxis": {
             "endlinecolor": "#2a3f5f",
             "gridcolor": "white",
             "linecolor": "white",
             "minorgridcolor": "white",
             "startlinecolor": "#2a3f5f"
            },
            "type": "carpet"
           }
          ],
          "choropleth": [
           {
            "colorbar": {
             "outlinewidth": 0,
             "ticks": ""
            },
            "type": "choropleth"
           }
          ],
          "contour": [
           {
            "colorbar": {
             "outlinewidth": 0,
             "ticks": ""
            },
            "colorscale": [
             [
              0,
              "#0d0887"
             ],
             [
              0.1111111111111111,
              "#46039f"
             ],
             [
              0.2222222222222222,
              "#7201a8"
             ],
             [
              0.3333333333333333,
              "#9c179e"
             ],
             [
              0.4444444444444444,
              "#bd3786"
             ],
             [
              0.5555555555555556,
              "#d8576b"
             ],
             [
              0.6666666666666666,
              "#ed7953"
             ],
             [
              0.7777777777777778,
              "#fb9f3a"
             ],
             [
              0.8888888888888888,
              "#fdca26"
             ],
             [
              1,
              "#f0f921"
             ]
            ],
            "type": "contour"
           }
          ],
          "contourcarpet": [
           {
            "colorbar": {
             "outlinewidth": 0,
             "ticks": ""
            },
            "type": "contourcarpet"
           }
          ],
          "heatmap": [
           {
            "colorbar": {
             "outlinewidth": 0,
             "ticks": ""
            },
            "colorscale": [
             [
              0,
              "#0d0887"
             ],
             [
              0.1111111111111111,
              "#46039f"
             ],
             [
              0.2222222222222222,
              "#7201a8"
             ],
             [
              0.3333333333333333,
              "#9c179e"
             ],
             [
              0.4444444444444444,
              "#bd3786"
             ],
             [
              0.5555555555555556,
              "#d8576b"
             ],
             [
              0.6666666666666666,
              "#ed7953"
             ],
             [
              0.7777777777777778,
              "#fb9f3a"
             ],
             [
              0.8888888888888888,
              "#fdca26"
             ],
             [
              1,
              "#f0f921"
             ]
            ],
            "type": "heatmap"
           }
          ],
          "heatmapgl": [
           {
            "colorbar": {
             "outlinewidth": 0,
             "ticks": ""
            },
            "colorscale": [
             [
              0,
              "#0d0887"
             ],
             [
              0.1111111111111111,
              "#46039f"
             ],
             [
              0.2222222222222222,
              "#7201a8"
             ],
             [
              0.3333333333333333,
              "#9c179e"
             ],
             [
              0.4444444444444444,
              "#bd3786"
             ],
             [
              0.5555555555555556,
              "#d8576b"
             ],
             [
              0.6666666666666666,
              "#ed7953"
             ],
             [
              0.7777777777777778,
              "#fb9f3a"
             ],
             [
              0.8888888888888888,
              "#fdca26"
             ],
             [
              1,
              "#f0f921"
             ]
            ],
            "type": "heatmapgl"
           }
          ],
          "histogram": [
           {
            "marker": {
             "pattern": {
              "fillmode": "overlay",
              "size": 10,
              "solidity": 0.2
             }
            },
            "type": "histogram"
           }
          ],
          "histogram2d": [
           {
            "colorbar": {
             "outlinewidth": 0,
             "ticks": ""
            },
            "colorscale": [
             [
              0,
              "#0d0887"
             ],
             [
              0.1111111111111111,
              "#46039f"
             ],
             [
              0.2222222222222222,
              "#7201a8"
             ],
             [
              0.3333333333333333,
              "#9c179e"
             ],
             [
              0.4444444444444444,
              "#bd3786"
             ],
             [
              0.5555555555555556,
              "#d8576b"
             ],
             [
              0.6666666666666666,
              "#ed7953"
             ],
             [
              0.7777777777777778,
              "#fb9f3a"
             ],
             [
              0.8888888888888888,
              "#fdca26"
             ],
             [
              1,
              "#f0f921"
             ]
            ],
            "type": "histogram2d"
           }
          ],
          "histogram2dcontour": [
           {
            "colorbar": {
             "outlinewidth": 0,
             "ticks": ""
            },
            "colorscale": [
             [
              0,
              "#0d0887"
             ],
             [
              0.1111111111111111,
              "#46039f"
             ],
             [
              0.2222222222222222,
              "#7201a8"
             ],
             [
              0.3333333333333333,
              "#9c179e"
             ],
             [
              0.4444444444444444,
              "#bd3786"
             ],
             [
              0.5555555555555556,
              "#d8576b"
             ],
             [
              0.6666666666666666,
              "#ed7953"
             ],
             [
              0.7777777777777778,
              "#fb9f3a"
             ],
             [
              0.8888888888888888,
              "#fdca26"
             ],
             [
              1,
              "#f0f921"
             ]
            ],
            "type": "histogram2dcontour"
           }
          ],
          "mesh3d": [
           {
            "colorbar": {
             "outlinewidth": 0,
             "ticks": ""
            },
            "type": "mesh3d"
           }
          ],
          "parcoords": [
           {
            "line": {
             "colorbar": {
              "outlinewidth": 0,
              "ticks": ""
             }
            },
            "type": "parcoords"
           }
          ],
          "pie": [
           {
            "automargin": true,
            "type": "pie"
           }
          ],
          "scatter": [
           {
            "fillpattern": {
             "fillmode": "overlay",
             "size": 10,
             "solidity": 0.2
            },
            "type": "scatter"
           }
          ],
          "scatter3d": [
           {
            "line": {
             "colorbar": {
              "outlinewidth": 0,
              "ticks": ""
             }
            },
            "marker": {
             "colorbar": {
              "outlinewidth": 0,
              "ticks": ""
             }
            },
            "type": "scatter3d"
           }
          ],
          "scattercarpet": [
           {
            "marker": {
             "colorbar": {
              "outlinewidth": 0,
              "ticks": ""
             }
            },
            "type": "scattercarpet"
           }
          ],
          "scattergeo": [
           {
            "marker": {
             "colorbar": {
              "outlinewidth": 0,
              "ticks": ""
             }
            },
            "type": "scattergeo"
           }
          ],
          "scattergl": [
           {
            "marker": {
             "colorbar": {
              "outlinewidth": 0,
              "ticks": ""
             }
            },
            "type": "scattergl"
           }
          ],
          "scattermapbox": [
           {
            "marker": {
             "colorbar": {
              "outlinewidth": 0,
              "ticks": ""
             }
            },
            "type": "scattermapbox"
           }
          ],
          "scatterpolar": [
           {
            "marker": {
             "colorbar": {
              "outlinewidth": 0,
              "ticks": ""
             }
            },
            "type": "scatterpolar"
           }
          ],
          "scatterpolargl": [
           {
            "marker": {
             "colorbar": {
              "outlinewidth": 0,
              "ticks": ""
             }
            },
            "type": "scatterpolargl"
           }
          ],
          "scatterternary": [
           {
            "marker": {
             "colorbar": {
              "outlinewidth": 0,
              "ticks": ""
             }
            },
            "type": "scatterternary"
           }
          ],
          "surface": [
           {
            "colorbar": {
             "outlinewidth": 0,
             "ticks": ""
            },
            "colorscale": [
             [
              0,
              "#0d0887"
             ],
             [
              0.1111111111111111,
              "#46039f"
             ],
             [
              0.2222222222222222,
              "#7201a8"
             ],
             [
              0.3333333333333333,
              "#9c179e"
             ],
             [
              0.4444444444444444,
              "#bd3786"
             ],
             [
              0.5555555555555556,
              "#d8576b"
             ],
             [
              0.6666666666666666,
              "#ed7953"
             ],
             [
              0.7777777777777778,
              "#fb9f3a"
             ],
             [
              0.8888888888888888,
              "#fdca26"
             ],
             [
              1,
              "#f0f921"
             ]
            ],
            "type": "surface"
           }
          ],
          "table": [
           {
            "cells": {
             "fill": {
              "color": "#EBF0F8"
             },
             "line": {
              "color": "white"
             }
            },
            "header": {
             "fill": {
              "color": "#C8D4E3"
             },
             "line": {
              "color": "white"
             }
            },
            "type": "table"
           }
          ]
         },
         "layout": {
          "annotationdefaults": {
           "arrowcolor": "#2a3f5f",
           "arrowhead": 0,
           "arrowwidth": 1
          },
          "autotypenumbers": "strict",
          "coloraxis": {
           "colorbar": {
            "outlinewidth": 0,
            "ticks": ""
           }
          },
          "colorscale": {
           "diverging": [
            [
             0,
             "#8e0152"
            ],
            [
             0.1,
             "#c51b7d"
            ],
            [
             0.2,
             "#de77ae"
            ],
            [
             0.3,
             "#f1b6da"
            ],
            [
             0.4,
             "#fde0ef"
            ],
            [
             0.5,
             "#f7f7f7"
            ],
            [
             0.6,
             "#e6f5d0"
            ],
            [
             0.7,
             "#b8e186"
            ],
            [
             0.8,
             "#7fbc41"
            ],
            [
             0.9,
             "#4d9221"
            ],
            [
             1,
             "#276419"
            ]
           ],
           "sequential": [
            [
             0,
             "#0d0887"
            ],
            [
             0.1111111111111111,
             "#46039f"
            ],
            [
             0.2222222222222222,
             "#7201a8"
            ],
            [
             0.3333333333333333,
             "#9c179e"
            ],
            [
             0.4444444444444444,
             "#bd3786"
            ],
            [
             0.5555555555555556,
             "#d8576b"
            ],
            [
             0.6666666666666666,
             "#ed7953"
            ],
            [
             0.7777777777777778,
             "#fb9f3a"
            ],
            [
             0.8888888888888888,
             "#fdca26"
            ],
            [
             1,
             "#f0f921"
            ]
           ],
           "sequentialminus": [
            [
             0,
             "#0d0887"
            ],
            [
             0.1111111111111111,
             "#46039f"
            ],
            [
             0.2222222222222222,
             "#7201a8"
            ],
            [
             0.3333333333333333,
             "#9c179e"
            ],
            [
             0.4444444444444444,
             "#bd3786"
            ],
            [
             0.5555555555555556,
             "#d8576b"
            ],
            [
             0.6666666666666666,
             "#ed7953"
            ],
            [
             0.7777777777777778,
             "#fb9f3a"
            ],
            [
             0.8888888888888888,
             "#fdca26"
            ],
            [
             1,
             "#f0f921"
            ]
           ]
          },
          "colorway": [
           "#636efa",
           "#EF553B",
           "#00cc96",
           "#ab63fa",
           "#FFA15A",
           "#19d3f3",
           "#FF6692",
           "#B6E880",
           "#FF97FF",
           "#FECB52"
          ],
          "font": {
           "color": "#2a3f5f"
          },
          "geo": {
           "bgcolor": "white",
           "lakecolor": "white",
           "landcolor": "#E5ECF6",
           "showlakes": true,
           "showland": true,
           "subunitcolor": "white"
          },
          "hoverlabel": {
           "align": "left"
          },
          "hovermode": "closest",
          "mapbox": {
           "style": "light"
          },
          "paper_bgcolor": "white",
          "plot_bgcolor": "#E5ECF6",
          "polar": {
           "angularaxis": {
            "gridcolor": "white",
            "linecolor": "white",
            "ticks": ""
           },
           "bgcolor": "#E5ECF6",
           "radialaxis": {
            "gridcolor": "white",
            "linecolor": "white",
            "ticks": ""
           }
          },
          "scene": {
           "xaxis": {
            "backgroundcolor": "#E5ECF6",
            "gridcolor": "white",
            "gridwidth": 2,
            "linecolor": "white",
            "showbackground": true,
            "ticks": "",
            "zerolinecolor": "white"
           },
           "yaxis": {
            "backgroundcolor": "#E5ECF6",
            "gridcolor": "white",
            "gridwidth": 2,
            "linecolor": "white",
            "showbackground": true,
            "ticks": "",
            "zerolinecolor": "white"
           },
           "zaxis": {
            "backgroundcolor": "#E5ECF6",
            "gridcolor": "white",
            "gridwidth": 2,
            "linecolor": "white",
            "showbackground": true,
            "ticks": "",
            "zerolinecolor": "white"
           }
          },
          "shapedefaults": {
           "line": {
            "color": "#2a3f5f"
           }
          },
          "ternary": {
           "aaxis": {
            "gridcolor": "white",
            "linecolor": "white",
            "ticks": ""
           },
           "baxis": {
            "gridcolor": "white",
            "linecolor": "white",
            "ticks": ""
           },
           "bgcolor": "#E5ECF6",
           "caxis": {
            "gridcolor": "white",
            "linecolor": "white",
            "ticks": ""
           }
          },
          "title": {
           "x": 0.05
          },
          "xaxis": {
           "automargin": true,
           "gridcolor": "white",
           "linecolor": "white",
           "ticks": "",
           "title": {
            "standoff": 15
           },
           "zerolinecolor": "white",
           "zerolinewidth": 2
          },
          "yaxis": {
           "automargin": true,
           "gridcolor": "white",
           "linecolor": "white",
           "ticks": "",
           "title": {
            "standoff": 15
           },
           "zerolinecolor": "white",
           "zerolinewidth": 2
          }
         }
        },
        "title": {
         "text": "Score vs Social support (Trendline)"
        },
        "width": 1000
       }
      }
     },
     "metadata": {},
     "output_type": "display_data"
    },
    {
     "name": "stdout",
     "output_type": "stream",
     "text": [
      "Score VS Healthy life expectancy\n",
      "Correlation:  0.7798831492425831\n"
     ]
    },
    {
     "data": {
      "application/vnd.plotly.v1+json": {
       "config": {
        "plotlyServerURL": "https://plot.ly"
       },
       "data": [
        {
         "mode": "markers",
         "name": "2015",
         "type": "scatter",
         "x": [
          0.94143,
          0.94784,
          0.87464,
          0.88521,
          0.90563,
          0.88911,
          0.89284,
          0.91087,
          0.90837,
          0.93156,
          0.91387,
          0.86027,
          0.89042,
          0.81444,
          0.86179,
          0.69702,
          0.91894,
          0.89533,
          0.89667,
          0.80925,
          0.90943,
          0.76276,
          0.72052,
          1.02525,
          0.79661,
          0.89186,
          0.85857,
          0.79733,
          0.94579,
          0.78723,
          0.84483,
          0.8116,
          0.69077,
          0.7385,
          0.72025,
          0.95562,
          0.88721,
          0.8753,
          0.72492,
          0.6082,
          0.61483,
          0.67737,
          0.64425,
          0.59772,
          0.78902,
          0.99111,
          0.96538,
          0.79075,
          0.74716,
          0.95446,
          0.5392,
          0.61826,
          0.66098,
          0.64368,
          0.87337,
          0.73128,
          0.74314,
          0.73017,
          0.73608,
          0.77903,
          0.72394,
          0.78805,
          0.7038,
          0.66926,
          0.68741,
          0.92356,
          0.92356,
          0.61766,
          0.63132,
          0.53886,
          0.7095,
          1.01328,
          0.77361,
          0.63793,
          0.74676,
          0.73172,
          0.65088,
          0.16007,
          0.57407,
          0.64045,
          0.51466,
          0.69639,
          0.72521,
          0.81658,
          0.29924,
          0.7689,
          0.74836,
          0.87519,
          0.72437,
          0.58114,
          0.43873,
          0.60954,
          0.73545,
          0.09131,
          0.81325,
          0.79081,
          0.07612,
          0.66825,
          0.54909,
          0.60268,
          0.07566,
          0.88213,
          0.83947,
          0.75905,
          0.6951,
          0.57379,
          0.73793,
          0.66015,
          0.60164,
          0.69805,
          0.6739,
          0.60237,
          0.27688,
          0.40132,
          0.33475,
          0.34201,
          0.51529,
          0.36878,
          0.38847,
          0.09806,
          0.56874,
          0.44055,
          0,
          0.35874,
          0.41435,
          0.36291,
          0.7299,
          0.04776,
          0.48246,
          0.72926,
          0.22562,
          0.70806,
          0.23402,
          0.76649,
          0.61712,
          0.40064,
          0.16683,
          0.20583,
          0.31051,
          0.36315,
          0.33861,
          0.4354,
          0.43372,
          0.29707,
          0.61114,
          0.38215,
          0.46721,
          0.06699,
          0.1501,
          0.24009,
          0.15185,
          0.27125,
          0.30335,
          0.42864,
          0.3191,
          0.72193,
          0.22396,
          0.28443
         ],
         "y": [
          7.587,
          7.561,
          7.527,
          7.522,
          7.427,
          7.406,
          7.378,
          7.364,
          7.286,
          7.284,
          7.278,
          7.226,
          7.2,
          7.187,
          7.119,
          6.983,
          6.946,
          6.94,
          6.937,
          6.901,
          6.867,
          6.853,
          6.81,
          6.798,
          6.786,
          6.75,
          6.67,
          6.611,
          6.575,
          6.574,
          6.505,
          6.485,
          6.477,
          6.455,
          6.411,
          6.329,
          6.302,
          6.298,
          6.295,
          6.269,
          6.168,
          6.13,
          6.123,
          6.003,
          5.995,
          5.987,
          5.984,
          5.975,
          5.96,
          5.948,
          5.89,
          5.889,
          5.878,
          5.855,
          5.848,
          5.833,
          5.828,
          5.824,
          5.813,
          5.791,
          5.77,
          5.759,
          5.754,
          5.716,
          5.709,
          5.695,
          5.689,
          5.605,
          5.589,
          5.548,
          5.477,
          5.474,
          5.429,
          5.399,
          5.36,
          5.332,
          5.286,
          5.268,
          5.253,
          5.212,
          5.194,
          5.192,
          5.192,
          5.14,
          5.129,
          5.124,
          5.123,
          5.102,
          5.098,
          5.073,
          5.057,
          5.013,
          5.007,
          4.971,
          4.959,
          4.949,
          4.898,
          4.885,
          4.876,
          4.874,
          4.867,
          4.857,
          4.839,
          4.8,
          4.788,
          4.786,
          4.739,
          4.715,
          4.694,
          4.686,
          4.681,
          4.677,
          4.642,
          4.633,
          4.61,
          4.571,
          4.565,
          4.55,
          4.518,
          4.517,
          4.514,
          4.512,
          4.507,
          4.436,
          4.419,
          4.369,
          4.35,
          4.332,
          4.307,
          4.297,
          4.292,
          4.271,
          4.252,
          4.218,
          4.194,
          4.077,
          4.033,
          3.995,
          3.989,
          3.956,
          3.931,
          3.904,
          3.896,
          3.845,
          3.819,
          3.781,
          3.681,
          3.678,
          3.667,
          3.656,
          3.655,
          3.587,
          3.575,
          3.465,
          3.34,
          3.006,
          2.905,
          2.839
         ]
        },
        {
         "mode": "markers",
         "name": "2016",
         "type": "scatter",
         "x": [
          0.79504,
          0.86303,
          0.86733,
          0.79579,
          0.81091,
          0.8276,
          0.81231,
          0.83096,
          0.8512,
          0.83121,
          0.84917,
          0.80565,
          0.779,
          0.76146,
          0.77758,
          0.81487,
          0.61415,
          0.81959,
          0.81455,
          0.84542,
          0.71143,
          0.94719,
          0.80991,
          0.81883,
          0.70835,
          0.69711,
          0.76376,
          0.72993,
          0.72183,
          0.80315,
          0.59659,
          0.83795,
          0.64915,
          0.59267,
          0.79565,
          0.71723,
          0.87896,
          0.61804,
          0.54039,
          0.50933,
          0.63569,
          0.65696,
          0.52608,
          0.61904,
          0.70367,
          0.596,
          0.62366,
          0.65213,
          0.50163,
          0.85102,
          0.68613,
          0.45569,
          0.91491,
          0.57386,
          0.52309,
          0.58991,
          0.69058,
          0.88645,
          0.4697,
          0.64674,
          0.63104,
          0.84142,
          0.79151,
          0.62994,
          0.44006,
          0.66189,
          0.52304,
          0.63952,
          0.8488,
          0.58295,
          0.67602,
          0.68098,
          0.59469,
          0.70524,
          0.95277,
          0.11466,
          0.54,
          0.64718,
          0.49374,
          0.60712,
          0.54504,
          0.47036,
          0.73561,
          0.49759,
          0.55449,
          0.6458,
          0.70766,
          0.63533,
          0.57669,
          0.59471,
          0.67608,
          0.40306,
          0.76171,
          0.79363,
          0.64738,
          0.66157,
          0.33108,
          0.59577,
          0.80029,
          0.53119,
          0.55469,
          0.38291,
          0.05108,
          0.58383,
          0.64232,
          0.23573,
          0.50073,
          0.56844,
          0.73007,
          0.52989,
          0,
          0.51076,
          0.34745,
          0.12698,
          0.34578,
          0.18611,
          0.62007,
          0.45091,
          0.3988,
          0.52116,
          0.64083,
          0.30147,
          0.58628,
          0.29681,
          0.188,
          0.64035,
          0.28212,
          0.40457,
          0.67806,
          0.28639,
          0.1595,
          0.29364,
          0.29759,
          0.3494,
          0.16347,
          0.27494,
          0.34752,
          0.29981,
          0.04476,
          0.42494,
          0.04991,
          0.26162,
          0.15781,
          0.03824,
          0.21297,
          0.19625,
          0.31048,
          0.37109,
          0.357,
          0.23165,
          0.18829,
          0.31865,
          0.21028,
          0.17344,
          0.24811,
          0.62994,
          0.15747
         ],
         "y": [
          7.526,
          7.509,
          7.501,
          7.498,
          7.413,
          7.404,
          7.339,
          7.334,
          7.313,
          7.291,
          7.267,
          7.119,
          7.104,
          7.087,
          7.039,
          6.994,
          6.952,
          6.929,
          6.907,
          6.871,
          6.778,
          6.739,
          6.725,
          6.705,
          6.701,
          6.65,
          6.596,
          6.573,
          6.545,
          6.488,
          6.481,
          6.478,
          6.474,
          6.379,
          6.379,
          6.375,
          6.361,
          6.355,
          6.324,
          6.269,
          6.239,
          6.218,
          6.168,
          6.084,
          6.078,
          6.068,
          6.005,
          5.992,
          5.987,
          5.977,
          5.976,
          5.956,
          5.921,
          5.919,
          5.897,
          5.856,
          5.835,
          5.835,
          5.822,
          5.813,
          5.802,
          5.771,
          5.768,
          5.743,
          5.658,
          5.648,
          5.615,
          5.56,
          5.546,
          5.538,
          5.528,
          5.517,
          5.51,
          5.488,
          5.458,
          5.44,
          5.401,
          5.389,
          5.314,
          5.303,
          5.291,
          5.279,
          5.245,
          5.196,
          5.185,
          5.177,
          5.163,
          5.161,
          5.155,
          5.151,
          5.145,
          5.132,
          5.129,
          5.123,
          5.121,
          5.061,
          5.057,
          5.045,
          5.033,
          4.996,
          4.907,
          4.876,
          4.875,
          4.871,
          4.813,
          4.795,
          4.793,
          4.754,
          4.655,
          4.643,
          4.635,
          4.575,
          4.574,
          4.513,
          4.508,
          4.459,
          4.415,
          4.404,
          4.395,
          4.362,
          4.36,
          4.356,
          4.324,
          4.276,
          4.272,
          4.252,
          4.236,
          4.219,
          4.217,
          4.201,
          4.193,
          4.156,
          4.139,
          4.121,
          4.073,
          4.028,
          3.974,
          3.956,
          3.916,
          3.907,
          3.866,
          3.856,
          3.832,
          3.763,
          3.739,
          3.739,
          3.724,
          3.695,
          3.666,
          3.622,
          3.607,
          3.515,
          3.484,
          3.36,
          3.303,
          3.069,
          2.905
         ]
        },
        {
         "mode": "markers",
         "name": "2017",
         "type": "scatter",
         "x": [
          0.796666502952576,
          0.792565524578094,
          0.833552122116089,
          0.858131289482117,
          0.80915766954422,
          0.810696125030518,
          0.83455765247345,
          0.816759705543518,
          0.830875158309937,
          0.84388679265976,
          0.83840399980545,
          0.759509265422821,
          0.815328419208527,
          0.77428662776947,
          0.80978262424469,
          0.798950731754303,
          0.818091869354248,
          0.845089495182037,
          0.805335938930511,
          0.819479703903198,
          0.726798236370087,
          0.616552352905273,
          0.754444003105164,
          0.695137083530426,
          0.709978997707367,
          0.949492394924164,
          0.821944236755371,
          0.719216823577881,
          0.540239989757538,
          0.706156134605408,
          0.844465851783752,
          0.647239029407501,
          0.793984234333038,
          0.888960599899292,
          0.710098087787628,
          0.595027923583984,
          0.590148329734802,
          0.519983291625977,
          0.632105708122253,
          0.712732911109924,
          0.653133034706116,
          0.618784427642822,
          0.653095960617065,
          0.685636222362518,
          0.596018552780151,
          0.699475347995758,
          0.498272627592087,
          0.853144347667694,
          0.547349333763123,
          0.450191766023636,
          0.913475871086121,
          0.62894994020462,
          0.617584645748138,
          0.638566970825195,
          0.900214076042175,
          0.589465200901031,
          0.685158312320709,
          0.473630249500275,
          0.437726080417633,
          0.606041550636292,
          0.834647238254547,
          0.790828227996826,
          0.630166113376617,
          0.638007462024689,
          0.84471470117569,
          0.695168316364288,
          0.637714266777039,
          0.520169019699097,
          0.637605607509613,
          0.579250693321228,
          0.943062424659729,
          0.468009054660797,
          0.65078467130661,
          0.604590058326721,
          0.687763452529907,
          0.641022384166718,
          0.701288521289825,
          0.541452050209045,
          0.741415500640869,
          0.402047783136368,
          0.492345720529556,
          0.617144227027893,
          0.667464673519135,
          0.59771066904068,
          0.540775775909424,
          0.574873745441437,
          0.810198903083801,
          0.735081076622009,
          0.795843541622162,
          0.705186307430267,
          0.582569479942322,
          0.644948184490204,
          0.113989137113094,
          0.652168989181519,
          0.0569157302379608,
          0.529235124588013,
          0.495879292488098,
          0.553457796573639,
          0.504130780696869,
          0.557783484458923,
          0.187080070376396,
          0.613212049007416,
          0.565666973590851,
          0.520187258720398,
          0.708217680454254,
          0.0055647538974881,
          0.132892116904259,
          0.639333188533783,
          0.731159746646881,
          0.533241033554077,
          0.33861181139946,
          0.309988349676132,
          0.106654435396194,
          0.397522568702698,
          0.409362852573395,
          0.257835894823074,
          0.501180469989777,
          0.356578588485718,
          0.353409707546234,
          0.625130832195282,
          0.637524425983429,
          0.455427616834641,
          0.285349279642105,
          0.28995743393898,
          0.649546980857849,
          0.191407024860382,
          0.169365674257278,
          0.0486421696841717,
          0.429783403873444,
          0.290920823812485,
          0.295637726783752,
          0.575903952121735,
          0.217632606625557,
          0.215844258666039,
          0.26850500702858,
          0.315089583396912,
          0.0411347150802612,
          0.196763753890991,
          0,
          0.0498686656355858,
          0.180746778845787,
          0.341755509376526,
          0.209930211305618,
          0.375223308801651,
          0.277321130037308,
          0.310080915689468,
          0.163486003875732,
          0.229918196797371,
          0.194129139184952,
          0.247105568647385,
          0.326424807310104,
          0.50053334236145,
          0.364509284496307,
          0.151610791683197,
          0.0187726859003305
         ],
         "y": [
          7.53700017929077,
          7.52199983596802,
          7.50400018692017,
          7.49399995803833,
          7.4689998626709,
          7.3769998550415,
          7.31599998474121,
          7.31400012969971,
          7.28399991989136,
          7.28399991989136,
          7.21299982070923,
          7.0789999961853,
          7.00600004196167,
          6.99300003051758,
          6.97700023651123,
          6.95100021362305,
          6.89099979400635,
          6.86299991607666,
          6.71400022506714,
          6.65199995040894,
          6.64799976348877,
          6.63500022888184,
          6.60900020599365,
          6.59899997711182,
          6.57800006866455,
          6.57200002670288,
          6.52699995040894,
          6.4539999961853,
          6.4539999961853,
          6.4520001411438,
          6.44199991226196,
          6.42399978637695,
          6.42199993133545,
          6.40299987792969,
          6.375,
          6.35699987411499,
          6.3439998626709,
          6.16800022125244,
          6.10500001907349,
          6.09800004959106,
          6.08699989318848,
          6.08400011062622,
          6.07100009918213,
          6.00799989700317,
          6.00299978256226,
          5.97300004959106,
          5.97100019454956,
          5.96400022506714,
          5.96299982070923,
          5.95599985122681,
          5.92000007629395,
          5.90199995040894,
          5.87200021743774,
          5.84999990463257,
          5.83799982070923,
          5.83799982070923,
          5.82499980926514,
          5.82299995422363,
          5.82200002670288,
          5.81899976730347,
          5.80999994277954,
          5.75799989700317,
          5.71500015258789,
          5.62900018692017,
          5.62099981307983,
          5.61100006103516,
          5.56899976730347,
          5.52500009536743,
          5.5,
          5.49300003051758,
          5.47200012207031,
          5.42999982833862,
          5.39499998092651,
          5.33599996566772,
          5.32399988174438,
          5.31099987030029,
          5.29300022125244,
          5.27899980545044,
          5.27299976348877,
          5.26900005340576,
          5.26200008392334,
          5.25,
          5.23699998855591,
          5.2350001335144,
          5.23400020599365,
          5.23000001907349,
          5.22700023651123,
          5.22499990463257,
          5.19500017166138,
          5.18200016021729,
          5.18100023269653,
          5.17500019073486,
          5.15100002288818,
          5.07399988174438,
          5.07399988174438,
          5.04099988937378,
          5.01100015640259,
          5.00400018692017,
          4.96199989318848,
          4.95499992370605,
          4.8289999961853,
          4.80499982833862,
          4.77500009536743,
          4.7350001335144,
          4.71400022506714,
          4.70900011062622,
          4.69500017166138,
          4.69199991226196,
          4.64400005340576,
          4.60799980163574,
          4.57399988174438,
          4.55299997329712,
          4.55000019073486,
          4.54500007629395,
          4.53499984741211,
          4.51399993896484,
          4.49700021743774,
          4.46500015258789,
          4.46000003814697,
          4.44000005722046,
          4.37599992752075,
          4.31500005722046,
          4.29199981689453,
          4.29099988937378,
          4.28599977493286,
          4.28000020980835,
          4.19000005722046,
          4.17999982833862,
          4.16800022125244,
          4.13899993896484,
          4.11999988555908,
          4.09600019454956,
          4.08099985122681,
          4.03200006484985,
          4.02799987792969,
          3.97000002861023,
          3.93600010871887,
          3.875,
          3.80800008773804,
          3.79500007629395,
          3.79399991035461,
          3.76600003242493,
          3.65700006484985,
          3.64400005340576,
          3.6029999256134,
          3.59299993515015,
          3.59100008010864,
          3.53299999237061,
          3.50699996948242,
          3.49499988555908,
          3.47099995613098,
          3.46199989318848,
          3.34899997711182,
          2.90499997138977,
          2.69300007820129
         ]
        },
        {
         "mode": "markers",
         "name": "2018",
         "type": "scatter",
         "x": [
          0.874,
          0.861,
          0.868,
          0.914,
          0.927,
          0.878,
          0.896,
          0.876,
          0.913,
          0.91,
          0.888,
          0.891,
          0.817,
          0.876,
          0.861,
          0.894,
          0.896,
          0.819,
          0.883,
          0.854,
          0.884,
          0.908,
          0.761,
          0.808,
          0.857,
          0.759,
          0.675,
          0.744,
          0.608,
          0.771,
          0.748,
          0.633,
          1.008,
          0.669,
          0.965,
          0.635,
          0.564,
          0.776,
          0.639,
          0.7,
          0.781,
          0.698,
          0.605,
          0.675,
          0.707,
          0.946,
          0.736,
          0.474,
          0.716,
          0.856,
          0.726,
          0.671,
          0.988,
          0.684,
          0.693,
          0.955,
          0.909,
          0.599,
          0.631,
          0.909,
          0.508,
          0.737,
          0.615,
          0.674,
          0.578,
          0.62,
          0.517,
          0.732,
          0.553,
          0.513,
          0.622,
          0.7,
          0.686,
          0.424,
          1.03,
          0.884,
          0.685,
          0.879,
          0.785,
          0.729,
          0.737,
          0.614,
          0.687,
          0.669,
          0.799,
          0.603,
          0.598,
          0.691,
          0.645,
          0.048,
          0.594,
          0.758,
          0.575,
          0.702,
          0.522,
          0.527,
          0.115,
          0.182,
          0.712,
          0.539,
          0.657,
          0.404,
          0.602,
          0.33,
          0.691,
          0.08,
          0.337,
          0.433,
          0.441,
          0.69,
          0.79,
          0,
          0.343,
          0.579,
          0.672,
          0.536,
          0.152,
          0.365,
          0.457,
          0.254,
          0.553,
          0.173,
          0.454,
          0.295,
          0.292,
          0.391,
          0.643,
          0.666,
          0.429,
          0.053,
          0.204,
          0.485,
          0.221,
          0.237,
          0.24,
          0.312,
          0.609,
          0.253,
          0.211,
          0.079,
          0.269,
          0.402,
          0.248,
          0.255,
          0.417,
          0.306,
          0.289,
          0.267,
          0.539,
          0.4,
          0.343,
          0.381,
          0.177,
          0.01,
          0.145
         ],
         "y": [
          7.632,
          7.594,
          7.555,
          7.495,
          7.487,
          7.441,
          7.328,
          7.324,
          7.314,
          7.272,
          7.19,
          7.139,
          7.072,
          6.977,
          6.965,
          6.927,
          6.91,
          6.886,
          6.814,
          6.711,
          6.627,
          6.489,
          6.488,
          6.476,
          6.441,
          6.43,
          6.419,
          6.388,
          6.382,
          6.379,
          6.374,
          6.371,
          6.343,
          6.322,
          6.31,
          6.26,
          6.192,
          6.173,
          6.167,
          6.141,
          6.123,
          6.105,
          6.096,
          6.083,
          6.072,
          6,
          5.973,
          5.956,
          5.952,
          5.948,
          5.945,
          5.933,
          5.915,
          5.891,
          5.89,
          5.875,
          5.835,
          5.81,
          5.79,
          5.762,
          5.752,
          5.739,
          5.681,
          5.663,
          5.662,
          5.64,
          5.636,
          5.62,
          5.566,
          5.524,
          5.504,
          5.483,
          5.483,
          5.472,
          5.43,
          5.41,
          5.398,
          5.358,
          5.358,
          5.347,
          5.321,
          5.302,
          5.295,
          5.254,
          5.246,
          5.201,
          5.199,
          5.185,
          5.161,
          5.155,
          5.131,
          5.129,
          5.125,
          5.103,
          5.093,
          5.082,
          4.982,
          4.975,
          4.933,
          4.88,
          4.806,
          4.758,
          4.743,
          4.724,
          4.707,
          4.671,
          4.657,
          4.631,
          4.623,
          4.592,
          4.586,
          4.571,
          4.559,
          4.5,
          4.471,
          4.456,
          4.447,
          4.441,
          4.433,
          4.424,
          4.419,
          4.417,
          4.41,
          4.377,
          4.356,
          4.35,
          4.34,
          4.321,
          4.308,
          4.301,
          4.245,
          4.19,
          4.166,
          4.161,
          4.141,
          4.139,
          4.103,
          3.999,
          3.964,
          3.808,
          3.795,
          3.774,
          3.692,
          3.632,
          3.59,
          3.587,
          3.582,
          3.495,
          3.462,
          3.408,
          3.355,
          3.303,
          3.254,
          3.083,
          2.905
         ]
        },
        {
         "mode": "markers",
         "name": "2019",
         "type": "scatter",
         "x": [
          0.986,
          0.996,
          1.028,
          1.026,
          0.999,
          1.052,
          1.009,
          1.026,
          1.039,
          1.016,
          1.036,
          0.963,
          1.029,
          1.012,
          0.996,
          0.999,
          0.987,
          0.986,
          0.874,
          0.92,
          0.825,
          0.999,
          0.861,
          1.045,
          0.914,
          0.92,
          0.746,
          0.795,
          0.871,
          1.062,
          0.91,
          0.802,
          0.891,
          1.141,
          0.789,
          1.039,
          0.871,
          0.881,
          0.713,
          0.884,
          0.756,
          0.818,
          0.841,
          0.953,
          0.835,
          0.758,
          0.881,
          0.825,
          1.042,
          0.868,
          0.808,
          0.828,
          0.812,
          1.036,
          0.874,
          0.831,
          0.798,
          1.088,
          0.828,
          0.729,
          0.706,
          0.828,
          0.777,
          1.042,
          0.854,
          0.999,
          0.535,
          0.726,
          0.657,
          0.854,
          0.739,
          0.673,
          0.871,
          0.718,
          0.914,
          1.122,
          0.779,
          0.845,
          0.808,
          0.828,
          0.789,
          0.999,
          0.667,
          0.838,
          0.245,
          0.723,
          0.657,
          0.785,
          0.782,
          0.769,
          0.815,
          0.66,
          0.893,
          0.851,
          0.604,
          0.331,
          0.815,
          0.486,
          0.232,
          0.677,
          0.815,
          0.397,
          0.508,
          0.571,
          0.551,
          0.469,
          0.874,
          0.805,
          0.637,
          0.672,
          0.571,
          0.268,
          0.477,
          0.366,
          0.38,
          0.815,
          0.785,
          0.375,
          0.752,
          0.428,
          0.581,
          0.489,
          0.39,
          0.815,
          0.723,
          0.574,
          0.357,
          0.308,
          0.242,
          0.831,
          0.555,
          0.192,
          0.739,
          0.532,
          0,
          0.443,
          0.644,
          0.426,
          0.41,
          0.588,
          0.443,
          0.505,
          0.555,
          0.168,
          0.38,
          0.433,
          0.449,
          0.538,
          0.44,
          0.495,
          0.463,
          0.614,
          0.499,
          0.361,
          0.105,
          0.295
         ],
         "y": [
          7.769,
          7.6,
          7.554,
          7.494,
          7.488,
          7.48,
          7.343,
          7.307,
          7.278,
          7.246,
          7.228,
          7.167,
          7.139,
          7.09,
          7.054,
          7.021,
          6.985,
          6.923,
          6.892,
          6.852,
          6.825,
          6.726,
          6.595,
          6.592,
          6.446,
          6.444,
          6.436,
          6.375,
          6.374,
          6.354,
          6.321,
          6.3,
          6.293,
          6.262,
          6.253,
          6.223,
          6.199,
          6.198,
          6.192,
          6.182,
          6.174,
          6.149,
          6.125,
          6.118,
          6.105,
          6.1,
          6.086,
          6.07,
          6.046,
          6.028,
          6.021,
          6.008,
          5.94,
          5.895,
          5.893,
          5.89,
          5.888,
          5.886,
          5.86,
          5.809,
          5.779,
          5.758,
          5.743,
          5.718,
          5.697,
          5.693,
          5.653,
          5.648,
          5.631,
          5.603,
          5.529,
          5.525,
          5.523,
          5.467,
          5.432,
          5.43,
          5.425,
          5.386,
          5.373,
          5.339,
          5.323,
          5.287,
          5.285,
          5.274,
          5.265,
          5.261,
          5.247,
          5.211,
          5.208,
          5.208,
          5.197,
          5.192,
          5.191,
          5.175,
          5.082,
          5.044,
          5.011,
          4.996,
          4.944,
          4.913,
          4.906,
          4.883,
          4.812,
          4.799,
          4.796,
          4.722,
          4.719,
          4.707,
          4.7,
          4.696,
          4.681,
          4.668,
          4.639,
          4.628,
          4.587,
          4.559,
          4.548,
          4.534,
          4.519,
          4.516,
          4.509,
          4.49,
          4.466,
          4.461,
          4.456,
          4.437,
          4.418,
          4.39,
          4.374,
          4.366,
          4.36,
          4.35,
          4.332,
          4.286,
          4.212,
          4.189,
          4.166,
          4.107,
          4.085,
          4.015,
          3.975,
          3.973,
          3.933,
          3.802,
          3.775,
          3.663,
          3.597,
          3.488,
          3.462,
          3.41,
          3.38,
          3.334,
          3.231,
          3.203,
          3.083,
          2.853
         ]
        }
       ],
       "layout": {
        "height": 500,
        "template": {
         "data": {
          "bar": [
           {
            "error_x": {
             "color": "#2a3f5f"
            },
            "error_y": {
             "color": "#2a3f5f"
            },
            "marker": {
             "line": {
              "color": "#E5ECF6",
              "width": 0.5
             },
             "pattern": {
              "fillmode": "overlay",
              "size": 10,
              "solidity": 0.2
             }
            },
            "type": "bar"
           }
          ],
          "barpolar": [
           {
            "marker": {
             "line": {
              "color": "#E5ECF6",
              "width": 0.5
             },
             "pattern": {
              "fillmode": "overlay",
              "size": 10,
              "solidity": 0.2
             }
            },
            "type": "barpolar"
           }
          ],
          "carpet": [
           {
            "aaxis": {
             "endlinecolor": "#2a3f5f",
             "gridcolor": "white",
             "linecolor": "white",
             "minorgridcolor": "white",
             "startlinecolor": "#2a3f5f"
            },
            "baxis": {
             "endlinecolor": "#2a3f5f",
             "gridcolor": "white",
             "linecolor": "white",
             "minorgridcolor": "white",
             "startlinecolor": "#2a3f5f"
            },
            "type": "carpet"
           }
          ],
          "choropleth": [
           {
            "colorbar": {
             "outlinewidth": 0,
             "ticks": ""
            },
            "type": "choropleth"
           }
          ],
          "contour": [
           {
            "colorbar": {
             "outlinewidth": 0,
             "ticks": ""
            },
            "colorscale": [
             [
              0,
              "#0d0887"
             ],
             [
              0.1111111111111111,
              "#46039f"
             ],
             [
              0.2222222222222222,
              "#7201a8"
             ],
             [
              0.3333333333333333,
              "#9c179e"
             ],
             [
              0.4444444444444444,
              "#bd3786"
             ],
             [
              0.5555555555555556,
              "#d8576b"
             ],
             [
              0.6666666666666666,
              "#ed7953"
             ],
             [
              0.7777777777777778,
              "#fb9f3a"
             ],
             [
              0.8888888888888888,
              "#fdca26"
             ],
             [
              1,
              "#f0f921"
             ]
            ],
            "type": "contour"
           }
          ],
          "contourcarpet": [
           {
            "colorbar": {
             "outlinewidth": 0,
             "ticks": ""
            },
            "type": "contourcarpet"
           }
          ],
          "heatmap": [
           {
            "colorbar": {
             "outlinewidth": 0,
             "ticks": ""
            },
            "colorscale": [
             [
              0,
              "#0d0887"
             ],
             [
              0.1111111111111111,
              "#46039f"
             ],
             [
              0.2222222222222222,
              "#7201a8"
             ],
             [
              0.3333333333333333,
              "#9c179e"
             ],
             [
              0.4444444444444444,
              "#bd3786"
             ],
             [
              0.5555555555555556,
              "#d8576b"
             ],
             [
              0.6666666666666666,
              "#ed7953"
             ],
             [
              0.7777777777777778,
              "#fb9f3a"
             ],
             [
              0.8888888888888888,
              "#fdca26"
             ],
             [
              1,
              "#f0f921"
             ]
            ],
            "type": "heatmap"
           }
          ],
          "heatmapgl": [
           {
            "colorbar": {
             "outlinewidth": 0,
             "ticks": ""
            },
            "colorscale": [
             [
              0,
              "#0d0887"
             ],
             [
              0.1111111111111111,
              "#46039f"
             ],
             [
              0.2222222222222222,
              "#7201a8"
             ],
             [
              0.3333333333333333,
              "#9c179e"
             ],
             [
              0.4444444444444444,
              "#bd3786"
             ],
             [
              0.5555555555555556,
              "#d8576b"
             ],
             [
              0.6666666666666666,
              "#ed7953"
             ],
             [
              0.7777777777777778,
              "#fb9f3a"
             ],
             [
              0.8888888888888888,
              "#fdca26"
             ],
             [
              1,
              "#f0f921"
             ]
            ],
            "type": "heatmapgl"
           }
          ],
          "histogram": [
           {
            "marker": {
             "pattern": {
              "fillmode": "overlay",
              "size": 10,
              "solidity": 0.2
             }
            },
            "type": "histogram"
           }
          ],
          "histogram2d": [
           {
            "colorbar": {
             "outlinewidth": 0,
             "ticks": ""
            },
            "colorscale": [
             [
              0,
              "#0d0887"
             ],
             [
              0.1111111111111111,
              "#46039f"
             ],
             [
              0.2222222222222222,
              "#7201a8"
             ],
             [
              0.3333333333333333,
              "#9c179e"
             ],
             [
              0.4444444444444444,
              "#bd3786"
             ],
             [
              0.5555555555555556,
              "#d8576b"
             ],
             [
              0.6666666666666666,
              "#ed7953"
             ],
             [
              0.7777777777777778,
              "#fb9f3a"
             ],
             [
              0.8888888888888888,
              "#fdca26"
             ],
             [
              1,
              "#f0f921"
             ]
            ],
            "type": "histogram2d"
           }
          ],
          "histogram2dcontour": [
           {
            "colorbar": {
             "outlinewidth": 0,
             "ticks": ""
            },
            "colorscale": [
             [
              0,
              "#0d0887"
             ],
             [
              0.1111111111111111,
              "#46039f"
             ],
             [
              0.2222222222222222,
              "#7201a8"
             ],
             [
              0.3333333333333333,
              "#9c179e"
             ],
             [
              0.4444444444444444,
              "#bd3786"
             ],
             [
              0.5555555555555556,
              "#d8576b"
             ],
             [
              0.6666666666666666,
              "#ed7953"
             ],
             [
              0.7777777777777778,
              "#fb9f3a"
             ],
             [
              0.8888888888888888,
              "#fdca26"
             ],
             [
              1,
              "#f0f921"
             ]
            ],
            "type": "histogram2dcontour"
           }
          ],
          "mesh3d": [
           {
            "colorbar": {
             "outlinewidth": 0,
             "ticks": ""
            },
            "type": "mesh3d"
           }
          ],
          "parcoords": [
           {
            "line": {
             "colorbar": {
              "outlinewidth": 0,
              "ticks": ""
             }
            },
            "type": "parcoords"
           }
          ],
          "pie": [
           {
            "automargin": true,
            "type": "pie"
           }
          ],
          "scatter": [
           {
            "fillpattern": {
             "fillmode": "overlay",
             "size": 10,
             "solidity": 0.2
            },
            "type": "scatter"
           }
          ],
          "scatter3d": [
           {
            "line": {
             "colorbar": {
              "outlinewidth": 0,
              "ticks": ""
             }
            },
            "marker": {
             "colorbar": {
              "outlinewidth": 0,
              "ticks": ""
             }
            },
            "type": "scatter3d"
           }
          ],
          "scattercarpet": [
           {
            "marker": {
             "colorbar": {
              "outlinewidth": 0,
              "ticks": ""
             }
            },
            "type": "scattercarpet"
           }
          ],
          "scattergeo": [
           {
            "marker": {
             "colorbar": {
              "outlinewidth": 0,
              "ticks": ""
             }
            },
            "type": "scattergeo"
           }
          ],
          "scattergl": [
           {
            "marker": {
             "colorbar": {
              "outlinewidth": 0,
              "ticks": ""
             }
            },
            "type": "scattergl"
           }
          ],
          "scattermapbox": [
           {
            "marker": {
             "colorbar": {
              "outlinewidth": 0,
              "ticks": ""
             }
            },
            "type": "scattermapbox"
           }
          ],
          "scatterpolar": [
           {
            "marker": {
             "colorbar": {
              "outlinewidth": 0,
              "ticks": ""
             }
            },
            "type": "scatterpolar"
           }
          ],
          "scatterpolargl": [
           {
            "marker": {
             "colorbar": {
              "outlinewidth": 0,
              "ticks": ""
             }
            },
            "type": "scatterpolargl"
           }
          ],
          "scatterternary": [
           {
            "marker": {
             "colorbar": {
              "outlinewidth": 0,
              "ticks": ""
             }
            },
            "type": "scatterternary"
           }
          ],
          "surface": [
           {
            "colorbar": {
             "outlinewidth": 0,
             "ticks": ""
            },
            "colorscale": [
             [
              0,
              "#0d0887"
             ],
             [
              0.1111111111111111,
              "#46039f"
             ],
             [
              0.2222222222222222,
              "#7201a8"
             ],
             [
              0.3333333333333333,
              "#9c179e"
             ],
             [
              0.4444444444444444,
              "#bd3786"
             ],
             [
              0.5555555555555556,
              "#d8576b"
             ],
             [
              0.6666666666666666,
              "#ed7953"
             ],
             [
              0.7777777777777778,
              "#fb9f3a"
             ],
             [
              0.8888888888888888,
              "#fdca26"
             ],
             [
              1,
              "#f0f921"
             ]
            ],
            "type": "surface"
           }
          ],
          "table": [
           {
            "cells": {
             "fill": {
              "color": "#EBF0F8"
             },
             "line": {
              "color": "white"
             }
            },
            "header": {
             "fill": {
              "color": "#C8D4E3"
             },
             "line": {
              "color": "white"
             }
            },
            "type": "table"
           }
          ]
         },
         "layout": {
          "annotationdefaults": {
           "arrowcolor": "#2a3f5f",
           "arrowhead": 0,
           "arrowwidth": 1
          },
          "autotypenumbers": "strict",
          "coloraxis": {
           "colorbar": {
            "outlinewidth": 0,
            "ticks": ""
           }
          },
          "colorscale": {
           "diverging": [
            [
             0,
             "#8e0152"
            ],
            [
             0.1,
             "#c51b7d"
            ],
            [
             0.2,
             "#de77ae"
            ],
            [
             0.3,
             "#f1b6da"
            ],
            [
             0.4,
             "#fde0ef"
            ],
            [
             0.5,
             "#f7f7f7"
            ],
            [
             0.6,
             "#e6f5d0"
            ],
            [
             0.7,
             "#b8e186"
            ],
            [
             0.8,
             "#7fbc41"
            ],
            [
             0.9,
             "#4d9221"
            ],
            [
             1,
             "#276419"
            ]
           ],
           "sequential": [
            [
             0,
             "#0d0887"
            ],
            [
             0.1111111111111111,
             "#46039f"
            ],
            [
             0.2222222222222222,
             "#7201a8"
            ],
            [
             0.3333333333333333,
             "#9c179e"
            ],
            [
             0.4444444444444444,
             "#bd3786"
            ],
            [
             0.5555555555555556,
             "#d8576b"
            ],
            [
             0.6666666666666666,
             "#ed7953"
            ],
            [
             0.7777777777777778,
             "#fb9f3a"
            ],
            [
             0.8888888888888888,
             "#fdca26"
            ],
            [
             1,
             "#f0f921"
            ]
           ],
           "sequentialminus": [
            [
             0,
             "#0d0887"
            ],
            [
             0.1111111111111111,
             "#46039f"
            ],
            [
             0.2222222222222222,
             "#7201a8"
            ],
            [
             0.3333333333333333,
             "#9c179e"
            ],
            [
             0.4444444444444444,
             "#bd3786"
            ],
            [
             0.5555555555555556,
             "#d8576b"
            ],
            [
             0.6666666666666666,
             "#ed7953"
            ],
            [
             0.7777777777777778,
             "#fb9f3a"
            ],
            [
             0.8888888888888888,
             "#fdca26"
            ],
            [
             1,
             "#f0f921"
            ]
           ]
          },
          "colorway": [
           "#636efa",
           "#EF553B",
           "#00cc96",
           "#ab63fa",
           "#FFA15A",
           "#19d3f3",
           "#FF6692",
           "#B6E880",
           "#FF97FF",
           "#FECB52"
          ],
          "font": {
           "color": "#2a3f5f"
          },
          "geo": {
           "bgcolor": "white",
           "lakecolor": "white",
           "landcolor": "#E5ECF6",
           "showlakes": true,
           "showland": true,
           "subunitcolor": "white"
          },
          "hoverlabel": {
           "align": "left"
          },
          "hovermode": "closest",
          "mapbox": {
           "style": "light"
          },
          "paper_bgcolor": "white",
          "plot_bgcolor": "#E5ECF6",
          "polar": {
           "angularaxis": {
            "gridcolor": "white",
            "linecolor": "white",
            "ticks": ""
           },
           "bgcolor": "#E5ECF6",
           "radialaxis": {
            "gridcolor": "white",
            "linecolor": "white",
            "ticks": ""
           }
          },
          "scene": {
           "xaxis": {
            "backgroundcolor": "#E5ECF6",
            "gridcolor": "white",
            "gridwidth": 2,
            "linecolor": "white",
            "showbackground": true,
            "ticks": "",
            "zerolinecolor": "white"
           },
           "yaxis": {
            "backgroundcolor": "#E5ECF6",
            "gridcolor": "white",
            "gridwidth": 2,
            "linecolor": "white",
            "showbackground": true,
            "ticks": "",
            "zerolinecolor": "white"
           },
           "zaxis": {
            "backgroundcolor": "#E5ECF6",
            "gridcolor": "white",
            "gridwidth": 2,
            "linecolor": "white",
            "showbackground": true,
            "ticks": "",
            "zerolinecolor": "white"
           }
          },
          "shapedefaults": {
           "line": {
            "color": "#2a3f5f"
           }
          },
          "ternary": {
           "aaxis": {
            "gridcolor": "white",
            "linecolor": "white",
            "ticks": ""
           },
           "baxis": {
            "gridcolor": "white",
            "linecolor": "white",
            "ticks": ""
           },
           "bgcolor": "#E5ECF6",
           "caxis": {
            "gridcolor": "white",
            "linecolor": "white",
            "ticks": ""
           }
          },
          "title": {
           "x": 0.05
          },
          "xaxis": {
           "automargin": true,
           "gridcolor": "white",
           "linecolor": "white",
           "ticks": "",
           "title": {
            "standoff": 15
           },
           "zerolinecolor": "white",
           "zerolinewidth": 2
          },
          "yaxis": {
           "automargin": true,
           "gridcolor": "white",
           "linecolor": "white",
           "ticks": "",
           "title": {
            "standoff": 15
           },
           "zerolinecolor": "white",
           "zerolinewidth": 2
          }
         }
        },
        "title": {
         "text": "Score vs Healthy life expectancy"
        },
        "width": 1000
       }
      }
     },
     "metadata": {},
     "output_type": "display_data"
    },
    {
     "data": {
      "application/vnd.plotly.v1+json": {
       "config": {
        "plotlyServerURL": "https://plot.ly"
       },
       "data": [
        {
         "mode": "lines",
         "name": "2015",
         "type": "scatter",
         "x": [
          0.94143,
          0.94784,
          0.87464,
          0.88521,
          0.90563,
          0.88911,
          0.89284,
          0.91087,
          0.90837,
          0.93156,
          0.91387,
          0.86027,
          0.89042,
          0.81444,
          0.86179,
          0.69702,
          0.91894,
          0.89533,
          0.89667,
          0.80925,
          0.90943,
          0.76276,
          0.72052,
          1.02525,
          0.79661,
          0.89186,
          0.85857,
          0.79733,
          0.94579,
          0.78723,
          0.84483,
          0.8116,
          0.69077,
          0.7385,
          0.72025,
          0.95562,
          0.88721,
          0.8753,
          0.72492,
          0.6082,
          0.61483,
          0.67737,
          0.64425,
          0.59772,
          0.78902,
          0.99111,
          0.96538,
          0.79075,
          0.74716,
          0.95446,
          0.5392,
          0.61826,
          0.66098,
          0.64368,
          0.87337,
          0.73128,
          0.74314,
          0.73017,
          0.73608,
          0.77903,
          0.72394,
          0.78805,
          0.7038,
          0.66926,
          0.68741,
          0.92356,
          0.92356,
          0.61766,
          0.63132,
          0.53886,
          0.7095,
          1.01328,
          0.77361,
          0.63793,
          0.74676,
          0.73172,
          0.65088,
          0.16007,
          0.57407,
          0.64045,
          0.51466,
          0.69639,
          0.72521,
          0.81658,
          0.29924,
          0.7689,
          0.74836,
          0.87519,
          0.72437,
          0.58114,
          0.43873,
          0.60954,
          0.73545,
          0.09131,
          0.81325,
          0.79081,
          0.07612,
          0.66825,
          0.54909,
          0.60268,
          0.07566,
          0.88213,
          0.83947,
          0.75905,
          0.6951,
          0.57379,
          0.73793,
          0.66015,
          0.60164,
          0.69805,
          0.6739,
          0.60237,
          0.27688,
          0.40132,
          0.33475,
          0.34201,
          0.51529,
          0.36878,
          0.38847,
          0.09806,
          0.56874,
          0.44055,
          0,
          0.35874,
          0.41435,
          0.36291,
          0.7299,
          0.04776,
          0.48246,
          0.72926,
          0.22562,
          0.70806,
          0.23402,
          0.76649,
          0.61712,
          0.40064,
          0.16683,
          0.20583,
          0.31051,
          0.36315,
          0.33861,
          0.4354,
          0.43372,
          0.29707,
          0.61114,
          0.38215,
          0.46721,
          0.06699,
          0.1501,
          0.24009,
          0.15185,
          0.27125,
          0.30335,
          0.42864,
          0.3191,
          0.72193,
          0.22396,
          0.28443
         ],
         "y": [
          6.420051652054091,
          6.44156420595767,
          6.195898223782626,
          6.2313721231212895,
          6.2999035350887,
          6.244460884466681,
          6.2569791100611205,
          6.3174894605886625,
          6.309099228957001,
          6.386927017572292,
          6.3275577385466555,
          6.147671172363836,
          6.248857365841673,
          5.99386144609222,
          6.152772433195886,
          5.599789046816349,
          6.344573128295664,
          6.2653357807662555,
          6.269832944920825,
          5.976443325224891,
          6.312656687168825,
          5.820418577802516,
          5.678657224153966,
          6.701359338200433,
          5.934022314095211,
          6.25369013926151,
          6.141965814854307,
          5.936438700805129,
          6.434684216019708,
          5.902542165013218,
          6.0958531018066955,
          5.984330142958653,
          5.578813467737195,
          5.738999770048874,
          5.677751079137746,
          6.4676746067954,
          6.238084308426619,
          6.198113244933384,
          5.69342403182569,
          5.301700897406684,
          5.323951791693849,
          5.533841826191491,
          5.422688037535241,
          5.26652904640676,
          5.908549570861487,
          6.586782335038466,
          6.500430071085407,
          5.914355611150597,
          5.76806353242095,
          6.46378153931831,
          5.07013050437283,
          5.33546318949249,
          5.478835467614319,
          5.420775064723222,
          6.1916359861137416,
          5.7147687810966366,
          5.754572039957238,
          5.711043518252179,
          5.730878025829426,
          5.875022205261368,
          5.690135061026078,
          5.905294160988403,
          5.622543355001414,
          5.50662391477838,
          5.567536996424243,
          6.360078276350976,
          6.360078276350976,
          5.3334495339008905,
          5.379293759536289,
          5.068989432870924,
          5.641673083121603,
          6.661186909148038,
          5.8568321830839265,
          5.401477531970401,
          5.766721095359884,
          5.716245461863808,
          5.444938931822406,
          3.797735096968121,
          5.187157455171243,
          5.409934885455115,
          4.987771990676443,
          5.597674708445171,
          5.6943972986949625,
          6.001043484368922,
          4.264802511439446,
          5.8410249866898765,
          5.772090843604147,
          6.197744074741591,
          5.691578180866724,
          5.210885030225581,
          4.732943875559624,
          5.306198061561254,
          5.7287636874582475,
          3.566970166170907,
          5.9898676958355495,
          5.914556976709757,
          3.5159911187769324,
          5.503234261199189,
          5.1033222607076825,
          5.283175265963976,
          3.5144473161567067,
          6.221035357751083,
          6.077864445188414,
          5.807967474061131,
          5.593345348923233,
          5.186217749228497,
          5.737086797236856,
          5.476049910712607,
          5.279684929605205,
          5.603245822248594,
          5.522196184686745,
          5.282134877241649,
          4.189760279725867,
          4.607392449423443,
          4.383977361535564,
          4.4083425941939085,
          4.989886329047621,
          4.498185194505739,
          4.564266658836703,
          3.5896237915763924,
          5.169269481332541,
          4.739051964187473,
          3.260525346056107,
          4.464490024272987,
          4.651122336687662,
          4.478484930634598,
          5.710137373235959,
          3.4208123311473657,
          4.879705807260644,
          5.7079894739382535,
          4.017726970350282,
          5.636840309701766,
          4.045918148632664,
          5.832936803396954,
          5.331637243868451,
          4.605110306419631,
          3.8204222833001333,
          3.9513098967540508,
          4.302625675634975,
          4.479290392871237,
          4.396931879174849,
          4.72176808702625,
          4.716129851369774,
          4.257519790383164,
          5.311567809805518,
          4.543056153271864,
          4.82852539430751,
          3.4853499928581053,
          3.7642748532210555,
          4.066289631034338,
          3.7701480153632185,
          4.170865478091365,
          4.278596052241897,
          4.699080900694238,
          4.331454511521364,
          5.683389314794223,
          4.012155856546859,
          4.215098779253484
         ]
        },
        {
         "mode": "lines",
         "name": "2016",
         "type": "scatter",
         "x": [
          0.79504,
          0.86303,
          0.86733,
          0.79579,
          0.81091,
          0.8276,
          0.81231,
          0.83096,
          0.8512,
          0.83121,
          0.84917,
          0.80565,
          0.779,
          0.76146,
          0.77758,
          0.81487,
          0.61415,
          0.81959,
          0.81455,
          0.84542,
          0.71143,
          0.94719,
          0.80991,
          0.81883,
          0.70835,
          0.69711,
          0.76376,
          0.72993,
          0.72183,
          0.80315,
          0.59659,
          0.83795,
          0.64915,
          0.59267,
          0.79565,
          0.71723,
          0.87896,
          0.61804,
          0.54039,
          0.50933,
          0.63569,
          0.65696,
          0.52608,
          0.61904,
          0.70367,
          0.596,
          0.62366,
          0.65213,
          0.50163,
          0.85102,
          0.68613,
          0.45569,
          0.91491,
          0.57386,
          0.52309,
          0.58991,
          0.69058,
          0.88645,
          0.4697,
          0.64674,
          0.63104,
          0.84142,
          0.79151,
          0.62994,
          0.44006,
          0.66189,
          0.52304,
          0.63952,
          0.8488,
          0.58295,
          0.67602,
          0.68098,
          0.59469,
          0.70524,
          0.95277,
          0.11466,
          0.54,
          0.64718,
          0.49374,
          0.60712,
          0.54504,
          0.47036,
          0.73561,
          0.49759,
          0.55449,
          0.6458,
          0.70766,
          0.63533,
          0.57669,
          0.59471,
          0.67608,
          0.40306,
          0.76171,
          0.79363,
          0.64738,
          0.66157,
          0.33108,
          0.59577,
          0.80029,
          0.53119,
          0.55469,
          0.38291,
          0.05108,
          0.58383,
          0.64232,
          0.23573,
          0.50073,
          0.56844,
          0.73007,
          0.52989,
          0,
          0.51076,
          0.34745,
          0.12698,
          0.34578,
          0.18611,
          0.62007,
          0.45091,
          0.3988,
          0.52116,
          0.64083,
          0.30147,
          0.58628,
          0.29681,
          0.188,
          0.64035,
          0.28212,
          0.40457,
          0.67806,
          0.28639,
          0.1595,
          0.29364,
          0.29759,
          0.3494,
          0.16347,
          0.27494,
          0.34752,
          0.29981,
          0.04476,
          0.42494,
          0.04991,
          0.26162,
          0.15781,
          0.03824,
          0.21297,
          0.19625,
          0.31048,
          0.37109,
          0.357,
          0.23165,
          0.18829,
          0.31865,
          0.21028,
          0.17344,
          0.24811,
          0.62994,
          0.15747
         ],
         "y": [
          6.2867573529521295,
          6.545798839657003,
          6.56218181351832,
          6.289614848393057,
          6.347221956482154,
          6.410810755027592,
          6.352555947971885,
          6.423612334602947,
          6.5007266115687745,
          6.424564833083256,
          6.492992323908664,
          6.3271813884564505,
          6.225645050455496,
          6.158817757077006,
          6.2202348590873395,
          6.362309532410251,
          5.59756755253965,
          6.380292703718488,
          6.361090334355455,
          6.478704846704027,
          5.968203761197542,
          6.866447928068272,
          6.343411962560918,
          6.377397108338347,
          5.956468979920134,
          5.913644648245435,
          6.167580743095851,
          6.038688648740418,
          6.007827697978402,
          6.317656403653359,
          5.530664059282737,
          6.4502441921123905,
          5.73091733978293,
          5.515728883111489,
          6.289081449244085,
          5.990301725940714,
          6.6064920428223015,
          5.612388428893261,
          5.316542400909242,
          5.198203989715635,
          5.679634821603086,
          5.760673392307787,
          5.262021387896347,
          5.616198422814497,
          5.938638208368746,
          5.528416162869207,
          5.6338005947306105,
          5.742271121668214,
          5.168867036522114,
          6.500040812662952,
          5.871810914990258,
          4.993835915780506,
          6.743461324290756,
          5.44406289745303,
          5.25062950607185,
          5.505213299888876,
          5.88876538793976,
          6.635028897292363,
          5.047213930617031,
          5.721735254432749,
          5.661918349869335,
          6.463464871019081,
          6.273308074410165,
          5.657727356555975,
          4.934285710791579,
          5.779456662339483,
          5.250439006375788,
          5.694227098321422,
          6.491582626157808,
          5.47869574219707,
          5.833291876446555,
          5.852189446295889,
          5.523425070832387,
          5.944619898825088,
          6.887707694148771,
          3.694513688821205,
          5.31505650327996,
          5.723411651758093,
          5.138806184483557,
          5.570783295273357,
          5.334258872642993,
          5.049728526605047,
          6.060329414213042,
          5.153474661080318,
          5.370263315198677,
          5.718153860146787,
          5.95384008411448,
          5.67826322379144,
          5.454845180250129,
          5.5235012707108115,
          5.83352047608183,
          4.793315935705826,
          6.159770255557316,
          6.281385261523186,
          5.72417365054234,
          5.778237464284688,
          4.51907257325522,
          5.527539864267323,
          6.3067598210386215,
          5.2814904568338665,
          5.3710253139829245,
          4.71654455819291,
          3.4522742753089855,
          5.482048536847758,
          5.704895081300884,
          4.155789652865314,
          5.165438041993001,
          5.423412730399928,
          6.039222047889391,
          5.276537464736259,
          3.2576597858122223,
          5.203652281023003,
          4.581442173745862,
          3.74145281393084,
          4.575079483897397,
          3.9667377544935567,
          5.620122716553371,
          4.9756241448369956,
          4.777085361601359,
          5.243276217803864,
          5.699218190358241,
          4.406258653247406,
          5.491383021954787,
          4.388504081574443,
          3.973938643004694,
          5.6973893932760475,
          4.332535270871478,
          4.799069026526894,
          5.841064264045878,
          4.348803944915158,
          3.8653538162494523,
          4.376426400844124,
          4.391475876833008,
          4.588871661892274,
          3.8804794921167614,
          4.3051795145169995,
          4.581708873320348,
          4.3999340633381525,
          3.4281951137267703,
          4.876678602702483,
          3.4478165824211384,
          4.2544303954861284,
          3.8589149265225626,
          3.403353953360308,
          4.069074191217971,
          4.005371092854896,
          4.4405866984777465,
          4.671510430043894,
          4.617827615693671,
          4.140244877666669,
          3.9750435412418526,
          4.471714348814249,
          4.058825307569844,
          3.91846513151149,
          4.202957377610223,
          5.657727356555975,
          3.8576195285893418
         ]
        },
        {
         "mode": "lines",
         "name": "2017",
         "type": "scatter",
         "x": [
          0.796666502952576,
          0.792565524578094,
          0.833552122116089,
          0.858131289482117,
          0.80915766954422,
          0.810696125030518,
          0.83455765247345,
          0.816759705543518,
          0.830875158309937,
          0.84388679265976,
          0.83840399980545,
          0.759509265422821,
          0.815328419208527,
          0.77428662776947,
          0.80978262424469,
          0.798950731754303,
          0.818091869354248,
          0.845089495182037,
          0.805335938930511,
          0.819479703903198,
          0.726798236370087,
          0.616552352905273,
          0.754444003105164,
          0.695137083530426,
          0.709978997707367,
          0.949492394924164,
          0.821944236755371,
          0.719216823577881,
          0.540239989757538,
          0.706156134605408,
          0.844465851783752,
          0.647239029407501,
          0.793984234333038,
          0.888960599899292,
          0.710098087787628,
          0.595027923583984,
          0.590148329734802,
          0.519983291625977,
          0.632105708122253,
          0.712732911109924,
          0.653133034706116,
          0.618784427642822,
          0.653095960617065,
          0.685636222362518,
          0.596018552780151,
          0.699475347995758,
          0.498272627592087,
          0.853144347667694,
          0.547349333763123,
          0.450191766023636,
          0.913475871086121,
          0.62894994020462,
          0.617584645748138,
          0.638566970825195,
          0.900214076042175,
          0.589465200901031,
          0.685158312320709,
          0.473630249500275,
          0.437726080417633,
          0.606041550636292,
          0.834647238254547,
          0.790828227996826,
          0.630166113376617,
          0.638007462024689,
          0.84471470117569,
          0.695168316364288,
          0.637714266777039,
          0.520169019699097,
          0.637605607509613,
          0.579250693321228,
          0.943062424659729,
          0.468009054660797,
          0.65078467130661,
          0.604590058326721,
          0.687763452529907,
          0.641022384166718,
          0.701288521289825,
          0.541452050209045,
          0.741415500640869,
          0.402047783136368,
          0.492345720529556,
          0.617144227027893,
          0.667464673519135,
          0.59771066904068,
          0.540775775909424,
          0.574873745441437,
          0.810198903083801,
          0.735081076622009,
          0.795843541622162,
          0.705186307430267,
          0.582569479942322,
          0.644948184490204,
          0.113989137113094,
          0.652168989181519,
          0.0569157302379608,
          0.529235124588013,
          0.495879292488098,
          0.553457796573639,
          0.504130780696869,
          0.557783484458923,
          0.187080070376396,
          0.613212049007416,
          0.565666973590851,
          0.520187258720398,
          0.708217680454254,
          0.0055647538974881,
          0.132892116904259,
          0.639333188533783,
          0.731159746646881,
          0.533241033554077,
          0.33861181139946,
          0.309988349676132,
          0.106654435396194,
          0.397522568702698,
          0.409362852573395,
          0.257835894823074,
          0.501180469989777,
          0.356578588485718,
          0.353409707546234,
          0.625130832195282,
          0.637524425983429,
          0.455427616834641,
          0.285349279642105,
          0.28995743393898,
          0.649546980857849,
          0.191407024860382,
          0.169365674257278,
          0.0486421696841717,
          0.429783403873444,
          0.290920823812485,
          0.295637726783752,
          0.575903952121735,
          0.217632606625557,
          0.215844258666039,
          0.26850500702858,
          0.315089583396912,
          0.0411347150802612,
          0.196763753890991,
          0,
          0.0498686656355858,
          0.180746778845787,
          0.341755509376526,
          0.209930211305618,
          0.375223308801651,
          0.277321130037308,
          0.310080915689468,
          0.163486003875732,
          0.229918196797371,
          0.194129139184952,
          0.247105568647385,
          0.326424807310104,
          0.50053334236145,
          0.364509284496307,
          0.151610791683197,
          0.0187726859003305
         ],
         "y": [
          6.2693791028007855,
          6.254077525280817,
          6.407006788065965,
          6.4987166193510575,
          6.315986164936542,
          6.321726452676437,
          6.4107586246539325,
          6.344350894649983,
          6.397018496137175,
          6.445567528461796,
          6.4251101223929945,
          6.130737954623251,
          6.339010476630612,
          6.185875274267486,
          6.3183179969830645,
          6.27790202120983,
          6.349321466537418,
          6.45005505416849,
          6.301726517138841,
          6.354499757178449,
          6.008686507114322,
          5.597336878305972,
          6.111838439206423,
          5.890552359525985,
          5.945930535069733,
          6.839603332124337,
          6.363695426368682,
          5.980398726746431,
          5.312600058501471,
          5.931666661729937,
          6.447728114854922,
          5.711835058118574,
          6.259371017543222,
          6.613746995070889,
          5.946374884180743,
          5.517024890834353,
          5.4988181419244295,
          5.237018231811681,
          5.655369583874259,
          5.956205941464146,
          5.7338267807623815,
          5.605665199381619,
          5.733688449857951,
          5.855102730098089,
          5.520721128184205,
          5.906739299313685,
          5.156011365062105,
          6.4801093335297555,
          5.339126455005896,
          4.976611972201506,
          6.705218416822946,
          5.643594777226372,
          5.601188571125592,
          5.679477858314607,
          6.655735984488857,
          5.496269250452308,
          5.853319551333282,
          5.064065681808933,
          4.930099984762923,
          5.558118954915633,
          6.411092887273475,
          6.247595321307525,
          5.648132564644325,
          5.677390218121887,
          6.448656622131437,
          5.890668895529071,
          5.676296247512747,
          5.237711220715539,
          5.675890817868414,
          5.458156862312636,
          6.815611816084029,
          5.043091870016526,
          5.725064563232489,
          5.552703144329374,
          5.863039854934362,
          5.6886395007711155,
          5.913504614607454,
          5.317122500529702,
          6.063226468544254,
          4.7969770609682545,
          5.133896879300541,
          5.599545280043881,
          5.787301015996137,
          5.527034755267535,
          5.314599184707117,
          5.441825586902791,
          6.3198712172990295,
          6.039591454818736,
          6.266308468078197,
          5.928048040916492,
          5.470539924625497,
          5.703287453647806,
          3.7221721485968318,
          5.730229732453328,
          3.50921975531852,
          5.271538686772206,
          5.147081349031583,
          5.361918361884644,
          5.177869315939007,
          5.378058375915375,
          3.994889163710697,
          5.584873530693278,
          5.407473264038324,
          5.237779274182991,
          5.939358705124599,
          3.317618904631506,
          3.792702979101257,
          5.682336771138456,
          6.02496018171348,
          5.286485541152999,
          4.560284654803246,
          4.453484745499976,
          3.694804897014783,
          4.78009257313917,
          4.8242710605540875,
          4.258893416816973,
          5.166861111586244,
          4.627322324175031,
          4.615498590197602,
          5.629344914894581,
          5.675587913219166,
          4.996147987696273,
          4.361551405277665,
          4.378745358466095,
          5.7204464905147,
          4.011033903676669,
          3.928793178634856,
          3.47834943203964,
          4.900464256466186,
          4.382339960408675,
          4.399939676836862,
          5.445669495829075,
          4.1088868391817925,
          4.102214152218721,
          4.2987020265130464,
          4.4725184774776165,
          3.450337604590321,
          4.031020940191018,
          3.296855685378316,
          3.482925735829796,
          3.9712583755272766,
          4.572014426068259,
          4.080147648599649,
          4.696889536484072,
          4.331596759751103,
          4.453830127967143,
          3.9068549424581165,
          4.154726854228523,
          4.0211906612969495,
          4.2188564054507305,
          4.514812484315878,
          5.164446547873405,
          4.656913350684323,
          3.8625461304290605,
          3.366900363094571
         ]
        },
        {
         "mode": "lines",
         "name": "2018",
         "type": "scatter",
         "x": [
          0.874,
          0.861,
          0.868,
          0.914,
          0.927,
          0.878,
          0.896,
          0.876,
          0.913,
          0.91,
          0.888,
          0.891,
          0.817,
          0.876,
          0.861,
          0.894,
          0.896,
          0.819,
          0.883,
          0.854,
          0.884,
          0.908,
          0.761,
          0.808,
          0.857,
          0.759,
          0.675,
          0.744,
          0.608,
          0.771,
          0.748,
          0.633,
          1.008,
          0.669,
          0.965,
          0.635,
          0.564,
          0.776,
          0.639,
          0.7,
          0.781,
          0.698,
          0.605,
          0.675,
          0.707,
          0.946,
          0.736,
          0.474,
          0.716,
          0.856,
          0.726,
          0.671,
          0.988,
          0.684,
          0.693,
          0.955,
          0.909,
          0.599,
          0.631,
          0.909,
          0.508,
          0.737,
          0.615,
          0.674,
          0.578,
          0.62,
          0.517,
          0.732,
          0.553,
          0.513,
          0.622,
          0.7,
          0.686,
          0.424,
          1.03,
          0.884,
          0.685,
          0.879,
          0.785,
          0.729,
          0.737,
          0.614,
          0.687,
          0.669,
          0.799,
          0.603,
          0.598,
          0.691,
          0.645,
          0.048,
          0.594,
          0.758,
          0.575,
          0.702,
          0.522,
          0.527,
          0.115,
          0.182,
          0.712,
          0.539,
          0.657,
          0.404,
          0.602,
          0.33,
          0.691,
          0.08,
          0.337,
          0.433,
          0.441,
          0.69,
          0.79,
          0,
          0.343,
          0.579,
          0.672,
          0.536,
          0.152,
          0.365,
          0.457,
          0.254,
          0.553,
          0.173,
          0.454,
          0.295,
          0.292,
          0.391,
          0.643,
          0.666,
          0.429,
          0.053,
          0.204,
          0.485,
          0.221,
          0.237,
          0.24,
          0.312,
          0.609,
          0.253,
          0.211,
          0.079,
          0.269,
          0.402,
          0.248,
          0.255,
          0.417,
          0.306,
          0.289,
          0.267,
          0.539,
          0.4,
          0.343,
          0.381,
          0.177,
          0.01,
          0.145
         ],
         "y": [
          6.336627224212322,
          6.291136539833968,
          6.315631523730004,
          6.476598560761104,
          6.522089245139458,
          6.3506243578672,
          6.4136114593141516,
          6.343625791039761,
          6.473099277347384,
          6.462601427106225,
          6.385617192004395,
          6.396115042245554,
          6.137168069630306,
          6.343625791039761,
          6.291136539833968,
          6.406612892486713,
          6.4136114593141516,
          6.144166636457745,
          6.3681207749357975,
          6.26664155593793,
          6.371620058349517,
          6.455602860278786,
          5.941208198462011,
          6.105674518906831,
          6.277139406179089,
          5.934209631634572,
          5.64026982488213,
          5.88172038042878,
          5.405817836162919,
          5.9762010325992065,
          5.895717514083657,
          5.493299921505908,
          6.8055312016507425,
          5.619274124399812,
          6.6550620148608015,
          5.500298488333348,
          5.251849365959258,
          5.993697449667804,
          5.514295621988225,
          5.727751910225118,
          6.011193866736402,
          5.720753343397679,
          5.395319985921761,
          5.64026982488213,
          5.752246894121155,
          6.588575630000129,
          5.853726113119023,
          4.936913858724498,
          5.783740444844631,
          6.27364012276537,
          5.818733278981827,
          5.626272691227252,
          6.735545533376351,
          5.671763375605606,
          5.7032569263290815,
          6.620069180723606,
          6.4591021436925065,
          5.374324285439443,
          5.486301354678469,
          6.4591021436925065,
          5.055889494790963,
          5.857225396532742,
          5.4303128200589565,
          5.63677054146841,
          5.300839333751332,
          5.447809237127554,
          5.087383045514439,
          5.8397289794641445,
          5.213357248408344,
          5.073385911859561,
          5.454807803954993,
          5.727751910225118,
          5.678761942433045,
          4.761949688038521,
          6.882515436752572,
          6.371620058349517,
          5.675262659019325,
          6.354123641280919,
          6.025191000391281,
          5.829231129222986,
          5.857225396532742,
          5.426813536645237,
          5.682261225846764,
          5.619274124399812,
          6.074180968183355,
          5.388321419094321,
          5.3708250020257235,
          5.696258359501643,
          5.535291322470544,
          3.446219124479968,
          5.3568278683708455,
          5.9307103482208525,
          5.290341483510174,
          5.7347504770525575,
          5.104879462583037,
          5.122375879651635,
          3.680671113199178,
          3.9151231019183883,
          5.769743311189753,
          5.16436728061627,
          5.577282723435178,
          4.69196401976413,
          5.3848221356806025,
          4.433017047148883,
          5.696258359501643,
          3.5581961937189934,
          4.45751203104492,
          4.793443238761997,
          4.821437506071753,
          5.692759076087922,
          6.042687417459879,
          3.278253520621429,
          4.4785077315272375,
          5.304338617165052,
          5.6297719746409705,
          5.153869430375112,
          3.8101445995068017,
          4.5554919666290665,
          4.877426040691266,
          4.167071507706196,
          5.213357248408344,
          3.883629551194912,
          4.866928190450108,
          4.310542127668699,
          4.300044277427539,
          4.6464733353857754,
          5.528292755643104,
          5.608776274158654,
          4.779446105107119,
          3.4637155415485656,
          3.9921073370202187,
          4.975405976275414,
          4.051595155053451,
          4.107583689672964,
          4.118081539914122,
          4.370029945701931,
          5.409317119576639,
          4.163572224292476,
          4.016602320916255,
          3.5546969103052737,
          4.21956075891199,
          4.684965452936691,
          4.146075807223879,
          4.170570791119916,
          4.737454704142484,
          4.349034245219613,
          4.289546427186381,
          4.212562192084551,
          5.16436728061627,
          4.677966886109251,
          4.4785077315272375,
          4.61148050124858,
          3.8976266848497905,
          3.3132463547586246,
          3.7856496156107644
         ]
        },
        {
         "mode": "lines",
         "name": "2019",
         "type": "scatter",
         "x": [
          0.986,
          0.996,
          1.028,
          1.026,
          0.999,
          1.052,
          1.009,
          1.026,
          1.039,
          1.016,
          1.036,
          0.963,
          1.029,
          1.012,
          0.996,
          0.999,
          0.987,
          0.986,
          0.874,
          0.92,
          0.825,
          0.999,
          0.861,
          1.045,
          0.914,
          0.92,
          0.746,
          0.795,
          0.871,
          1.062,
          0.91,
          0.802,
          0.891,
          1.141,
          0.789,
          1.039,
          0.871,
          0.881,
          0.713,
          0.884,
          0.756,
          0.818,
          0.841,
          0.953,
          0.835,
          0.758,
          0.881,
          0.825,
          1.042,
          0.868,
          0.808,
          0.828,
          0.812,
          1.036,
          0.874,
          0.831,
          0.798,
          1.088,
          0.828,
          0.729,
          0.706,
          0.828,
          0.777,
          1.042,
          0.854,
          0.999,
          0.535,
          0.726,
          0.657,
          0.854,
          0.739,
          0.673,
          0.871,
          0.718,
          0.914,
          1.122,
          0.779,
          0.845,
          0.808,
          0.828,
          0.789,
          0.999,
          0.667,
          0.838,
          0.245,
          0.723,
          0.657,
          0.785,
          0.782,
          0.769,
          0.815,
          0.66,
          0.893,
          0.851,
          0.604,
          0.331,
          0.815,
          0.486,
          0.232,
          0.677,
          0.815,
          0.397,
          0.508,
          0.571,
          0.551,
          0.469,
          0.874,
          0.805,
          0.637,
          0.672,
          0.571,
          0.268,
          0.477,
          0.366,
          0.38,
          0.815,
          0.785,
          0.375,
          0.752,
          0.428,
          0.581,
          0.489,
          0.39,
          0.815,
          0.723,
          0.574,
          0.357,
          0.308,
          0.242,
          0.831,
          0.555,
          0.192,
          0.739,
          0.532,
          0,
          0.443,
          0.644,
          0.426,
          0.41,
          0.588,
          0.443,
          0.505,
          0.555,
          0.168,
          0.38,
          0.433,
          0.449,
          0.538,
          0.44,
          0.495,
          0.463,
          0.614,
          0.499,
          0.361,
          0.105,
          0.295
         ],
         "y": [
          6.342003619879229,
          6.377857291323537,
          6.492589039945326,
          6.485418305656465,
          6.38861339275683,
          6.578637851411667,
          6.4244670642011386,
          6.485418305656465,
          6.532028078534065,
          6.449564634212155,
          6.521271977100773,
          6.259540175557318,
          6.4961744070897565,
          6.435223165634431,
          6.377857291323537,
          6.38861339275683,
          6.3455889870236595,
          6.342003619879229,
          5.94044249970297,
          6.105369388346791,
          5.764759509625856,
          6.38861339275683,
          5.893832726825368,
          6.55354028140065,
          6.0838571854802055,
          6.105369388346791,
          5.481515505215816,
          5.6571984952929295,
          5.929686398269677,
          6.614491522855976,
          6.069515716902481,
          5.682296065303945,
          6.001393741158294,
          6.897735527266017,
          5.635686292426344,
          6.532028078534065,
          5.929686398269677,
          5.9655400697139855,
          5.363198389449597,
          5.976296171147278,
          5.517369176660125,
          5.739661939614839,
          5.82212538393675,
          6.22368650411301,
          5.800613181070164,
          5.524539910948986,
          5.9655400697139855,
          5.764759509625856,
          6.5427841799673585,
          5.918930296836384,
          5.703808268170531,
          5.775515611059149,
          5.718149736748254,
          6.521271977100773,
          5.94044249970297,
          5.786271712492441,
          5.667954596726222,
          6.70771106861118,
          5.775515611059149,
          5.4205642637604905,
          5.33810081943858,
          5.775515611059149,
          5.592661886693174,
          6.5427841799673585,
          5.868735156814351,
          6.38861339275683,
          4.7250030377408985,
          5.409808162327198,
          5.162417829361466,
          5.868735156814351,
          5.456417935204799,
          5.219783703672361,
          5.929686398269677,
          5.3811252251717505,
          6.0838571854802055,
          6.829613551521829,
          5.599832620982035,
          5.836466852514473,
          5.703808268170531,
          5.775515611059149,
          5.635686292426344,
          6.38861339275683,
          5.198271500805776,
          5.811369282503457,
          3.685246565855941,
          5.399052060893905,
          5.162417829361466,
          5.62134482384862,
          5.6105887224153275,
          5.563978949537726,
          5.7289058381815465,
          5.173173930794759,
          6.008564475447156,
          5.857979055381058,
          4.97239337070663,
          3.9935881402769975,
          5.7289058381815465,
          4.549320047663785,
          3.6386367929783394,
          5.234125172250085,
          5.7289058381815465,
          4.230222371809436,
          4.628198124841265,
          4.85407625494041,
          4.782368912051792,
          4.4883688062084595,
          5.94044249970297,
          5.693052166737238,
          5.090710486472849,
          5.21619833652793,
          4.85407625494041,
          3.7677100101778516,
          4.517051743363907,
          4.119075990332078,
          4.169271130354111,
          5.7289058381815465,
          5.62134482384862,
          4.151344294631956,
          5.503027708082401,
          4.341368753286794,
          4.889929926384719,
          4.560076149097077,
          4.205124801798419,
          5.7289058381815465,
          5.399052060893905,
          4.864832356373703,
          4.0868076860322,
          3.911124695955087,
          3.6744904644226484,
          5.786271712492441,
          4.796710380629516,
          3.495222107201104,
          5.456417935204799,
          4.714246936307606,
          2.8068316154703736,
          4.395149260453257,
          5.115808056483865,
          4.334198018997932,
          4.276832144687037,
          4.915027496395735,
          4.395149260453257,
          4.617442023407972,
          4.796710380629516,
          3.409173295734763,
          4.169271130354111,
          4.359295589008948,
          4.416661463319842,
          4.735759139174191,
          4.3843931590199645,
          4.581588351963663,
          4.466856603341874,
          5.008247042150939,
          4.595929820541387,
          4.101149154609924,
          3.183295165635617,
          3.8645149230774853
         ]
        }
       ],
       "layout": {
        "height": 500,
        "template": {
         "data": {
          "bar": [
           {
            "error_x": {
             "color": "#2a3f5f"
            },
            "error_y": {
             "color": "#2a3f5f"
            },
            "marker": {
             "line": {
              "color": "#E5ECF6",
              "width": 0.5
             },
             "pattern": {
              "fillmode": "overlay",
              "size": 10,
              "solidity": 0.2
             }
            },
            "type": "bar"
           }
          ],
          "barpolar": [
           {
            "marker": {
             "line": {
              "color": "#E5ECF6",
              "width": 0.5
             },
             "pattern": {
              "fillmode": "overlay",
              "size": 10,
              "solidity": 0.2
             }
            },
            "type": "barpolar"
           }
          ],
          "carpet": [
           {
            "aaxis": {
             "endlinecolor": "#2a3f5f",
             "gridcolor": "white",
             "linecolor": "white",
             "minorgridcolor": "white",
             "startlinecolor": "#2a3f5f"
            },
            "baxis": {
             "endlinecolor": "#2a3f5f",
             "gridcolor": "white",
             "linecolor": "white",
             "minorgridcolor": "white",
             "startlinecolor": "#2a3f5f"
            },
            "type": "carpet"
           }
          ],
          "choropleth": [
           {
            "colorbar": {
             "outlinewidth": 0,
             "ticks": ""
            },
            "type": "choropleth"
           }
          ],
          "contour": [
           {
            "colorbar": {
             "outlinewidth": 0,
             "ticks": ""
            },
            "colorscale": [
             [
              0,
              "#0d0887"
             ],
             [
              0.1111111111111111,
              "#46039f"
             ],
             [
              0.2222222222222222,
              "#7201a8"
             ],
             [
              0.3333333333333333,
              "#9c179e"
             ],
             [
              0.4444444444444444,
              "#bd3786"
             ],
             [
              0.5555555555555556,
              "#d8576b"
             ],
             [
              0.6666666666666666,
              "#ed7953"
             ],
             [
              0.7777777777777778,
              "#fb9f3a"
             ],
             [
              0.8888888888888888,
              "#fdca26"
             ],
             [
              1,
              "#f0f921"
             ]
            ],
            "type": "contour"
           }
          ],
          "contourcarpet": [
           {
            "colorbar": {
             "outlinewidth": 0,
             "ticks": ""
            },
            "type": "contourcarpet"
           }
          ],
          "heatmap": [
           {
            "colorbar": {
             "outlinewidth": 0,
             "ticks": ""
            },
            "colorscale": [
             [
              0,
              "#0d0887"
             ],
             [
              0.1111111111111111,
              "#46039f"
             ],
             [
              0.2222222222222222,
              "#7201a8"
             ],
             [
              0.3333333333333333,
              "#9c179e"
             ],
             [
              0.4444444444444444,
              "#bd3786"
             ],
             [
              0.5555555555555556,
              "#d8576b"
             ],
             [
              0.6666666666666666,
              "#ed7953"
             ],
             [
              0.7777777777777778,
              "#fb9f3a"
             ],
             [
              0.8888888888888888,
              "#fdca26"
             ],
             [
              1,
              "#f0f921"
             ]
            ],
            "type": "heatmap"
           }
          ],
          "heatmapgl": [
           {
            "colorbar": {
             "outlinewidth": 0,
             "ticks": ""
            },
            "colorscale": [
             [
              0,
              "#0d0887"
             ],
             [
              0.1111111111111111,
              "#46039f"
             ],
             [
              0.2222222222222222,
              "#7201a8"
             ],
             [
              0.3333333333333333,
              "#9c179e"
             ],
             [
              0.4444444444444444,
              "#bd3786"
             ],
             [
              0.5555555555555556,
              "#d8576b"
             ],
             [
              0.6666666666666666,
              "#ed7953"
             ],
             [
              0.7777777777777778,
              "#fb9f3a"
             ],
             [
              0.8888888888888888,
              "#fdca26"
             ],
             [
              1,
              "#f0f921"
             ]
            ],
            "type": "heatmapgl"
           }
          ],
          "histogram": [
           {
            "marker": {
             "pattern": {
              "fillmode": "overlay",
              "size": 10,
              "solidity": 0.2
             }
            },
            "type": "histogram"
           }
          ],
          "histogram2d": [
           {
            "colorbar": {
             "outlinewidth": 0,
             "ticks": ""
            },
            "colorscale": [
             [
              0,
              "#0d0887"
             ],
             [
              0.1111111111111111,
              "#46039f"
             ],
             [
              0.2222222222222222,
              "#7201a8"
             ],
             [
              0.3333333333333333,
              "#9c179e"
             ],
             [
              0.4444444444444444,
              "#bd3786"
             ],
             [
              0.5555555555555556,
              "#d8576b"
             ],
             [
              0.6666666666666666,
              "#ed7953"
             ],
             [
              0.7777777777777778,
              "#fb9f3a"
             ],
             [
              0.8888888888888888,
              "#fdca26"
             ],
             [
              1,
              "#f0f921"
             ]
            ],
            "type": "histogram2d"
           }
          ],
          "histogram2dcontour": [
           {
            "colorbar": {
             "outlinewidth": 0,
             "ticks": ""
            },
            "colorscale": [
             [
              0,
              "#0d0887"
             ],
             [
              0.1111111111111111,
              "#46039f"
             ],
             [
              0.2222222222222222,
              "#7201a8"
             ],
             [
              0.3333333333333333,
              "#9c179e"
             ],
             [
              0.4444444444444444,
              "#bd3786"
             ],
             [
              0.5555555555555556,
              "#d8576b"
             ],
             [
              0.6666666666666666,
              "#ed7953"
             ],
             [
              0.7777777777777778,
              "#fb9f3a"
             ],
             [
              0.8888888888888888,
              "#fdca26"
             ],
             [
              1,
              "#f0f921"
             ]
            ],
            "type": "histogram2dcontour"
           }
          ],
          "mesh3d": [
           {
            "colorbar": {
             "outlinewidth": 0,
             "ticks": ""
            },
            "type": "mesh3d"
           }
          ],
          "parcoords": [
           {
            "line": {
             "colorbar": {
              "outlinewidth": 0,
              "ticks": ""
             }
            },
            "type": "parcoords"
           }
          ],
          "pie": [
           {
            "automargin": true,
            "type": "pie"
           }
          ],
          "scatter": [
           {
            "fillpattern": {
             "fillmode": "overlay",
             "size": 10,
             "solidity": 0.2
            },
            "type": "scatter"
           }
          ],
          "scatter3d": [
           {
            "line": {
             "colorbar": {
              "outlinewidth": 0,
              "ticks": ""
             }
            },
            "marker": {
             "colorbar": {
              "outlinewidth": 0,
              "ticks": ""
             }
            },
            "type": "scatter3d"
           }
          ],
          "scattercarpet": [
           {
            "marker": {
             "colorbar": {
              "outlinewidth": 0,
              "ticks": ""
             }
            },
            "type": "scattercarpet"
           }
          ],
          "scattergeo": [
           {
            "marker": {
             "colorbar": {
              "outlinewidth": 0,
              "ticks": ""
             }
            },
            "type": "scattergeo"
           }
          ],
          "scattergl": [
           {
            "marker": {
             "colorbar": {
              "outlinewidth": 0,
              "ticks": ""
             }
            },
            "type": "scattergl"
           }
          ],
          "scattermapbox": [
           {
            "marker": {
             "colorbar": {
              "outlinewidth": 0,
              "ticks": ""
             }
            },
            "type": "scattermapbox"
           }
          ],
          "scatterpolar": [
           {
            "marker": {
             "colorbar": {
              "outlinewidth": 0,
              "ticks": ""
             }
            },
            "type": "scatterpolar"
           }
          ],
          "scatterpolargl": [
           {
            "marker": {
             "colorbar": {
              "outlinewidth": 0,
              "ticks": ""
             }
            },
            "type": "scatterpolargl"
           }
          ],
          "scatterternary": [
           {
            "marker": {
             "colorbar": {
              "outlinewidth": 0,
              "ticks": ""
             }
            },
            "type": "scatterternary"
           }
          ],
          "surface": [
           {
            "colorbar": {
             "outlinewidth": 0,
             "ticks": ""
            },
            "colorscale": [
             [
              0,
              "#0d0887"
             ],
             [
              0.1111111111111111,
              "#46039f"
             ],
             [
              0.2222222222222222,
              "#7201a8"
             ],
             [
              0.3333333333333333,
              "#9c179e"
             ],
             [
              0.4444444444444444,
              "#bd3786"
             ],
             [
              0.5555555555555556,
              "#d8576b"
             ],
             [
              0.6666666666666666,
              "#ed7953"
             ],
             [
              0.7777777777777778,
              "#fb9f3a"
             ],
             [
              0.8888888888888888,
              "#fdca26"
             ],
             [
              1,
              "#f0f921"
             ]
            ],
            "type": "surface"
           }
          ],
          "table": [
           {
            "cells": {
             "fill": {
              "color": "#EBF0F8"
             },
             "line": {
              "color": "white"
             }
            },
            "header": {
             "fill": {
              "color": "#C8D4E3"
             },
             "line": {
              "color": "white"
             }
            },
            "type": "table"
           }
          ]
         },
         "layout": {
          "annotationdefaults": {
           "arrowcolor": "#2a3f5f",
           "arrowhead": 0,
           "arrowwidth": 1
          },
          "autotypenumbers": "strict",
          "coloraxis": {
           "colorbar": {
            "outlinewidth": 0,
            "ticks": ""
           }
          },
          "colorscale": {
           "diverging": [
            [
             0,
             "#8e0152"
            ],
            [
             0.1,
             "#c51b7d"
            ],
            [
             0.2,
             "#de77ae"
            ],
            [
             0.3,
             "#f1b6da"
            ],
            [
             0.4,
             "#fde0ef"
            ],
            [
             0.5,
             "#f7f7f7"
            ],
            [
             0.6,
             "#e6f5d0"
            ],
            [
             0.7,
             "#b8e186"
            ],
            [
             0.8,
             "#7fbc41"
            ],
            [
             0.9,
             "#4d9221"
            ],
            [
             1,
             "#276419"
            ]
           ],
           "sequential": [
            [
             0,
             "#0d0887"
            ],
            [
             0.1111111111111111,
             "#46039f"
            ],
            [
             0.2222222222222222,
             "#7201a8"
            ],
            [
             0.3333333333333333,
             "#9c179e"
            ],
            [
             0.4444444444444444,
             "#bd3786"
            ],
            [
             0.5555555555555556,
             "#d8576b"
            ],
            [
             0.6666666666666666,
             "#ed7953"
            ],
            [
             0.7777777777777778,
             "#fb9f3a"
            ],
            [
             0.8888888888888888,
             "#fdca26"
            ],
            [
             1,
             "#f0f921"
            ]
           ],
           "sequentialminus": [
            [
             0,
             "#0d0887"
            ],
            [
             0.1111111111111111,
             "#46039f"
            ],
            [
             0.2222222222222222,
             "#7201a8"
            ],
            [
             0.3333333333333333,
             "#9c179e"
            ],
            [
             0.4444444444444444,
             "#bd3786"
            ],
            [
             0.5555555555555556,
             "#d8576b"
            ],
            [
             0.6666666666666666,
             "#ed7953"
            ],
            [
             0.7777777777777778,
             "#fb9f3a"
            ],
            [
             0.8888888888888888,
             "#fdca26"
            ],
            [
             1,
             "#f0f921"
            ]
           ]
          },
          "colorway": [
           "#636efa",
           "#EF553B",
           "#00cc96",
           "#ab63fa",
           "#FFA15A",
           "#19d3f3",
           "#FF6692",
           "#B6E880",
           "#FF97FF",
           "#FECB52"
          ],
          "font": {
           "color": "#2a3f5f"
          },
          "geo": {
           "bgcolor": "white",
           "lakecolor": "white",
           "landcolor": "#E5ECF6",
           "showlakes": true,
           "showland": true,
           "subunitcolor": "white"
          },
          "hoverlabel": {
           "align": "left"
          },
          "hovermode": "closest",
          "mapbox": {
           "style": "light"
          },
          "paper_bgcolor": "white",
          "plot_bgcolor": "#E5ECF6",
          "polar": {
           "angularaxis": {
            "gridcolor": "white",
            "linecolor": "white",
            "ticks": ""
           },
           "bgcolor": "#E5ECF6",
           "radialaxis": {
            "gridcolor": "white",
            "linecolor": "white",
            "ticks": ""
           }
          },
          "scene": {
           "xaxis": {
            "backgroundcolor": "#E5ECF6",
            "gridcolor": "white",
            "gridwidth": 2,
            "linecolor": "white",
            "showbackground": true,
            "ticks": "",
            "zerolinecolor": "white"
           },
           "yaxis": {
            "backgroundcolor": "#E5ECF6",
            "gridcolor": "white",
            "gridwidth": 2,
            "linecolor": "white",
            "showbackground": true,
            "ticks": "",
            "zerolinecolor": "white"
           },
           "zaxis": {
            "backgroundcolor": "#E5ECF6",
            "gridcolor": "white",
            "gridwidth": 2,
            "linecolor": "white",
            "showbackground": true,
            "ticks": "",
            "zerolinecolor": "white"
           }
          },
          "shapedefaults": {
           "line": {
            "color": "#2a3f5f"
           }
          },
          "ternary": {
           "aaxis": {
            "gridcolor": "white",
            "linecolor": "white",
            "ticks": ""
           },
           "baxis": {
            "gridcolor": "white",
            "linecolor": "white",
            "ticks": ""
           },
           "bgcolor": "#E5ECF6",
           "caxis": {
            "gridcolor": "white",
            "linecolor": "white",
            "ticks": ""
           }
          },
          "title": {
           "x": 0.05
          },
          "xaxis": {
           "automargin": true,
           "gridcolor": "white",
           "linecolor": "white",
           "ticks": "",
           "title": {
            "standoff": 15
           },
           "zerolinecolor": "white",
           "zerolinewidth": 2
          },
          "yaxis": {
           "automargin": true,
           "gridcolor": "white",
           "linecolor": "white",
           "ticks": "",
           "title": {
            "standoff": 15
           },
           "zerolinecolor": "white",
           "zerolinewidth": 2
          }
         }
        },
        "title": {
         "text": "Score vs Healthy life expectancy (Trendline)"
        },
        "width": 1000
       }
      }
     },
     "metadata": {},
     "output_type": "display_data"
    },
    {
     "name": "stdout",
     "output_type": "stream",
     "text": [
      "Score VS Freedom to make life choices\n",
      "Correlation:  0.5667418257199899\n"
     ]
    },
    {
     "data": {
      "application/vnd.plotly.v1+json": {
       "config": {
        "plotlyServerURL": "https://plot.ly"
       },
       "data": [
        {
         "mode": "markers",
         "name": "2015",
         "type": "scatter",
         "x": [
          0.66557,
          0.62877,
          0.64938,
          0.66973,
          0.63297,
          0.64169,
          0.61576,
          0.6598,
          0.63938,
          0.65124,
          0.41319,
          0.63376,
          0.62433,
          0.48181,
          0.54604,
          0.49049,
          0.61583,
          0.61777,
          0.5845,
          0.64157,
          0.59625,
          0.63274,
          0.42908,
          0.54252,
          0.5421,
          0.61477,
          0.44132,
          0.6404,
          0.55011,
          0.44974,
          0.46364,
          0.60362,
          0.53466,
          0.55664,
          0.31048,
          0.45951,
          0.60365,
          0.3974,
          0.55499,
          0.59657,
          0.55884,
          0.4035,
          0.57733,
          0.65821,
          0.31751,
          0.49615,
          0.33208,
          0.48574,
          0.45492,
          0.26236,
          0.57414,
          0.32818,
          0.53899,
          0.51649,
          0.60855,
          0.21342,
          0.55475,
          0.41496,
          0.37938,
          0.53122,
          0.53024,
          0.25883,
          0.41668,
          0.36679,
          0.50442,
          0.49027,
          0.40672,
          0.28579,
          0.24749,
          0.4761,
          0.56066,
          0.59608,
          0.44888,
          0.46611,
          0.59444,
          0.22815,
          0.43477,
          0.34334,
          0.53206,
          0.3703,
          0.12102,
          0.40661,
          0.1826,
          0.51697,
          0.48827,
          0.35068,
          0.20107,
          0.51469,
          0.29671,
          0.62545,
          0.46582,
          0.41691,
          0.33457,
          0.34037,
          0.35733,
          0.09245,
          0.31767,
          0.57672,
          0.59591,
          0.43626,
          0.30658,
          0.07699,
          0.33916,
          0.32112,
          0.40148,
          0.47216,
          0.26268,
          0.24499,
          0.4082,
          0.30033,
          0.25123,
          0,
          0.33207,
          0.42342,
          0.25861,
          0.28531,
          0.39786,
          0.10081,
          0.24425,
          0.22605,
          0.38282,
          0.4345,
          0.4084,
          0.24232,
          0.42215,
          0.46074,
          0.19847,
          0.49495,
          0.44017,
          0.40577,
          0.43054,
          0.53726,
          0.49309,
          0.30587,
          0.17288,
          0.35571,
          0.10384,
          0.38857,
          0.41466,
          0.22917,
          0.45727,
          0.36772,
          0.31914,
          0.47692,
          0.66246,
          0.32878,
          0.19184,
          0.48879,
          0.23501,
          0.37725,
          0.46866,
          0.39493,
          0.23414,
          0.59201,
          0.4845,
          0.15684,
          0.1185,
          0.36453
         ],
         "y": [
          7.587,
          7.561,
          7.527,
          7.522,
          7.427,
          7.406,
          7.378,
          7.364,
          7.286,
          7.284,
          7.278,
          7.226,
          7.2,
          7.187,
          7.119,
          6.983,
          6.946,
          6.94,
          6.937,
          6.901,
          6.867,
          6.853,
          6.81,
          6.798,
          6.786,
          6.75,
          6.67,
          6.611,
          6.575,
          6.574,
          6.505,
          6.485,
          6.477,
          6.455,
          6.411,
          6.329,
          6.302,
          6.298,
          6.295,
          6.269,
          6.168,
          6.13,
          6.123,
          6.003,
          5.995,
          5.987,
          5.984,
          5.975,
          5.96,
          5.948,
          5.89,
          5.889,
          5.878,
          5.855,
          5.848,
          5.833,
          5.828,
          5.824,
          5.813,
          5.791,
          5.77,
          5.759,
          5.754,
          5.716,
          5.709,
          5.695,
          5.689,
          5.605,
          5.589,
          5.548,
          5.477,
          5.474,
          5.429,
          5.399,
          5.36,
          5.332,
          5.286,
          5.268,
          5.253,
          5.212,
          5.194,
          5.192,
          5.192,
          5.14,
          5.129,
          5.124,
          5.123,
          5.102,
          5.098,
          5.073,
          5.057,
          5.013,
          5.007,
          4.971,
          4.959,
          4.949,
          4.898,
          4.885,
          4.876,
          4.874,
          4.867,
          4.857,
          4.839,
          4.8,
          4.788,
          4.786,
          4.739,
          4.715,
          4.694,
          4.686,
          4.681,
          4.677,
          4.642,
          4.633,
          4.61,
          4.571,
          4.565,
          4.55,
          4.518,
          4.517,
          4.514,
          4.512,
          4.507,
          4.436,
          4.419,
          4.369,
          4.35,
          4.332,
          4.307,
          4.297,
          4.292,
          4.271,
          4.252,
          4.218,
          4.194,
          4.077,
          4.033,
          3.995,
          3.989,
          3.956,
          3.931,
          3.904,
          3.896,
          3.845,
          3.819,
          3.781,
          3.681,
          3.678,
          3.667,
          3.656,
          3.655,
          3.587,
          3.575,
          3.465,
          3.34,
          3.006,
          2.905,
          2.839
         ]
        },
        {
         "mode": "markers",
         "name": "2016",
         "type": "scatter",
         "x": [
          0.57941,
          0.58557,
          0.56624,
          0.59609,
          0.57104,
          0.5737,
          0.55211,
          0.58147,
          0.56837,
          0.58218,
          0.36432,
          0.54355,
          0.48163,
          0.55225,
          0.46823,
          0.53466,
          0.40425,
          0.51354,
          0.54008,
          0.5487,
          0.37709,
          0.4877,
          0.50036,
          0.37789,
          0.48927,
          0.42284,
          0.41418,
          0.56215,
          0.54388,
          0.54994,
          0.44735,
          0.46562,
          0.49553,
          0.37904,
          0.32377,
          0.56679,
          0.37545,
          0.21006,
          0.50379,
          0.52234,
          0.43166,
          0.47375,
          0.48453,
          0.19847,
          0.23391,
          0.37269,
          0.39031,
          0.46582,
          0.60848,
          0.18827,
          0.4027,
          0.51231,
          0.46761,
          0.4052,
          0.25202,
          0.32682,
          0.4519,
          0.25168,
          0.50961,
          0.18929,
          0.29091,
          0.43596,
          0.53164,
          0.37502,
          0.37408,
          0.46145,
          0.40672,
          0.27996,
          0.29507,
          0.46235,
          0.36712,
          0.41511,
          0.43597,
          0.23907,
          0.48079,
          0.56778,
          0.14396,
          0.23889,
          0.39237,
          0.36023,
          0.35327,
          0.54854,
          0.44012,
          0.46074,
          0.40212,
          0.15718,
          0.09511,
          0.15111,
          0.52259,
          0.25646,
          0.1977,
          0.14622,
          0.26228,
          0.44727,
          0.27668,
          0.55954,
          0.3913,
          0.23553,
          0.05822,
          0.43408,
          0.35972,
          0.52168,
          0.27854,
          0.26755,
          0.22544,
          0.42662,
          0.37012,
          0.17744,
          0.31866,
          0.39778,
          0.30685,
          0.24856,
          0.48614,
          0.42736,
          0.36703,
          0.42483,
          0.50817,
          0.40285,
          0.42692,
          0.18847,
          0.14037,
          0.40576,
          0.12859,
          0.40973,
          0.15602,
          0.32461,
          0.37938,
          0.31056,
          0.21219,
          0.1268,
          0.25429,
          0.4143,
          0,
          0.28098,
          0.27544,
          0.12072,
          0.44089,
          0.15412,
          0.40663,
          0.58852,
          0.00589,
          0.38041,
          0.19662,
          0.12807,
          0.3337,
          0.43653,
          0.2287,
          0.13684,
          0.3176,
          0.25748,
          0.30953,
          0.5432,
          0.39747,
          0.1643,
          0.34678,
          0.06912,
          0.0432
         ],
         "y": [
          7.526,
          7.509,
          7.501,
          7.498,
          7.413,
          7.404,
          7.339,
          7.334,
          7.313,
          7.291,
          7.267,
          7.119,
          7.104,
          7.087,
          7.039,
          6.994,
          6.952,
          6.929,
          6.907,
          6.871,
          6.778,
          6.739,
          6.725,
          6.705,
          6.701,
          6.65,
          6.596,
          6.573,
          6.545,
          6.488,
          6.481,
          6.478,
          6.474,
          6.379,
          6.379,
          6.375,
          6.361,
          6.355,
          6.324,
          6.269,
          6.239,
          6.218,
          6.168,
          6.084,
          6.078,
          6.068,
          6.005,
          5.992,
          5.987,
          5.977,
          5.976,
          5.956,
          5.921,
          5.919,
          5.897,
          5.856,
          5.835,
          5.835,
          5.822,
          5.813,
          5.802,
          5.771,
          5.768,
          5.743,
          5.658,
          5.648,
          5.615,
          5.56,
          5.546,
          5.538,
          5.528,
          5.517,
          5.51,
          5.488,
          5.458,
          5.44,
          5.401,
          5.389,
          5.314,
          5.303,
          5.291,
          5.279,
          5.245,
          5.196,
          5.185,
          5.177,
          5.163,
          5.161,
          5.155,
          5.151,
          5.145,
          5.132,
          5.129,
          5.123,
          5.121,
          5.061,
          5.057,
          5.045,
          5.033,
          4.996,
          4.907,
          4.876,
          4.875,
          4.871,
          4.813,
          4.795,
          4.793,
          4.754,
          4.655,
          4.643,
          4.635,
          4.575,
          4.574,
          4.513,
          4.508,
          4.459,
          4.415,
          4.404,
          4.395,
          4.362,
          4.36,
          4.356,
          4.324,
          4.276,
          4.272,
          4.252,
          4.236,
          4.219,
          4.217,
          4.201,
          4.193,
          4.156,
          4.139,
          4.121,
          4.073,
          4.028,
          3.974,
          3.956,
          3.916,
          3.907,
          3.866,
          3.856,
          3.832,
          3.763,
          3.739,
          3.739,
          3.724,
          3.695,
          3.666,
          3.622,
          3.607,
          3.515,
          3.484,
          3.36,
          3.303,
          3.069,
          2.905
         ]
        },
        {
         "mode": "markers",
         "name": "2017",
         "type": "scatter",
         "x": [
          0.635422587394714,
          0.626006722450256,
          0.627162635326385,
          0.620070576667786,
          0.617950856685638,
          0.585384488105774,
          0.611100912094116,
          0.614062130451202,
          0.612924098968506,
          0.601607382297516,
          0.405988603830338,
          0.580131649971008,
          0.567766189575195,
          0.505740523338318,
          0.573110342025757,
          0.562511384487152,
          0.539770722389221,
          0.59662789106369,
          0.508190035820007,
          0.376895278692245,
          0.60834527015686,
          0.437453746795654,
          0.490946173667908,
          0.494519203901291,
          0.412730008363724,
          0.549840569496155,
          0.588767051696777,
          0.57939225435257,
          0.531310617923737,
          0.550026834011078,
          0.470222115516663,
          0.580200731754303,
          0.361466586589813,
          0.408781230449677,
          0.604130983352661,
          0.477487415075302,
          0.449750572443008,
          0.518630743026733,
          0.496337592601776,
          0.295817464590073,
          0.536746919155121,
          0.402264982461929,
          0.447551846504211,
          0.4551981985569,
          0.432452529668808,
          0.520342111587524,
          0.658248662948608,
          0.256450712680817,
          0.373783111572266,
          0.547509372234344,
          0.505625545978546,
          0.234231784939766,
          0.233335807919502,
          0.325707912445068,
          0.257921665906906,
          0.240729048848152,
          0.457003742456436,
          0.558732926845551,
          0.41827192902565,
          0.437454283237457,
          0.471203625202179,
          0.572575807571411,
          0.450002878904343,
          0.491247326135635,
          0.355111539363861,
          0.479131430387497,
          0.295400261878967,
          0.465733230113983,
          0.300740599632263,
          0.473507791757584,
          0.490968644618988,
          0.585214674472809,
          0.208715528249741,
          0.418421149253845,
          0.175863519310951,
          0.474307239055634,
          0.255772292613983,
          0.260287940502167,
          0.472787708044052,
          0.23521526157856,
          0.443323463201523,
          0.153997123241425,
          0.194989055395126,
          0.408158332109451,
          0.398155838251114,
          0.55258983373642,
          0.0957312509417534,
          0.288515985012054,
          0.498465299606323,
          0.204403176903725,
          0.348079860210419,
          0.325905978679657,
          0.602126955986023,
          0.571055591106415,
          0.394952565431595,
          0.471566706895828,
          0.501537680625916,
          0.454943388700485,
          0.440305948257446,
          0.394143968820572,
          0.479246735572815,
          0.289680689573288,
          0.25471106171608,
          0.282110154628754,
          0.289231717586517,
          0.318697690963745,
          0.430388748645782,
          0.249322608113289,
          0.381498634815216,
          0.478356659412384,
          0.520303547382355,
          0.452763766050339,
          0.480791091918945,
          0.514492034912109,
          0.377922266721725,
          0.461603492498398,
          0.288555532693863,
          0.312328577041626,
          0.408842742443085,
          0.561213254928589,
          0.198303267359734,
          0.469987004995346,
          0.0960980430245399,
          0.435025870800018,
          0.309410035610199,
          0.235961347818375,
          0.306613743305206,
          0.447706192731857,
          0.633375823497772,
          0.0149958552792668,
          0.423026293516159,
          0.122974775731564,
          0.443185955286026,
          0.324367851018906,
          0.36365869641304,
          0.466914653778076,
          0.16234202682972,
          0.336384207010269,
          0.390661299228668,
          0,
          0.106179520487785,
          0.505196332931519,
          0.425962775945663,
          0.189196765422821,
          0.0303698573261499,
          0.249463722109795,
          0.147062435746193,
          0.332881182432175,
          0.348587512969971,
          0.38042613863945,
          0.581843852996826,
          0.0815394446253777,
          0.390017777681351,
          0.0599007532000542,
          0.270842045545578
         ],
         "y": [
          7.53700017929077,
          7.52199983596802,
          7.50400018692017,
          7.49399995803833,
          7.4689998626709,
          7.3769998550415,
          7.31599998474121,
          7.31400012969971,
          7.28399991989136,
          7.28399991989136,
          7.21299982070923,
          7.0789999961853,
          7.00600004196167,
          6.99300003051758,
          6.97700023651123,
          6.95100021362305,
          6.89099979400635,
          6.86299991607666,
          6.71400022506714,
          6.65199995040894,
          6.64799976348877,
          6.63500022888184,
          6.60900020599365,
          6.59899997711182,
          6.57800006866455,
          6.57200002670288,
          6.52699995040894,
          6.4539999961853,
          6.4539999961853,
          6.4520001411438,
          6.44199991226196,
          6.42399978637695,
          6.42199993133545,
          6.40299987792969,
          6.375,
          6.35699987411499,
          6.3439998626709,
          6.16800022125244,
          6.10500001907349,
          6.09800004959106,
          6.08699989318848,
          6.08400011062622,
          6.07100009918213,
          6.00799989700317,
          6.00299978256226,
          5.97300004959106,
          5.97100019454956,
          5.96400022506714,
          5.96299982070923,
          5.95599985122681,
          5.92000007629395,
          5.90199995040894,
          5.87200021743774,
          5.84999990463257,
          5.83799982070923,
          5.83799982070923,
          5.82499980926514,
          5.82299995422363,
          5.82200002670288,
          5.81899976730347,
          5.80999994277954,
          5.75799989700317,
          5.71500015258789,
          5.62900018692017,
          5.62099981307983,
          5.61100006103516,
          5.56899976730347,
          5.52500009536743,
          5.5,
          5.49300003051758,
          5.47200012207031,
          5.42999982833862,
          5.39499998092651,
          5.33599996566772,
          5.32399988174438,
          5.31099987030029,
          5.29300022125244,
          5.27899980545044,
          5.27299976348877,
          5.26900005340576,
          5.26200008392334,
          5.25,
          5.23699998855591,
          5.2350001335144,
          5.23400020599365,
          5.23000001907349,
          5.22700023651123,
          5.22499990463257,
          5.19500017166138,
          5.18200016021729,
          5.18100023269653,
          5.17500019073486,
          5.15100002288818,
          5.07399988174438,
          5.07399988174438,
          5.04099988937378,
          5.01100015640259,
          5.00400018692017,
          4.96199989318848,
          4.95499992370605,
          4.8289999961853,
          4.80499982833862,
          4.77500009536743,
          4.7350001335144,
          4.71400022506714,
          4.70900011062622,
          4.69500017166138,
          4.69199991226196,
          4.64400005340576,
          4.60799980163574,
          4.57399988174438,
          4.55299997329712,
          4.55000019073486,
          4.54500007629395,
          4.53499984741211,
          4.51399993896484,
          4.49700021743774,
          4.46500015258789,
          4.46000003814697,
          4.44000005722046,
          4.37599992752075,
          4.31500005722046,
          4.29199981689453,
          4.29099988937378,
          4.28599977493286,
          4.28000020980835,
          4.19000005722046,
          4.17999982833862,
          4.16800022125244,
          4.13899993896484,
          4.11999988555908,
          4.09600019454956,
          4.08099985122681,
          4.03200006484985,
          4.02799987792969,
          3.97000002861023,
          3.93600010871887,
          3.875,
          3.80800008773804,
          3.79500007629395,
          3.79399991035461,
          3.76600003242493,
          3.65700006484985,
          3.64400005340576,
          3.6029999256134,
          3.59299993515015,
          3.59100008010864,
          3.53299999237061,
          3.50699996948242,
          3.49499988555908,
          3.47099995613098,
          3.46199989318848,
          3.34899997711182,
          2.90499997138977,
          2.69300007820129
         ]
        },
        {
         "mode": "markers",
         "name": "2018",
         "type": "scatter",
         "x": [
          0.681,
          0.686,
          0.683,
          0.677,
          0.66,
          0.638,
          0.653,
          0.669,
          0.659,
          0.647,
          0.464,
          0.617,
          0.632,
          0.614,
          0.586,
          0.583,
          0.632,
          0.547,
          0.533,
          0.543,
          0.645,
          0.52,
          0.479,
          0.431,
          0.418,
          0.597,
          0.493,
          0.57,
          0.604,
          0.625,
          0.654,
          0.509,
          0.631,
          0.356,
          0.449,
          0.531,
          0.575,
          0.354,
          0.461,
          0.527,
          0.546,
          0.594,
          0.724,
          0.554,
          0.637,
          0.281,
          0.556,
          0.593,
          0.35,
          0.633,
          0.528,
          0.363,
          0.553,
          0.584,
          0.575,
          0.244,
          0.495,
          0.399,
          0.454,
          0.423,
          0.606,
          0.553,
          0.541,
          0.53,
          0.448,
          0.232,
          0.417,
          0.259,
          0.496,
          0.643,
          0.459,
          0.307,
          0.324,
          0.334,
          0.524,
          0.562,
          0.288,
          0.131,
          0.503,
          0.259,
          0.38,
          0.578,
          0.077,
          0.46,
          0.597,
          0.43,
          0.292,
          0.394,
          0.468,
          0.462,
          0.54,
          0.28,
          0.395,
          0.618,
          0.538,
          0.541,
          0.674,
          0.454,
          0.359,
          0.526,
          0.133,
          0.356,
          0.266,
          0.516,
          0.459,
          0.467,
          0.499,
          0.406,
          0.626,
          0.271,
          0.419,
          0.355,
          0.514,
          0.58,
          0.585,
          0.304,
          0.367,
          0.519,
          0.696,
          0.312,
          0.312,
          0.531,
          0.504,
          0.503,
          0.129,
          0.452,
          0.375,
          0.26,
          0.58,
          0.189,
          0.312,
          0.539,
          0.39,
          0.45,
          0.44,
          0.016,
          0.163,
          0.434,
          0.394,
          0.423,
          0,
          0.221,
          0.406,
          0.085,
          0.557,
          0.531,
          0.025,
          0.419,
          0.088,
          0.636,
          0.244,
          0.481,
          0.112,
          0.305,
          0.065
         ],
         "y": [
          7.632,
          7.594,
          7.555,
          7.495,
          7.487,
          7.441,
          7.328,
          7.324,
          7.314,
          7.272,
          7.19,
          7.139,
          7.072,
          6.977,
          6.965,
          6.927,
          6.91,
          6.886,
          6.814,
          6.711,
          6.627,
          6.489,
          6.488,
          6.476,
          6.441,
          6.43,
          6.419,
          6.388,
          6.382,
          6.379,
          6.374,
          6.371,
          6.343,
          6.322,
          6.31,
          6.26,
          6.192,
          6.173,
          6.167,
          6.141,
          6.123,
          6.105,
          6.096,
          6.083,
          6.072,
          6,
          5.973,
          5.956,
          5.952,
          5.948,
          5.945,
          5.933,
          5.915,
          5.891,
          5.89,
          5.875,
          5.835,
          5.81,
          5.79,
          5.762,
          5.752,
          5.739,
          5.681,
          5.663,
          5.662,
          5.64,
          5.636,
          5.62,
          5.566,
          5.524,
          5.504,
          5.483,
          5.483,
          5.472,
          5.43,
          5.41,
          5.398,
          5.358,
          5.358,
          5.347,
          5.321,
          5.302,
          5.295,
          5.254,
          5.246,
          5.201,
          5.199,
          5.185,
          5.161,
          5.155,
          5.131,
          5.129,
          5.125,
          5.103,
          5.093,
          5.082,
          4.982,
          4.975,
          4.933,
          4.88,
          4.806,
          4.758,
          4.743,
          4.724,
          4.707,
          4.671,
          4.657,
          4.631,
          4.623,
          4.592,
          4.586,
          4.571,
          4.559,
          4.5,
          4.471,
          4.456,
          4.447,
          4.441,
          4.433,
          4.424,
          4.419,
          4.417,
          4.41,
          4.377,
          4.356,
          4.35,
          4.34,
          4.321,
          4.308,
          4.301,
          4.245,
          4.19,
          4.166,
          4.161,
          4.141,
          4.139,
          4.103,
          3.999,
          3.964,
          3.808,
          3.795,
          3.774,
          3.692,
          3.632,
          3.59,
          3.587,
          3.582,
          3.495,
          3.462,
          3.408,
          3.355,
          3.303,
          3.254,
          3.083,
          2.905
         ]
        },
        {
         "mode": "markers",
         "name": "2019",
         "type": "scatter",
         "x": [
          0.596,
          0.592,
          0.603,
          0.591,
          0.557,
          0.572,
          0.574,
          0.585,
          0.584,
          0.532,
          0.557,
          0.558,
          0.371,
          0.526,
          0.45,
          0.516,
          0.495,
          0.473,
          0.454,
          0.457,
          0.598,
          0.564,
          0.433,
          0.436,
          0.351,
          0.357,
          0.535,
          0.439,
          0.555,
          0.362,
          0.516,
          0.39,
          0.523,
          0.556,
          0.43,
          0.231,
          0.536,
          0.334,
          0.489,
          0.483,
          0.631,
          0.291,
          0.47,
          0.564,
          0.435,
          0.489,
          0.471,
          0.462,
          0.406,
          0.498,
          0.493,
          0.557,
          0.264,
          0.159,
          0.495,
          0.49,
          0.498,
          0.445,
          0.507,
          0.41,
          0.511,
          0.199,
          0.514,
          0.417,
          0.455,
          0.508,
          0.313,
          0.334,
          0.558,
          0.282,
          0.245,
          0.416,
          0.197,
          0.389,
          0.296,
          0.44,
          0.497,
          0.212,
          0.195,
          0.508,
          0.235,
          0.067,
          0.317,
          0.345,
          0.426,
          0.508,
          0.394,
          0.086,
          0.418,
          0.351,
          0.216,
          0.491,
          0.521,
          0.543,
          0.457,
          0.381,
          0.311,
          0.381,
          0.352,
          0.439,
          0.383,
          0.349,
          0.372,
          0.295,
          0.547,
          0.389,
          0.383,
          0.154,
          0.609,
          0.225,
          0.292,
          0.559,
          0.401,
          0.318,
          0.255,
          0.283,
          0.305,
          0.332,
          0.346,
          0.382,
          0.431,
          0.066,
          0.494,
          0.167,
          0.527,
          0.241,
          0.269,
          0.327,
          0.309,
          0.47,
          0.525,
          0.174,
          0.178,
          0.344,
          0.313,
          0.356,
          0.241,
          0.431,
          0.293,
          0.498,
          0.37,
          0.142,
          0.148,
          0.359,
          0.22,
          0.361,
          0.026,
          0.455,
          0.013,
          0.443,
          0.143,
          0.555,
          0.417,
          0,
          0.225,
          0.01
         ],
         "y": [
          7.769,
          7.6,
          7.554,
          7.494,
          7.488,
          7.48,
          7.343,
          7.307,
          7.278,
          7.246,
          7.228,
          7.167,
          7.139,
          7.09,
          7.054,
          7.021,
          6.985,
          6.923,
          6.892,
          6.852,
          6.825,
          6.726,
          6.595,
          6.592,
          6.446,
          6.444,
          6.436,
          6.375,
          6.374,
          6.354,
          6.321,
          6.3,
          6.293,
          6.262,
          6.253,
          6.223,
          6.199,
          6.198,
          6.192,
          6.182,
          6.174,
          6.149,
          6.125,
          6.118,
          6.105,
          6.1,
          6.086,
          6.07,
          6.046,
          6.028,
          6.021,
          6.008,
          5.94,
          5.895,
          5.893,
          5.89,
          5.888,
          5.886,
          5.86,
          5.809,
          5.779,
          5.758,
          5.743,
          5.718,
          5.697,
          5.693,
          5.653,
          5.648,
          5.631,
          5.603,
          5.529,
          5.525,
          5.523,
          5.467,
          5.432,
          5.43,
          5.425,
          5.386,
          5.373,
          5.339,
          5.323,
          5.287,
          5.285,
          5.274,
          5.265,
          5.261,
          5.247,
          5.211,
          5.208,
          5.208,
          5.197,
          5.192,
          5.191,
          5.175,
          5.082,
          5.044,
          5.011,
          4.996,
          4.944,
          4.913,
          4.906,
          4.883,
          4.812,
          4.799,
          4.796,
          4.722,
          4.719,
          4.707,
          4.7,
          4.696,
          4.681,
          4.668,
          4.639,
          4.628,
          4.587,
          4.559,
          4.548,
          4.534,
          4.519,
          4.516,
          4.509,
          4.49,
          4.466,
          4.461,
          4.456,
          4.437,
          4.418,
          4.39,
          4.374,
          4.366,
          4.36,
          4.35,
          4.332,
          4.286,
          4.212,
          4.189,
          4.166,
          4.107,
          4.085,
          4.015,
          3.975,
          3.973,
          3.933,
          3.802,
          3.775,
          3.663,
          3.597,
          3.488,
          3.462,
          3.41,
          3.38,
          3.334,
          3.231,
          3.203,
          3.083,
          2.853
         ]
        }
       ],
       "layout": {
        "height": 500,
        "template": {
         "data": {
          "bar": [
           {
            "error_x": {
             "color": "#2a3f5f"
            },
            "error_y": {
             "color": "#2a3f5f"
            },
            "marker": {
             "line": {
              "color": "#E5ECF6",
              "width": 0.5
             },
             "pattern": {
              "fillmode": "overlay",
              "size": 10,
              "solidity": 0.2
             }
            },
            "type": "bar"
           }
          ],
          "barpolar": [
           {
            "marker": {
             "line": {
              "color": "#E5ECF6",
              "width": 0.5
             },
             "pattern": {
              "fillmode": "overlay",
              "size": 10,
              "solidity": 0.2
             }
            },
            "type": "barpolar"
           }
          ],
          "carpet": [
           {
            "aaxis": {
             "endlinecolor": "#2a3f5f",
             "gridcolor": "white",
             "linecolor": "white",
             "minorgridcolor": "white",
             "startlinecolor": "#2a3f5f"
            },
            "baxis": {
             "endlinecolor": "#2a3f5f",
             "gridcolor": "white",
             "linecolor": "white",
             "minorgridcolor": "white",
             "startlinecolor": "#2a3f5f"
            },
            "type": "carpet"
           }
          ],
          "choropleth": [
           {
            "colorbar": {
             "outlinewidth": 0,
             "ticks": ""
            },
            "type": "choropleth"
           }
          ],
          "contour": [
           {
            "colorbar": {
             "outlinewidth": 0,
             "ticks": ""
            },
            "colorscale": [
             [
              0,
              "#0d0887"
             ],
             [
              0.1111111111111111,
              "#46039f"
             ],
             [
              0.2222222222222222,
              "#7201a8"
             ],
             [
              0.3333333333333333,
              "#9c179e"
             ],
             [
              0.4444444444444444,
              "#bd3786"
             ],
             [
              0.5555555555555556,
              "#d8576b"
             ],
             [
              0.6666666666666666,
              "#ed7953"
             ],
             [
              0.7777777777777778,
              "#fb9f3a"
             ],
             [
              0.8888888888888888,
              "#fdca26"
             ],
             [
              1,
              "#f0f921"
             ]
            ],
            "type": "contour"
           }
          ],
          "contourcarpet": [
           {
            "colorbar": {
             "outlinewidth": 0,
             "ticks": ""
            },
            "type": "contourcarpet"
           }
          ],
          "heatmap": [
           {
            "colorbar": {
             "outlinewidth": 0,
             "ticks": ""
            },
            "colorscale": [
             [
              0,
              "#0d0887"
             ],
             [
              0.1111111111111111,
              "#46039f"
             ],
             [
              0.2222222222222222,
              "#7201a8"
             ],
             [
              0.3333333333333333,
              "#9c179e"
             ],
             [
              0.4444444444444444,
              "#bd3786"
             ],
             [
              0.5555555555555556,
              "#d8576b"
             ],
             [
              0.6666666666666666,
              "#ed7953"
             ],
             [
              0.7777777777777778,
              "#fb9f3a"
             ],
             [
              0.8888888888888888,
              "#fdca26"
             ],
             [
              1,
              "#f0f921"
             ]
            ],
            "type": "heatmap"
           }
          ],
          "heatmapgl": [
           {
            "colorbar": {
             "outlinewidth": 0,
             "ticks": ""
            },
            "colorscale": [
             [
              0,
              "#0d0887"
             ],
             [
              0.1111111111111111,
              "#46039f"
             ],
             [
              0.2222222222222222,
              "#7201a8"
             ],
             [
              0.3333333333333333,
              "#9c179e"
             ],
             [
              0.4444444444444444,
              "#bd3786"
             ],
             [
              0.5555555555555556,
              "#d8576b"
             ],
             [
              0.6666666666666666,
              "#ed7953"
             ],
             [
              0.7777777777777778,
              "#fb9f3a"
             ],
             [
              0.8888888888888888,
              "#fdca26"
             ],
             [
              1,
              "#f0f921"
             ]
            ],
            "type": "heatmapgl"
           }
          ],
          "histogram": [
           {
            "marker": {
             "pattern": {
              "fillmode": "overlay",
              "size": 10,
              "solidity": 0.2
             }
            },
            "type": "histogram"
           }
          ],
          "histogram2d": [
           {
            "colorbar": {
             "outlinewidth": 0,
             "ticks": ""
            },
            "colorscale": [
             [
              0,
              "#0d0887"
             ],
             [
              0.1111111111111111,
              "#46039f"
             ],
             [
              0.2222222222222222,
              "#7201a8"
             ],
             [
              0.3333333333333333,
              "#9c179e"
             ],
             [
              0.4444444444444444,
              "#bd3786"
             ],
             [
              0.5555555555555556,
              "#d8576b"
             ],
             [
              0.6666666666666666,
              "#ed7953"
             ],
             [
              0.7777777777777778,
              "#fb9f3a"
             ],
             [
              0.8888888888888888,
              "#fdca26"
             ],
             [
              1,
              "#f0f921"
             ]
            ],
            "type": "histogram2d"
           }
          ],
          "histogram2dcontour": [
           {
            "colorbar": {
             "outlinewidth": 0,
             "ticks": ""
            },
            "colorscale": [
             [
              0,
              "#0d0887"
             ],
             [
              0.1111111111111111,
              "#46039f"
             ],
             [
              0.2222222222222222,
              "#7201a8"
             ],
             [
              0.3333333333333333,
              "#9c179e"
             ],
             [
              0.4444444444444444,
              "#bd3786"
             ],
             [
              0.5555555555555556,
              "#d8576b"
             ],
             [
              0.6666666666666666,
              "#ed7953"
             ],
             [
              0.7777777777777778,
              "#fb9f3a"
             ],
             [
              0.8888888888888888,
              "#fdca26"
             ],
             [
              1,
              "#f0f921"
             ]
            ],
            "type": "histogram2dcontour"
           }
          ],
          "mesh3d": [
           {
            "colorbar": {
             "outlinewidth": 0,
             "ticks": ""
            },
            "type": "mesh3d"
           }
          ],
          "parcoords": [
           {
            "line": {
             "colorbar": {
              "outlinewidth": 0,
              "ticks": ""
             }
            },
            "type": "parcoords"
           }
          ],
          "pie": [
           {
            "automargin": true,
            "type": "pie"
           }
          ],
          "scatter": [
           {
            "fillpattern": {
             "fillmode": "overlay",
             "size": 10,
             "solidity": 0.2
            },
            "type": "scatter"
           }
          ],
          "scatter3d": [
           {
            "line": {
             "colorbar": {
              "outlinewidth": 0,
              "ticks": ""
             }
            },
            "marker": {
             "colorbar": {
              "outlinewidth": 0,
              "ticks": ""
             }
            },
            "type": "scatter3d"
           }
          ],
          "scattercarpet": [
           {
            "marker": {
             "colorbar": {
              "outlinewidth": 0,
              "ticks": ""
             }
            },
            "type": "scattercarpet"
           }
          ],
          "scattergeo": [
           {
            "marker": {
             "colorbar": {
              "outlinewidth": 0,
              "ticks": ""
             }
            },
            "type": "scattergeo"
           }
          ],
          "scattergl": [
           {
            "marker": {
             "colorbar": {
              "outlinewidth": 0,
              "ticks": ""
             }
            },
            "type": "scattergl"
           }
          ],
          "scattermapbox": [
           {
            "marker": {
             "colorbar": {
              "outlinewidth": 0,
              "ticks": ""
             }
            },
            "type": "scattermapbox"
           }
          ],
          "scatterpolar": [
           {
            "marker": {
             "colorbar": {
              "outlinewidth": 0,
              "ticks": ""
             }
            },
            "type": "scatterpolar"
           }
          ],
          "scatterpolargl": [
           {
            "marker": {
             "colorbar": {
              "outlinewidth": 0,
              "ticks": ""
             }
            },
            "type": "scatterpolargl"
           }
          ],
          "scatterternary": [
           {
            "marker": {
             "colorbar": {
              "outlinewidth": 0,
              "ticks": ""
             }
            },
            "type": "scatterternary"
           }
          ],
          "surface": [
           {
            "colorbar": {
             "outlinewidth": 0,
             "ticks": ""
            },
            "colorscale": [
             [
              0,
              "#0d0887"
             ],
             [
              0.1111111111111111,
              "#46039f"
             ],
             [
              0.2222222222222222,
              "#7201a8"
             ],
             [
              0.3333333333333333,
              "#9c179e"
             ],
             [
              0.4444444444444444,
              "#bd3786"
             ],
             [
              0.5555555555555556,
              "#d8576b"
             ],
             [
              0.6666666666666666,
              "#ed7953"
             ],
             [
              0.7777777777777778,
              "#fb9f3a"
             ],
             [
              0.8888888888888888,
              "#fdca26"
             ],
             [
              1,
              "#f0f921"
             ]
            ],
            "type": "surface"
           }
          ],
          "table": [
           {
            "cells": {
             "fill": {
              "color": "#EBF0F8"
             },
             "line": {
              "color": "white"
             }
            },
            "header": {
             "fill": {
              "color": "#C8D4E3"
             },
             "line": {
              "color": "white"
             }
            },
            "type": "table"
           }
          ]
         },
         "layout": {
          "annotationdefaults": {
           "arrowcolor": "#2a3f5f",
           "arrowhead": 0,
           "arrowwidth": 1
          },
          "autotypenumbers": "strict",
          "coloraxis": {
           "colorbar": {
            "outlinewidth": 0,
            "ticks": ""
           }
          },
          "colorscale": {
           "diverging": [
            [
             0,
             "#8e0152"
            ],
            [
             0.1,
             "#c51b7d"
            ],
            [
             0.2,
             "#de77ae"
            ],
            [
             0.3,
             "#f1b6da"
            ],
            [
             0.4,
             "#fde0ef"
            ],
            [
             0.5,
             "#f7f7f7"
            ],
            [
             0.6,
             "#e6f5d0"
            ],
            [
             0.7,
             "#b8e186"
            ],
            [
             0.8,
             "#7fbc41"
            ],
            [
             0.9,
             "#4d9221"
            ],
            [
             1,
             "#276419"
            ]
           ],
           "sequential": [
            [
             0,
             "#0d0887"
            ],
            [
             0.1111111111111111,
             "#46039f"
            ],
            [
             0.2222222222222222,
             "#7201a8"
            ],
            [
             0.3333333333333333,
             "#9c179e"
            ],
            [
             0.4444444444444444,
             "#bd3786"
            ],
            [
             0.5555555555555556,
             "#d8576b"
            ],
            [
             0.6666666666666666,
             "#ed7953"
            ],
            [
             0.7777777777777778,
             "#fb9f3a"
            ],
            [
             0.8888888888888888,
             "#fdca26"
            ],
            [
             1,
             "#f0f921"
            ]
           ],
           "sequentialminus": [
            [
             0,
             "#0d0887"
            ],
            [
             0.1111111111111111,
             "#46039f"
            ],
            [
             0.2222222222222222,
             "#7201a8"
            ],
            [
             0.3333333333333333,
             "#9c179e"
            ],
            [
             0.4444444444444444,
             "#bd3786"
            ],
            [
             0.5555555555555556,
             "#d8576b"
            ],
            [
             0.6666666666666666,
             "#ed7953"
            ],
            [
             0.7777777777777778,
             "#fb9f3a"
            ],
            [
             0.8888888888888888,
             "#fdca26"
            ],
            [
             1,
             "#f0f921"
            ]
           ]
          },
          "colorway": [
           "#636efa",
           "#EF553B",
           "#00cc96",
           "#ab63fa",
           "#FFA15A",
           "#19d3f3",
           "#FF6692",
           "#B6E880",
           "#FF97FF",
           "#FECB52"
          ],
          "font": {
           "color": "#2a3f5f"
          },
          "geo": {
           "bgcolor": "white",
           "lakecolor": "white",
           "landcolor": "#E5ECF6",
           "showlakes": true,
           "showland": true,
           "subunitcolor": "white"
          },
          "hoverlabel": {
           "align": "left"
          },
          "hovermode": "closest",
          "mapbox": {
           "style": "light"
          },
          "paper_bgcolor": "white",
          "plot_bgcolor": "#E5ECF6",
          "polar": {
           "angularaxis": {
            "gridcolor": "white",
            "linecolor": "white",
            "ticks": ""
           },
           "bgcolor": "#E5ECF6",
           "radialaxis": {
            "gridcolor": "white",
            "linecolor": "white",
            "ticks": ""
           }
          },
          "scene": {
           "xaxis": {
            "backgroundcolor": "#E5ECF6",
            "gridcolor": "white",
            "gridwidth": 2,
            "linecolor": "white",
            "showbackground": true,
            "ticks": "",
            "zerolinecolor": "white"
           },
           "yaxis": {
            "backgroundcolor": "#E5ECF6",
            "gridcolor": "white",
            "gridwidth": 2,
            "linecolor": "white",
            "showbackground": true,
            "ticks": "",
            "zerolinecolor": "white"
           },
           "zaxis": {
            "backgroundcolor": "#E5ECF6",
            "gridcolor": "white",
            "gridwidth": 2,
            "linecolor": "white",
            "showbackground": true,
            "ticks": "",
            "zerolinecolor": "white"
           }
          },
          "shapedefaults": {
           "line": {
            "color": "#2a3f5f"
           }
          },
          "ternary": {
           "aaxis": {
            "gridcolor": "white",
            "linecolor": "white",
            "ticks": ""
           },
           "baxis": {
            "gridcolor": "white",
            "linecolor": "white",
            "ticks": ""
           },
           "bgcolor": "#E5ECF6",
           "caxis": {
            "gridcolor": "white",
            "linecolor": "white",
            "ticks": ""
           }
          },
          "title": {
           "x": 0.05
          },
          "xaxis": {
           "automargin": true,
           "gridcolor": "white",
           "linecolor": "white",
           "ticks": "",
           "title": {
            "standoff": 15
           },
           "zerolinecolor": "white",
           "zerolinewidth": 2
          },
          "yaxis": {
           "automargin": true,
           "gridcolor": "white",
           "linecolor": "white",
           "ticks": "",
           "title": {
            "standoff": 15
           },
           "zerolinecolor": "white",
           "zerolinewidth": 2
          }
         }
        },
        "title": {
         "text": "Score vs Freedom to make life choices"
        },
        "width": 1000
       }
      }
     },
     "metadata": {},
     "output_type": "display_data"
    },
    {
     "data": {
      "application/vnd.plotly.v1+json": {
       "config": {
        "plotlyServerURL": "https://plot.ly"
       },
       "data": [
        {
         "mode": "lines",
         "name": "2015",
         "type": "scatter",
         "x": [
          0.66557,
          0.62877,
          0.64938,
          0.66973,
          0.63297,
          0.64169,
          0.61576,
          0.6598,
          0.63938,
          0.65124,
          0.41319,
          0.63376,
          0.62433,
          0.48181,
          0.54604,
          0.49049,
          0.61583,
          0.61777,
          0.5845,
          0.64157,
          0.59625,
          0.63274,
          0.42908,
          0.54252,
          0.5421,
          0.61477,
          0.44132,
          0.6404,
          0.55011,
          0.44974,
          0.46364,
          0.60362,
          0.53466,
          0.55664,
          0.31048,
          0.45951,
          0.60365,
          0.3974,
          0.55499,
          0.59657,
          0.55884,
          0.4035,
          0.57733,
          0.65821,
          0.31751,
          0.49615,
          0.33208,
          0.48574,
          0.45492,
          0.26236,
          0.57414,
          0.32818,
          0.53899,
          0.51649,
          0.60855,
          0.21342,
          0.55475,
          0.41496,
          0.37938,
          0.53122,
          0.53024,
          0.25883,
          0.41668,
          0.36679,
          0.50442,
          0.49027,
          0.40672,
          0.28579,
          0.24749,
          0.4761,
          0.56066,
          0.59608,
          0.44888,
          0.46611,
          0.59444,
          0.22815,
          0.43477,
          0.34334,
          0.53206,
          0.3703,
          0.12102,
          0.40661,
          0.1826,
          0.51697,
          0.48827,
          0.35068,
          0.20107,
          0.51469,
          0.29671,
          0.62545,
          0.46582,
          0.41691,
          0.33457,
          0.34037,
          0.35733,
          0.09245,
          0.31767,
          0.57672,
          0.59591,
          0.43626,
          0.30658,
          0.07699,
          0.33916,
          0.32112,
          0.40148,
          0.47216,
          0.26268,
          0.24499,
          0.4082,
          0.30033,
          0.25123,
          0,
          0.33207,
          0.42342,
          0.25861,
          0.28531,
          0.39786,
          0.10081,
          0.24425,
          0.22605,
          0.38282,
          0.4345,
          0.4084,
          0.24232,
          0.42215,
          0.46074,
          0.19847,
          0.49495,
          0.44017,
          0.40577,
          0.43054,
          0.53726,
          0.49309,
          0.30587,
          0.17288,
          0.35571,
          0.10384,
          0.38857,
          0.41466,
          0.22917,
          0.45727,
          0.36772,
          0.31914,
          0.47692,
          0.66246,
          0.32878,
          0.19184,
          0.48879,
          0.23501,
          0.37725,
          0.46866,
          0.39493,
          0.23414,
          0.59201,
          0.4845,
          0.15684,
          0.1185,
          0.36453
         ],
         "y": [
          6.3987737460172776,
          6.239891907372369,
          6.3288743718960525,
          6.41673430169018,
          6.258025160695973,
          6.295673248548788,
          6.183721996481873,
          6.37386210990366,
          6.285699959220806,
          6.336904812653649,
          5.309137918919399,
          6.261435939297318,
          6.22072246814456,
          5.605400738696943,
          5.882709991310053,
          5.642876128899057,
          6.1840242173706,
          6.192400053429598,
          6.048758782459052,
          6.295155155596685,
          6.099488717352466,
          6.257032149204442,
          5.377742060660367,
          5.867512598048366,
          5.8656992727160056,
          6.179447729627023,
          5.430587541774869,
          6.2901037493136815,
          5.900281977268878,
          5.466940397247426,
          5.526952830866019,
          6.131308259494124,
          5.833577509685622,
          5.928474868745814,
          4.86569352633194,
          5.509121798431142,
          6.131437782732149,
          5.240965521305185,
          5.921351090654399,
          6.100870298558075,
          5.937973239534369,
          5.267301913037086,
          6.017802728570899,
          6.366997378288296,
          4.896045138442638,
          5.667312846473246,
          4.958950257710473,
          5.622368282878314,
          5.489304743013204,
          4.657938252538652,
          6.004030090927496,
          4.942112236767127,
          5.852272030374003,
          5.755129601854699,
          6.15259324494302,
          4.446642676905994,
          5.920314904750192,
          5.316779789962918,
          5.16316522966439,
          5.8187255117253365,
          5.814494419283163,
          4.64269768486429,
          5.32420578894306,
          5.108808644106254,
          5.703018085755676,
          5.6419262918202016,
          5.281204073918515,
          4.759095901436755,
          4.59373790089056,
          5.580748149059376,
          5.945830982641263,
          6.098754752336988,
          5.463227397757355,
          5.537616910796805,
          6.091674148658247,
          4.510238586776633,
          5.402308301472582,
          5.0075646463828,
          5.822352162390057,
          5.123962862955266,
          4.047711103786714,
          5.2807291553790865,
          4.313579137040884,
          5.75720197366311,
          5.633291409285151,
          5.039254665286432,
          4.393322277252064,
          5.7473582075731535,
          4.806242360078125,
          6.2255580023641865,
          5.536364852829223,
          5.325198800434591,
          4.969700686466609,
          4.994741845818252,
          5.067965649715471,
          3.9243618067735344,
          4.896735929045442,
          6.01516908939771,
          6.098020787321508,
          5.408741288961194,
          4.848855505388594,
          3.8576141647776026,
          4.989517741884548,
          4.911631101418402,
          5.258580681676685,
          5.56373743046533,
          4.65931983374426,
          4.582944297721749,
          5.287593886994451,
          4.821871497466564,
          4.609885131231103,
          3.5252143615908778,
          4.958907083297797,
          5.353305343086177,
          4.641747847785434,
          4.757023529628343,
          5.242951544288246,
          3.9604556157700403,
          4.57974939118378,
          4.5011719601148314,
          5.178017227624675,
          5.40114259233035,
          5.2884573752479564,
          4.571416729537457,
          5.3478221926764204,
          5.514432251190198,
          4.382096929956501,
          5.662131916952217,
          5.425622484317215,
          5.2771025047143665,
          5.3840455249109525,
          5.844802856981186,
          5.6541014761946204,
          4.845790122088651,
          4.2716136079205445,
          5.060971394862081,
          3.9735374628106404,
          5.202842514912942,
          5.315484557582661,
          4.514642376869508,
          5.499450729991887,
          5.112823864485052,
          4.9030825677087035,
          5.584288450898747,
          6.385346503675276,
          4.944702701527641,
          4.353472294352812,
          5.635536478744265,
          4.539856233871852,
          5.153969079764562,
          5.548626386028993,
          5.230301441374399,
          4.5361000599691055,
          6.081182766378163,
          5.617014655706583,
          4.202361849989448,
          4.036831151792552,
          5.099051226841649
         ]
        },
        {
         "mode": "lines",
         "name": "2016",
         "type": "scatter",
         "x": [
          0.57941,
          0.58557,
          0.56624,
          0.59609,
          0.57104,
          0.5737,
          0.55211,
          0.58147,
          0.56837,
          0.58218,
          0.36432,
          0.54355,
          0.48163,
          0.55225,
          0.46823,
          0.53466,
          0.40425,
          0.51354,
          0.54008,
          0.5487,
          0.37709,
          0.4877,
          0.50036,
          0.37789,
          0.48927,
          0.42284,
          0.41418,
          0.56215,
          0.54388,
          0.54994,
          0.44735,
          0.46562,
          0.49553,
          0.37904,
          0.32377,
          0.56679,
          0.37545,
          0.21006,
          0.50379,
          0.52234,
          0.43166,
          0.47375,
          0.48453,
          0.19847,
          0.23391,
          0.37269,
          0.39031,
          0.46582,
          0.60848,
          0.18827,
          0.4027,
          0.51231,
          0.46761,
          0.4052,
          0.25202,
          0.32682,
          0.4519,
          0.25168,
          0.50961,
          0.18929,
          0.29091,
          0.43596,
          0.53164,
          0.37502,
          0.37408,
          0.46145,
          0.40672,
          0.27996,
          0.29507,
          0.46235,
          0.36712,
          0.41511,
          0.43597,
          0.23907,
          0.48079,
          0.56778,
          0.14396,
          0.23889,
          0.39237,
          0.36023,
          0.35327,
          0.54854,
          0.44012,
          0.46074,
          0.40212,
          0.15718,
          0.09511,
          0.15111,
          0.52259,
          0.25646,
          0.1977,
          0.14622,
          0.26228,
          0.44727,
          0.27668,
          0.55954,
          0.3913,
          0.23553,
          0.05822,
          0.43408,
          0.35972,
          0.52168,
          0.27854,
          0.26755,
          0.22544,
          0.42662,
          0.37012,
          0.17744,
          0.31866,
          0.39778,
          0.30685,
          0.24856,
          0.48614,
          0.42736,
          0.36703,
          0.42483,
          0.50817,
          0.40285,
          0.42692,
          0.18847,
          0.14037,
          0.40576,
          0.12859,
          0.40973,
          0.15602,
          0.32461,
          0.37938,
          0.31056,
          0.21219,
          0.1268,
          0.25429,
          0.4143,
          0,
          0.28098,
          0.27544,
          0.12072,
          0.44089,
          0.15412,
          0.40663,
          0.58852,
          0.00589,
          0.38041,
          0.19662,
          0.12807,
          0.3337,
          0.43653,
          0.2287,
          0.13684,
          0.3176,
          0.25748,
          0.30953,
          0.5432,
          0.39747,
          0.1643,
          0.34678,
          0.06912,
          0.0432
         ],
         "y": [
          6.30910056357441,
          6.336496725559393,
          6.250527925044828,
          6.38328367752076,
          6.271875583734426,
          6.283705744591577,
          6.187685754777327,
          6.3182622670953625,
          6.2600009485883366,
          6.321419941609865,
          5.352503082835778,
          6.149615763447546,
          5.874230966351743,
          6.188308394822441,
          5.814635419176618,
          6.1100781205828545,
          5.530088918559864,
          6.016148422348627,
          6.134183185186524,
          6.172520022249925,
          5.409296749807893,
          5.901226859736296,
          5.957531309530109,
          5.412854692922827,
          5.908209323099352,
          5.612766621693115,
          5.5742518874739675,
          6.232337940869734,
          6.151083414982455,
          6.178034834078071,
          5.721773103876871,
          5.803027629764149,
          5.936050227973702,
          5.417969236150543,
          5.17215984119762,
          6.252974010936345,
          5.402002966422281,
          4.666442701698853,
          5.9727859906353835,
          6.055285796612889,
          5.65199294453525,
          5.839185226669654,
          5.887128510143375,
          4.614897000821263,
          4.772513880812788,
          5.389728062675763,
          5.468091759782159,
          5.803917115542883,
          6.438387321513282,
          4.569533226105869,
          5.5231954037746815,
          6.010678084809419,
          5.811878013262545,
          5.534313976008846,
          4.85305681807708,
          5.185724499323301,
          5.742008905343051,
          4.851544692253234,
          5.998670026796519,
          4.574069603577409,
          5.026017327751753,
          5.671116888778014,
          6.096646885323983,
          5.400090571998005,
          5.395909988837959,
          5.784481851277562,
          5.5410740679272195,
          4.9773179813661095,
          5.044518631949404,
          5.788484537281862,
          5.364955883738043,
          5.578387996345077,
          5.671161363066951,
          4.795462613904105,
          5.870495126081064,
          6.257376965541074,
          4.3724676518275265,
          4.794662076703245,
          5.477253463303111,
          5.334313098660684,
          5.303358993560768,
          6.171808433626939,
          5.689618192975665,
          5.781324176763059,
          5.5206158950163555,
          4.431262661801791,
          4.155210750371939,
          4.404266768417239,
          6.056397653836305,
          4.872803402364958,
          4.61147248057314,
          4.382518841127212,
          4.898687438526094,
          5.7214173095653775,
          4.962730414594885,
          6.220730151457266,
          5.4724947143868885,
          4.779718715620527,
          3.9911450984845986,
          5.662755722457923,
          5.332044909924914,
          6.052350493543068,
          4.971002632337104,
          4.922125388795714,
          4.734844158083437,
          5.629577902911174,
          5.378298170419042,
          4.521367571187466,
          5.149433479550986,
          5.501314053617845,
          5.09690934431679,
          4.837668714104996,
          5.894288870662177,
          5.632869000292486,
          5.364555615137613,
          5.621617005191512,
          5.99226572918964,
          5.523862518108731,
          5.630912131579273,
          4.570422711884603,
          4.356501382099265,
          5.536804536189299,
          4.304110669731879,
          5.554460828897154,
          4.4261036442851385,
          5.175895681468299,
          5.419481361974389,
          5.113409305512291,
          4.675915725242361,
          4.296149772012217,
          4.863152481665702,
          5.574785578941208,
          3.732215788295361,
          4.98185435883765,
          4.957215602766739,
          4.269109404338727,
          5.693042713223788,
          4.417653529387174,
          5.54067379932679,
          6.349616640795708,
          3.7584111444790542,
          5.4240622137348655,
          4.606669257367981,
          4.301798006707172,
          5.216322810111723,
          5.673651923247404,
          4.749342776276788,
          4.340801958104624,
          5.1447192049237005,
          4.877339779836497,
          5.108828453751816,
          6.1480591633347625,
          5.499935350660808,
          4.462928355524694,
          5.2744951800408755,
          4.039622073425559,
          3.9243447165017344
         ]
        },
        {
         "mode": "lines",
         "name": "2017",
         "type": "scatter",
         "x": [
          0.635422587394714,
          0.626006722450256,
          0.627162635326385,
          0.620070576667786,
          0.617950856685638,
          0.585384488105774,
          0.611100912094116,
          0.614062130451202,
          0.612924098968506,
          0.601607382297516,
          0.405988603830338,
          0.580131649971008,
          0.567766189575195,
          0.505740523338318,
          0.573110342025757,
          0.562511384487152,
          0.539770722389221,
          0.59662789106369,
          0.508190035820007,
          0.376895278692245,
          0.60834527015686,
          0.437453746795654,
          0.490946173667908,
          0.494519203901291,
          0.412730008363724,
          0.549840569496155,
          0.588767051696777,
          0.57939225435257,
          0.531310617923737,
          0.550026834011078,
          0.470222115516663,
          0.580200731754303,
          0.361466586589813,
          0.408781230449677,
          0.604130983352661,
          0.477487415075302,
          0.449750572443008,
          0.518630743026733,
          0.496337592601776,
          0.295817464590073,
          0.536746919155121,
          0.402264982461929,
          0.447551846504211,
          0.4551981985569,
          0.432452529668808,
          0.520342111587524,
          0.658248662948608,
          0.256450712680817,
          0.373783111572266,
          0.547509372234344,
          0.505625545978546,
          0.234231784939766,
          0.233335807919502,
          0.325707912445068,
          0.257921665906906,
          0.240729048848152,
          0.457003742456436,
          0.558732926845551,
          0.41827192902565,
          0.437454283237457,
          0.471203625202179,
          0.572575807571411,
          0.450002878904343,
          0.491247326135635,
          0.355111539363861,
          0.479131430387497,
          0.295400261878967,
          0.465733230113983,
          0.300740599632263,
          0.473507791757584,
          0.490968644618988,
          0.585214674472809,
          0.208715528249741,
          0.418421149253845,
          0.175863519310951,
          0.474307239055634,
          0.255772292613983,
          0.260287940502167,
          0.472787708044052,
          0.23521526157856,
          0.443323463201523,
          0.153997123241425,
          0.194989055395126,
          0.408158332109451,
          0.398155838251114,
          0.55258983373642,
          0.0957312509417534,
          0.288515985012054,
          0.498465299606323,
          0.204403176903725,
          0.348079860210419,
          0.325905978679657,
          0.602126955986023,
          0.571055591106415,
          0.394952565431595,
          0.471566706895828,
          0.501537680625916,
          0.454943388700485,
          0.440305948257446,
          0.394143968820572,
          0.479246735572815,
          0.289680689573288,
          0.25471106171608,
          0.282110154628754,
          0.289231717586517,
          0.318697690963745,
          0.430388748645782,
          0.249322608113289,
          0.381498634815216,
          0.478356659412384,
          0.520303547382355,
          0.452763766050339,
          0.480791091918945,
          0.514492034912109,
          0.377922266721725,
          0.461603492498398,
          0.288555532693863,
          0.312328577041626,
          0.408842742443085,
          0.561213254928589,
          0.198303267359734,
          0.469987004995346,
          0.0960980430245399,
          0.435025870800018,
          0.309410035610199,
          0.235961347818375,
          0.306613743305206,
          0.447706192731857,
          0.633375823497772,
          0.0149958552792668,
          0.423026293516159,
          0.122974775731564,
          0.443185955286026,
          0.324367851018906,
          0.36365869641304,
          0.466914653778076,
          0.16234202682972,
          0.336384207010269,
          0.390661299228668,
          0,
          0.106179520487785,
          0.505196332931519,
          0.425962775945663,
          0.189196765422821,
          0.0303698573261499,
          0.249463722109795,
          0.147062435746193,
          0.332881182432175,
          0.348587512969971,
          0.38042613863945,
          0.581843852996826,
          0.0815394446253777,
          0.390017777681351,
          0.0599007532000542,
          0.270842045545578
         ],
         "y": [
          6.328508375521476,
          6.2880221680365445,
          6.292992346433698,
          6.262498009477819,
          6.253383666450022,
          6.113355239626507,
          6.223930368252932,
          6.236662974499981,
          6.231769682274084,
          6.183110218497518,
          5.3419912666339835,
          6.090769157958665,
          6.037600320237999,
          5.770903207708217,
          6.060579033953716,
          6.015005781091322,
          5.917225792797897,
          6.161699470100926,
          5.781435588021187,
          5.216896184566064,
          6.212081696688076,
          5.477284658600765,
          5.7072906650587605,
          5.722653931655296,
          5.370977865771556,
          5.960523983852861,
          6.127899540355557,
          6.087589914777277,
          5.880849151166543,
          5.961324881470098,
          5.618181642872228,
          6.091066194866947,
          5.15055610499134,
          5.353998964429718,
          6.193961163846721,
          5.64942087868395,
          5.53015838156743,
          5.826328398267974,
          5.730472614553825,
          4.868278906862084,
          5.904224084951457,
          5.325980490331859,
          5.520704329806309,
          5.553582009927476,
          5.455780493506101,
          5.833686917431544,
          6.42665562342626,
          4.699010284679471,
          5.203514530890008,
          5.950500333706356,
          5.770408829627047,
          4.603473642647836,
          4.599621132893489,
          4.996801446300922,
          4.705335069270516,
          4.631410489260542,
          5.561345462926321,
          5.998759220530687,
          5.39480694054135,
          5.477286965185902,
          5.622401924812408,
          6.058280650007669,
          5.531243245443839,
          5.708585556326309,
          5.123230759727348,
          5.6564897932691265,
          4.866485024343087,
          5.598880394727633,
          4.889447335675602,
          5.6323093486966975,
          5.707387285347303,
          6.112625077286823,
          4.4937591906367995,
          5.3954485556404705,
          4.352502571299292,
          5.635746801269886,
          4.696093223342057,
          4.715509544456298,
          5.6292131425802605,
          4.607702382066856,
          5.502523185033283,
          4.258481740133951,
          4.434738290134683,
          5.3513206346540505,
          5.308312048177484,
          5.972345232683303,
          4.007950938223555,
          4.8368841046971855,
          5.7396213000714456,
          4.47521700121792,
          5.0929960417430715,
          4.99765308879119,
          6.185344274346948,
          6.051744044014816,
          5.294538659458881,
          5.623963098519738,
          5.752831882016466,
          5.552486381987093,
          5.489548515490397,
          5.291061866794734,
          5.656985580930101,
          4.841892085461875,
          4.6915301572217,
          4.809340402706832,
          4.839961601845282,
          4.96665899172215,
          5.446906676050714,
          4.6683609580167,
          5.236689632350309,
          5.65315844361227,
          5.833521099588873,
          5.543114470285596,
          5.663625983254148,
          5.80853283764379,
          5.221312013668471,
          5.581123405332695,
          4.83705415127928,
          4.939273162670105,
          5.354263452858834,
          6.009424101345454,
          4.448988693474116,
          5.617170717863843,
          4.009528065811421,
          5.466845310555011,
          4.926724058085116,
          4.610910393490658,
          4.9147005986242736,
          5.521367985607857,
          6.319707728072403,
          3.6608059866497342,
          5.415249692041841,
          4.125092274018771,
          5.501931930376331,
          4.991039468483463,
          5.159981708869099,
          5.603960264062444,
          4.294363042606999,
          5.042707231853994,
          5.2760871316502715,
          3.5963270129355083,
          4.052876264913602,
          5.768563305229694,
          5.427875939085319,
          4.409832680823702,
          3.7269109106705733,
          4.668967718051521,
          4.22866406555692,
          5.027644974617923,
          5.095178840144999,
          5.232078127942059,
          6.098131265143559,
          3.9469292032581507,
          5.273320126490428,
          3.8538874534119296,
          4.76088994117246
         ]
        },
        {
         "mode": "lines",
         "name": "2018",
         "type": "scatter",
         "x": [
          0.681,
          0.686,
          0.683,
          0.677,
          0.66,
          0.638,
          0.653,
          0.669,
          0.659,
          0.647,
          0.464,
          0.617,
          0.632,
          0.614,
          0.586,
          0.583,
          0.632,
          0.547,
          0.533,
          0.543,
          0.645,
          0.52,
          0.479,
          0.431,
          0.418,
          0.597,
          0.493,
          0.57,
          0.604,
          0.625,
          0.654,
          0.509,
          0.631,
          0.356,
          0.449,
          0.531,
          0.575,
          0.354,
          0.461,
          0.527,
          0.546,
          0.594,
          0.724,
          0.554,
          0.637,
          0.281,
          0.556,
          0.593,
          0.35,
          0.633,
          0.528,
          0.363,
          0.553,
          0.584,
          0.575,
          0.244,
          0.495,
          0.399,
          0.454,
          0.423,
          0.606,
          0.553,
          0.541,
          0.53,
          0.448,
          0.232,
          0.417,
          0.259,
          0.496,
          0.643,
          0.459,
          0.307,
          0.324,
          0.334,
          0.524,
          0.562,
          0.288,
          0.131,
          0.503,
          0.259,
          0.38,
          0.578,
          0.077,
          0.46,
          0.597,
          0.43,
          0.292,
          0.394,
          0.468,
          0.462,
          0.54,
          0.28,
          0.395,
          0.618,
          0.538,
          0.541,
          0.674,
          0.454,
          0.359,
          0.526,
          0.133,
          0.356,
          0.266,
          0.516,
          0.459,
          0.467,
          0.499,
          0.406,
          0.626,
          0.271,
          0.419,
          0.355,
          0.514,
          0.58,
          0.585,
          0.304,
          0.367,
          0.519,
          0.696,
          0.312,
          0.312,
          0.531,
          0.504,
          0.503,
          0.129,
          0.452,
          0.375,
          0.26,
          0.58,
          0.189,
          0.312,
          0.539,
          0.39,
          0.45,
          0.44,
          0.016,
          0.163,
          0.434,
          0.394,
          0.423,
          0,
          0.221,
          0.406,
          0.085,
          0.557,
          0.531,
          0.025,
          0.419,
          0.088,
          0.636,
          0.244,
          0.481,
          0.112,
          0.305,
          0.065
         ],
         "y": [
          6.23186006037776,
          6.251047905202375,
          6.239535198307606,
          6.216509784518067,
          6.151271112114375,
          6.066844594886067,
          6.124408129359914,
          6.1858092327986824,
          6.147433543149452,
          6.1013827155703755,
          5.3991075949894505,
          5.986255646622682,
          6.043819181096529,
          5.974742939727912,
          5.867291008710067,
          5.855778301815297,
          6.043819181096529,
          5.717625819078067,
          5.663899853569143,
          5.7022755432183745,
          6.0937075776405285,
          5.614011457025144,
          5.456671129463297,
          5.272467819146989,
          5.222579422602989,
          5.909504267324221,
          5.5103970949722205,
          5.805889905271297,
          5.936367250078682,
          6.016956198342067,
          6.128245698324836,
          5.57179819841099,
          6.039981612131605,
          4.984650146777758,
          5.341544060515605,
          5.656224715639297,
          5.825077750095913,
          4.976975008847912,
          5.387594888094682,
          5.640874439779605,
          5.713788250113144,
          5.8979915604294515,
          6.3968755258694525,
          5.744488801832528,
          6.063007025921144,
          4.696832474408527,
          5.752163939762374,
          5.8941539914645285,
          4.96162473298822,
          6.047656750061451,
          5.644712008744529,
          5.0115131295322195,
          5.740651232867606,
          5.859615870780221,
          5.825077750095913,
          4.554842422706373,
          5.518072232902067,
          5.149665612269451,
          5.36073190534022,
          5.241767267427605,
          5.944042388008528,
          5.740651232867606,
          5.694600405288528,
          5.652387146674375,
          5.337706491550682,
          4.508791595127296,
          5.2187418536380665,
          4.612405957180219,
          5.52190980186699,
          6.086032439710682,
          5.379919750164835,
          4.796609267496527,
          4.86184793990022,
          4.90022362954945,
          5.629361732884836,
          5.775189353551913,
          4.7236954571629886,
          4.121197129670065,
          5.548772784621451,
          4.612405957180219,
          5.076751801935912,
          5.836590456990682,
          3.9139684055642183,
          5.383757319129758,
          5.909504267324221,
          5.268630250182066,
          4.739045733022681,
          5.130477767444836,
          5.4144578708491435,
          5.391432457059604,
          5.690762836323605,
          4.692994905443604,
          5.134315336409759,
          5.990093215587605,
          5.683087698393759,
          5.694600405288528,
          6.2049970776232986,
          5.36073190534022,
          4.996162853672527,
          5.637036870814682,
          4.128872267599911,
          4.984650146777758,
          4.639268939934681,
          5.598661181165451,
          5.379919750164835,
          5.4106203018842205,
          5.533422508761759,
          5.176528595023912,
          6.020793767306991,
          4.658456784759297,
          5.226416991567913,
          4.980812577812835,
          5.590986043235605,
          5.844265594920528,
          5.863453439745143,
          4.785096560601758,
          5.026863405391913,
          5.6101738880602205,
          6.2894235948516055,
          4.8157971123211425,
          4.8157971123211425,
          5.656224715639297,
          5.552610353586374,
          5.548772784621451,
          4.113521991740218,
          5.353056767410374,
          5.057563957111297,
          4.616243526145142,
          5.844265594920528,
          4.343776129635604,
          4.8157971123211425,
          5.686925267358682,
          5.1151274915851435,
          5.345381629480528,
          5.307005939831297,
          3.6798766987039104,
          4.243999336547604,
          5.283980526041758,
          5.130477767444836,
          5.241767267427605,
          3.6184755952651413,
          4.466578336513142,
          5.176528595023912,
          3.944668957283603,
          5.756001508727298,
          5.656224715639297,
          3.7144148193882183,
          5.226416991567913,
          3.9561816641783722,
          6.059169456956221,
          4.554842422706373,
          5.464346267393143,
          4.048283319336527,
          4.788934129566681,
          3.867917577985142
         ]
        },
        {
         "mode": "lines",
         "name": "2019",
         "type": "scatter",
         "x": [
          0.596,
          0.592,
          0.603,
          0.591,
          0.557,
          0.572,
          0.574,
          0.585,
          0.584,
          0.532,
          0.557,
          0.558,
          0.371,
          0.526,
          0.45,
          0.516,
          0.495,
          0.473,
          0.454,
          0.457,
          0.598,
          0.564,
          0.433,
          0.436,
          0.351,
          0.357,
          0.535,
          0.439,
          0.555,
          0.362,
          0.516,
          0.39,
          0.523,
          0.556,
          0.43,
          0.231,
          0.536,
          0.334,
          0.489,
          0.483,
          0.631,
          0.291,
          0.47,
          0.564,
          0.435,
          0.489,
          0.471,
          0.462,
          0.406,
          0.498,
          0.493,
          0.557,
          0.264,
          0.159,
          0.495,
          0.49,
          0.498,
          0.445,
          0.507,
          0.41,
          0.511,
          0.199,
          0.514,
          0.417,
          0.455,
          0.508,
          0.313,
          0.334,
          0.558,
          0.282,
          0.245,
          0.416,
          0.197,
          0.389,
          0.296,
          0.44,
          0.497,
          0.212,
          0.195,
          0.508,
          0.235,
          0.067,
          0.317,
          0.345,
          0.426,
          0.508,
          0.394,
          0.086,
          0.418,
          0.351,
          0.216,
          0.491,
          0.521,
          0.543,
          0.457,
          0.381,
          0.311,
          0.381,
          0.352,
          0.439,
          0.383,
          0.349,
          0.372,
          0.295,
          0.547,
          0.389,
          0.383,
          0.154,
          0.609,
          0.225,
          0.292,
          0.559,
          0.401,
          0.318,
          0.255,
          0.283,
          0.305,
          0.332,
          0.346,
          0.382,
          0.431,
          0.066,
          0.494,
          0.167,
          0.527,
          0.241,
          0.269,
          0.327,
          0.309,
          0.47,
          0.525,
          0.174,
          0.178,
          0.344,
          0.313,
          0.356,
          0.241,
          0.431,
          0.293,
          0.498,
          0.37,
          0.142,
          0.148,
          0.359,
          0.22,
          0.361,
          0.026,
          0.455,
          0.013,
          0.443,
          0.143,
          0.555,
          0.417,
          0,
          0.225,
          0.01
         ],
         "y": [
          6.3027224279445715,
          6.2851118782348685,
          6.333540889936551,
          6.280709240807443,
          6.131019568274972,
          6.197059129686355,
          6.205864404541208,
          6.25429341624289,
          6.249890778815464,
          6.020953632589331,
          6.131019568274972,
          6.1354222057023975,
          5.312129006773801,
          5.994537808024776,
          5.659937363540427,
          5.9505114337505205,
          5.858056047774581,
          5.761198024371216,
          5.677547913250129,
          5.690755825532406,
          6.311527702799423,
          6.161838030266951,
          5.585092527274191,
          5.598300439556468,
          5.2240762582252875,
          5.250492082789842,
          6.034161544871607,
          5.6115083518387445,
          6.12221429342012,
          5.27250526992697,
          5.9505114337505205,
          5.395779117894888,
          5.981329895742499,
          6.126616930847546,
          5.571884614991914,
          4.69575976693421,
          6.038564182299033,
          5.149231421959052,
          5.831640223210027,
          5.805224398645473,
          6.45681473790447,
          4.959918012579749,
          5.74799011208894,
          6.161838030266951,
          5.593897802129042,
          5.831640223210027,
          5.752392749516366,
          5.7127690126695345,
          5.466221316733699,
          5.871263960056858,
          5.84925077291973,
          6.131019568274972,
          4.841046802039257,
          4.378769872159563,
          5.858056047774581,
          5.836042860637453,
          5.871263960056858,
          5.637924176403299,
          5.910887696903689,
          5.483831866443401,
          5.928498246613392,
          4.554875369256589,
          5.941706158895668,
          5.514650328435381,
          5.681950550677556,
          5.9152903343311145,
          5.056776035983113,
          5.149231421959052,
          6.1354222057023975,
          4.9202942757329176,
          4.757396690918169,
          5.5102476910079545,
          4.546070094401738,
          5.391376480467462,
          4.981931199716877,
          5.615910989266171,
          5.866861322629433,
          4.612109655813122,
          4.537264819546887,
          5.9152903343311145,
          4.713370316643912,
          3.9737272288364034,
          5.074386585692816,
          5.197660433660734,
          5.554274065282211,
          5.9152903343311145,
          5.413389667604591,
          4.05737733995749,
          5.519052965862806,
          5.2240762582252875,
          4.629720205522825,
          5.840445498064879,
          5.972524620887648,
          6.069382644291013,
          5.690755825532406,
          5.356155381048057,
          5.047970761128262,
          5.356155381048057,
          5.228478895652714,
          5.6115083518387445,
          5.364960655902909,
          5.215270983370436,
          5.316531644201226,
          4.977528562289452,
          6.086993194000716,
          5.391376480467462,
          5.364960655902909,
          4.356756685022435,
          6.359956714501105,
          4.669343942369656,
          4.964320650007174,
          6.139824843129823,
          5.4442081295965705,
          5.078789223120241,
          4.8014230651924255,
          4.924696913160344,
          5.0215549365637075,
          5.1404261471042005,
          5.202063071088159,
          5.360558018475483,
          5.576287252419339,
          3.9693245914089776,
          5.853653410347155,
          4.4139909715789685,
          5.998940445452202,
          4.739786141208466,
          4.863059989176385,
          5.118412959967072,
          5.0391654862734105,
          5.74799011208894,
          5.990135170597351,
          4.444809433570947,
          4.46241998328065,
          5.193257796233308,
          5.056776035983113,
          5.246089445362416,
          4.739786141208466,
          5.576287252419339,
          4.9687232874345995,
          5.871263960056858,
          5.3077263693463745,
          4.303925035893327,
          4.330340860457881,
          5.259297357644693,
          4.647330755232527,
          5.268102632499544,
          3.7932190943119517,
          5.681950550677556,
          3.7359848077554183,
          5.6291189015484475,
          4.308327673320752,
          6.12221429342012,
          5.514650328435381,
          3.678750521198885,
          4.669343942369656,
          3.7227768954731415
         ]
        }
       ],
       "layout": {
        "height": 500,
        "template": {
         "data": {
          "bar": [
           {
            "error_x": {
             "color": "#2a3f5f"
            },
            "error_y": {
             "color": "#2a3f5f"
            },
            "marker": {
             "line": {
              "color": "#E5ECF6",
              "width": 0.5
             },
             "pattern": {
              "fillmode": "overlay",
              "size": 10,
              "solidity": 0.2
             }
            },
            "type": "bar"
           }
          ],
          "barpolar": [
           {
            "marker": {
             "line": {
              "color": "#E5ECF6",
              "width": 0.5
             },
             "pattern": {
              "fillmode": "overlay",
              "size": 10,
              "solidity": 0.2
             }
            },
            "type": "barpolar"
           }
          ],
          "carpet": [
           {
            "aaxis": {
             "endlinecolor": "#2a3f5f",
             "gridcolor": "white",
             "linecolor": "white",
             "minorgridcolor": "white",
             "startlinecolor": "#2a3f5f"
            },
            "baxis": {
             "endlinecolor": "#2a3f5f",
             "gridcolor": "white",
             "linecolor": "white",
             "minorgridcolor": "white",
             "startlinecolor": "#2a3f5f"
            },
            "type": "carpet"
           }
          ],
          "choropleth": [
           {
            "colorbar": {
             "outlinewidth": 0,
             "ticks": ""
            },
            "type": "choropleth"
           }
          ],
          "contour": [
           {
            "colorbar": {
             "outlinewidth": 0,
             "ticks": ""
            },
            "colorscale": [
             [
              0,
              "#0d0887"
             ],
             [
              0.1111111111111111,
              "#46039f"
             ],
             [
              0.2222222222222222,
              "#7201a8"
             ],
             [
              0.3333333333333333,
              "#9c179e"
             ],
             [
              0.4444444444444444,
              "#bd3786"
             ],
             [
              0.5555555555555556,
              "#d8576b"
             ],
             [
              0.6666666666666666,
              "#ed7953"
             ],
             [
              0.7777777777777778,
              "#fb9f3a"
             ],
             [
              0.8888888888888888,
              "#fdca26"
             ],
             [
              1,
              "#f0f921"
             ]
            ],
            "type": "contour"
           }
          ],
          "contourcarpet": [
           {
            "colorbar": {
             "outlinewidth": 0,
             "ticks": ""
            },
            "type": "contourcarpet"
           }
          ],
          "heatmap": [
           {
            "colorbar": {
             "outlinewidth": 0,
             "ticks": ""
            },
            "colorscale": [
             [
              0,
              "#0d0887"
             ],
             [
              0.1111111111111111,
              "#46039f"
             ],
             [
              0.2222222222222222,
              "#7201a8"
             ],
             [
              0.3333333333333333,
              "#9c179e"
             ],
             [
              0.4444444444444444,
              "#bd3786"
             ],
             [
              0.5555555555555556,
              "#d8576b"
             ],
             [
              0.6666666666666666,
              "#ed7953"
             ],
             [
              0.7777777777777778,
              "#fb9f3a"
             ],
             [
              0.8888888888888888,
              "#fdca26"
             ],
             [
              1,
              "#f0f921"
             ]
            ],
            "type": "heatmap"
           }
          ],
          "heatmapgl": [
           {
            "colorbar": {
             "outlinewidth": 0,
             "ticks": ""
            },
            "colorscale": [
             [
              0,
              "#0d0887"
             ],
             [
              0.1111111111111111,
              "#46039f"
             ],
             [
              0.2222222222222222,
              "#7201a8"
             ],
             [
              0.3333333333333333,
              "#9c179e"
             ],
             [
              0.4444444444444444,
              "#bd3786"
             ],
             [
              0.5555555555555556,
              "#d8576b"
             ],
             [
              0.6666666666666666,
              "#ed7953"
             ],
             [
              0.7777777777777778,
              "#fb9f3a"
             ],
             [
              0.8888888888888888,
              "#fdca26"
             ],
             [
              1,
              "#f0f921"
             ]
            ],
            "type": "heatmapgl"
           }
          ],
          "histogram": [
           {
            "marker": {
             "pattern": {
              "fillmode": "overlay",
              "size": 10,
              "solidity": 0.2
             }
            },
            "type": "histogram"
           }
          ],
          "histogram2d": [
           {
            "colorbar": {
             "outlinewidth": 0,
             "ticks": ""
            },
            "colorscale": [
             [
              0,
              "#0d0887"
             ],
             [
              0.1111111111111111,
              "#46039f"
             ],
             [
              0.2222222222222222,
              "#7201a8"
             ],
             [
              0.3333333333333333,
              "#9c179e"
             ],
             [
              0.4444444444444444,
              "#bd3786"
             ],
             [
              0.5555555555555556,
              "#d8576b"
             ],
             [
              0.6666666666666666,
              "#ed7953"
             ],
             [
              0.7777777777777778,
              "#fb9f3a"
             ],
             [
              0.8888888888888888,
              "#fdca26"
             ],
             [
              1,
              "#f0f921"
             ]
            ],
            "type": "histogram2d"
           }
          ],
          "histogram2dcontour": [
           {
            "colorbar": {
             "outlinewidth": 0,
             "ticks": ""
            },
            "colorscale": [
             [
              0,
              "#0d0887"
             ],
             [
              0.1111111111111111,
              "#46039f"
             ],
             [
              0.2222222222222222,
              "#7201a8"
             ],
             [
              0.3333333333333333,
              "#9c179e"
             ],
             [
              0.4444444444444444,
              "#bd3786"
             ],
             [
              0.5555555555555556,
              "#d8576b"
             ],
             [
              0.6666666666666666,
              "#ed7953"
             ],
             [
              0.7777777777777778,
              "#fb9f3a"
             ],
             [
              0.8888888888888888,
              "#fdca26"
             ],
             [
              1,
              "#f0f921"
             ]
            ],
            "type": "histogram2dcontour"
           }
          ],
          "mesh3d": [
           {
            "colorbar": {
             "outlinewidth": 0,
             "ticks": ""
            },
            "type": "mesh3d"
           }
          ],
          "parcoords": [
           {
            "line": {
             "colorbar": {
              "outlinewidth": 0,
              "ticks": ""
             }
            },
            "type": "parcoords"
           }
          ],
          "pie": [
           {
            "automargin": true,
            "type": "pie"
           }
          ],
          "scatter": [
           {
            "fillpattern": {
             "fillmode": "overlay",
             "size": 10,
             "solidity": 0.2
            },
            "type": "scatter"
           }
          ],
          "scatter3d": [
           {
            "line": {
             "colorbar": {
              "outlinewidth": 0,
              "ticks": ""
             }
            },
            "marker": {
             "colorbar": {
              "outlinewidth": 0,
              "ticks": ""
             }
            },
            "type": "scatter3d"
           }
          ],
          "scattercarpet": [
           {
            "marker": {
             "colorbar": {
              "outlinewidth": 0,
              "ticks": ""
             }
            },
            "type": "scattercarpet"
           }
          ],
          "scattergeo": [
           {
            "marker": {
             "colorbar": {
              "outlinewidth": 0,
              "ticks": ""
             }
            },
            "type": "scattergeo"
           }
          ],
          "scattergl": [
           {
            "marker": {
             "colorbar": {
              "outlinewidth": 0,
              "ticks": ""
             }
            },
            "type": "scattergl"
           }
          ],
          "scattermapbox": [
           {
            "marker": {
             "colorbar": {
              "outlinewidth": 0,
              "ticks": ""
             }
            },
            "type": "scattermapbox"
           }
          ],
          "scatterpolar": [
           {
            "marker": {
             "colorbar": {
              "outlinewidth": 0,
              "ticks": ""
             }
            },
            "type": "scatterpolar"
           }
          ],
          "scatterpolargl": [
           {
            "marker": {
             "colorbar": {
              "outlinewidth": 0,
              "ticks": ""
             }
            },
            "type": "scatterpolargl"
           }
          ],
          "scatterternary": [
           {
            "marker": {
             "colorbar": {
              "outlinewidth": 0,
              "ticks": ""
             }
            },
            "type": "scatterternary"
           }
          ],
          "surface": [
           {
            "colorbar": {
             "outlinewidth": 0,
             "ticks": ""
            },
            "colorscale": [
             [
              0,
              "#0d0887"
             ],
             [
              0.1111111111111111,
              "#46039f"
             ],
             [
              0.2222222222222222,
              "#7201a8"
             ],
             [
              0.3333333333333333,
              "#9c179e"
             ],
             [
              0.4444444444444444,
              "#bd3786"
             ],
             [
              0.5555555555555556,
              "#d8576b"
             ],
             [
              0.6666666666666666,
              "#ed7953"
             ],
             [
              0.7777777777777778,
              "#fb9f3a"
             ],
             [
              0.8888888888888888,
              "#fdca26"
             ],
             [
              1,
              "#f0f921"
             ]
            ],
            "type": "surface"
           }
          ],
          "table": [
           {
            "cells": {
             "fill": {
              "color": "#EBF0F8"
             },
             "line": {
              "color": "white"
             }
            },
            "header": {
             "fill": {
              "color": "#C8D4E3"
             },
             "line": {
              "color": "white"
             }
            },
            "type": "table"
           }
          ]
         },
         "layout": {
          "annotationdefaults": {
           "arrowcolor": "#2a3f5f",
           "arrowhead": 0,
           "arrowwidth": 1
          },
          "autotypenumbers": "strict",
          "coloraxis": {
           "colorbar": {
            "outlinewidth": 0,
            "ticks": ""
           }
          },
          "colorscale": {
           "diverging": [
            [
             0,
             "#8e0152"
            ],
            [
             0.1,
             "#c51b7d"
            ],
            [
             0.2,
             "#de77ae"
            ],
            [
             0.3,
             "#f1b6da"
            ],
            [
             0.4,
             "#fde0ef"
            ],
            [
             0.5,
             "#f7f7f7"
            ],
            [
             0.6,
             "#e6f5d0"
            ],
            [
             0.7,
             "#b8e186"
            ],
            [
             0.8,
             "#7fbc41"
            ],
            [
             0.9,
             "#4d9221"
            ],
            [
             1,
             "#276419"
            ]
           ],
           "sequential": [
            [
             0,
             "#0d0887"
            ],
            [
             0.1111111111111111,
             "#46039f"
            ],
            [
             0.2222222222222222,
             "#7201a8"
            ],
            [
             0.3333333333333333,
             "#9c179e"
            ],
            [
             0.4444444444444444,
             "#bd3786"
            ],
            [
             0.5555555555555556,
             "#d8576b"
            ],
            [
             0.6666666666666666,
             "#ed7953"
            ],
            [
             0.7777777777777778,
             "#fb9f3a"
            ],
            [
             0.8888888888888888,
             "#fdca26"
            ],
            [
             1,
             "#f0f921"
            ]
           ],
           "sequentialminus": [
            [
             0,
             "#0d0887"
            ],
            [
             0.1111111111111111,
             "#46039f"
            ],
            [
             0.2222222222222222,
             "#7201a8"
            ],
            [
             0.3333333333333333,
             "#9c179e"
            ],
            [
             0.4444444444444444,
             "#bd3786"
            ],
            [
             0.5555555555555556,
             "#d8576b"
            ],
            [
             0.6666666666666666,
             "#ed7953"
            ],
            [
             0.7777777777777778,
             "#fb9f3a"
            ],
            [
             0.8888888888888888,
             "#fdca26"
            ],
            [
             1,
             "#f0f921"
            ]
           ]
          },
          "colorway": [
           "#636efa",
           "#EF553B",
           "#00cc96",
           "#ab63fa",
           "#FFA15A",
           "#19d3f3",
           "#FF6692",
           "#B6E880",
           "#FF97FF",
           "#FECB52"
          ],
          "font": {
           "color": "#2a3f5f"
          },
          "geo": {
           "bgcolor": "white",
           "lakecolor": "white",
           "landcolor": "#E5ECF6",
           "showlakes": true,
           "showland": true,
           "subunitcolor": "white"
          },
          "hoverlabel": {
           "align": "left"
          },
          "hovermode": "closest",
          "mapbox": {
           "style": "light"
          },
          "paper_bgcolor": "white",
          "plot_bgcolor": "#E5ECF6",
          "polar": {
           "angularaxis": {
            "gridcolor": "white",
            "linecolor": "white",
            "ticks": ""
           },
           "bgcolor": "#E5ECF6",
           "radialaxis": {
            "gridcolor": "white",
            "linecolor": "white",
            "ticks": ""
           }
          },
          "scene": {
           "xaxis": {
            "backgroundcolor": "#E5ECF6",
            "gridcolor": "white",
            "gridwidth": 2,
            "linecolor": "white",
            "showbackground": true,
            "ticks": "",
            "zerolinecolor": "white"
           },
           "yaxis": {
            "backgroundcolor": "#E5ECF6",
            "gridcolor": "white",
            "gridwidth": 2,
            "linecolor": "white",
            "showbackground": true,
            "ticks": "",
            "zerolinecolor": "white"
           },
           "zaxis": {
            "backgroundcolor": "#E5ECF6",
            "gridcolor": "white",
            "gridwidth": 2,
            "linecolor": "white",
            "showbackground": true,
            "ticks": "",
            "zerolinecolor": "white"
           }
          },
          "shapedefaults": {
           "line": {
            "color": "#2a3f5f"
           }
          },
          "ternary": {
           "aaxis": {
            "gridcolor": "white",
            "linecolor": "white",
            "ticks": ""
           },
           "baxis": {
            "gridcolor": "white",
            "linecolor": "white",
            "ticks": ""
           },
           "bgcolor": "#E5ECF6",
           "caxis": {
            "gridcolor": "white",
            "linecolor": "white",
            "ticks": ""
           }
          },
          "title": {
           "x": 0.05
          },
          "xaxis": {
           "automargin": true,
           "gridcolor": "white",
           "linecolor": "white",
           "ticks": "",
           "title": {
            "standoff": 15
           },
           "zerolinecolor": "white",
           "zerolinewidth": 2
          },
          "yaxis": {
           "automargin": true,
           "gridcolor": "white",
           "linecolor": "white",
           "ticks": "",
           "title": {
            "standoff": 15
           },
           "zerolinecolor": "white",
           "zerolinewidth": 2
          }
         }
        },
        "title": {
         "text": "Score vs Freedom to make life choices (Trendline)"
        },
        "width": 1000
       }
      }
     },
     "metadata": {},
     "output_type": "display_data"
    },
    {
     "name": "stdout",
     "output_type": "stream",
     "text": [
      "Score VS Generosity\n",
      "Correlation:  0.07582369490389651\n"
     ]
    },
    {
     "data": {
      "application/vnd.plotly.v1+json": {
       "config": {
        "plotlyServerURL": "https://plot.ly"
       },
       "data": [
        {
         "mode": "markers",
         "name": "2015",
         "type": "scatter",
         "x": [
          0.29678,
          0.4363,
          0.34139,
          0.34699,
          0.45811,
          0.23351,
          0.4761,
          0.36262,
          0.47501,
          0.43562,
          0.33172,
          0.25497,
          0.33088,
          0.14074,
          0.40105,
          0.14574,
          0.28034,
          0.45901,
          0.2225,
          0.26428,
          0.51912,
          0.21542,
          0.05841,
          0.31105,
          0.24434,
          0.28214,
          0.33363,
          0.32573,
          0.12332,
          0.11451,
          0.10686,
          0.2324,
          0.18401,
          0.5763,
          0.13706,
          0.18227,
          0.51752,
          0.25376,
          0.16228,
          0.16991,
          0.31844,
          0.10692,
          0.27489,
          0.22837,
          0.16893,
          0.10705,
          0.18557,
          0.11541,
          0.17362,
          0.22823,
          0.20536,
          0.20951,
          0.3424,
          0.11827,
          0.25328,
          0.02641,
          0.27815,
          0.14982,
          0.11046,
          0.16759,
          0.33075,
          0.05444,
          0.18295,
          0.00199,
          0.2123,
          0.26169,
          0.30638,
          0.07822,
          0.2831,
          0.16979,
          0.37744,
          0.39478,
          0.0868,
          0.51535,
          0.1686,
          0.12253,
          0.3003,
          0.27233,
          0.47998,
          0.07799,
          0.33671,
          0.11053,
          0.1614,
          0.08185,
          0.19591,
          0.13748,
          0.19231,
          0.13719,
          0.18226,
          0.24991,
          0.50318,
          0.07172,
          0.22359,
          0.22269,
          0.14272,
          0.24808,
          0.16388,
          0.21684,
          0.42192,
          0.3323,
          0.18259,
          0,
          0.21854,
          0.128,
          0.23027,
          0.22974,
          0.06431,
          0.11251,
          0.21222,
          0.38086,
          0.15275,
          0.17922,
          0.11973,
          0.23087,
          0.18987,
          0.24362,
          0.26475,
          0.19062,
          0.46187,
          0.24834,
          0.32296,
          0.24325,
          0.21488,
          0.219,
          0.37542,
          0.18093,
          0.07855,
          0.10461,
          0.79588,
          0.05547,
          0.33128,
          0.40828,
          0.20618,
          0.11921,
          0.11291,
          0.09131,
          0.12344,
          0.18798,
          0.12388,
          0.17441,
          0.29066,
          0.20843,
          0.06822,
          0.19387,
          0.40359,
          0.34377,
          0.21333,
          0.23835,
          0.18386,
          0.28657,
          0.20165,
          0.21747,
          0.3651,
          0.22628,
          0.1826,
          0.47179,
          0.19727,
          0.16681
         ],
         "y": [
          7.587,
          7.561,
          7.527,
          7.522,
          7.427,
          7.406,
          7.378,
          7.364,
          7.286,
          7.284,
          7.278,
          7.226,
          7.2,
          7.187,
          7.119,
          6.983,
          6.946,
          6.94,
          6.937,
          6.901,
          6.867,
          6.853,
          6.81,
          6.798,
          6.786,
          6.75,
          6.67,
          6.611,
          6.575,
          6.574,
          6.505,
          6.485,
          6.477,
          6.455,
          6.411,
          6.329,
          6.302,
          6.298,
          6.295,
          6.269,
          6.168,
          6.13,
          6.123,
          6.003,
          5.995,
          5.987,
          5.984,
          5.975,
          5.96,
          5.948,
          5.89,
          5.889,
          5.878,
          5.855,
          5.848,
          5.833,
          5.828,
          5.824,
          5.813,
          5.791,
          5.77,
          5.759,
          5.754,
          5.716,
          5.709,
          5.695,
          5.689,
          5.605,
          5.589,
          5.548,
          5.477,
          5.474,
          5.429,
          5.399,
          5.36,
          5.332,
          5.286,
          5.268,
          5.253,
          5.212,
          5.194,
          5.192,
          5.192,
          5.14,
          5.129,
          5.124,
          5.123,
          5.102,
          5.098,
          5.073,
          5.057,
          5.013,
          5.007,
          4.971,
          4.959,
          4.949,
          4.898,
          4.885,
          4.876,
          4.874,
          4.867,
          4.857,
          4.839,
          4.8,
          4.788,
          4.786,
          4.739,
          4.715,
          4.694,
          4.686,
          4.681,
          4.677,
          4.642,
          4.633,
          4.61,
          4.571,
          4.565,
          4.55,
          4.518,
          4.517,
          4.514,
          4.512,
          4.507,
          4.436,
          4.419,
          4.369,
          4.35,
          4.332,
          4.307,
          4.297,
          4.292,
          4.271,
          4.252,
          4.218,
          4.194,
          4.077,
          4.033,
          3.995,
          3.989,
          3.956,
          3.931,
          3.904,
          3.896,
          3.845,
          3.819,
          3.781,
          3.681,
          3.678,
          3.667,
          3.656,
          3.655,
          3.587,
          3.575,
          3.465,
          3.34,
          3.006,
          2.905,
          2.839
         ]
        },
        {
         "mode": "markers",
         "name": "2016",
         "type": "scatter",
         "x": [
          0.36171,
          0.28083,
          0.47678,
          0.37895,
          0.25492,
          0.44834,
          0.47416,
          0.49401,
          0.47407,
          0.38254,
          0.32288,
          0.32865,
          0.41077,
          0.22553,
          0.22202,
          0.30452,
          0.15776,
          0.2424,
          0.44963,
          0.27571,
          0.11735,
          0.32706,
          0.50156,
          0.31595,
          0.2418,
          0.10989,
          0.09929,
          0.26591,
          0.18056,
          0.56237,
          0.15626,
          0.1216,
          0.58696,
          0.15457,
          0.25495,
          0.32388,
          0.17665,
          0.07044,
          0.28808,
          0.16665,
          0.15965,
          0.17147,
          0.31935,
          0.0425,
          0.13837,
          0.08877,
          0.41474,
          0.29773,
          0.34326,
          0.16684,
          0.10074,
          0.23684,
          0.10224,
          0.15011,
          0.19997,
          0.02736,
          0.14443,
          0.18824,
          0.21698,
          0.02025,
          0.13942,
          0.26322,
          0.25738,
          0.14527,
          0.22567,
          0.36951,
          0.17087,
          0.17445,
          0.27906,
          0.25296,
          0.12889,
          0.08423,
          0.22245,
          0.18434,
          0.40097,
          0.27225,
          0.27992,
          0.04707,
          0.56521,
          0.14262,
          0.0564,
          0.21674,
          0.04959,
          0.48546,
          0.38432,
          0.20737,
          0.29889,
          0.17191,
          0.21286,
          0.04053,
          0.099,
          0.31185,
          0.23693,
          0.11691,
          0.23507,
          0.25075,
          0.51479,
          0.03936,
          0,
          0.25998,
          0.34539,
          0.43079,
          0.23219,
          0.2044,
          0.38538,
          0.17866,
          0.3816,
          0.11154,
          0.1684,
          0.19132,
          0.23897,
          0.19589,
          0.07795,
          0.2268,
          0.29522,
          0.13656,
          0.46978,
          0.25028,
          0.81971,
          0.12706,
          0.07793,
          0.41328,
          0.20363,
          0.21203,
          0.25458,
          0.06786,
          0.12077,
          0.19103,
          0.12793,
          0.22686,
          0.18503,
          0.30968,
          0.18077,
          0.06244,
          0.21064,
          0.47958,
          0.12425,
          0.1827,
          0.20338,
          0.40339,
          0.12071,
          0.2097,
          0.25899,
          0.18667,
          0.24353,
          0.27102,
          0.09821,
          0.2204,
          0.31472,
          0.24063,
          0.29914,
          0.23552,
          0.2018,
          0.31268,
          0.17517,
          0.48397,
          0.2029
         ],
         "y": [
          7.526,
          7.509,
          7.501,
          7.498,
          7.413,
          7.404,
          7.339,
          7.334,
          7.313,
          7.291,
          7.267,
          7.119,
          7.104,
          7.087,
          7.039,
          6.994,
          6.952,
          6.929,
          6.907,
          6.871,
          6.778,
          6.739,
          6.725,
          6.705,
          6.701,
          6.65,
          6.596,
          6.573,
          6.545,
          6.488,
          6.481,
          6.478,
          6.474,
          6.379,
          6.379,
          6.375,
          6.361,
          6.355,
          6.324,
          6.269,
          6.239,
          6.218,
          6.168,
          6.084,
          6.078,
          6.068,
          6.005,
          5.992,
          5.987,
          5.977,
          5.976,
          5.956,
          5.921,
          5.919,
          5.897,
          5.856,
          5.835,
          5.835,
          5.822,
          5.813,
          5.802,
          5.771,
          5.768,
          5.743,
          5.658,
          5.648,
          5.615,
          5.56,
          5.546,
          5.538,
          5.528,
          5.517,
          5.51,
          5.488,
          5.458,
          5.44,
          5.401,
          5.389,
          5.314,
          5.303,
          5.291,
          5.279,
          5.245,
          5.196,
          5.185,
          5.177,
          5.163,
          5.161,
          5.155,
          5.151,
          5.145,
          5.132,
          5.129,
          5.123,
          5.121,
          5.061,
          5.057,
          5.045,
          5.033,
          4.996,
          4.907,
          4.876,
          4.875,
          4.871,
          4.813,
          4.795,
          4.793,
          4.754,
          4.655,
          4.643,
          4.635,
          4.575,
          4.574,
          4.513,
          4.508,
          4.459,
          4.415,
          4.404,
          4.395,
          4.362,
          4.36,
          4.356,
          4.324,
          4.276,
          4.272,
          4.252,
          4.236,
          4.219,
          4.217,
          4.201,
          4.193,
          4.156,
          4.139,
          4.121,
          4.073,
          4.028,
          3.974,
          3.956,
          3.916,
          3.907,
          3.866,
          3.856,
          3.832,
          3.763,
          3.739,
          3.739,
          3.724,
          3.695,
          3.666,
          3.622,
          3.607,
          3.515,
          3.484,
          3.36,
          3.303,
          3.069,
          2.905
         ]
        },
        {
         "mode": "markers",
         "name": "2017",
         "type": "scatter",
         "x": [
          0.36201223731041,
          0.355280488729477,
          0.475540220737457,
          0.290549278259277,
          0.24548277258873,
          0.470489829778671,
          0.435539722442627,
          0.500005125999451,
          0.385399252176285,
          0.477699249982834,
          0.330082654953003,
          0.214613229036331,
          0.316472321748734,
          0.392578780651093,
          0.42785832285881,
          0.336269170045853,
          0.231503337621689,
          0.283180981874466,
          0.492774158716202,
          0.326662421226501,
          0.3609419465065,
          0.16234989464283,
          0.0881067588925362,
          0.109457060694695,
          0.120990432798862,
          0.345965981483459,
          0.574730575084686,
          0.175096929073334,
          0.283488392829895,
          0.21055693924427,
          0.129762306809425,
          0.572123110294342,
          0.258360475301743,
          0.190133571624756,
          0.330473870038986,
          0.149014472961426,
          0.147616013884544,
          0.325296461582184,
          0.228289797902107,
          0.136544480919838,
          0.172668486833572,
          0.416608929634094,
          0.301674216985703,
          0.150112465023994,
          0.0782579854130745,
          0.158465966582298,
          0.415983647108078,
          0.17278964817524,
          0.0522638224065304,
          0.240015640854836,
          0.12057276815176,
          0.010164656676352,
          0.0694366469979286,
          0.153074786067009,
          0.206674367189407,
          0.208779126405716,
          0.133519917726517,
          0.22556072473526,
          0.24992498755455,
          0.201964423060417,
          0.266845703125,
          0.242649093270302,
          0.126819714903831,
          0.360933750867844,
          0.271254301071167,
          0.0988908112049103,
          0.15513750910759,
          0.152073666453362,
          0.0466930419206619,
          0.224150657653809,
          0.374465793371201,
          0.193513423204422,
          0.220125883817673,
          0.172170460224152,
          0.0784016624093056,
          0.233818337321281,
          0.248002976179123,
          0.319931447505951,
          0.0288068410009146,
          0.315446019172668,
          0.611704587936401,
          0.0650196298956871,
          0.197911024093628,
          0.0322099551558495,
          0.0452693402767181,
          0.186967849731445,
          0,
          0.264450758695602,
          0.0951027125120163,
          0.328867495059967,
          0.236188873648643,
          0.25376096367836,
          0.291631311178207,
          0.234968051314354,
          0.230947196483612,
          0.248997643589973,
          0.474054545164108,
          0.42858037352562,
          0.394096165895462,
          0.338464230298996,
          0.139362379908562,
          0.0496933571994305,
          0.114173173904419,
          0.128631442785263,
          0.113177694380283,
          0.293040901422501,
          0.236298456788063,
          0.387242913246155,
          0.201312944293022,
          0.172255352139473,
          0.0771337449550629,
          0.444860309362411,
          0.322228103876114,
          0.838075160980225,
          0.183468893170357,
          0.249580144882202,
          0.19963726401329,
          0.0437853783369064,
          0.312650740146637,
          0.490863561630249,
          0.0834880918264389,
          0.231538489460945,
          0.201870024204254,
          0.120852127671242,
          0.0540088154375553,
          0.246455833315849,
          0.183354198932648,
          0.201237469911575,
          0.385922968387604,
          0.182317450642586,
          0.256923943758011,
          0.270061463117599,
          0.325766056776047,
          0.250864684581757,
          0.228673845529556,
          0.287170469760895,
          0.216113850474358,
          0.189143493771553,
          0.157497271895409,
          0.097926490008831,
          0.311870932579041,
          0.0993484482169151,
          0.207948461174965,
          0.208732530474663,
          0.489203780889511,
          0.104125209152699,
          0.285670816898346,
          0.26654988527298,
          0.264815092086792,
          0.196896150708199,
          0.252756029367447,
          0.493663728237152,
          0.354256361722946,
          0.204435184597969,
          0.280876487493515
         ],
         "y": [
          7.53700017929077,
          7.52199983596802,
          7.50400018692017,
          7.49399995803833,
          7.4689998626709,
          7.3769998550415,
          7.31599998474121,
          7.31400012969971,
          7.28399991989136,
          7.28399991989136,
          7.21299982070923,
          7.0789999961853,
          7.00600004196167,
          6.99300003051758,
          6.97700023651123,
          6.95100021362305,
          6.89099979400635,
          6.86299991607666,
          6.71400022506714,
          6.65199995040894,
          6.64799976348877,
          6.63500022888184,
          6.60900020599365,
          6.59899997711182,
          6.57800006866455,
          6.57200002670288,
          6.52699995040894,
          6.4539999961853,
          6.4539999961853,
          6.4520001411438,
          6.44199991226196,
          6.42399978637695,
          6.42199993133545,
          6.40299987792969,
          6.375,
          6.35699987411499,
          6.3439998626709,
          6.16800022125244,
          6.10500001907349,
          6.09800004959106,
          6.08699989318848,
          6.08400011062622,
          6.07100009918213,
          6.00799989700317,
          6.00299978256226,
          5.97300004959106,
          5.97100019454956,
          5.96400022506714,
          5.96299982070923,
          5.95599985122681,
          5.92000007629395,
          5.90199995040894,
          5.87200021743774,
          5.84999990463257,
          5.83799982070923,
          5.83799982070923,
          5.82499980926514,
          5.82299995422363,
          5.82200002670288,
          5.81899976730347,
          5.80999994277954,
          5.75799989700317,
          5.71500015258789,
          5.62900018692017,
          5.62099981307983,
          5.61100006103516,
          5.56899976730347,
          5.52500009536743,
          5.5,
          5.49300003051758,
          5.47200012207031,
          5.42999982833862,
          5.39499998092651,
          5.33599996566772,
          5.32399988174438,
          5.31099987030029,
          5.29300022125244,
          5.27899980545044,
          5.27299976348877,
          5.26900005340576,
          5.26200008392334,
          5.25,
          5.23699998855591,
          5.2350001335144,
          5.23400020599365,
          5.23000001907349,
          5.22700023651123,
          5.22499990463257,
          5.19500017166138,
          5.18200016021729,
          5.18100023269653,
          5.17500019073486,
          5.15100002288818,
          5.07399988174438,
          5.07399988174438,
          5.04099988937378,
          5.01100015640259,
          5.00400018692017,
          4.96199989318848,
          4.95499992370605,
          4.8289999961853,
          4.80499982833862,
          4.77500009536743,
          4.7350001335144,
          4.71400022506714,
          4.70900011062622,
          4.69500017166138,
          4.69199991226196,
          4.64400005340576,
          4.60799980163574,
          4.57399988174438,
          4.55299997329712,
          4.55000019073486,
          4.54500007629395,
          4.53499984741211,
          4.51399993896484,
          4.49700021743774,
          4.46500015258789,
          4.46000003814697,
          4.44000005722046,
          4.37599992752075,
          4.31500005722046,
          4.29199981689453,
          4.29099988937378,
          4.28599977493286,
          4.28000020980835,
          4.19000005722046,
          4.17999982833862,
          4.16800022125244,
          4.13899993896484,
          4.11999988555908,
          4.09600019454956,
          4.08099985122681,
          4.03200006484985,
          4.02799987792969,
          3.97000002861023,
          3.93600010871887,
          3.875,
          3.80800008773804,
          3.79500007629395,
          3.79399991035461,
          3.76600003242493,
          3.65700006484985,
          3.64400005340576,
          3.6029999256134,
          3.59299993515015,
          3.59100008010864,
          3.53299999237061,
          3.50699996948242,
          3.49499988555908,
          3.47099995613098,
          3.46199989318848,
          3.34899997711182,
          2.90499997138977,
          2.69300007820129
         ]
        },
        {
         "mode": "markers",
         "name": "2018",
         "type": "scatter",
         "x": [
          0.202,
          0.286,
          0.284,
          0.353,
          0.256,
          0.333,
          0.321,
          0.365,
          0.285,
          0.361,
          0.262,
          0.242,
          0.143,
          0.307,
          0.273,
          0.188,
          0.196,
          0.291,
          0.354,
          0.064,
          0.376,
          0.098,
          0.069,
          0.197,
          0.151,
          0.125,
          0.11,
          0.062,
          0.179,
          0.13,
          0.256,
          0.098,
          0.261,
          0.311,
          0.142,
          0.099,
          0.171,
          0.118,
          0.065,
          0.208,
          0.108,
          0.243,
          0.328,
          0.167,
          0.364,
          0.137,
          0.114,
          0.183,
          0.026,
          0.16,
          0.088,
          0.092,
          0.079,
          0.245,
          0.096,
          0.175,
          0.179,
          0.065,
          0.148,
          0.202,
          0.141,
          0.086,
          0.162,
          0.092,
          0.274,
          0.171,
          0.199,
          0.061,
          0.116,
          0.12,
          0.197,
          0.101,
          0.106,
          0.216,
          0.246,
          0.055,
          0.134,
          0,
          0.214,
          0.111,
          0.12,
          0.12,
          0.055,
          0.026,
          0.029,
          0.031,
          0.187,
          0.173,
          0.13,
          0.201,
          0.281,
          0.216,
          0.253,
          0.177,
          0.484,
          0.364,
          0.238,
          0.183,
          0.064,
          0.302,
          0.056,
          0.032,
          0.086,
          0.103,
          0.282,
          0.146,
          0.212,
          0.138,
          0.23,
          0.04,
          0.149,
          0.238,
          0.091,
          0.153,
          0.307,
          0.148,
          0.139,
          0.051,
          0.256,
          0.175,
          0.092,
          0.206,
          0.352,
          0.221,
          0.134,
          0.22,
          0.038,
          0.077,
          0.598,
          0.181,
          0.197,
          0.172,
          0.175,
          0.259,
          0.163,
          0.134,
          0.187,
          0.158,
          0.185,
          0.116,
          0.079,
          0.155,
          0.132,
          0.191,
          0.042,
          0.21,
          0.392,
          0.206,
          0.376,
          0.2,
          0.083,
          0.27,
          0.224,
          0.218,
          0.149
         ],
         "y": [
          7.632,
          7.594,
          7.555,
          7.495,
          7.487,
          7.441,
          7.328,
          7.324,
          7.314,
          7.272,
          7.19,
          7.139,
          7.072,
          6.977,
          6.965,
          6.927,
          6.91,
          6.886,
          6.814,
          6.711,
          6.627,
          6.489,
          6.488,
          6.476,
          6.441,
          6.43,
          6.419,
          6.388,
          6.382,
          6.379,
          6.374,
          6.371,
          6.343,
          6.322,
          6.31,
          6.26,
          6.192,
          6.173,
          6.167,
          6.141,
          6.123,
          6.105,
          6.096,
          6.083,
          6.072,
          6,
          5.973,
          5.956,
          5.952,
          5.948,
          5.945,
          5.933,
          5.915,
          5.891,
          5.89,
          5.875,
          5.835,
          5.81,
          5.79,
          5.762,
          5.752,
          5.739,
          5.681,
          5.663,
          5.662,
          5.64,
          5.636,
          5.62,
          5.566,
          5.524,
          5.504,
          5.483,
          5.483,
          5.472,
          5.43,
          5.41,
          5.398,
          5.358,
          5.358,
          5.347,
          5.321,
          5.302,
          5.295,
          5.254,
          5.246,
          5.201,
          5.199,
          5.185,
          5.161,
          5.155,
          5.131,
          5.129,
          5.125,
          5.103,
          5.093,
          5.082,
          4.982,
          4.975,
          4.933,
          4.88,
          4.806,
          4.758,
          4.743,
          4.724,
          4.707,
          4.671,
          4.657,
          4.631,
          4.623,
          4.592,
          4.586,
          4.571,
          4.559,
          4.5,
          4.471,
          4.456,
          4.447,
          4.441,
          4.433,
          4.424,
          4.419,
          4.417,
          4.41,
          4.377,
          4.356,
          4.35,
          4.34,
          4.321,
          4.308,
          4.301,
          4.245,
          4.19,
          4.166,
          4.161,
          4.141,
          4.139,
          4.103,
          3.999,
          3.964,
          3.808,
          3.795,
          3.774,
          3.692,
          3.632,
          3.59,
          3.587,
          3.582,
          3.495,
          3.462,
          3.408,
          3.355,
          3.303,
          3.254,
          3.083,
          2.905
         ]
        },
        {
         "mode": "markers",
         "name": "2019",
         "type": "scatter",
         "x": [
          0.153,
          0.252,
          0.271,
          0.354,
          0.322,
          0.263,
          0.267,
          0.33,
          0.285,
          0.244,
          0.332,
          0.144,
          0.261,
          0.194,
          0.348,
          0.298,
          0.261,
          0.16,
          0.28,
          0.046,
          0.262,
          0.375,
          0.074,
          0.111,
          0.242,
          0.187,
          0.175,
          0.08,
          0.22,
          0.153,
          0.109,
          0.099,
          0.127,
          0.271,
          0.093,
          0.158,
          0.255,
          0.121,
          0.185,
          0.117,
          0.322,
          0.043,
          0.099,
          0.144,
          0.2,
          0.262,
          0.066,
          0.083,
          0.19,
          0.126,
          0.142,
          0.359,
          0.075,
          0.175,
          0.103,
          0.107,
          0.215,
          0.069,
          0.246,
          0.146,
          0.137,
          0.081,
          0.184,
          0.191,
          0.083,
          0.047,
          0.22,
          0.082,
          0.117,
          0.137,
          0.181,
          0.133,
          0.142,
          0.23,
          0.119,
          0.258,
          0.113,
          0.263,
          0.083,
          0.26,
          0.094,
          0,
          0.235,
          0.185,
          0.215,
          0.3,
          0.244,
          0.073,
          0.036,
          0.035,
          0.166,
          0.498,
          0.058,
          0.147,
          0.37,
          0.187,
          0.081,
          0.245,
          0.154,
          0.285,
          0.11,
          0.175,
          0.105,
          0.043,
          0.266,
          0.13,
          0.178,
          0.064,
          0.232,
          0.103,
          0.153,
          0.243,
          0.07,
          0.188,
          0.177,
          0.095,
          0.27,
          0.207,
          0.043,
          0.269,
          0.372,
          0.106,
          0.197,
          0.059,
          0.166,
          0.148,
          0.212,
          0.153,
          0.252,
          0.244,
          0.566,
          0.198,
          0.187,
          0.209,
          0.074,
          0.252,
          0.076,
          0.247,
          0.177,
          0.2,
          0.233,
          0.275,
          0.169,
          0.107,
          0.176,
          0.151,
          0.419,
          0.025,
          0.331,
          0.218,
          0.108,
          0.217,
          0.276,
          0.158,
          0.235,
          0.202
         ],
         "y": [
          7.769,
          7.6,
          7.554,
          7.494,
          7.488,
          7.48,
          7.343,
          7.307,
          7.278,
          7.246,
          7.228,
          7.167,
          7.139,
          7.09,
          7.054,
          7.021,
          6.985,
          6.923,
          6.892,
          6.852,
          6.825,
          6.726,
          6.595,
          6.592,
          6.446,
          6.444,
          6.436,
          6.375,
          6.374,
          6.354,
          6.321,
          6.3,
          6.293,
          6.262,
          6.253,
          6.223,
          6.199,
          6.198,
          6.192,
          6.182,
          6.174,
          6.149,
          6.125,
          6.118,
          6.105,
          6.1,
          6.086,
          6.07,
          6.046,
          6.028,
          6.021,
          6.008,
          5.94,
          5.895,
          5.893,
          5.89,
          5.888,
          5.886,
          5.86,
          5.809,
          5.779,
          5.758,
          5.743,
          5.718,
          5.697,
          5.693,
          5.653,
          5.648,
          5.631,
          5.603,
          5.529,
          5.525,
          5.523,
          5.467,
          5.432,
          5.43,
          5.425,
          5.386,
          5.373,
          5.339,
          5.323,
          5.287,
          5.285,
          5.274,
          5.265,
          5.261,
          5.247,
          5.211,
          5.208,
          5.208,
          5.197,
          5.192,
          5.191,
          5.175,
          5.082,
          5.044,
          5.011,
          4.996,
          4.944,
          4.913,
          4.906,
          4.883,
          4.812,
          4.799,
          4.796,
          4.722,
          4.719,
          4.707,
          4.7,
          4.696,
          4.681,
          4.668,
          4.639,
          4.628,
          4.587,
          4.559,
          4.548,
          4.534,
          4.519,
          4.516,
          4.509,
          4.49,
          4.466,
          4.461,
          4.456,
          4.437,
          4.418,
          4.39,
          4.374,
          4.366,
          4.36,
          4.35,
          4.332,
          4.286,
          4.212,
          4.189,
          4.166,
          4.107,
          4.085,
          4.015,
          3.975,
          3.973,
          3.933,
          3.802,
          3.775,
          3.663,
          3.597,
          3.488,
          3.462,
          3.41,
          3.38,
          3.334,
          3.231,
          3.203,
          3.083,
          2.853
         ]
        }
       ],
       "layout": {
        "height": 500,
        "template": {
         "data": {
          "bar": [
           {
            "error_x": {
             "color": "#2a3f5f"
            },
            "error_y": {
             "color": "#2a3f5f"
            },
            "marker": {
             "line": {
              "color": "#E5ECF6",
              "width": 0.5
             },
             "pattern": {
              "fillmode": "overlay",
              "size": 10,
              "solidity": 0.2
             }
            },
            "type": "bar"
           }
          ],
          "barpolar": [
           {
            "marker": {
             "line": {
              "color": "#E5ECF6",
              "width": 0.5
             },
             "pattern": {
              "fillmode": "overlay",
              "size": 10,
              "solidity": 0.2
             }
            },
            "type": "barpolar"
           }
          ],
          "carpet": [
           {
            "aaxis": {
             "endlinecolor": "#2a3f5f",
             "gridcolor": "white",
             "linecolor": "white",
             "minorgridcolor": "white",
             "startlinecolor": "#2a3f5f"
            },
            "baxis": {
             "endlinecolor": "#2a3f5f",
             "gridcolor": "white",
             "linecolor": "white",
             "minorgridcolor": "white",
             "startlinecolor": "#2a3f5f"
            },
            "type": "carpet"
           }
          ],
          "choropleth": [
           {
            "colorbar": {
             "outlinewidth": 0,
             "ticks": ""
            },
            "type": "choropleth"
           }
          ],
          "contour": [
           {
            "colorbar": {
             "outlinewidth": 0,
             "ticks": ""
            },
            "colorscale": [
             [
              0,
              "#0d0887"
             ],
             [
              0.1111111111111111,
              "#46039f"
             ],
             [
              0.2222222222222222,
              "#7201a8"
             ],
             [
              0.3333333333333333,
              "#9c179e"
             ],
             [
              0.4444444444444444,
              "#bd3786"
             ],
             [
              0.5555555555555556,
              "#d8576b"
             ],
             [
              0.6666666666666666,
              "#ed7953"
             ],
             [
              0.7777777777777778,
              "#fb9f3a"
             ],
             [
              0.8888888888888888,
              "#fdca26"
             ],
             [
              1,
              "#f0f921"
             ]
            ],
            "type": "contour"
           }
          ],
          "contourcarpet": [
           {
            "colorbar": {
             "outlinewidth": 0,
             "ticks": ""
            },
            "type": "contourcarpet"
           }
          ],
          "heatmap": [
           {
            "colorbar": {
             "outlinewidth": 0,
             "ticks": ""
            },
            "colorscale": [
             [
              0,
              "#0d0887"
             ],
             [
              0.1111111111111111,
              "#46039f"
             ],
             [
              0.2222222222222222,
              "#7201a8"
             ],
             [
              0.3333333333333333,
              "#9c179e"
             ],
             [
              0.4444444444444444,
              "#bd3786"
             ],
             [
              0.5555555555555556,
              "#d8576b"
             ],
             [
              0.6666666666666666,
              "#ed7953"
             ],
             [
              0.7777777777777778,
              "#fb9f3a"
             ],
             [
              0.8888888888888888,
              "#fdca26"
             ],
             [
              1,
              "#f0f921"
             ]
            ],
            "type": "heatmap"
           }
          ],
          "heatmapgl": [
           {
            "colorbar": {
             "outlinewidth": 0,
             "ticks": ""
            },
            "colorscale": [
             [
              0,
              "#0d0887"
             ],
             [
              0.1111111111111111,
              "#46039f"
             ],
             [
              0.2222222222222222,
              "#7201a8"
             ],
             [
              0.3333333333333333,
              "#9c179e"
             ],
             [
              0.4444444444444444,
              "#bd3786"
             ],
             [
              0.5555555555555556,
              "#d8576b"
             ],
             [
              0.6666666666666666,
              "#ed7953"
             ],
             [
              0.7777777777777778,
              "#fb9f3a"
             ],
             [
              0.8888888888888888,
              "#fdca26"
             ],
             [
              1,
              "#f0f921"
             ]
            ],
            "type": "heatmapgl"
           }
          ],
          "histogram": [
           {
            "marker": {
             "pattern": {
              "fillmode": "overlay",
              "size": 10,
              "solidity": 0.2
             }
            },
            "type": "histogram"
           }
          ],
          "histogram2d": [
           {
            "colorbar": {
             "outlinewidth": 0,
             "ticks": ""
            },
            "colorscale": [
             [
              0,
              "#0d0887"
             ],
             [
              0.1111111111111111,
              "#46039f"
             ],
             [
              0.2222222222222222,
              "#7201a8"
             ],
             [
              0.3333333333333333,
              "#9c179e"
             ],
             [
              0.4444444444444444,
              "#bd3786"
             ],
             [
              0.5555555555555556,
              "#d8576b"
             ],
             [
              0.6666666666666666,
              "#ed7953"
             ],
             [
              0.7777777777777778,
              "#fb9f3a"
             ],
             [
              0.8888888888888888,
              "#fdca26"
             ],
             [
              1,
              "#f0f921"
             ]
            ],
            "type": "histogram2d"
           }
          ],
          "histogram2dcontour": [
           {
            "colorbar": {
             "outlinewidth": 0,
             "ticks": ""
            },
            "colorscale": [
             [
              0,
              "#0d0887"
             ],
             [
              0.1111111111111111,
              "#46039f"
             ],
             [
              0.2222222222222222,
              "#7201a8"
             ],
             [
              0.3333333333333333,
              "#9c179e"
             ],
             [
              0.4444444444444444,
              "#bd3786"
             ],
             [
              0.5555555555555556,
              "#d8576b"
             ],
             [
              0.6666666666666666,
              "#ed7953"
             ],
             [
              0.7777777777777778,
              "#fb9f3a"
             ],
             [
              0.8888888888888888,
              "#fdca26"
             ],
             [
              1,
              "#f0f921"
             ]
            ],
            "type": "histogram2dcontour"
           }
          ],
          "mesh3d": [
           {
            "colorbar": {
             "outlinewidth": 0,
             "ticks": ""
            },
            "type": "mesh3d"
           }
          ],
          "parcoords": [
           {
            "line": {
             "colorbar": {
              "outlinewidth": 0,
              "ticks": ""
             }
            },
            "type": "parcoords"
           }
          ],
          "pie": [
           {
            "automargin": true,
            "type": "pie"
           }
          ],
          "scatter": [
           {
            "fillpattern": {
             "fillmode": "overlay",
             "size": 10,
             "solidity": 0.2
            },
            "type": "scatter"
           }
          ],
          "scatter3d": [
           {
            "line": {
             "colorbar": {
              "outlinewidth": 0,
              "ticks": ""
             }
            },
            "marker": {
             "colorbar": {
              "outlinewidth": 0,
              "ticks": ""
             }
            },
            "type": "scatter3d"
           }
          ],
          "scattercarpet": [
           {
            "marker": {
             "colorbar": {
              "outlinewidth": 0,
              "ticks": ""
             }
            },
            "type": "scattercarpet"
           }
          ],
          "scattergeo": [
           {
            "marker": {
             "colorbar": {
              "outlinewidth": 0,
              "ticks": ""
             }
            },
            "type": "scattergeo"
           }
          ],
          "scattergl": [
           {
            "marker": {
             "colorbar": {
              "outlinewidth": 0,
              "ticks": ""
             }
            },
            "type": "scattergl"
           }
          ],
          "scattermapbox": [
           {
            "marker": {
             "colorbar": {
              "outlinewidth": 0,
              "ticks": ""
             }
            },
            "type": "scattermapbox"
           }
          ],
          "scatterpolar": [
           {
            "marker": {
             "colorbar": {
              "outlinewidth": 0,
              "ticks": ""
             }
            },
            "type": "scatterpolar"
           }
          ],
          "scatterpolargl": [
           {
            "marker": {
             "colorbar": {
              "outlinewidth": 0,
              "ticks": ""
             }
            },
            "type": "scatterpolargl"
           }
          ],
          "scatterternary": [
           {
            "marker": {
             "colorbar": {
              "outlinewidth": 0,
              "ticks": ""
             }
            },
            "type": "scatterternary"
           }
          ],
          "surface": [
           {
            "colorbar": {
             "outlinewidth": 0,
             "ticks": ""
            },
            "colorscale": [
             [
              0,
              "#0d0887"
             ],
             [
              0.1111111111111111,
              "#46039f"
             ],
             [
              0.2222222222222222,
              "#7201a8"
             ],
             [
              0.3333333333333333,
              "#9c179e"
             ],
             [
              0.4444444444444444,
              "#bd3786"
             ],
             [
              0.5555555555555556,
              "#d8576b"
             ],
             [
              0.6666666666666666,
              "#ed7953"
             ],
             [
              0.7777777777777778,
              "#fb9f3a"
             ],
             [
              0.8888888888888888,
              "#fdca26"
             ],
             [
              1,
              "#f0f921"
             ]
            ],
            "type": "surface"
           }
          ],
          "table": [
           {
            "cells": {
             "fill": {
              "color": "#EBF0F8"
             },
             "line": {
              "color": "white"
             }
            },
            "header": {
             "fill": {
              "color": "#C8D4E3"
             },
             "line": {
              "color": "white"
             }
            },
            "type": "table"
           }
          ]
         },
         "layout": {
          "annotationdefaults": {
           "arrowcolor": "#2a3f5f",
           "arrowhead": 0,
           "arrowwidth": 1
          },
          "autotypenumbers": "strict",
          "coloraxis": {
           "colorbar": {
            "outlinewidth": 0,
            "ticks": ""
           }
          },
          "colorscale": {
           "diverging": [
            [
             0,
             "#8e0152"
            ],
            [
             0.1,
             "#c51b7d"
            ],
            [
             0.2,
             "#de77ae"
            ],
            [
             0.3,
             "#f1b6da"
            ],
            [
             0.4,
             "#fde0ef"
            ],
            [
             0.5,
             "#f7f7f7"
            ],
            [
             0.6,
             "#e6f5d0"
            ],
            [
             0.7,
             "#b8e186"
            ],
            [
             0.8,
             "#7fbc41"
            ],
            [
             0.9,
             "#4d9221"
            ],
            [
             1,
             "#276419"
            ]
           ],
           "sequential": [
            [
             0,
             "#0d0887"
            ],
            [
             0.1111111111111111,
             "#46039f"
            ],
            [
             0.2222222222222222,
             "#7201a8"
            ],
            [
             0.3333333333333333,
             "#9c179e"
            ],
            [
             0.4444444444444444,
             "#bd3786"
            ],
            [
             0.5555555555555556,
             "#d8576b"
            ],
            [
             0.6666666666666666,
             "#ed7953"
            ],
            [
             0.7777777777777778,
             "#fb9f3a"
            ],
            [
             0.8888888888888888,
             "#fdca26"
            ],
            [
             1,
             "#f0f921"
            ]
           ],
           "sequentialminus": [
            [
             0,
             "#0d0887"
            ],
            [
             0.1111111111111111,
             "#46039f"
            ],
            [
             0.2222222222222222,
             "#7201a8"
            ],
            [
             0.3333333333333333,
             "#9c179e"
            ],
            [
             0.4444444444444444,
             "#bd3786"
            ],
            [
             0.5555555555555556,
             "#d8576b"
            ],
            [
             0.6666666666666666,
             "#ed7953"
            ],
            [
             0.7777777777777778,
             "#fb9f3a"
            ],
            [
             0.8888888888888888,
             "#fdca26"
            ],
            [
             1,
             "#f0f921"
            ]
           ]
          },
          "colorway": [
           "#636efa",
           "#EF553B",
           "#00cc96",
           "#ab63fa",
           "#FFA15A",
           "#19d3f3",
           "#FF6692",
           "#B6E880",
           "#FF97FF",
           "#FECB52"
          ],
          "font": {
           "color": "#2a3f5f"
          },
          "geo": {
           "bgcolor": "white",
           "lakecolor": "white",
           "landcolor": "#E5ECF6",
           "showlakes": true,
           "showland": true,
           "subunitcolor": "white"
          },
          "hoverlabel": {
           "align": "left"
          },
          "hovermode": "closest",
          "mapbox": {
           "style": "light"
          },
          "paper_bgcolor": "white",
          "plot_bgcolor": "#E5ECF6",
          "polar": {
           "angularaxis": {
            "gridcolor": "white",
            "linecolor": "white",
            "ticks": ""
           },
           "bgcolor": "#E5ECF6",
           "radialaxis": {
            "gridcolor": "white",
            "linecolor": "white",
            "ticks": ""
           }
          },
          "scene": {
           "xaxis": {
            "backgroundcolor": "#E5ECF6",
            "gridcolor": "white",
            "gridwidth": 2,
            "linecolor": "white",
            "showbackground": true,
            "ticks": "",
            "zerolinecolor": "white"
           },
           "yaxis": {
            "backgroundcolor": "#E5ECF6",
            "gridcolor": "white",
            "gridwidth": 2,
            "linecolor": "white",
            "showbackground": true,
            "ticks": "",
            "zerolinecolor": "white"
           },
           "zaxis": {
            "backgroundcolor": "#E5ECF6",
            "gridcolor": "white",
            "gridwidth": 2,
            "linecolor": "white",
            "showbackground": true,
            "ticks": "",
            "zerolinecolor": "white"
           }
          },
          "shapedefaults": {
           "line": {
            "color": "#2a3f5f"
           }
          },
          "ternary": {
           "aaxis": {
            "gridcolor": "white",
            "linecolor": "white",
            "ticks": ""
           },
           "baxis": {
            "gridcolor": "white",
            "linecolor": "white",
            "ticks": ""
           },
           "bgcolor": "#E5ECF6",
           "caxis": {
            "gridcolor": "white",
            "linecolor": "white",
            "ticks": ""
           }
          },
          "title": {
           "x": 0.05
          },
          "xaxis": {
           "automargin": true,
           "gridcolor": "white",
           "linecolor": "white",
           "ticks": "",
           "title": {
            "standoff": 15
           },
           "zerolinecolor": "white",
           "zerolinewidth": 2
          },
          "yaxis": {
           "automargin": true,
           "gridcolor": "white",
           "linecolor": "white",
           "ticks": "",
           "title": {
            "standoff": 15
           },
           "zerolinecolor": "white",
           "zerolinewidth": 2
          }
         }
        },
        "title": {
         "text": "Score vs Generosity"
        },
        "width": 1000
       }
      }
     },
     "metadata": {},
     "output_type": "display_data"
    },
    {
     "data": {
      "application/vnd.plotly.v1+json": {
       "config": {
        "plotlyServerURL": "https://plot.ly"
       },
       "data": [
        {
         "mode": "lines",
         "name": "2015",
         "type": "scatter",
         "x": [
          0.29678,
          0.4363,
          0.34139,
          0.34699,
          0.45811,
          0.23351,
          0.4761,
          0.36262,
          0.47501,
          0.43562,
          0.33172,
          0.25497,
          0.33088,
          0.14074,
          0.40105,
          0.14574,
          0.28034,
          0.45901,
          0.2225,
          0.26428,
          0.51912,
          0.21542,
          0.05841,
          0.31105,
          0.24434,
          0.28214,
          0.33363,
          0.32573,
          0.12332,
          0.11451,
          0.10686,
          0.2324,
          0.18401,
          0.5763,
          0.13706,
          0.18227,
          0.51752,
          0.25376,
          0.16228,
          0.16991,
          0.31844,
          0.10692,
          0.27489,
          0.22837,
          0.16893,
          0.10705,
          0.18557,
          0.11541,
          0.17362,
          0.22823,
          0.20536,
          0.20951,
          0.3424,
          0.11827,
          0.25328,
          0.02641,
          0.27815,
          0.14982,
          0.11046,
          0.16759,
          0.33075,
          0.05444,
          0.18295,
          0.00199,
          0.2123,
          0.26169,
          0.30638,
          0.07822,
          0.2831,
          0.16979,
          0.37744,
          0.39478,
          0.0868,
          0.51535,
          0.1686,
          0.12253,
          0.3003,
          0.27233,
          0.47998,
          0.07799,
          0.33671,
          0.11053,
          0.1614,
          0.08185,
          0.19591,
          0.13748,
          0.19231,
          0.13719,
          0.18226,
          0.24991,
          0.50318,
          0.07172,
          0.22359,
          0.22269,
          0.14272,
          0.24808,
          0.16388,
          0.21684,
          0.42192,
          0.3323,
          0.18259,
          0,
          0.21854,
          0.128,
          0.23027,
          0.22974,
          0.06431,
          0.11251,
          0.21222,
          0.38086,
          0.15275,
          0.17922,
          0.11973,
          0.23087,
          0.18987,
          0.24362,
          0.26475,
          0.19062,
          0.46187,
          0.24834,
          0.32296,
          0.24325,
          0.21488,
          0.219,
          0.37542,
          0.18093,
          0.07855,
          0.10461,
          0.79588,
          0.05547,
          0.33128,
          0.40828,
          0.20618,
          0.11921,
          0.11291,
          0.09131,
          0.12344,
          0.18798,
          0.12388,
          0.17441,
          0.29066,
          0.20843,
          0.06822,
          0.19387,
          0.40359,
          0.34377,
          0.21333,
          0.23835,
          0.18386,
          0.28657,
          0.20165,
          0.21747,
          0.3651,
          0.22628,
          0.1826,
          0.47179,
          0.19727,
          0.16681
         ],
         "y": [
          5.4726798615764505,
          5.700064530208224,
          5.545383632130231,
          5.554510310343662,
          5.735609682321606,
          5.369564695404344,
          5.764929136082253,
          5.579983521142935,
          5.763152693358568,
          5.698956290710878,
          5.529623814572395,
          5.404539430129386,
          5.52825481284038,
          5.218371492215056,
          5.6426153503826075,
          5.226520312048477,
          5.445886541964163,
          5.737076469891621,
          5.351620994131152,
          5.419712532659216,
          5.835041581929006,
          5.340082265247028,
          5.084193024837949,
          5.495936593381034,
          5.387215039163534,
          5.448820117104194,
          5.532736663748762,
          5.519861528411957,
          5.189981003915418,
          5.17562278336893,
          5.163155089023796,
          5.367755657401325,
          5.288891379053479,
          5.928231485544005,
          5.212373960817658,
          5.286055589751449,
          5.8324339595823105,
          5.402567415729698,
          5.253476608057432,
          5.265911707123232,
          5.50798054909483,
          5.163252874861797,
          5.4370043283457345,
          5.361187708615588,
          5.264314538435881,
          5.163464744177467,
          5.291433810841506,
          5.1770895709389455,
          5.27195813143963,
          5.360959541660252,
          5.3236868397421855,
          5.330450360203924,
          5.547029693736582,
          5.181750695883663,
          5.40178512902569,
          5.0320405779040565,
          5.4423173588771245,
          5.233169749032547,
          5.169022239303859,
          5.262130654720525,
          5.528042943524712,
          5.077722861890213,
          5.287163829248794,
          4.9922417418376295,
          5.334997401670973,
          5.415491443985504,
          5.488325595656619,
          5.116478649017962,
          5.4503846905122115,
          5.26571613544723,
          5.604136623129195,
          5.6323967303114975,
          5.130462023852112,
          5.828897371774606,
          5.263776716326876,
          5.188693490381737,
          5.478416630739179,
          5.432832132591023,
          5.771252620272987,
          5.1161038033056245,
          5.537756336766149,
          5.169136322781527,
          5.25204241576675,
          5.122394692217026,
          5.30828557025702,
          5.213058461683665,
          5.3024184199769575,
          5.212585830133326,
          5.286039292111782,
          5.396292824457965,
          5.80906314430006,
          5.105885183234515,
          5.353397436854838,
          5.351930649284822,
          5.22159842486909,
          5.393310356398932,
          5.256084230404126,
          5.34239653007972,
          5.676628524367306,
          5.530569077673071,
          5.286577114220787,
          4.988998511543928,
          5.345167128823083,
          5.1976082992795,
          5.364284260152288,
          5.363420485249945,
          5.093808632241386,
          5.172363255435561,
          5.334867020553639,
          5.609710415895254,
          5.237944957454932,
          5.281084809653062,
          5.1841301512750215,
          5.365262118532298,
          5.298441795898248,
          5.386041609107521,
          5.420478521723557,
          5.299664118873261,
          5.741737594836338,
          5.39373409503027,
          5.515347082224242,
          5.385438596439848,
          5.339202192705018,
          5.345916820247758,
          5.600844499916493,
          5.283871706036091,
          5.117016471126968,
          5.159488120098757,
          6.286095057348512,
          5.079401518775898,
          5.528906718427054,
          5.654398543861734,
          5.325023246194866,
          5.183282674012346,
          5.173015161022235,
          5.137812259341858,
          5.19017657559142,
          5.295361542001215,
          5.19089367173676,
          5.273245644973311,
          5.462705706100344,
          5.328690215119906,
          5.100181009351121,
          5.304960851764984,
          5.646754950857985,
          5.549262470370939,
          5.336676058556658,
          5.377452753003095,
          5.288646914458476,
          5.4560399714766055,
          5.317640415425787,
          5.343423281378731,
          5.5840253357803125,
          5.357781501925218,
          5.286593411860454,
          5.757904853385845,
          5.310502049251711,
          5.260859438826511
         ]
        },
        {
         "mode": "lines",
         "name": "2016",
         "type": "scatter",
         "x": [
          0.36171,
          0.28083,
          0.47678,
          0.37895,
          0.25492,
          0.44834,
          0.47416,
          0.49401,
          0.47407,
          0.38254,
          0.32288,
          0.32865,
          0.41077,
          0.22553,
          0.22202,
          0.30452,
          0.15776,
          0.2424,
          0.44963,
          0.27571,
          0.11735,
          0.32706,
          0.50156,
          0.31595,
          0.2418,
          0.10989,
          0.09929,
          0.26591,
          0.18056,
          0.56237,
          0.15626,
          0.1216,
          0.58696,
          0.15457,
          0.25495,
          0.32388,
          0.17665,
          0.07044,
          0.28808,
          0.16665,
          0.15965,
          0.17147,
          0.31935,
          0.0425,
          0.13837,
          0.08877,
          0.41474,
          0.29773,
          0.34326,
          0.16684,
          0.10074,
          0.23684,
          0.10224,
          0.15011,
          0.19997,
          0.02736,
          0.14443,
          0.18824,
          0.21698,
          0.02025,
          0.13942,
          0.26322,
          0.25738,
          0.14527,
          0.22567,
          0.36951,
          0.17087,
          0.17445,
          0.27906,
          0.25296,
          0.12889,
          0.08423,
          0.22245,
          0.18434,
          0.40097,
          0.27225,
          0.27992,
          0.04707,
          0.56521,
          0.14262,
          0.0564,
          0.21674,
          0.04959,
          0.48546,
          0.38432,
          0.20737,
          0.29889,
          0.17191,
          0.21286,
          0.04053,
          0.099,
          0.31185,
          0.23693,
          0.11691,
          0.23507,
          0.25075,
          0.51479,
          0.03936,
          0,
          0.25998,
          0.34539,
          0.43079,
          0.23219,
          0.2044,
          0.38538,
          0.17866,
          0.3816,
          0.11154,
          0.1684,
          0.19132,
          0.23897,
          0.19589,
          0.07795,
          0.2268,
          0.29522,
          0.13656,
          0.46978,
          0.25028,
          0.81971,
          0.12706,
          0.07793,
          0.41328,
          0.20363,
          0.21203,
          0.25458,
          0.06786,
          0.12077,
          0.19103,
          0.12793,
          0.22686,
          0.18503,
          0.30968,
          0.18077,
          0.06244,
          0.21064,
          0.47958,
          0.12425,
          0.1827,
          0.20338,
          0.40339,
          0.12071,
          0.2097,
          0.25899,
          0.18667,
          0.24353,
          0.27102,
          0.09821,
          0.2204,
          0.31472,
          0.24063,
          0.29914,
          0.23552,
          0.2018,
          0.31268,
          0.17517,
          0.48397,
          0.2029
         ],
         "y": [
          5.541599652306859,
          5.433319409472525,
          5.695652663470889,
          5.564680159063336,
          5.398631710513109,
          5.657577859981664,
          5.692145069056622,
          5.7187197824624265,
          5.692024579172162,
          5.569486366676779,
          5.489614961045024,
          5.497339701415377,
          5.607280027102265,
          5.3592850693545895,
          5.354585963860666,
          5.465035024615272,
          5.268556186356533,
          5.381870228808289,
          5.659304881658919,
          5.42646487382327,
          5.214456228234186,
          5.495211046789924,
          5.7288275449920905,
          5.480337239941638,
          5.381066962911891,
          5.2044689555889825,
          5.190277924752633,
          5.4133448641821165,
          5.299080290419624,
          5.8102385435919395,
          5.266548021615541,
          5.220146028333666,
          5.843159057579282,
          5.264285489340689,
          5.398671873807929,
          5.490953737539019,
          5.293845674328103,
          5.151654222900871,
          5.44302553905399,
          5.280457909388151,
          5.271086473930184,
          5.286910812089208,
          5.484889080021221,
          5.114248807658644,
          5.242597310137966,
          5.176193996035803,
          5.612594969783425,
          5.455944732221044,
          5.516899225992647,
          5.28071227692201,
          5.192219150668926,
          5.3744266315016755,
          5.194227315409918,
          5.25831454617747,
          5.325065942168072,
          5.093979731539557,
          5.250710295691577,
          5.309362093893507,
          5.347838530330931,
          5.08446103066725,
          5.244003025456661,
          5.40974355541327,
          5.401925100688337,
          5.251834867946533,
          5.359472498063749,
          5.552042108960022,
          5.28610754619281,
          5.290900366041313,
          5.430949775078154,
          5.396007708584879,
          5.229905708974892,
          5.170115950753065,
          5.355161637753084,
          5.304140865566926,
          5.594160017461111,
          5.421832707154046,
          5.432101122862989,
          5.1203670162362025,
          5.8140406688348865,
          5.248287110237445,
          5.132857800925178,
          5.347517223972371,
          5.12374073300107,
          5.707273243438767,
          5.571869388836091,
          5.3349728882236365,
          5.457497712954079,
          5.287499873746565,
          5.34232277117567,
          5.111611417965474,
          5.189889679569374,
          5.474848256316257,
          5.374547121386135,
          5.213867166576828,
          5.372056997107304,
          5.393049012533149,
          5.7465395580076475,
          5.110045049467499,
          5.057350806663847,
          5.405405919572725,
          5.519750819924857,
          5.634082332512048,
          5.368201320804598,
          5.3309967220364705,
          5.573288491919725,
          5.296536615081034,
          5.568227916772424,
          5.206677936804074,
          5.282800768252643,
          5.313485525495013,
          5.377278225433885,
          5.3196037340725715,
          5.161708434370775,
          5.3609853155019636,
          5.452584403221117,
          5.2401741246838345,
          5.6862812280129225,
          5.392419787580971,
          6.15475928655667,
          5.22745574799088,
          5.1616816588408945,
          5.610640356102192,
          5.329965864136094,
          5.341211586685654,
          5.398176526505151,
          5.148200179546363,
          5.21903484384365,
          5.313097280311754,
          5.228620483540656,
          5.361065642091603,
          5.305064621347783,
          5.471943111324287,
          5.299361433483363,
          5.140944010948909,
          5.339350687359,
          5.699401237654075,
          5.2236937860427535,
          5.301945272116774,
          5.329631170012595,
          5.59739985657658,
          5.21895451725401,
          5.338092237454645,
          5.40408053084367,
          5.307260214797935,
          5.383383046246504,
          5.4201860120664325,
          5.188832046139118,
          5.352417145940394,
          5.4786905448540235,
          5.379500594413917,
          5.457832407077578,
          5.372659446529601,
          5.327515903152083,
          5.475959440806273,
          5.29186428511699,
          5.7052784664627145,
          5.328988557295478
         ]
        },
        {
         "mode": "lines",
         "name": "2017",
         "type": "scatter",
         "x": [
          0.36201223731041,
          0.355280488729477,
          0.475540220737457,
          0.290549278259277,
          0.24548277258873,
          0.470489829778671,
          0.435539722442627,
          0.500005125999451,
          0.385399252176285,
          0.477699249982834,
          0.330082654953003,
          0.214613229036331,
          0.316472321748734,
          0.392578780651093,
          0.42785832285881,
          0.336269170045853,
          0.231503337621689,
          0.283180981874466,
          0.492774158716202,
          0.326662421226501,
          0.3609419465065,
          0.16234989464283,
          0.0881067588925362,
          0.109457060694695,
          0.120990432798862,
          0.345965981483459,
          0.574730575084686,
          0.175096929073334,
          0.283488392829895,
          0.21055693924427,
          0.129762306809425,
          0.572123110294342,
          0.258360475301743,
          0.190133571624756,
          0.330473870038986,
          0.149014472961426,
          0.147616013884544,
          0.325296461582184,
          0.228289797902107,
          0.136544480919838,
          0.172668486833572,
          0.416608929634094,
          0.301674216985703,
          0.150112465023994,
          0.0782579854130745,
          0.158465966582298,
          0.415983647108078,
          0.17278964817524,
          0.0522638224065304,
          0.240015640854836,
          0.12057276815176,
          0.010164656676352,
          0.0694366469979286,
          0.153074786067009,
          0.206674367189407,
          0.208779126405716,
          0.133519917726517,
          0.22556072473526,
          0.24992498755455,
          0.201964423060417,
          0.266845703125,
          0.242649093270302,
          0.126819714903831,
          0.360933750867844,
          0.271254301071167,
          0.0988908112049103,
          0.15513750910759,
          0.152073666453362,
          0.0466930419206619,
          0.224150657653809,
          0.374465793371201,
          0.193513423204422,
          0.220125883817673,
          0.172170460224152,
          0.0784016624093056,
          0.233818337321281,
          0.248002976179123,
          0.319931447505951,
          0.0288068410009146,
          0.315446019172668,
          0.611704587936401,
          0.0650196298956871,
          0.197911024093628,
          0.0322099551558495,
          0.0452693402767181,
          0.186967849731445,
          0,
          0.264450758695602,
          0.0951027125120163,
          0.328867495059967,
          0.236188873648643,
          0.25376096367836,
          0.291631311178207,
          0.234968051314354,
          0.230947196483612,
          0.248997643589973,
          0.474054545164108,
          0.42858037352562,
          0.394096165895462,
          0.338464230298996,
          0.139362379908562,
          0.0496933571994305,
          0.114173173904419,
          0.128631442785263,
          0.113177694380283,
          0.293040901422501,
          0.236298456788063,
          0.387242913246155,
          0.201312944293022,
          0.172255352139473,
          0.0771337449550629,
          0.444860309362411,
          0.322228103876114,
          0.838075160980225,
          0.183468893170357,
          0.249580144882202,
          0.19963726401329,
          0.0437853783369064,
          0.312650740146637,
          0.490863561630249,
          0.0834880918264389,
          0.231538489460945,
          0.201870024204254,
          0.120852127671242,
          0.0540088154375553,
          0.246455833315849,
          0.183354198932648,
          0.201237469911575,
          0.385922968387604,
          0.182317450642586,
          0.256923943758011,
          0.270061463117599,
          0.325766056776047,
          0.250864684581757,
          0.228673845529556,
          0.287170469760895,
          0.216113850474358,
          0.189143493771553,
          0.157497271895409,
          0.097926490008831,
          0.311870932579041,
          0.0993484482169151,
          0.207948461174965,
          0.208732530474663,
          0.489203780889511,
          0.104125209152699,
          0.285670816898346,
          0.26654988527298,
          0.264815092086792,
          0.196896150708199,
          0.252756029367447,
          0.493663728237152,
          0.354256361722946,
          0.204435184597969,
          0.280876487493515
         ],
         "y": [
          5.504041764473723,
          5.495269733167849,
          5.6519782200234046,
          5.410919553138839,
          5.352194127815007,
          5.645397138293339,
          5.599854225926735,
          5.683858037320995,
          5.5345170004526,
          5.654791615666906,
          5.462434848728833,
          5.311968531272873,
          5.4446994464754885,
          5.543872526403288,
          5.589844719954836,
          5.470496395207626,
          5.333977755100695,
          5.401318046816754,
          5.674435482301624,
          5.457977998185237,
          5.502647086059131,
          5.243865036328381,
          5.147120022277725,
          5.174941250825812,
          5.189970199091439,
          5.483132151352585,
          5.781231545977842,
          5.260475488090966,
          5.4017186289972035,
          5.306682846489214,
          5.201400684426228,
          5.777833801321328,
          5.368974851276107,
          5.2800694906908126,
          5.462944634699048,
          5.226487866777272,
          5.224665557661757,
          5.456198038547938,
          5.329790244131749,
          5.210238424413569,
          5.257311024787622,
          5.5751858199152835,
          5.4254162785603075,
          5.227918642248259,
          5.13428624688525,
          5.238803953293692,
          5.574371024498122,
          5.257468908147257,
          5.100413678870864,
          5.345069998007353,
          5.189425947131389,
          5.04555494561658,
          5.122791305295105,
          5.231778794274877,
          5.3016235304433,
          5.304366207700898,
          5.206297165660448,
          5.326234033591829,
          5.3579827053709135,
          5.295486079400425,
          5.380031812659649,
          5.348501606712471,
          5.197566241115409,
          5.502636406456648,
          5.385776584427912,
          5.161172544196958,
          5.234466694880461,
          5.230474251705253,
          5.093154486072339,
          5.3243965982757055,
          5.520269789380081,
          5.284473719920349,
          5.319151981417963,
          5.256662054470851,
          5.134473470025527,
          5.336994393288198,
          5.355478163831254,
          5.449206976587235,
          5.069847270640143,
          5.443362088400048,
          5.829411776469172,
          5.117035562662472,
          5.290204161603825,
          5.074281812950459,
          5.091299283781173,
          5.275944290347996,
          5.032309548004587,
          5.376910999804276,
          5.156236334841498,
          5.460851393777241,
          5.340083400345626,
          5.362981303022341,
          5.412329532511172,
          5.338492566759591,
          5.3332530566935805,
          5.356774298641104,
          5.65004226052,
          5.590785612351148,
          5.545849806259577,
          5.473356742267139,
          5.213910382426958,
          5.097064147765201,
          5.181086740696738,
          5.19992707404055,
          5.179789547635368,
          5.4141663464686065,
          5.340226196339569,
          5.536919444992511,
          5.294637148090232,
          5.256772675735127,
          5.132821267560125,
          5.611999730065295,
          5.452199711882634,
          6.12439156212152,
          5.271384857368178,
          5.3575333465333,
          5.292453596566327,
          5.08936555728556,
          5.439719606089516,
          5.671945814535606,
          5.141101512880335,
          5.334023560886622,
          5.295363069797268,
          5.189789975945156,
          5.102687550705596,
          5.353462107309218,
          5.271235401185777,
          5.294538798660083,
          5.535199446468795,
          5.269884431471534,
          5.367102930552688,
          5.384222216829993,
          5.456809960352819,
          5.3592072091742855,
          5.330290690304155,
          5.4065166831314375,
          5.313923966487718,
          5.278779336458352,
          5.237541663114987,
          5.159915953042487,
          5.438703451621881,
          5.161768883490943,
          5.303283781445484,
          5.304305489306412,
          5.66978298144052,
          5.167993402420253,
          5.4045625100514325,
          5.379646337262349,
          5.377385756678344,
          5.288881696719486,
          5.361671789583196,
          5.675594665772711,
          5.493935210041432,
          5.298705688287505,
          5.398315097937888
         ]
        },
        {
         "mode": "lines",
         "name": "2018",
         "type": "scatter",
         "x": [
          0.202,
          0.286,
          0.284,
          0.353,
          0.256,
          0.333,
          0.321,
          0.365,
          0.285,
          0.361,
          0.262,
          0.242,
          0.143,
          0.307,
          0.273,
          0.188,
          0.196,
          0.291,
          0.354,
          0.064,
          0.376,
          0.098,
          0.069,
          0.197,
          0.151,
          0.125,
          0.11,
          0.062,
          0.179,
          0.13,
          0.256,
          0.098,
          0.261,
          0.311,
          0.142,
          0.099,
          0.171,
          0.118,
          0.065,
          0.208,
          0.108,
          0.243,
          0.328,
          0.167,
          0.364,
          0.137,
          0.114,
          0.183,
          0.026,
          0.16,
          0.088,
          0.092,
          0.079,
          0.245,
          0.096,
          0.175,
          0.179,
          0.065,
          0.148,
          0.202,
          0.141,
          0.086,
          0.162,
          0.092,
          0.274,
          0.171,
          0.199,
          0.061,
          0.116,
          0.12,
          0.197,
          0.101,
          0.106,
          0.216,
          0.246,
          0.055,
          0.134,
          0,
          0.214,
          0.111,
          0.12,
          0.12,
          0.055,
          0.026,
          0.029,
          0.031,
          0.187,
          0.173,
          0.13,
          0.201,
          0.281,
          0.216,
          0.253,
          0.177,
          0.484,
          0.364,
          0.238,
          0.183,
          0.064,
          0.302,
          0.056,
          0.032,
          0.086,
          0.103,
          0.282,
          0.146,
          0.212,
          0.138,
          0.23,
          0.04,
          0.149,
          0.238,
          0.091,
          0.153,
          0.307,
          0.148,
          0.139,
          0.051,
          0.256,
          0.175,
          0.092,
          0.206,
          0.352,
          0.221,
          0.134,
          0.22,
          0.038,
          0.077,
          0.598,
          0.181,
          0.197,
          0.172,
          0.175,
          0.259,
          0.163,
          0.134,
          0.187,
          0.158,
          0.185,
          0.116,
          0.079,
          0.155,
          0.132,
          0.191,
          0.042,
          0.21,
          0.392,
          0.206,
          0.376,
          0.2,
          0.083,
          0.27,
          0.224,
          0.218,
          0.149
         ],
         "y": [
          5.399266705086062,
          5.528587509081317,
          5.525508442319525,
          5.631736245601342,
          5.482401507654441,
          5.600945577983424,
          5.582471177412673,
          5.650210646172092,
          5.527047975700421,
          5.644052512648509,
          5.491638707939815,
          5.460848040321898,
          5.308434235613205,
          5.560917710080131,
          5.50857357512967,
          5.37771323775352,
          5.390029504800687,
          5.536285175985796,
          5.633275778982237,
          5.18681109852243,
          5.667145513361947,
          5.23915523347289,
          5.194508765426909,
          5.391569038181583,
          5.320750502660372,
          5.280722634757079,
          5.25762963404364,
          5.183732031760638,
          5.363857437325457,
          5.288420301661558,
          5.482401507654441,
          5.23915523347289,
          5.49009917455892,
          5.567075843603714,
          5.3068947022323085,
          5.240694766853785,
          5.351541170278289,
          5.269945901090807,
          5.188350631903325,
          5.408503905371438,
          5.254550567281848,
          5.462387573702793,
          5.593247911078945,
          5.345383036754706,
          5.648671112791196,
          5.299197035327829,
          5.263787767567224,
          5.3700155708490405,
          5.128308830048386,
          5.334606303088435,
          5.223759899663931,
          5.229918033187515,
          5.209904099235868,
          5.4654666404645855,
          5.236076166711098,
          5.357699303801874,
          5.363857437325457,
          5.188350631903325,
          5.316131902517684,
          5.399266705086062,
          5.305355168851413,
          5.220680832902139,
          5.3376853698502265,
          5.229918033187515,
          5.510113108510566,
          5.351541170278289,
          5.394648104943375,
          5.182192498379742,
          5.266866834329016,
          5.273024967852599,
          5.391569038181583,
          5.2437738336155775,
          5.251471500520057,
          5.420820172418605,
          5.467006173845482,
          5.172955298094367,
          5.294578435185142,
          5.088280962145093,
          5.4177411056568126,
          5.259169167424536,
          5.273024967852599,
          5.273024967852599,
          5.172955298094367,
          5.128308830048386,
          5.1329274301910734,
          5.136006496952866,
          5.376173704372624,
          5.3546202370400815,
          5.288420301661558,
          5.397727171705166,
          5.520889842176837,
          5.420820172418605,
          5.477782907511752,
          5.360778370563665,
          5.833415118498703,
          5.648671112791196,
          5.454689906798314,
          5.3700155708490405,
          5.18681109852243,
          5.553220043175651,
          5.174494831475262,
          5.137546030333761,
          5.220680832902139,
          5.24685290037737,
          5.522429375557733,
          5.313052835755893,
          5.414662038895021,
          5.300736568708725,
          5.442373639751147,
          5.1498622973809285,
          5.31767143589858,
          5.454689906798314,
          5.2283784998066185,
          5.323829569422164,
          5.560917710080131,
          5.316131902517684,
          5.302276102089621,
          5.166797164570783,
          5.482401507654441,
          5.357699303801874,
          5.229918033187515,
          5.405424838609646,
          5.630196712220446,
          5.428517839323084,
          5.294578435185142,
          5.426978305942188,
          5.146783230619136,
          5.206825032474076,
          6.008921923920834,
          5.366936504087248,
          5.391569038181583,
          5.353080703659185,
          5.357699303801874,
          5.487020107797128,
          5.3392249032311225,
          5.294578435185142,
          5.376173704372624,
          5.331527236326643,
          5.373094637610832,
          5.266866834329016,
          5.209904099235868,
          5.326908636183956,
          5.2914993684233504,
          5.382331837896207,
          5.15294136414272,
          5.411582972133229,
          5.691778047456281,
          5.405424838609646,
          5.667145513361947,
          5.39618763832427,
          5.216062232759452,
          5.503954974986983,
          5.4331364394657715,
          5.423899239180397,
          5.31767143589858
         ]
        },
        {
         "mode": "lines",
         "name": "2019",
         "type": "scatter",
         "x": [
          0.153,
          0.252,
          0.271,
          0.354,
          0.322,
          0.263,
          0.267,
          0.33,
          0.285,
          0.244,
          0.332,
          0.144,
          0.261,
          0.194,
          0.348,
          0.298,
          0.261,
          0.16,
          0.28,
          0.046,
          0.262,
          0.375,
          0.074,
          0.111,
          0.242,
          0.187,
          0.175,
          0.08,
          0.22,
          0.153,
          0.109,
          0.099,
          0.127,
          0.271,
          0.093,
          0.158,
          0.255,
          0.121,
          0.185,
          0.117,
          0.322,
          0.043,
          0.099,
          0.144,
          0.2,
          0.262,
          0.066,
          0.083,
          0.19,
          0.126,
          0.142,
          0.359,
          0.075,
          0.175,
          0.103,
          0.107,
          0.215,
          0.069,
          0.246,
          0.146,
          0.137,
          0.081,
          0.184,
          0.191,
          0.083,
          0.047,
          0.22,
          0.082,
          0.117,
          0.137,
          0.181,
          0.133,
          0.142,
          0.23,
          0.119,
          0.258,
          0.113,
          0.263,
          0.083,
          0.26,
          0.094,
          0,
          0.235,
          0.185,
          0.215,
          0.3,
          0.244,
          0.073,
          0.036,
          0.035,
          0.166,
          0.498,
          0.058,
          0.147,
          0.37,
          0.187,
          0.081,
          0.245,
          0.154,
          0.285,
          0.11,
          0.175,
          0.105,
          0.043,
          0.266,
          0.13,
          0.178,
          0.064,
          0.232,
          0.103,
          0.153,
          0.243,
          0.07,
          0.188,
          0.177,
          0.095,
          0.27,
          0.207,
          0.043,
          0.269,
          0.372,
          0.106,
          0.197,
          0.059,
          0.166,
          0.148,
          0.212,
          0.153,
          0.252,
          0.244,
          0.566,
          0.198,
          0.187,
          0.209,
          0.074,
          0.252,
          0.076,
          0.247,
          0.177,
          0.2,
          0.233,
          0.275,
          0.169,
          0.107,
          0.176,
          0.151,
          0.419,
          0.025,
          0.331,
          0.218,
          0.108,
          0.217,
          0.276,
          0.158,
          0.235,
          0.202
         ],
         "y": [
          5.378878647133898,
          5.466598287565475,
          5.483433370072546,
          5.556976098919221,
          5.528622275749418,
          5.476344914280094,
          5.47988914217632,
          5.535710731541869,
          5.4958381677093335,
          5.459509831773024,
          5.537482845489982,
          5.370904134367391,
          5.474572800331982,
          5.415206983070208,
          5.551659757074883,
          5.507356908372066,
          5.474572800331982,
          5.385081045952292,
          5.491407882839052,
          5.28407055090987,
          5.475458857306038,
          5.575583295374404,
          5.308880146183448,
          5.341664254223532,
          5.457737717824911,
          5.4090045842518135,
          5.398371900563137,
          5.314196488027786,
          5.438244464395672,
          5.378878647133898,
          5.33989214027542,
          5.331031570534856,
          5.3558411658084335,
          5.483433370072546,
          5.325715228690518,
          5.38330893200418,
          5.469256458487644,
          5.350524823964095,
          5.4072324703037005,
          5.34698059606787,
          5.528622275749418,
          5.281412379987701,
          5.331031570534856,
          5.370904134367391,
          5.420523324914546,
          5.475458857306038,
          5.301791690390997,
          5.316854658949954,
          5.411662755173983,
          5.354955108834377,
          5.369132020419278,
          5.561406383789502,
          5.309766203157504,
          5.398371900563137,
          5.334575798431081,
          5.3381200263273065,
          5.433814179525391,
          5.304449861313166,
          5.461281945721137,
          5.3726762483155035,
          5.364701735548997,
          5.315082545001842,
          5.406346413329644,
          5.412548812148039,
          5.316854658949954,
          5.2849566078839265,
          5.438244464395672,
          5.315968601975898,
          5.34698059606787,
          5.364701735548997,
          5.403688242407475,
          5.361157507652772,
          5.369132020419278,
          5.447105034136236,
          5.348752710015983,
          5.471914629409813,
          5.343436368171645,
          5.476344914280094,
          5.316854658949954,
          5.473686743357925,
          5.326601285664575,
          5.243311930103279,
          5.451535319006517,
          5.4072324703037005,
          5.433814179525391,
          5.509129022320179,
          5.459509831773024,
          5.307994089209392,
          5.275209981169307,
          5.274323924195251,
          5.3903973877966305,
          5.684568303183333,
          5.294703234598546,
          5.3735623052895605,
          5.571153010504123,
          5.4090045842518135,
          5.315082545001842,
          5.4603958887470805,
          5.379764704107954,
          5.4958381677093335,
          5.340778197249476,
          5.398371900563137,
          5.336347912379194,
          5.281412379987701,
          5.4790030852022635,
          5.358499336730603,
          5.401030071485306,
          5.300019576442884,
          5.448877148084349,
          5.334575798431081,
          5.378878647133898,
          5.458623774798968,
          5.305335918287223,
          5.40989064122587,
          5.40014401451125,
          5.327487342638631,
          5.482547313098489,
          5.42672572373294,
          5.281412379987701,
          5.481661256124433,
          5.572925124452235,
          5.3372339693532505,
          5.417865153992377,
          5.295589291572603,
          5.3903973877966305,
          5.3744483622636166,
          5.431156008603222,
          5.378878647133898,
          5.466598287565475,
          5.459509831773024,
          5.744820177419164,
          5.418751210966433,
          5.4090045842518135,
          5.428497837681053,
          5.308880146183448,
          5.466598287565475,
          5.31065226013156,
          5.4621680026951935,
          5.40014401451125,
          5.420523324914546,
          5.449763205058405,
          5.486977597968771,
          5.3930555587188,
          5.3381200263273065,
          5.399257957537194,
          5.377106533185786,
          5.614569802232882,
          5.265463354454687,
          5.536596788515926,
          5.43647235044756,
          5.3390060833013635,
          5.435586293473503,
          5.487863654942827,
          5.38330893200418,
          5.451535319006517,
          5.422295438862658
         ]
        }
       ],
       "layout": {
        "height": 500,
        "template": {
         "data": {
          "bar": [
           {
            "error_x": {
             "color": "#2a3f5f"
            },
            "error_y": {
             "color": "#2a3f5f"
            },
            "marker": {
             "line": {
              "color": "#E5ECF6",
              "width": 0.5
             },
             "pattern": {
              "fillmode": "overlay",
              "size": 10,
              "solidity": 0.2
             }
            },
            "type": "bar"
           }
          ],
          "barpolar": [
           {
            "marker": {
             "line": {
              "color": "#E5ECF6",
              "width": 0.5
             },
             "pattern": {
              "fillmode": "overlay",
              "size": 10,
              "solidity": 0.2
             }
            },
            "type": "barpolar"
           }
          ],
          "carpet": [
           {
            "aaxis": {
             "endlinecolor": "#2a3f5f",
             "gridcolor": "white",
             "linecolor": "white",
             "minorgridcolor": "white",
             "startlinecolor": "#2a3f5f"
            },
            "baxis": {
             "endlinecolor": "#2a3f5f",
             "gridcolor": "white",
             "linecolor": "white",
             "minorgridcolor": "white",
             "startlinecolor": "#2a3f5f"
            },
            "type": "carpet"
           }
          ],
          "choropleth": [
           {
            "colorbar": {
             "outlinewidth": 0,
             "ticks": ""
            },
            "type": "choropleth"
           }
          ],
          "contour": [
           {
            "colorbar": {
             "outlinewidth": 0,
             "ticks": ""
            },
            "colorscale": [
             [
              0,
              "#0d0887"
             ],
             [
              0.1111111111111111,
              "#46039f"
             ],
             [
              0.2222222222222222,
              "#7201a8"
             ],
             [
              0.3333333333333333,
              "#9c179e"
             ],
             [
              0.4444444444444444,
              "#bd3786"
             ],
             [
              0.5555555555555556,
              "#d8576b"
             ],
             [
              0.6666666666666666,
              "#ed7953"
             ],
             [
              0.7777777777777778,
              "#fb9f3a"
             ],
             [
              0.8888888888888888,
              "#fdca26"
             ],
             [
              1,
              "#f0f921"
             ]
            ],
            "type": "contour"
           }
          ],
          "contourcarpet": [
           {
            "colorbar": {
             "outlinewidth": 0,
             "ticks": ""
            },
            "type": "contourcarpet"
           }
          ],
          "heatmap": [
           {
            "colorbar": {
             "outlinewidth": 0,
             "ticks": ""
            },
            "colorscale": [
             [
              0,
              "#0d0887"
             ],
             [
              0.1111111111111111,
              "#46039f"
             ],
             [
              0.2222222222222222,
              "#7201a8"
             ],
             [
              0.3333333333333333,
              "#9c179e"
             ],
             [
              0.4444444444444444,
              "#bd3786"
             ],
             [
              0.5555555555555556,
              "#d8576b"
             ],
             [
              0.6666666666666666,
              "#ed7953"
             ],
             [
              0.7777777777777778,
              "#fb9f3a"
             ],
             [
              0.8888888888888888,
              "#fdca26"
             ],
             [
              1,
              "#f0f921"
             ]
            ],
            "type": "heatmap"
           }
          ],
          "heatmapgl": [
           {
            "colorbar": {
             "outlinewidth": 0,
             "ticks": ""
            },
            "colorscale": [
             [
              0,
              "#0d0887"
             ],
             [
              0.1111111111111111,
              "#46039f"
             ],
             [
              0.2222222222222222,
              "#7201a8"
             ],
             [
              0.3333333333333333,
              "#9c179e"
             ],
             [
              0.4444444444444444,
              "#bd3786"
             ],
             [
              0.5555555555555556,
              "#d8576b"
             ],
             [
              0.6666666666666666,
              "#ed7953"
             ],
             [
              0.7777777777777778,
              "#fb9f3a"
             ],
             [
              0.8888888888888888,
              "#fdca26"
             ],
             [
              1,
              "#f0f921"
             ]
            ],
            "type": "heatmapgl"
           }
          ],
          "histogram": [
           {
            "marker": {
             "pattern": {
              "fillmode": "overlay",
              "size": 10,
              "solidity": 0.2
             }
            },
            "type": "histogram"
           }
          ],
          "histogram2d": [
           {
            "colorbar": {
             "outlinewidth": 0,
             "ticks": ""
            },
            "colorscale": [
             [
              0,
              "#0d0887"
             ],
             [
              0.1111111111111111,
              "#46039f"
             ],
             [
              0.2222222222222222,
              "#7201a8"
             ],
             [
              0.3333333333333333,
              "#9c179e"
             ],
             [
              0.4444444444444444,
              "#bd3786"
             ],
             [
              0.5555555555555556,
              "#d8576b"
             ],
             [
              0.6666666666666666,
              "#ed7953"
             ],
             [
              0.7777777777777778,
              "#fb9f3a"
             ],
             [
              0.8888888888888888,
              "#fdca26"
             ],
             [
              1,
              "#f0f921"
             ]
            ],
            "type": "histogram2d"
           }
          ],
          "histogram2dcontour": [
           {
            "colorbar": {
             "outlinewidth": 0,
             "ticks": ""
            },
            "colorscale": [
             [
              0,
              "#0d0887"
             ],
             [
              0.1111111111111111,
              "#46039f"
             ],
             [
              0.2222222222222222,
              "#7201a8"
             ],
             [
              0.3333333333333333,
              "#9c179e"
             ],
             [
              0.4444444444444444,
              "#bd3786"
             ],
             [
              0.5555555555555556,
              "#d8576b"
             ],
             [
              0.6666666666666666,
              "#ed7953"
             ],
             [
              0.7777777777777778,
              "#fb9f3a"
             ],
             [
              0.8888888888888888,
              "#fdca26"
             ],
             [
              1,
              "#f0f921"
             ]
            ],
            "type": "histogram2dcontour"
           }
          ],
          "mesh3d": [
           {
            "colorbar": {
             "outlinewidth": 0,
             "ticks": ""
            },
            "type": "mesh3d"
           }
          ],
          "parcoords": [
           {
            "line": {
             "colorbar": {
              "outlinewidth": 0,
              "ticks": ""
             }
            },
            "type": "parcoords"
           }
          ],
          "pie": [
           {
            "automargin": true,
            "type": "pie"
           }
          ],
          "scatter": [
           {
            "fillpattern": {
             "fillmode": "overlay",
             "size": 10,
             "solidity": 0.2
            },
            "type": "scatter"
           }
          ],
          "scatter3d": [
           {
            "line": {
             "colorbar": {
              "outlinewidth": 0,
              "ticks": ""
             }
            },
            "marker": {
             "colorbar": {
              "outlinewidth": 0,
              "ticks": ""
             }
            },
            "type": "scatter3d"
           }
          ],
          "scattercarpet": [
           {
            "marker": {
             "colorbar": {
              "outlinewidth": 0,
              "ticks": ""
             }
            },
            "type": "scattercarpet"
           }
          ],
          "scattergeo": [
           {
            "marker": {
             "colorbar": {
              "outlinewidth": 0,
              "ticks": ""
             }
            },
            "type": "scattergeo"
           }
          ],
          "scattergl": [
           {
            "marker": {
             "colorbar": {
              "outlinewidth": 0,
              "ticks": ""
             }
            },
            "type": "scattergl"
           }
          ],
          "scattermapbox": [
           {
            "marker": {
             "colorbar": {
              "outlinewidth": 0,
              "ticks": ""
             }
            },
            "type": "scattermapbox"
           }
          ],
          "scatterpolar": [
           {
            "marker": {
             "colorbar": {
              "outlinewidth": 0,
              "ticks": ""
             }
            },
            "type": "scatterpolar"
           }
          ],
          "scatterpolargl": [
           {
            "marker": {
             "colorbar": {
              "outlinewidth": 0,
              "ticks": ""
             }
            },
            "type": "scatterpolargl"
           }
          ],
          "scatterternary": [
           {
            "marker": {
             "colorbar": {
              "outlinewidth": 0,
              "ticks": ""
             }
            },
            "type": "scatterternary"
           }
          ],
          "surface": [
           {
            "colorbar": {
             "outlinewidth": 0,
             "ticks": ""
            },
            "colorscale": [
             [
              0,
              "#0d0887"
             ],
             [
              0.1111111111111111,
              "#46039f"
             ],
             [
              0.2222222222222222,
              "#7201a8"
             ],
             [
              0.3333333333333333,
              "#9c179e"
             ],
             [
              0.4444444444444444,
              "#bd3786"
             ],
             [
              0.5555555555555556,
              "#d8576b"
             ],
             [
              0.6666666666666666,
              "#ed7953"
             ],
             [
              0.7777777777777778,
              "#fb9f3a"
             ],
             [
              0.8888888888888888,
              "#fdca26"
             ],
             [
              1,
              "#f0f921"
             ]
            ],
            "type": "surface"
           }
          ],
          "table": [
           {
            "cells": {
             "fill": {
              "color": "#EBF0F8"
             },
             "line": {
              "color": "white"
             }
            },
            "header": {
             "fill": {
              "color": "#C8D4E3"
             },
             "line": {
              "color": "white"
             }
            },
            "type": "table"
           }
          ]
         },
         "layout": {
          "annotationdefaults": {
           "arrowcolor": "#2a3f5f",
           "arrowhead": 0,
           "arrowwidth": 1
          },
          "autotypenumbers": "strict",
          "coloraxis": {
           "colorbar": {
            "outlinewidth": 0,
            "ticks": ""
           }
          },
          "colorscale": {
           "diverging": [
            [
             0,
             "#8e0152"
            ],
            [
             0.1,
             "#c51b7d"
            ],
            [
             0.2,
             "#de77ae"
            ],
            [
             0.3,
             "#f1b6da"
            ],
            [
             0.4,
             "#fde0ef"
            ],
            [
             0.5,
             "#f7f7f7"
            ],
            [
             0.6,
             "#e6f5d0"
            ],
            [
             0.7,
             "#b8e186"
            ],
            [
             0.8,
             "#7fbc41"
            ],
            [
             0.9,
             "#4d9221"
            ],
            [
             1,
             "#276419"
            ]
           ],
           "sequential": [
            [
             0,
             "#0d0887"
            ],
            [
             0.1111111111111111,
             "#46039f"
            ],
            [
             0.2222222222222222,
             "#7201a8"
            ],
            [
             0.3333333333333333,
             "#9c179e"
            ],
            [
             0.4444444444444444,
             "#bd3786"
            ],
            [
             0.5555555555555556,
             "#d8576b"
            ],
            [
             0.6666666666666666,
             "#ed7953"
            ],
            [
             0.7777777777777778,
             "#fb9f3a"
            ],
            [
             0.8888888888888888,
             "#fdca26"
            ],
            [
             1,
             "#f0f921"
            ]
           ],
           "sequentialminus": [
            [
             0,
             "#0d0887"
            ],
            [
             0.1111111111111111,
             "#46039f"
            ],
            [
             0.2222222222222222,
             "#7201a8"
            ],
            [
             0.3333333333333333,
             "#9c179e"
            ],
            [
             0.4444444444444444,
             "#bd3786"
            ],
            [
             0.5555555555555556,
             "#d8576b"
            ],
            [
             0.6666666666666666,
             "#ed7953"
            ],
            [
             0.7777777777777778,
             "#fb9f3a"
            ],
            [
             0.8888888888888888,
             "#fdca26"
            ],
            [
             1,
             "#f0f921"
            ]
           ]
          },
          "colorway": [
           "#636efa",
           "#EF553B",
           "#00cc96",
           "#ab63fa",
           "#FFA15A",
           "#19d3f3",
           "#FF6692",
           "#B6E880",
           "#FF97FF",
           "#FECB52"
          ],
          "font": {
           "color": "#2a3f5f"
          },
          "geo": {
           "bgcolor": "white",
           "lakecolor": "white",
           "landcolor": "#E5ECF6",
           "showlakes": true,
           "showland": true,
           "subunitcolor": "white"
          },
          "hoverlabel": {
           "align": "left"
          },
          "hovermode": "closest",
          "mapbox": {
           "style": "light"
          },
          "paper_bgcolor": "white",
          "plot_bgcolor": "#E5ECF6",
          "polar": {
           "angularaxis": {
            "gridcolor": "white",
            "linecolor": "white",
            "ticks": ""
           },
           "bgcolor": "#E5ECF6",
           "radialaxis": {
            "gridcolor": "white",
            "linecolor": "white",
            "ticks": ""
           }
          },
          "scene": {
           "xaxis": {
            "backgroundcolor": "#E5ECF6",
            "gridcolor": "white",
            "gridwidth": 2,
            "linecolor": "white",
            "showbackground": true,
            "ticks": "",
            "zerolinecolor": "white"
           },
           "yaxis": {
            "backgroundcolor": "#E5ECF6",
            "gridcolor": "white",
            "gridwidth": 2,
            "linecolor": "white",
            "showbackground": true,
            "ticks": "",
            "zerolinecolor": "white"
           },
           "zaxis": {
            "backgroundcolor": "#E5ECF6",
            "gridcolor": "white",
            "gridwidth": 2,
            "linecolor": "white",
            "showbackground": true,
            "ticks": "",
            "zerolinecolor": "white"
           }
          },
          "shapedefaults": {
           "line": {
            "color": "#2a3f5f"
           }
          },
          "ternary": {
           "aaxis": {
            "gridcolor": "white",
            "linecolor": "white",
            "ticks": ""
           },
           "baxis": {
            "gridcolor": "white",
            "linecolor": "white",
            "ticks": ""
           },
           "bgcolor": "#E5ECF6",
           "caxis": {
            "gridcolor": "white",
            "linecolor": "white",
            "ticks": ""
           }
          },
          "title": {
           "x": 0.05
          },
          "xaxis": {
           "automargin": true,
           "gridcolor": "white",
           "linecolor": "white",
           "ticks": "",
           "title": {
            "standoff": 15
           },
           "zerolinecolor": "white",
           "zerolinewidth": 2
          },
          "yaxis": {
           "automargin": true,
           "gridcolor": "white",
           "linecolor": "white",
           "ticks": "",
           "title": {
            "standoff": 15
           },
           "zerolinecolor": "white",
           "zerolinewidth": 2
          }
         }
        },
        "title": {
         "text": "Score vs Generosity (Trendline)"
        },
        "width": 1000
       }
      }
     },
     "metadata": {},
     "output_type": "display_data"
    },
    {
     "name": "stdout",
     "output_type": "stream",
     "text": [
      "Score VS Perceptions of corruption\n",
      "Correlation:  0.38561307086647845\n"
     ]
    },
    {
     "data": {
      "application/vnd.plotly.v1+json": {
       "config": {
        "plotlyServerURL": "https://plot.ly"
       },
       "data": [
        {
         "mode": "markers",
         "name": "2015",
         "type": "scatter",
         "x": [
          0.41978,
          0.14145,
          0.48357,
          0.36503,
          0.32957,
          0.41372,
          0.31814,
          0.43844,
          0.42922,
          0.35637,
          0.07785,
          0.10583,
          0.18676,
          0.21312,
          0.1589,
          0.17521,
          0.37798,
          0.28703,
          0.2254,
          0.38583,
          0.32067,
          0.32524,
          0.11069,
          0.4921,
          0.0927,
          0.21843,
          0.12869,
          0.52208,
          0.20646,
          0.08484,
          0.02652,
          0.24558,
          0.0512,
          0.03187,
          0.32524,
          0.06398,
          0.13586,
          0.08129,
          0.25609,
          0.13633,
          0.0114,
          0.11776,
          0.09472,
          0.30826,
          0.03431,
          0.1806,
          0.07857,
          0.1809,
          0.306,
          0.02901,
          0.088,
          0.01615,
          0.08242,
          0.08454,
          0.03787,
          0.01031,
          0.19317,
          0.05989,
          0.1909,
          0.04212,
          0.10501,
          0.0243,
          0.11023,
          0.03005,
          0.02299,
          0.1428,
          0.06146,
          0.17383,
          0.04741,
          0.30844,
          0.07521,
          0.37124,
          0.15184,
          0,
          0.10441,
          0.15746,
          0.04232,
          0.0403,
          0.15445,
          0.16065,
          0.10464,
          0.14293,
          0.14296,
          0.02781,
          0.12468,
          0.00649,
          0.02617,
          0.01078,
          0.06332,
          0.12279,
          0.39928,
          0.08546,
          0.05327,
          0.15603,
          0.06413,
          0.00227,
          0.12504,
          0.14234,
          0.24249,
          0.02666,
          0.0306,
          0.01397,
          0.04582,
          0.02758,
          0.06825,
          0.15072,
          0.06358,
          0.12905,
          0.12569,
          0.05863,
          0.02961,
          0.13788,
          0.08884,
          0.04355,
          0.08079,
          0.06232,
          0.08492,
          0.1466,
          0.17175,
          0.07625,
          0.05907,
          0.15048,
          0.08786,
          0.17461,
          0.05839,
          0.28105,
          0.039,
          0.12474,
          0.19034,
          0.38331,
          0.06977,
          0.09179,
          0.05786,
          0.00872,
          0.06324,
          0.07854,
          0.07122,
          0.12352,
          0.11686,
          0.199,
          0.07267,
          0.10713,
          0.11091,
          0.15639,
          0.07247,
          0.05747,
          0.08124,
          0.08289,
          0.05269,
          0.12139,
          0.17922,
          0.12832,
          0.09719,
          0.55191,
          0.0801,
          0.18906,
          0.10062,
          0.10731
         ],
         "y": [
          7.587,
          7.561,
          7.527,
          7.522,
          7.427,
          7.406,
          7.378,
          7.364,
          7.286,
          7.284,
          7.278,
          7.226,
          7.2,
          7.187,
          7.119,
          6.983,
          6.946,
          6.94,
          6.937,
          6.901,
          6.867,
          6.853,
          6.81,
          6.798,
          6.786,
          6.75,
          6.67,
          6.611,
          6.575,
          6.574,
          6.505,
          6.485,
          6.477,
          6.455,
          6.411,
          6.329,
          6.302,
          6.298,
          6.295,
          6.269,
          6.168,
          6.13,
          6.123,
          6.003,
          5.995,
          5.987,
          5.984,
          5.975,
          5.96,
          5.948,
          5.89,
          5.889,
          5.878,
          5.855,
          5.848,
          5.833,
          5.828,
          5.824,
          5.813,
          5.791,
          5.77,
          5.759,
          5.754,
          5.716,
          5.709,
          5.695,
          5.689,
          5.605,
          5.589,
          5.548,
          5.477,
          5.474,
          5.429,
          5.399,
          5.36,
          5.332,
          5.286,
          5.268,
          5.253,
          5.212,
          5.194,
          5.192,
          5.192,
          5.14,
          5.129,
          5.124,
          5.123,
          5.102,
          5.098,
          5.073,
          5.057,
          5.013,
          5.007,
          4.971,
          4.959,
          4.949,
          4.898,
          4.885,
          4.876,
          4.874,
          4.867,
          4.857,
          4.839,
          4.8,
          4.788,
          4.786,
          4.739,
          4.715,
          4.694,
          4.686,
          4.681,
          4.677,
          4.642,
          4.633,
          4.61,
          4.571,
          4.565,
          4.55,
          4.518,
          4.517,
          4.514,
          4.512,
          4.507,
          4.436,
          4.419,
          4.369,
          4.35,
          4.332,
          4.307,
          4.297,
          4.292,
          4.271,
          4.252,
          4.218,
          4.194,
          4.077,
          4.033,
          3.995,
          3.989,
          3.956,
          3.931,
          3.904,
          3.896,
          3.845,
          3.819,
          3.781,
          3.681,
          3.678,
          3.667,
          3.656,
          3.655,
          3.587,
          3.575,
          3.465,
          3.34,
          3.006,
          2.905,
          2.839
         ]
        },
        {
         "mode": "markers",
         "name": "2016",
         "type": "scatter",
         "x": [
          0.44453,
          0.41203,
          0.14975,
          0.35776,
          0.41004,
          0.31329,
          0.29927,
          0.41904,
          0.32331,
          0.40867,
          0.08728,
          0.21348,
          0.14868,
          0.10547,
          0.12275,
          0.28551,
          0.14166,
          0.26248,
          0.29754,
          0.35329,
          0.18355,
          0.46987,
          0.27399,
          0.11451,
          0.08423,
          0.07296,
          0.03986,
          0.35561,
          0.21394,
          0.17554,
          0.05399,
          0.17808,
          0.02833,
          0.30008,
          0.0663,
          0.48049,
          0.06137,
          0.16157,
          0.08701,
          0.12692,
          0.23669,
          0.25772,
          0.01241,
          0.08304,
          0.02947,
          0.10613,
          0.09081,
          0.16292,
          0.28333,
          0.02556,
          0.18037,
          0.10771,
          0.18985,
          0.11132,
          0.01903,
          0.03586,
          0.055,
          0.07716,
          0.07746,
          0.0182,
          0.17457,
          0.16578,
          0.03635,
          0.05292,
          0.28467,
          0.05203,
          0.10339,
          0.0889,
          0.05228,
          0.07396,
          0.00679,
          0.18519,
          0.04294,
          0.04002,
          0.31647,
          0.3118,
          0.06547,
          0.12348,
          0.00322,
          0.13297,
          0.17914,
          0.11757,
          0.02745,
          0.1616,
          0.04762,
          0.04339,
          0,
          0.12721,
          0.12372,
          0.08404,
          0.04472,
          0.1388,
          0.03061,
          0.01521,
          0.07047,
          0.11556,
          0.36794,
          0.0817,
          0.04127,
          0.13509,
          0.03285,
          0.22423,
          0.0305,
          0.06906,
          0.0557,
          0.11479,
          0.07008,
          0.10613,
          0.05301,
          0.12583,
          0.08196,
          0.13636,
          0.10398,
          0.06126,
          0.1717,
          0.08415,
          0.07964,
          0.08722,
          0.20243,
          0.10393,
          0.03616,
          0.06686,
          0.01829,
          0.0326,
          0.06075,
          0.3188,
          0.09753,
          0.11681,
          0.00615,
          0.17955,
          0.08582,
          0.07564,
          0.10039,
          0.09314,
          0.13647,
          0.14476,
          0.10769,
          0.18437,
          0.1553,
          0.08092,
          0.08434,
          0.17176,
          0.13015,
          0.04952,
          0.12533,
          0.06442,
          0.05892,
          0.07506,
          0.05099,
          0.04852,
          0.1192,
          0.50521,
          0.06681,
          0.07112,
          0.11587,
          0.17233,
          0.09419
         ],
         "y": [
          7.526,
          7.509,
          7.501,
          7.498,
          7.413,
          7.404,
          7.339,
          7.334,
          7.313,
          7.291,
          7.267,
          7.119,
          7.104,
          7.087,
          7.039,
          6.994,
          6.952,
          6.929,
          6.907,
          6.871,
          6.778,
          6.739,
          6.725,
          6.705,
          6.701,
          6.65,
          6.596,
          6.573,
          6.545,
          6.488,
          6.481,
          6.478,
          6.474,
          6.379,
          6.379,
          6.375,
          6.361,
          6.355,
          6.324,
          6.269,
          6.239,
          6.218,
          6.168,
          6.084,
          6.078,
          6.068,
          6.005,
          5.992,
          5.987,
          5.977,
          5.976,
          5.956,
          5.921,
          5.919,
          5.897,
          5.856,
          5.835,
          5.835,
          5.822,
          5.813,
          5.802,
          5.771,
          5.768,
          5.743,
          5.658,
          5.648,
          5.615,
          5.56,
          5.546,
          5.538,
          5.528,
          5.517,
          5.51,
          5.488,
          5.458,
          5.44,
          5.401,
          5.389,
          5.314,
          5.303,
          5.291,
          5.279,
          5.245,
          5.196,
          5.185,
          5.177,
          5.163,
          5.161,
          5.155,
          5.151,
          5.145,
          5.132,
          5.129,
          5.123,
          5.121,
          5.061,
          5.057,
          5.045,
          5.033,
          4.996,
          4.907,
          4.876,
          4.875,
          4.871,
          4.813,
          4.795,
          4.793,
          4.754,
          4.655,
          4.643,
          4.635,
          4.575,
          4.574,
          4.513,
          4.508,
          4.459,
          4.415,
          4.404,
          4.395,
          4.362,
          4.36,
          4.356,
          4.324,
          4.276,
          4.272,
          4.252,
          4.236,
          4.219,
          4.217,
          4.201,
          4.193,
          4.156,
          4.139,
          4.121,
          4.073,
          4.028,
          3.974,
          3.956,
          3.916,
          3.907,
          3.866,
          3.856,
          3.832,
          3.763,
          3.739,
          3.739,
          3.724,
          3.695,
          3.666,
          3.622,
          3.607,
          3.515,
          3.484,
          3.36,
          3.303,
          3.069,
          2.905
         ]
        },
        {
         "mode": "markers",
         "name": "2017",
         "type": "scatter",
         "x": [
          0.315963834524155,
          0.40077006816864,
          0.153526559472084,
          0.367007285356522,
          0.38261154294014,
          0.282661825418472,
          0.287371516227722,
          0.382816702127457,
          0.384398728609085,
          0.301183730363846,
          0.0852421000599861,
          0.100106589496136,
          0.221060365438461,
          0.135638788342476,
          0.29838815331459,
          0.276731938123703,
          0.251343131065369,
          0.31883442401886,
          0.265428066253662,
          0.0822879821062088,
          0.324489563703537,
          0.111092761158943,
          0.0368729270994663,
          0.059739887714386,
          0.132774114608765,
          0.46430778503418,
          0.153066068887711,
          0.178061872720718,
          0.0772232785820961,
          0.070983923971653,
          0.172502428293228,
          0.0316127352416515,
          0.0638292357325554,
          0.0709140971302986,
          0.439299255609512,
          0.0466687418520451,
          0.27343225479126,
          0.0089648161083459,
          0.215159550309181,
          0.0242108516395092,
          0.257042169570923,
          0.0656007081270218,
          0.130687981843948,
          0.140134647488594,
          0.0899809598922729,
          0.0593078061938286,
          0.246528223156929,
          0.0280280914157629,
          0.0329628810286522,
          0.0965810716152191,
          0.163760736584663,
          0.0118656428530812,
          0.146096110343933,
          0.0738427266478539,
          0.0632826685905457,
          0.0100912861526012,
          0.00438790069893,
          0.0604777261614799,
          0.259270340204239,
          0.119282886385918,
          0.155353352427483,
          0.0451289787888527,
          0.0470490865409374,
          0.0421815551817417,
          0.0412379764020443,
          0.183248922228813,
          0.156313821673393,
          0.0926102101802826,
          0.0996715798974037,
          0.091065913438797,
          0.293933749198914,
          0.0993318930268288,
          0.0409037806093693,
          0.11980327218771,
          0.0366369374096394,
          0.0552677810192108,
          0.0431031100451946,
          0.0574716180562973,
          0.0227942746132612,
          0.124348066747189,
          0.0153171354904771,
          0.0644911229610443,
          0.0881741940975189,
          0.0877631828188896,
          0.180987507104874,
          0.113945253193378,
          0.04328977689147,
          0.037513829767704,
          0.0158694516867399,
          0,
          0.0733454525470734,
          0.0602777935564518,
          0.282410323619843,
          0.0876332372426987,
          0.0261215660721064,
          0.146377146244049,
          0.173380389809608,
          0.0394391790032387,
          0.0729755461215973,
          0.0329022891819477,
          0.0725094974040985,
          0.0867231488227844,
          0.0892826020717621,
          0.114381365478039,
          0.0110515309497714,
          0.0710951760411263,
          0.0513066314160824,
          0.048761073499918,
          0.0398642159998417,
          0.123717859387398,
          0.0931469723582268,
          0.0646413192152977,
          0.179436385631561,
          0.188816204667091,
          0.115460447967052,
          0.0782135501503944,
          0.107215754687786,
          0.0760467872023582,
          0.165455713868141,
          0.0736539661884308,
          0.0266744215041399,
          0.0922268852591515,
          0.136957004666328,
          0.0796181336045265,
          0.251666635274887,
          0.0602413564920425,
          0.104970246553421,
          0.130061775445938,
          0.0681059509515762,
          0.089847519993782,
          0.0253363698720932,
          0.0230294708162546,
          0.057069718837738,
          0.120328105986118,
          0.138572946190834,
          0.0727116540074348,
          0.0535818822681904,
          0.0953753814101219,
          0.119094640016556,
          0.0697203353047371,
          0.0611578300595284,
          0.0985831990838051,
          0.0609290152788162,
          0.0672319754958153,
          0.0998721495270729,
          0.0567674227058887,
          0.116793513298035,
          0.0389482490718365,
          0.110937617719173,
          0.0956650152802467,
          0.455220013856888,
          0.151347130537033,
          0.0660351067781448,
          0.0841479450464249,
          0.0565650761127472
         ],
         "y": [
          7.53700017929077,
          7.52199983596802,
          7.50400018692017,
          7.49399995803833,
          7.4689998626709,
          7.3769998550415,
          7.31599998474121,
          7.31400012969971,
          7.28399991989136,
          7.28399991989136,
          7.21299982070923,
          7.0789999961853,
          7.00600004196167,
          6.99300003051758,
          6.97700023651123,
          6.95100021362305,
          6.89099979400635,
          6.86299991607666,
          6.71400022506714,
          6.65199995040894,
          6.64799976348877,
          6.63500022888184,
          6.60900020599365,
          6.59899997711182,
          6.57800006866455,
          6.57200002670288,
          6.52699995040894,
          6.4539999961853,
          6.4539999961853,
          6.4520001411438,
          6.44199991226196,
          6.42399978637695,
          6.42199993133545,
          6.40299987792969,
          6.375,
          6.35699987411499,
          6.3439998626709,
          6.16800022125244,
          6.10500001907349,
          6.09800004959106,
          6.08699989318848,
          6.08400011062622,
          6.07100009918213,
          6.00799989700317,
          6.00299978256226,
          5.97300004959106,
          5.97100019454956,
          5.96400022506714,
          5.96299982070923,
          5.95599985122681,
          5.92000007629395,
          5.90199995040894,
          5.87200021743774,
          5.84999990463257,
          5.83799982070923,
          5.83799982070923,
          5.82499980926514,
          5.82299995422363,
          5.82200002670288,
          5.81899976730347,
          5.80999994277954,
          5.75799989700317,
          5.71500015258789,
          5.62900018692017,
          5.62099981307983,
          5.61100006103516,
          5.56899976730347,
          5.52500009536743,
          5.5,
          5.49300003051758,
          5.47200012207031,
          5.42999982833862,
          5.39499998092651,
          5.33599996566772,
          5.32399988174438,
          5.31099987030029,
          5.29300022125244,
          5.27899980545044,
          5.27299976348877,
          5.26900005340576,
          5.26200008392334,
          5.25,
          5.23699998855591,
          5.2350001335144,
          5.23400020599365,
          5.23000001907349,
          5.22700023651123,
          5.22499990463257,
          5.19500017166138,
          5.18200016021729,
          5.18100023269653,
          5.17500019073486,
          5.15100002288818,
          5.07399988174438,
          5.07399988174438,
          5.04099988937378,
          5.01100015640259,
          5.00400018692017,
          4.96199989318848,
          4.95499992370605,
          4.8289999961853,
          4.80499982833862,
          4.77500009536743,
          4.7350001335144,
          4.71400022506714,
          4.70900011062622,
          4.69500017166138,
          4.69199991226196,
          4.64400005340576,
          4.60799980163574,
          4.57399988174438,
          4.55299997329712,
          4.55000019073486,
          4.54500007629395,
          4.53499984741211,
          4.51399993896484,
          4.49700021743774,
          4.46500015258789,
          4.46000003814697,
          4.44000005722046,
          4.37599992752075,
          4.31500005722046,
          4.29199981689453,
          4.29099988937378,
          4.28599977493286,
          4.28000020980835,
          4.19000005722046,
          4.17999982833862,
          4.16800022125244,
          4.13899993896484,
          4.11999988555908,
          4.09600019454956,
          4.08099985122681,
          4.03200006484985,
          4.02799987792969,
          3.97000002861023,
          3.93600010871887,
          3.875,
          3.80800008773804,
          3.79500007629395,
          3.79399991035461,
          3.76600003242493,
          3.65700006484985,
          3.64400005340576,
          3.6029999256134,
          3.59299993515015,
          3.59100008010864,
          3.53299999237061,
          3.50699996948242,
          3.49499988555908,
          3.47099995613098,
          3.46199989318848,
          3.34899997711182,
          2.90499997138977,
          2.69300007820129
         ]
        },
        {
         "mode": "markers",
         "name": "2018",
         "type": "scatter",
         "x": [
          0.393,
          0.34,
          0.408,
          0.138,
          0.357,
          0.295,
          0.291,
          0.389,
          0.383,
          0.302,
          0.082,
          0.224,
          0.101,
          0.306,
          0.28,
          0.24,
          0.321,
          0.133,
          0.272,
          0.034,
          0.142,
          0.176,
          0.095,
          0.061,
          0.078,
          0.063,
          0.088,
          0.054,
          0.071,
          0.155,
          0.171,
          0.127,
          0.457,
          0.059,
          0.074,
          0.039,
          0.019,
          0.014,
          0.082,
          0.128,
          0.064,
          0.123,
          0.259,
          0.106,
          0.029,
          0.028,
          0.12,
          0.089,
          0.006,
          0.051,
          0.001,
          0.066,
          0.15,
          0.05,
          0.031,
          0.051,
          0.154,
          0.025,
          0.121,
          0.035,
          0.054,
          0.174,
          0.074,
          0.034,
          0.023,
          0,
          0.037,
          0.022,
          0.148,
          0.105,
          0.074,
          0.154,
          0.109,
          0.113,
          0.291,
          0.017,
          0.043,
          0.044,
          0.136,
          0.081,
          0.039,
          0.106,
          0.135,
          0.074,
          0.103,
          0.176,
          0.034,
          0.052,
          0.134,
          0.032,
          0.035,
          0,
          0.032,
          0.079,
          0.018,
          0.171,
          0.282,
          0.043,
          0.009,
          0.078,
          0.052,
          0.052,
          0.076,
          0.056,
          0.129,
          0.103,
          0.029,
          0.082,
          0.174,
          0.063,
          0.032,
          0.053,
          0.077,
          0.144,
          0.05,
          0.095,
          0.056,
          0.064,
          0.065,
          0.128,
          0.107,
          0.158,
          0.055,
          0.082,
          0.093,
          0.146,
          0.215,
          0.028,
          0.178,
          0.06,
          0.052,
          0.093,
          0.099,
          0.061,
          0.067,
          0.082,
          0.011,
          0.101,
          0.094,
          0.112,
          0.061,
          0.049,
          0.099,
          0.036,
          0.092,
          0.08,
          0.104,
          0.03,
          0.144,
          0.444,
          0.064,
          0.097,
          0.106,
          0.038,
          0.076
         ],
         "y": [
          7.632,
          7.594,
          7.555,
          7.495,
          7.487,
          7.441,
          7.328,
          7.324,
          7.314,
          7.272,
          7.19,
          7.139,
          7.072,
          6.977,
          6.965,
          6.927,
          6.91,
          6.886,
          6.814,
          6.711,
          6.627,
          6.489,
          6.488,
          6.476,
          6.441,
          6.43,
          6.419,
          6.388,
          6.382,
          6.379,
          6.374,
          6.371,
          6.343,
          6.322,
          6.31,
          6.26,
          6.192,
          6.173,
          6.167,
          6.141,
          6.123,
          6.105,
          6.096,
          6.083,
          6.072,
          6,
          5.973,
          5.956,
          5.952,
          5.948,
          5.945,
          5.933,
          5.915,
          5.891,
          5.89,
          5.875,
          5.835,
          5.81,
          5.79,
          5.762,
          5.752,
          5.739,
          5.681,
          5.663,
          5.662,
          5.64,
          5.636,
          5.62,
          5.566,
          5.524,
          5.504,
          5.483,
          5.483,
          5.472,
          5.43,
          5.41,
          5.398,
          5.358,
          5.358,
          5.347,
          5.321,
          5.302,
          5.295,
          5.254,
          5.246,
          5.201,
          5.199,
          5.185,
          5.161,
          5.155,
          5.131,
          5.129,
          5.125,
          5.103,
          5.093,
          5.082,
          4.982,
          4.975,
          4.933,
          4.88,
          4.806,
          4.758,
          4.743,
          4.724,
          4.707,
          4.671,
          4.657,
          4.631,
          4.623,
          4.592,
          4.586,
          4.571,
          4.559,
          4.5,
          4.471,
          4.456,
          4.447,
          4.441,
          4.433,
          4.424,
          4.419,
          4.417,
          4.41,
          4.377,
          4.356,
          4.35,
          4.34,
          4.321,
          4.308,
          4.301,
          4.245,
          4.19,
          4.166,
          4.161,
          4.141,
          4.139,
          4.103,
          3.999,
          3.964,
          3.808,
          3.795,
          3.774,
          3.692,
          3.632,
          3.59,
          3.587,
          3.582,
          3.495,
          3.462,
          3.408,
          3.355,
          3.303,
          3.254,
          3.083,
          2.905
         ]
        },
        {
         "mode": "markers",
         "name": "2019",
         "type": "scatter",
         "x": [
          0.393,
          0.41,
          0.341,
          0.118,
          0.298,
          0.343,
          0.373,
          0.38,
          0.308,
          0.226,
          0.29,
          0.093,
          0.082,
          0.316,
          0.278,
          0.31,
          0.265,
          0.21,
          0.128,
          0.036,
          0.182,
          0.151,
          0.073,
          0.183,
          0.097,
          0.056,
          0.078,
          0.132,
          0.167,
          0.079,
          0.054,
          0.086,
          0.15,
          0.453,
          0.074,
          0.03,
          0.11,
          0.014,
          0.016,
          0.05,
          0.24,
          0.042,
          0.034,
          0.057,
          0.127,
          0.006,
          0.05,
          0.005,
          0.041,
          0.087,
          0.097,
          0.028,
          0.064,
          0.056,
          0.161,
          0.028,
          0.06,
          0.14,
          0.078,
          0.096,
          0.064,
          0.02,
          0.08,
          0.162,
          0.027,
          0.025,
          0.098,
          0.031,
          0.107,
          0.039,
          0,
          0.152,
          0.08,
          0.144,
          0.022,
          0.287,
          0.101,
          0.006,
          0.106,
          0.024,
          0.142,
          0.034,
          0.038,
          0.034,
          0.041,
          0.023,
          0.028,
          0.114,
          0.076,
          0.182,
          0.027,
          0.028,
          0.1,
          0.073,
          0.167,
          0.037,
          0.004,
          0.04,
          0.09,
          0.089,
          0.13,
          0.082,
          0.093,
          0.055,
          0.164,
          0.055,
          0.027,
          0.047,
          0.062,
          0.066,
          0.072,
          0.27,
          0.056,
          0.102,
          0.113,
          0.064,
          0.125,
          0.086,
          0.164,
          0.167,
          0.053,
          0.088,
          0.138,
          0.055,
          0.143,
          0.089,
          0.053,
          0.052,
          0.045,
          0.047,
          0.172,
          0.078,
          0.01,
          0.1,
          0.135,
          0.06,
          0.067,
          0.087,
          0.085,
          0.085,
          0.033,
          0.078,
          0.041,
          0.093,
          0.18,
          0.089,
          0.11,
          0.1,
          0.141,
          0.089,
          0.077,
          0.411,
          0.147,
          0.025,
          0.035,
          0.091
         ],
         "y": [
          7.769,
          7.6,
          7.554,
          7.494,
          7.488,
          7.48,
          7.343,
          7.307,
          7.278,
          7.246,
          7.228,
          7.167,
          7.139,
          7.09,
          7.054,
          7.021,
          6.985,
          6.923,
          6.892,
          6.852,
          6.825,
          6.726,
          6.595,
          6.592,
          6.446,
          6.444,
          6.436,
          6.375,
          6.374,
          6.354,
          6.321,
          6.3,
          6.293,
          6.262,
          6.253,
          6.223,
          6.199,
          6.198,
          6.192,
          6.182,
          6.174,
          6.149,
          6.125,
          6.118,
          6.105,
          6.1,
          6.086,
          6.07,
          6.046,
          6.028,
          6.021,
          6.008,
          5.94,
          5.895,
          5.893,
          5.89,
          5.888,
          5.886,
          5.86,
          5.809,
          5.779,
          5.758,
          5.743,
          5.718,
          5.697,
          5.693,
          5.653,
          5.648,
          5.631,
          5.603,
          5.529,
          5.525,
          5.523,
          5.467,
          5.432,
          5.43,
          5.425,
          5.386,
          5.373,
          5.339,
          5.323,
          5.287,
          5.285,
          5.274,
          5.265,
          5.261,
          5.247,
          5.211,
          5.208,
          5.208,
          5.197,
          5.192,
          5.191,
          5.175,
          5.082,
          5.044,
          5.011,
          4.996,
          4.944,
          4.913,
          4.906,
          4.883,
          4.812,
          4.799,
          4.796,
          4.722,
          4.719,
          4.707,
          4.7,
          4.696,
          4.681,
          4.668,
          4.639,
          4.628,
          4.587,
          4.559,
          4.548,
          4.534,
          4.519,
          4.516,
          4.509,
          4.49,
          4.466,
          4.461,
          4.456,
          4.437,
          4.418,
          4.39,
          4.374,
          4.366,
          4.36,
          4.35,
          4.332,
          4.286,
          4.212,
          4.189,
          4.166,
          4.107,
          4.085,
          4.015,
          3.975,
          3.973,
          3.933,
          3.802,
          3.775,
          3.663,
          3.597,
          3.488,
          3.462,
          3.41,
          3.38,
          3.334,
          3.231,
          3.203,
          3.083,
          2.853
         ]
        }
       ],
       "layout": {
        "height": 500,
        "template": {
         "data": {
          "bar": [
           {
            "error_x": {
             "color": "#2a3f5f"
            },
            "error_y": {
             "color": "#2a3f5f"
            },
            "marker": {
             "line": {
              "color": "#E5ECF6",
              "width": 0.5
             },
             "pattern": {
              "fillmode": "overlay",
              "size": 10,
              "solidity": 0.2
             }
            },
            "type": "bar"
           }
          ],
          "barpolar": [
           {
            "marker": {
             "line": {
              "color": "#E5ECF6",
              "width": 0.5
             },
             "pattern": {
              "fillmode": "overlay",
              "size": 10,
              "solidity": 0.2
             }
            },
            "type": "barpolar"
           }
          ],
          "carpet": [
           {
            "aaxis": {
             "endlinecolor": "#2a3f5f",
             "gridcolor": "white",
             "linecolor": "white",
             "minorgridcolor": "white",
             "startlinecolor": "#2a3f5f"
            },
            "baxis": {
             "endlinecolor": "#2a3f5f",
             "gridcolor": "white",
             "linecolor": "white",
             "minorgridcolor": "white",
             "startlinecolor": "#2a3f5f"
            },
            "type": "carpet"
           }
          ],
          "choropleth": [
           {
            "colorbar": {
             "outlinewidth": 0,
             "ticks": ""
            },
            "type": "choropleth"
           }
          ],
          "contour": [
           {
            "colorbar": {
             "outlinewidth": 0,
             "ticks": ""
            },
            "colorscale": [
             [
              0,
              "#0d0887"
             ],
             [
              0.1111111111111111,
              "#46039f"
             ],
             [
              0.2222222222222222,
              "#7201a8"
             ],
             [
              0.3333333333333333,
              "#9c179e"
             ],
             [
              0.4444444444444444,
              "#bd3786"
             ],
             [
              0.5555555555555556,
              "#d8576b"
             ],
             [
              0.6666666666666666,
              "#ed7953"
             ],
             [
              0.7777777777777778,
              "#fb9f3a"
             ],
             [
              0.8888888888888888,
              "#fdca26"
             ],
             [
              1,
              "#f0f921"
             ]
            ],
            "type": "contour"
           }
          ],
          "contourcarpet": [
           {
            "colorbar": {
             "outlinewidth": 0,
             "ticks": ""
            },
            "type": "contourcarpet"
           }
          ],
          "heatmap": [
           {
            "colorbar": {
             "outlinewidth": 0,
             "ticks": ""
            },
            "colorscale": [
             [
              0,
              "#0d0887"
             ],
             [
              0.1111111111111111,
              "#46039f"
             ],
             [
              0.2222222222222222,
              "#7201a8"
             ],
             [
              0.3333333333333333,
              "#9c179e"
             ],
             [
              0.4444444444444444,
              "#bd3786"
             ],
             [
              0.5555555555555556,
              "#d8576b"
             ],
             [
              0.6666666666666666,
              "#ed7953"
             ],
             [
              0.7777777777777778,
              "#fb9f3a"
             ],
             [
              0.8888888888888888,
              "#fdca26"
             ],
             [
              1,
              "#f0f921"
             ]
            ],
            "type": "heatmap"
           }
          ],
          "heatmapgl": [
           {
            "colorbar": {
             "outlinewidth": 0,
             "ticks": ""
            },
            "colorscale": [
             [
              0,
              "#0d0887"
             ],
             [
              0.1111111111111111,
              "#46039f"
             ],
             [
              0.2222222222222222,
              "#7201a8"
             ],
             [
              0.3333333333333333,
              "#9c179e"
             ],
             [
              0.4444444444444444,
              "#bd3786"
             ],
             [
              0.5555555555555556,
              "#d8576b"
             ],
             [
              0.6666666666666666,
              "#ed7953"
             ],
             [
              0.7777777777777778,
              "#fb9f3a"
             ],
             [
              0.8888888888888888,
              "#fdca26"
             ],
             [
              1,
              "#f0f921"
             ]
            ],
            "type": "heatmapgl"
           }
          ],
          "histogram": [
           {
            "marker": {
             "pattern": {
              "fillmode": "overlay",
              "size": 10,
              "solidity": 0.2
             }
            },
            "type": "histogram"
           }
          ],
          "histogram2d": [
           {
            "colorbar": {
             "outlinewidth": 0,
             "ticks": ""
            },
            "colorscale": [
             [
              0,
              "#0d0887"
             ],
             [
              0.1111111111111111,
              "#46039f"
             ],
             [
              0.2222222222222222,
              "#7201a8"
             ],
             [
              0.3333333333333333,
              "#9c179e"
             ],
             [
              0.4444444444444444,
              "#bd3786"
             ],
             [
              0.5555555555555556,
              "#d8576b"
             ],
             [
              0.6666666666666666,
              "#ed7953"
             ],
             [
              0.7777777777777778,
              "#fb9f3a"
             ],
             [
              0.8888888888888888,
              "#fdca26"
             ],
             [
              1,
              "#f0f921"
             ]
            ],
            "type": "histogram2d"
           }
          ],
          "histogram2dcontour": [
           {
            "colorbar": {
             "outlinewidth": 0,
             "ticks": ""
            },
            "colorscale": [
             [
              0,
              "#0d0887"
             ],
             [
              0.1111111111111111,
              "#46039f"
             ],
             [
              0.2222222222222222,
              "#7201a8"
             ],
             [
              0.3333333333333333,
              "#9c179e"
             ],
             [
              0.4444444444444444,
              "#bd3786"
             ],
             [
              0.5555555555555556,
              "#d8576b"
             ],
             [
              0.6666666666666666,
              "#ed7953"
             ],
             [
              0.7777777777777778,
              "#fb9f3a"
             ],
             [
              0.8888888888888888,
              "#fdca26"
             ],
             [
              1,
              "#f0f921"
             ]
            ],
            "type": "histogram2dcontour"
           }
          ],
          "mesh3d": [
           {
            "colorbar": {
             "outlinewidth": 0,
             "ticks": ""
            },
            "type": "mesh3d"
           }
          ],
          "parcoords": [
           {
            "line": {
             "colorbar": {
              "outlinewidth": 0,
              "ticks": ""
             }
            },
            "type": "parcoords"
           }
          ],
          "pie": [
           {
            "automargin": true,
            "type": "pie"
           }
          ],
          "scatter": [
           {
            "fillpattern": {
             "fillmode": "overlay",
             "size": 10,
             "solidity": 0.2
            },
            "type": "scatter"
           }
          ],
          "scatter3d": [
           {
            "line": {
             "colorbar": {
              "outlinewidth": 0,
              "ticks": ""
             }
            },
            "marker": {
             "colorbar": {
              "outlinewidth": 0,
              "ticks": ""
             }
            },
            "type": "scatter3d"
           }
          ],
          "scattercarpet": [
           {
            "marker": {
             "colorbar": {
              "outlinewidth": 0,
              "ticks": ""
             }
            },
            "type": "scattercarpet"
           }
          ],
          "scattergeo": [
           {
            "marker": {
             "colorbar": {
              "outlinewidth": 0,
              "ticks": ""
             }
            },
            "type": "scattergeo"
           }
          ],
          "scattergl": [
           {
            "marker": {
             "colorbar": {
              "outlinewidth": 0,
              "ticks": ""
             }
            },
            "type": "scattergl"
           }
          ],
          "scattermapbox": [
           {
            "marker": {
             "colorbar": {
              "outlinewidth": 0,
              "ticks": ""
             }
            },
            "type": "scattermapbox"
           }
          ],
          "scatterpolar": [
           {
            "marker": {
             "colorbar": {
              "outlinewidth": 0,
              "ticks": ""
             }
            },
            "type": "scatterpolar"
           }
          ],
          "scatterpolargl": [
           {
            "marker": {
             "colorbar": {
              "outlinewidth": 0,
              "ticks": ""
             }
            },
            "type": "scatterpolargl"
           }
          ],
          "scatterternary": [
           {
            "marker": {
             "colorbar": {
              "outlinewidth": 0,
              "ticks": ""
             }
            },
            "type": "scatterternary"
           }
          ],
          "surface": [
           {
            "colorbar": {
             "outlinewidth": 0,
             "ticks": ""
            },
            "colorscale": [
             [
              0,
              "#0d0887"
             ],
             [
              0.1111111111111111,
              "#46039f"
             ],
             [
              0.2222222222222222,
              "#7201a8"
             ],
             [
              0.3333333333333333,
              "#9c179e"
             ],
             [
              0.4444444444444444,
              "#bd3786"
             ],
             [
              0.5555555555555556,
              "#d8576b"
             ],
             [
              0.6666666666666666,
              "#ed7953"
             ],
             [
              0.7777777777777778,
              "#fb9f3a"
             ],
             [
              0.8888888888888888,
              "#fdca26"
             ],
             [
              1,
              "#f0f921"
             ]
            ],
            "type": "surface"
           }
          ],
          "table": [
           {
            "cells": {
             "fill": {
              "color": "#EBF0F8"
             },
             "line": {
              "color": "white"
             }
            },
            "header": {
             "fill": {
              "color": "#C8D4E3"
             },
             "line": {
              "color": "white"
             }
            },
            "type": "table"
           }
          ]
         },
         "layout": {
          "annotationdefaults": {
           "arrowcolor": "#2a3f5f",
           "arrowhead": 0,
           "arrowwidth": 1
          },
          "autotypenumbers": "strict",
          "coloraxis": {
           "colorbar": {
            "outlinewidth": 0,
            "ticks": ""
           }
          },
          "colorscale": {
           "diverging": [
            [
             0,
             "#8e0152"
            ],
            [
             0.1,
             "#c51b7d"
            ],
            [
             0.2,
             "#de77ae"
            ],
            [
             0.3,
             "#f1b6da"
            ],
            [
             0.4,
             "#fde0ef"
            ],
            [
             0.5,
             "#f7f7f7"
            ],
            [
             0.6,
             "#e6f5d0"
            ],
            [
             0.7,
             "#b8e186"
            ],
            [
             0.8,
             "#7fbc41"
            ],
            [
             0.9,
             "#4d9221"
            ],
            [
             1,
             "#276419"
            ]
           ],
           "sequential": [
            [
             0,
             "#0d0887"
            ],
            [
             0.1111111111111111,
             "#46039f"
            ],
            [
             0.2222222222222222,
             "#7201a8"
            ],
            [
             0.3333333333333333,
             "#9c179e"
            ],
            [
             0.4444444444444444,
             "#bd3786"
            ],
            [
             0.5555555555555556,
             "#d8576b"
            ],
            [
             0.6666666666666666,
             "#ed7953"
            ],
            [
             0.7777777777777778,
             "#fb9f3a"
            ],
            [
             0.8888888888888888,
             "#fdca26"
            ],
            [
             1,
             "#f0f921"
            ]
           ],
           "sequentialminus": [
            [
             0,
             "#0d0887"
            ],
            [
             0.1111111111111111,
             "#46039f"
            ],
            [
             0.2222222222222222,
             "#7201a8"
            ],
            [
             0.3333333333333333,
             "#9c179e"
            ],
            [
             0.4444444444444444,
             "#bd3786"
            ],
            [
             0.5555555555555556,
             "#d8576b"
            ],
            [
             0.6666666666666666,
             "#ed7953"
            ],
            [
             0.7777777777777778,
             "#fb9f3a"
            ],
            [
             0.8888888888888888,
             "#fdca26"
            ],
            [
             1,
             "#f0f921"
            ]
           ]
          },
          "colorway": [
           "#636efa",
           "#EF553B",
           "#00cc96",
           "#ab63fa",
           "#FFA15A",
           "#19d3f3",
           "#FF6692",
           "#B6E880",
           "#FF97FF",
           "#FECB52"
          ],
          "font": {
           "color": "#2a3f5f"
          },
          "geo": {
           "bgcolor": "white",
           "lakecolor": "white",
           "landcolor": "#E5ECF6",
           "showlakes": true,
           "showland": true,
           "subunitcolor": "white"
          },
          "hoverlabel": {
           "align": "left"
          },
          "hovermode": "closest",
          "mapbox": {
           "style": "light"
          },
          "paper_bgcolor": "white",
          "plot_bgcolor": "#E5ECF6",
          "polar": {
           "angularaxis": {
            "gridcolor": "white",
            "linecolor": "white",
            "ticks": ""
           },
           "bgcolor": "#E5ECF6",
           "radialaxis": {
            "gridcolor": "white",
            "linecolor": "white",
            "ticks": ""
           }
          },
          "scene": {
           "xaxis": {
            "backgroundcolor": "#E5ECF6",
            "gridcolor": "white",
            "gridwidth": 2,
            "linecolor": "white",
            "showbackground": true,
            "ticks": "",
            "zerolinecolor": "white"
           },
           "yaxis": {
            "backgroundcolor": "#E5ECF6",
            "gridcolor": "white",
            "gridwidth": 2,
            "linecolor": "white",
            "showbackground": true,
            "ticks": "",
            "zerolinecolor": "white"
           },
           "zaxis": {
            "backgroundcolor": "#E5ECF6",
            "gridcolor": "white",
            "gridwidth": 2,
            "linecolor": "white",
            "showbackground": true,
            "ticks": "",
            "zerolinecolor": "white"
           }
          },
          "shapedefaults": {
           "line": {
            "color": "#2a3f5f"
           }
          },
          "ternary": {
           "aaxis": {
            "gridcolor": "white",
            "linecolor": "white",
            "ticks": ""
           },
           "baxis": {
            "gridcolor": "white",
            "linecolor": "white",
            "ticks": ""
           },
           "bgcolor": "#E5ECF6",
           "caxis": {
            "gridcolor": "white",
            "linecolor": "white",
            "ticks": ""
           }
          },
          "title": {
           "x": 0.05
          },
          "xaxis": {
           "automargin": true,
           "gridcolor": "white",
           "linecolor": "white",
           "ticks": "",
           "title": {
            "standoff": 15
           },
           "zerolinecolor": "white",
           "zerolinewidth": 2
          },
          "yaxis": {
           "automargin": true,
           "gridcolor": "white",
           "linecolor": "white",
           "ticks": "",
           "title": {
            "standoff": 15
           },
           "zerolinecolor": "white",
           "zerolinewidth": 2
          }
         }
        },
        "title": {
         "text": "Score vs Perceptions of corruption"
        },
        "width": 1000
       }
      }
     },
     "metadata": {},
     "output_type": "display_data"
    },
    {
     "data": {
      "application/vnd.plotly.v1+json": {
       "config": {
        "plotlyServerURL": "https://plot.ly"
       },
       "data": [
        {
         "mode": "lines",
         "name": "2015",
         "type": "scatter",
         "x": [
          0.41978,
          0.14145,
          0.48357,
          0.36503,
          0.32957,
          0.41372,
          0.31814,
          0.43844,
          0.42922,
          0.35637,
          0.07785,
          0.10583,
          0.18676,
          0.21312,
          0.1589,
          0.17521,
          0.37798,
          0.28703,
          0.2254,
          0.38583,
          0.32067,
          0.32524,
          0.11069,
          0.4921,
          0.0927,
          0.21843,
          0.12869,
          0.52208,
          0.20646,
          0.08484,
          0.02652,
          0.24558,
          0.0512,
          0.03187,
          0.32524,
          0.06398,
          0.13586,
          0.08129,
          0.25609,
          0.13633,
          0.0114,
          0.11776,
          0.09472,
          0.30826,
          0.03431,
          0.1806,
          0.07857,
          0.1809,
          0.306,
          0.02901,
          0.088,
          0.01615,
          0.08242,
          0.08454,
          0.03787,
          0.01031,
          0.19317,
          0.05989,
          0.1909,
          0.04212,
          0.10501,
          0.0243,
          0.11023,
          0.03005,
          0.02299,
          0.1428,
          0.06146,
          0.17383,
          0.04741,
          0.30844,
          0.07521,
          0.37124,
          0.15184,
          0,
          0.10441,
          0.15746,
          0.04232,
          0.0403,
          0.15445,
          0.16065,
          0.10464,
          0.14293,
          0.14296,
          0.02781,
          0.12468,
          0.00649,
          0.02617,
          0.01078,
          0.06332,
          0.12279,
          0.39928,
          0.08546,
          0.05327,
          0.15603,
          0.06413,
          0.00227,
          0.12504,
          0.14234,
          0.24249,
          0.02666,
          0.0306,
          0.01397,
          0.04582,
          0.02758,
          0.06825,
          0.15072,
          0.06358,
          0.12905,
          0.12569,
          0.05863,
          0.02961,
          0.13788,
          0.08884,
          0.04355,
          0.08079,
          0.06232,
          0.08492,
          0.1466,
          0.17175,
          0.07625,
          0.05907,
          0.15048,
          0.08786,
          0.17461,
          0.05839,
          0.28105,
          0.039,
          0.12474,
          0.19034,
          0.38331,
          0.06977,
          0.09179,
          0.05786,
          0.00872,
          0.06324,
          0.07854,
          0.07122,
          0.12352,
          0.11686,
          0.199,
          0.07267,
          0.10713,
          0.11091,
          0.15639,
          0.07247,
          0.05747,
          0.08124,
          0.08289,
          0.05269,
          0.12139,
          0.17922,
          0.12832,
          0.09719,
          0.55191,
          0.0801,
          0.18906,
          0.10062,
          0.10731
         ],
         "y": [
          6.417553636944733,
          5.368300720203942,
          6.658030206336804,
          6.211156205149532,
          6.077478526036147,
          6.3947085513432915,
          6.0343895279463,
          6.487898405479864,
          6.453140700983942,
          6.178509597672885,
          5.128540415871983,
          5.234019870513622,
          5.539111087959935,
          5.6384834405100985,
          5.434084011250998,
          5.495569711937385,
          6.259975323720269,
          5.917110548893356,
          5.684776782289918,
          6.289568380151179,
          6.0439271626940965,
          6.061155222297824,
          5.252341176788045,
          6.69018673771969,
          5.184522185043832,
          5.658501164032154,
          5.3201978666933165,
          6.803205824573026,
          5.613376465245149,
          5.154891430451864,
          4.9350357551587845,
          5.760851671305939,
          5.028074816651123,
          4.955204271325073,
          6.061155222297824,
          5.076253066483866,
          5.34722744817225,
          5.141508583276102,
          5.800472438578406,
          5.348999261741999,
          4.878036135638356,
          5.278993776656394,
          5.192137213577646,
          5.997143744820518,
          4.964402622623343,
          5.515889020747909,
          5.131254683468194,
          5.517019965579663,
          5.9886239604213,
          4.944422597262347,
          5.166804049346345,
          4.895942762141136,
          5.145768475475711,
          5.15376048562011,
          4.977823167960164,
          4.873927036082981,
          5.563275609198423,
          5.060834518610946,
          5.554718126638147,
          4.993844886410019,
          5.230928621306827,
          4.926666763403801,
          5.250607061379355,
          4.948343206012429,
          4.921728304305139,
          5.373389971946838,
          5.066753129897128,
          5.490367365711315,
          5.013787213609958,
          5.99782231171957,
          5.118588101352543,
          6.234566763166851,
          5.407469109543708,
          4.835060232031684,
          5.228666731643317,
          5.428655476058576,
          4.994598849631189,
          4.986983821097375,
          5.417308329579972,
          5.440681189436233,
          5.229533789347663,
          5.373880048040599,
          5.373993142523774,
          4.939898817935329,
          5.3050809041088645,
          4.8595263385586405,
          4.9337163195217375,
          4.87569884965273,
          5.073764987854005,
          5.297955951668811,
          6.34027240677484,
          5.15722871643749,
          5.035878335990229,
          5.423264639027213,
          5.076818538899743,
          4.84361771459196,
          5.30643803790697,
          5.371655856538148,
          5.749202939538867,
          4.935563529413603,
          4.950416604870646,
          4.887724563030386,
          5.007793206001659,
          4.939031760230983,
          5.0923501812558385,
          5.403246915505157,
          5.074745140041527,
          5.321555000491422,
          5.308888418375772,
          5.056084550317577,
          4.9466844869258555,
          5.354842476706064,
          5.169970694875257,
          4.999235723441383,
          5.139623675223178,
          5.0699951717481575,
          5.155193015740331,
          5.3877152731490625,
          5.48252614821115,
          5.122508710102626,
          5.05774326940415,
          5.402342159639754,
          5.166276275091526,
          5.493307822273876,
          5.055179794452173,
          5.894567048580382,
          4.9820830601597725,
          5.305307093075216,
          5.552607029618872,
          6.280068443564441,
          5.098080301736728,
          5.181091652387511,
          5.0531817919160735,
          4.867933028474682,
          5.073463402565538,
          5.1311415889850185,
          5.103546535090208,
          5.300707917426081,
          5.27560094216113,
          5.585253637095519,
          5.109012768443689,
          5.238920631451225,
          5.253170536331332,
          5.4246217728253185,
          5.108258805222519,
          5.051711563634792,
          5.14132009247081,
          5.14754028904546,
          5.033691842648837,
          5.2926782091206235,
          5.510686674521837,
          5.318803034734153,
          5.201448659359092,
          6.915659439010485,
          5.137022502110142,
          5.547781665003386,
          5.214379128602152,
          5.239599198350278
         ]
        },
        {
         "mode": "lines",
         "name": "2016",
         "type": "scatter",
         "x": [
          0.44453,
          0.41203,
          0.14975,
          0.35776,
          0.41004,
          0.31329,
          0.29927,
          0.41904,
          0.32331,
          0.40867,
          0.08728,
          0.21348,
          0.14868,
          0.10547,
          0.12275,
          0.28551,
          0.14166,
          0.26248,
          0.29754,
          0.35329,
          0.18355,
          0.46987,
          0.27399,
          0.11451,
          0.08423,
          0.07296,
          0.03986,
          0.35561,
          0.21394,
          0.17554,
          0.05399,
          0.17808,
          0.02833,
          0.30008,
          0.0663,
          0.48049,
          0.06137,
          0.16157,
          0.08701,
          0.12692,
          0.23669,
          0.25772,
          0.01241,
          0.08304,
          0.02947,
          0.10613,
          0.09081,
          0.16292,
          0.28333,
          0.02556,
          0.18037,
          0.10771,
          0.18985,
          0.11132,
          0.01903,
          0.03586,
          0.055,
          0.07716,
          0.07746,
          0.0182,
          0.17457,
          0.16578,
          0.03635,
          0.05292,
          0.28467,
          0.05203,
          0.10339,
          0.0889,
          0.05228,
          0.07396,
          0.00679,
          0.18519,
          0.04294,
          0.04002,
          0.31647,
          0.3118,
          0.06547,
          0.12348,
          0.00322,
          0.13297,
          0.17914,
          0.11757,
          0.02745,
          0.1616,
          0.04762,
          0.04339,
          0,
          0.12721,
          0.12372,
          0.08404,
          0.04472,
          0.1388,
          0.03061,
          0.01521,
          0.07047,
          0.11556,
          0.36794,
          0.0817,
          0.04127,
          0.13509,
          0.03285,
          0.22423,
          0.0305,
          0.06906,
          0.0557,
          0.11479,
          0.07008,
          0.10613,
          0.05301,
          0.12583,
          0.08196,
          0.13636,
          0.10398,
          0.06126,
          0.1717,
          0.08415,
          0.07964,
          0.08722,
          0.20243,
          0.10393,
          0.03616,
          0.06686,
          0.01829,
          0.0326,
          0.06075,
          0.3188,
          0.09753,
          0.11681,
          0.00615,
          0.17955,
          0.08582,
          0.07564,
          0.10039,
          0.09314,
          0.13647,
          0.14476,
          0.10769,
          0.18437,
          0.1553,
          0.08092,
          0.08434,
          0.17176,
          0.13015,
          0.04952,
          0.12533,
          0.06442,
          0.05892,
          0.07506,
          0.05099,
          0.04852,
          0.1192,
          0.50521,
          0.06681,
          0.07112,
          0.11587,
          0.17233,
          0.09419
         ],
         "y": [
          6.650821374511569,
          6.516478419434824,
          5.432310103818561,
          6.292146352603596,
          6.508252496954741,
          6.108323853764739,
          6.050370369759325,
          6.545455161437531,
          6.149742820222246,
          6.502589424694582,
          5.174082276014123,
          5.69574630465059,
          5.427887120374495,
          5.24927299456323,
          5.320702110370188,
          5.993491629394525,
          5.398869042077919,
          5.89829414461245,
          6.043219190919856,
          6.27366902924381,
          5.572026777098375,
          6.75556754317756,
          5.945872218856553,
          5.2866410042215,
          5.161474706383844,
          5.114888703192616,
          4.978065570483685,
          6.283259049421596,
          5.6976477741685985,
          5.538916405708691,
          5.036473753721666,
          5.5494158243516125,
          4.930404823651843,
          6.053718609562777,
          5.087358731475351,
          6.799466687267254,
          5.066979938597555,
          5.481169603172626,
          5.172966196079639,
          5.337939344913881,
          5.79168784272232,
          5.878618068730441,
          4.864597443811173,
          5.156555687413341,
          4.935117161152997,
          5.2520011899586345,
          5.188673987750151,
          5.486750002845045,
          5.984480317330916,
          4.918954670249917,
          5.558881835647789,
          5.258532324390058,
          5.598068642236329,
          5.273454726477044,
          4.891962070352959,
          4.961531052935778,
          5.040648719402513,
          5.132249946617918,
          5.133490035434011,
          4.8885311579617685,
          5.534906785203324,
          5.498572182891798,
          4.963556531335397,
          5.032050770277602,
          5.990019380709464,
          5.028371840123192,
          5.240675045438318,
          5.180778755621025,
          5.029405247469937,
          5.1190223325795925,
          4.841366446656363,
          5.578805929293017,
          4.990797148995574,
          4.978726951185601,
          6.121468795215326,
          6.102164745978144,
          5.08392781908416,
          5.3237196598226815,
          4.826609389744856,
          5.362947802705091,
          5.553797471501808,
          5.2992899101456485,
          4.926767229791303,
          5.481293612054236,
          5.010142534526625,
          4.992657282219713,
          4.8132991031187915,
          5.339138097436105,
          5.324711730875556,
          5.160689316800318,
          4.9981550093043925,
          5.387046862031165,
          4.93982949865415,
          4.876171606094708,
          5.104595966019043,
          5.2909813150778255,
          6.334226699763019,
          5.151016624034792,
          4.9838939879193225,
          5.371711097005481,
          4.949088828480978,
          5.740182820560589,
          4.939374799421582,
          5.098767548583407,
          5.043542259973397,
          5.287798420449853,
          5.102983850558123,
          5.2520011899586345,
          5.03242279692243,
          5.333433688882077,
          5.152091367675406,
          5.376960806326942,
          5.2431138867766345,
          5.066525239364988,
          5.5230432688627005,
          5.161144016032885,
          5.14250134749762,
          5.1738342582509045,
          5.650069699924496,
          5.242907205307286,
          4.962771141751871,
          5.089673563932058,
          4.888903184606597,
          4.948055421134233,
          5.064417088377629,
          6.131100151686981,
          5.216451977230634,
          5.296148351811547,
          4.838720923848698,
          5.555492259550468,
          5.168047177109137,
          5.125966829949713,
          5.228274157277388,
          5.198305344221806,
          5.37741550555951,
          5.411683293177546,
          5.2584496518023185,
          5.575416353195696,
          5.455251746916282,
          5.147792393112951,
          5.161929405616411,
          5.523291286625919,
          5.351290967833816,
          5.0179964303618805,
          5.331366874188588,
          5.079587508227834,
          5.056852546599462,
          5.123569324905267,
          5.024072865560736,
          5.013862800974904,
          5.306027726046421,
          6.901650005713319,
          5.089466882462709,
          5.107282825120579,
          5.292262740187788,
          5.525647455376496,
          5.202645655078133
         ]
        },
        {
         "mode": "lines",
         "name": "2017",
         "type": "scatter",
         "x": [
          0.315963834524155,
          0.40077006816864,
          0.153526559472084,
          0.367007285356522,
          0.38261154294014,
          0.282661825418472,
          0.287371516227722,
          0.382816702127457,
          0.384398728609085,
          0.301183730363846,
          0.0852421000599861,
          0.100106589496136,
          0.221060365438461,
          0.135638788342476,
          0.29838815331459,
          0.276731938123703,
          0.251343131065369,
          0.31883442401886,
          0.265428066253662,
          0.0822879821062088,
          0.324489563703537,
          0.111092761158943,
          0.0368729270994663,
          0.059739887714386,
          0.132774114608765,
          0.46430778503418,
          0.153066068887711,
          0.178061872720718,
          0.0772232785820961,
          0.070983923971653,
          0.172502428293228,
          0.0316127352416515,
          0.0638292357325554,
          0.0709140971302986,
          0.439299255609512,
          0.0466687418520451,
          0.27343225479126,
          0.0089648161083459,
          0.215159550309181,
          0.0242108516395092,
          0.257042169570923,
          0.0656007081270218,
          0.130687981843948,
          0.140134647488594,
          0.0899809598922729,
          0.0593078061938286,
          0.246528223156929,
          0.0280280914157629,
          0.0329628810286522,
          0.0965810716152191,
          0.163760736584663,
          0.0118656428530812,
          0.146096110343933,
          0.0738427266478539,
          0.0632826685905457,
          0.0100912861526012,
          0.00438790069893,
          0.0604777261614799,
          0.259270340204239,
          0.119282886385918,
          0.155353352427483,
          0.0451289787888527,
          0.0470490865409374,
          0.0421815551817417,
          0.0412379764020443,
          0.183248922228813,
          0.156313821673393,
          0.0926102101802826,
          0.0996715798974037,
          0.091065913438797,
          0.293933749198914,
          0.0993318930268288,
          0.0409037806093693,
          0.11980327218771,
          0.0366369374096394,
          0.0552677810192108,
          0.0431031100451946,
          0.0574716180562973,
          0.0227942746132612,
          0.124348066747189,
          0.0153171354904771,
          0.0644911229610443,
          0.0881741940975189,
          0.0877631828188896,
          0.180987507104874,
          0.113945253193378,
          0.04328977689147,
          0.037513829767704,
          0.0158694516867399,
          0,
          0.0733454525470734,
          0.0602777935564518,
          0.282410323619843,
          0.0876332372426987,
          0.0261215660721064,
          0.146377146244049,
          0.173380389809608,
          0.0394391790032387,
          0.0729755461215973,
          0.0329022891819477,
          0.0725094974040985,
          0.0867231488227844,
          0.0892826020717621,
          0.114381365478039,
          0.0110515309497714,
          0.0710951760411263,
          0.0513066314160824,
          0.048761073499918,
          0.0398642159998417,
          0.123717859387398,
          0.0931469723582268,
          0.0646413192152977,
          0.179436385631561,
          0.188816204667091,
          0.115460447967052,
          0.0782135501503944,
          0.107215754687786,
          0.0760467872023582,
          0.165455713868141,
          0.0736539661884308,
          0.0266744215041399,
          0.0922268852591515,
          0.136957004666328,
          0.0796181336045265,
          0.251666635274887,
          0.0602413564920425,
          0.104970246553421,
          0.130061775445938,
          0.0681059509515762,
          0.089847519993782,
          0.0253363698720932,
          0.0230294708162546,
          0.057069718837738,
          0.120328105986118,
          0.138572946190834,
          0.0727116540074348,
          0.0535818822681904,
          0.0953753814101219,
          0.119094640016556,
          0.0697203353047371,
          0.0611578300595284,
          0.0985831990838051,
          0.0609290152788162,
          0.0672319754958153,
          0.0998721495270729,
          0.0567674227058887,
          0.116793513298035,
          0.0389482490718365,
          0.110937617719173,
          0.0956650152802467,
          0.455220013856888,
          0.151347130537033,
          0.0660351067781448,
          0.0841479450464249,
          0.0565650761127472
         ],
         "y": [
          6.274768892548311,
          6.6796840399862525,
          5.49919721166393,
          6.51848053414971,
          6.592984494396518,
          6.115765393070484,
          6.138252244171654,
          6.593964045769226,
          6.60151757643001,
          6.204199928475363,
          5.17316679193702,
          5.244138661255731,
          5.821643567607001,
          5.413790406373592,
          6.190852189229933,
          6.087452601839625,
          5.966231411939898,
          6.288474785600405,
          6.033481227941984,
          5.159062084589477,
          6.315475769146054,
          5.296593146350215,
          4.942223735523693,
          5.0514041380830506,
          5.400112758665409,
          6.983050701691001,
          5.496998557097488,
          5.616343317021631,
          5.134880192692325,
          5.105089821354811,
          5.589799239265897,
          4.917108466632165,
          5.070929105583005,
          5.1047564266909164,
          6.863645182261308,
          4.988994752279878,
          6.0716979608700035,
          4.808973897733981,
          5.793469584098988,
          4.88176749390787,
          5.993441994435575,
          5.079387163145077,
          5.390152326280425,
          5.435256298570174,
          5.195792913216289,
          5.0493411251996445,
          5.943242192140099,
          4.899993255628256,
          4.92355486163065,
          5.227305752503634,
          5.548061229747999,
          4.822824161312015,
          5.463719850213495,
          5.118739437159972,
          5.068319470590613,
          4.814352332366112,
          4.787120994967616,
          5.054927015479573,
          6.004080599662264,
          5.3356976510699745,
          5.5079194023224,
          4.981643012190044,
          4.990810742911247,
          4.967570267615176,
          4.963065064114426,
          5.641109361050221,
          5.512505250904564,
          5.20834651007196,
          5.2420616679942915,
          5.20097312351894,
          6.169584227881618,
          5.240439801848718,
          4.961469415624347,
          5.338182280850146,
          4.9410969810866225,
          5.030051654143883,
          4.9719703159061,
          5.04057407638164,
          4.8750039168594546,
          5.359881819669911,
          4.839303629743673,
          5.074089346914254,
          5.187166344074739,
          5.18520393299559,
          5.63031202695133,
          5.31021263141697,
          4.972861573898976,
          4.945283784145716,
          4.841940714123338,
          4.766170560287325,
          5.11636515631785,
          5.0539724189037845,
          6.114564574645984,
          5.184583495913538,
          4.8908903753629085,
          5.4650616819166675,
          5.593991147119512,
          4.954476540810801,
          5.114599004133356,
          4.923265560296449,
          5.112373811750089,
          5.180238195209865,
          5.192458539695565,
          5.312294889553598,
          4.818937109297165,
          5.105621004573045,
          5.011138781744688,
          4.998984781801047,
          4.956505918967925,
          5.356872836779856,
          5.210909330363362,
          5.074806472717654,
          5.622906055089714,
          5.667690862107963,
          5.3174470679532195,
          5.139608335198477,
          5.27808202305865,
          5.129262926602157,
          5.556154054380685,
          5.117838183018936,
          4.893530034373261,
          5.206516290048193,
          5.420084351219265,
          5.146314647835859,
          5.967776012484745,
          5.053798446794972,
          5.267360638341683,
          5.3871624463496675,
          5.091348674983049,
          5.19515579217165,
          4.887141384027803,
          4.876126882720799,
          5.038655171669749,
          5.34068814799847,
          5.427799812365546,
          5.113339027009956,
          5.022002175797792,
          5.221549073941443,
          5.3347988514991265,
          5.0990567012718,
          5.058174233971858,
          5.236865093890383,
          5.057081736796987,
          5.087175798941765,
          5.243019306102706,
          5.0372118310385545,
          5.3238119107465245,
          4.952132550787748,
          5.295852399755432,
          5.222931957441684,
          6.939660303980834,
          5.488791328149916,
          5.081461239381072,
          5.16794264838534,
          5.036245708654922
         ]
        },
        {
         "mode": "lines",
         "name": "2018",
         "type": "scatter",
         "x": [
          0.393,
          0.34,
          0.408,
          0.138,
          0.357,
          0.295,
          0.291,
          0.389,
          0.383,
          0.302,
          0.082,
          0.224,
          0.101,
          0.306,
          0.28,
          0.24,
          0.321,
          0.133,
          0.272,
          0.034,
          0.142,
          0.176,
          0.095,
          0.061,
          0.078,
          0.063,
          0.088,
          0.054,
          0.071,
          0.155,
          0.171,
          0.127,
          0.457,
          0.059,
          0.074,
          0.039,
          0.019,
          0.014,
          0.082,
          0.128,
          0.064,
          0.123,
          0.259,
          0.106,
          0.029,
          0.028,
          0.12,
          0.089,
          0.006,
          0.051,
          0.001,
          0.066,
          0.15,
          0.05,
          0.031,
          0.051,
          0.154,
          0.025,
          0.121,
          0.035,
          0.054,
          0.174,
          0.074,
          0.034,
          0.023,
          0,
          0.037,
          0.022,
          0.148,
          0.105,
          0.074,
          0.154,
          0.109,
          0.113,
          0.291,
          0.017,
          0.043,
          0.044,
          0.136,
          0.081,
          0.039,
          0.106,
          0.135,
          0.074,
          0.103,
          0.176,
          0.034,
          0.052,
          0.134,
          0.032,
          0.035,
          0,
          0.032,
          0.079,
          0.018,
          0.171,
          0.282,
          0.043,
          0.009,
          0.078,
          0.052,
          0.052,
          0.076,
          0.056,
          0.129,
          0.103,
          0.029,
          0.082,
          0.174,
          0.063,
          0.032,
          0.053,
          0.077,
          0.144,
          0.05,
          0.095,
          0.056,
          0.064,
          0.065,
          0.128,
          0.107,
          0.158,
          0.055,
          0.082,
          0.093,
          0.146,
          0.215,
          0.028,
          0.178,
          0.06,
          0.052,
          0.093,
          0.099,
          0.061,
          0.067,
          0.082,
          0.011,
          0.101,
          0.094,
          0.112,
          0.061,
          0.049,
          0.099,
          0.036,
          0.092,
          0.08,
          0.104,
          0.03,
          0.144,
          0.444,
          0.064,
          0.097,
          0.106,
          0.038,
          0.076
         ],
         "y": [
          6.685776461774189,
          6.437019794721612,
          6.756179292072088,
          5.488928346709906,
          6.516809669059231,
          6.225811303827915,
          6.207037215748476,
          6.667002373694749,
          6.638841241575589,
          6.258665957966935,
          5.226091113597749,
          5.89257124041786,
          5.315268031975088,
          6.277440046046374,
          6.1554084735300165,
          5.967667592735619,
          6.347842876344274,
          5.4654607366106065,
          6.117860297371137,
          5.000802056644472,
          5.507702434789346,
          5.667282183464583,
          5.287106899855929,
          5.127527151180691,
          5.20731702551831,
          5.136914195220411,
          5.254252245716909,
          5.094672497041672,
          5.17446237137929,
          5.568718221047525,
          5.643814573365284,
          5.437299604491447,
          6.9861618710452245,
          5.118140107140971,
          5.1885429374388705,
          5.0242696667437725,
          4.930399226346574,
          4.906931616247274,
          5.226091113597749,
          5.441993126511306,
          5.141607717240271,
          5.418525516412007,
          6.056844511112958,
          5.338735642074388,
          4.977334446545173,
          4.972640924525313,
          5.404444950352427,
          5.258945767736769,
          4.869383440088395,
          5.0805919309820915,
          4.845915829989095,
          5.150994761279991,
          5.545250610948225,
          5.075898408962232,
          4.986721490584893,
          5.0805919309820915,
          5.564024699027665,
          4.958560358465734,
          5.4091384723722875,
          5.005495578664333,
          5.094672497041672,
          5.6578951394248636,
          5.1885429374388705,
          5.000802056644472,
          4.949173314426013,
          4.841222307969235,
          5.014882622704053,
          4.944479792406153,
          5.535863566908505,
          5.334042120054528,
          5.1885429374388705,
          5.564024699027665,
          5.352816208133968,
          5.371590296213408,
          6.207037215748476,
          4.921012182306854,
          5.043043754823212,
          5.047737276843073,
          5.479541302670186,
          5.221397591577889,
          5.0242696667437725,
          5.338735642074388,
          5.474847780650326,
          5.1885429374388705,
          5.324655076014809,
          5.667282183464583,
          5.000802056644472,
          5.085285453001951,
          5.470154258630466,
          4.991415012604753,
          5.005495578664333,
          4.841222307969235,
          4.991415012604753,
          5.21201054753817,
          4.925705704326714,
          5.643814573365284,
          6.164795517569736,
          5.043043754823212,
          4.883464006147975,
          5.20731702551831,
          5.085285453001951,
          5.085285453001951,
          5.19792998147859,
          5.104059541081392,
          5.446686648531166,
          5.324655076014809,
          4.977334446545173,
          5.226091113597749,
          5.6578951394248636,
          5.136914195220411,
          4.991415012604753,
          5.089978975021811,
          5.20262350349845,
          5.517089478829066,
          5.075898408962232,
          5.287106899855929,
          5.104059541081392,
          5.141607717240271,
          5.146301239260131,
          5.441993126511306,
          5.343429164094248,
          5.582798787107104,
          5.099366019061532,
          5.226091113597749,
          5.277719855816209,
          5.526476522868785,
          5.850329542239121,
          4.972640924525313,
          5.676669227504303,
          5.122833629160831,
          5.085285453001951,
          5.277719855816209,
          5.305880987935368,
          5.127527151180691,
          5.155688283299851,
          5.226091113597749,
          4.892851050187694,
          5.315268031975088,
          5.282413377836069,
          5.366896774193547,
          5.127527151180691,
          5.071204886942372,
          5.305880987935368,
          5.010189100684193,
          5.2730263337963486,
          5.21670406955803,
          5.329348598034668,
          4.982027968565033,
          5.517089478829066,
          6.925146084787046,
          5.141607717240271,
          5.296493943895649,
          5.338735642074388,
          5.019576144723913,
          5.19792998147859
         ]
        },
        {
         "mode": "lines",
         "name": "2019",
         "type": "scatter",
         "x": [
          0.393,
          0.41,
          0.341,
          0.118,
          0.298,
          0.343,
          0.373,
          0.38,
          0.308,
          0.226,
          0.29,
          0.093,
          0.082,
          0.316,
          0.278,
          0.31,
          0.265,
          0.21,
          0.128,
          0.036,
          0.182,
          0.151,
          0.073,
          0.183,
          0.097,
          0.056,
          0.078,
          0.132,
          0.167,
          0.079,
          0.054,
          0.086,
          0.15,
          0.453,
          0.074,
          0.03,
          0.11,
          0.014,
          0.016,
          0.05,
          0.24,
          0.042,
          0.034,
          0.057,
          0.127,
          0.006,
          0.05,
          0.005,
          0.041,
          0.087,
          0.097,
          0.028,
          0.064,
          0.056,
          0.161,
          0.028,
          0.06,
          0.14,
          0.078,
          0.096,
          0.064,
          0.02,
          0.08,
          0.162,
          0.027,
          0.025,
          0.098,
          0.031,
          0.107,
          0.039,
          0,
          0.152,
          0.08,
          0.144,
          0.022,
          0.287,
          0.101,
          0.006,
          0.106,
          0.024,
          0.142,
          0.034,
          0.038,
          0.034,
          0.041,
          0.023,
          0.028,
          0.114,
          0.076,
          0.182,
          0.027,
          0.028,
          0.1,
          0.073,
          0.167,
          0.037,
          0.004,
          0.04,
          0.09,
          0.089,
          0.13,
          0.082,
          0.093,
          0.055,
          0.164,
          0.055,
          0.027,
          0.047,
          0.062,
          0.066,
          0.072,
          0.27,
          0.056,
          0.102,
          0.113,
          0.064,
          0.125,
          0.086,
          0.164,
          0.167,
          0.053,
          0.088,
          0.138,
          0.055,
          0.143,
          0.089,
          0.053,
          0.052,
          0.045,
          0.047,
          0.172,
          0.078,
          0.01,
          0.1,
          0.135,
          0.06,
          0.067,
          0.087,
          0.085,
          0.085,
          0.033,
          0.078,
          0.041,
          0.093,
          0.18,
          0.089,
          0.11,
          0.1,
          0.141,
          0.089,
          0.077,
          0.411,
          0.147,
          0.025,
          0.035,
          0.091
         ],
         "y": [
          6.689275498630799,
          6.766461216667047,
          6.453178008166981,
          5.44068300098561,
          6.257943544898824,
          6.462258680877128,
          6.598468771529331,
          6.630251126014844,
          6.303346908449559,
          5.931039327333538,
          6.221620854058237,
          5.327174592108774,
          5.277230892202967,
          6.339669599290145,
          6.167136817797356,
          6.312427581159705,
          6.108112445181401,
          5.858393945652364,
          5.486086364536344,
          5.068375419869589,
          5.731264527710308,
          5.590514100703032,
          5.236367865007306,
          5.735804864065382,
          5.345335937529068,
          5.159182146971058,
          5.259069546782673,
          5.504247709956637,
          5.663159482384207,
          5.263609883137747,
          5.150101474260911,
          5.29539223762326,
          5.585973764347958,
          6.961695679935204,
          5.240908201362379,
          5.041133401739149,
          5.404360310145022,
          4.968488020057975,
          4.977568692768121,
          5.1319401288406175,
          5.994604036304566,
          5.09561743800003,
          5.059294747159442,
          5.163722483326131,
          5.4815460281812705,
          4.932165329217387,
          5.1319401288406175,
          4.927624992862314,
          5.091077101644957,
          5.299932573978333,
          5.345335937529068,
          5.032052729029002,
          5.1955048378116455,
          5.159182146971058,
          5.635917464253766,
          5.032052729029002,
          5.177343492391351,
          5.5405704007972245,
          5.259069546782673,
          5.340795601173994,
          5.1955048378116455,
          4.995730038188415,
          5.26815021949282,
          5.64045780060884,
          5.027512392673929,
          5.018431719963782,
          5.349876273884141,
          5.045673738094222,
          5.390739301079802,
          5.08199642893481,
          4.904923311086947,
          5.5950544370581055,
          5.26815021949282,
          5.558731746217518,
          5.004810710898561,
          6.207999844993017,
          5.3634972829493615,
          4.932165329217387,
          5.386198964724729,
          5.0138913836087085,
          5.549651073507372,
          5.059294747159442,
          5.0774560925797365,
          5.059294747159442,
          5.091077101644957,
          5.009351047253635,
          5.032052729029002,
          5.4225216555653155,
          5.2499888740725265,
          5.731264527710308,
          5.027512392673929,
          5.032052729029002,
          5.358956946594288,
          5.236367865007306,
          5.663159482384207,
          5.0729157562246625,
          4.92308465650724,
          5.086536765289883,
          5.313553583043554,
          5.3090132466884805,
          5.495167037246491,
          5.277230892202967,
          5.327174592108774,
          5.154641810615985,
          5.649538473318986,
          5.154641810615985,
          5.027512392673929,
          5.118319119775397,
          5.186424165101498,
          5.204585510521792,
          5.231827528652232,
          6.130814126956769,
          5.159182146971058,
          5.368037619304435,
          5.417981319210242,
          5.1955048378116455,
          5.472465355471123,
          5.29539223762326,
          5.649538473318986,
          5.663159482384207,
          5.145561137905838,
          5.304472910333407,
          5.531489728087078,
          5.154641810615985,
          5.554191409862445,
          5.3090132466884805,
          5.145561137905838,
          5.141020801550765,
          5.10923844706525,
          5.118319119775397,
          5.685861164159574,
          5.259069546782673,
          4.95032667463768,
          5.358956946594288,
          5.517868719021857,
          5.177343492391351,
          5.209125846876866,
          5.299932573978333,
          5.290851901268187,
          5.290851901268187,
          5.054754410804369,
          5.259069546782673,
          5.091077101644957,
          5.327174592108774,
          5.722183855000162,
          5.3090132466884805,
          5.404360310145022,
          5.358956946594288,
          5.545110737152298,
          5.3090132466884805,
          5.2545292104276,
          6.771001553022121,
          5.572352755282738,
          5.018431719963782,
          5.063835083514516,
          5.318093919398628
         ]
        }
       ],
       "layout": {
        "height": 500,
        "template": {
         "data": {
          "bar": [
           {
            "error_x": {
             "color": "#2a3f5f"
            },
            "error_y": {
             "color": "#2a3f5f"
            },
            "marker": {
             "line": {
              "color": "#E5ECF6",
              "width": 0.5
             },
             "pattern": {
              "fillmode": "overlay",
              "size": 10,
              "solidity": 0.2
             }
            },
            "type": "bar"
           }
          ],
          "barpolar": [
           {
            "marker": {
             "line": {
              "color": "#E5ECF6",
              "width": 0.5
             },
             "pattern": {
              "fillmode": "overlay",
              "size": 10,
              "solidity": 0.2
             }
            },
            "type": "barpolar"
           }
          ],
          "carpet": [
           {
            "aaxis": {
             "endlinecolor": "#2a3f5f",
             "gridcolor": "white",
             "linecolor": "white",
             "minorgridcolor": "white",
             "startlinecolor": "#2a3f5f"
            },
            "baxis": {
             "endlinecolor": "#2a3f5f",
             "gridcolor": "white",
             "linecolor": "white",
             "minorgridcolor": "white",
             "startlinecolor": "#2a3f5f"
            },
            "type": "carpet"
           }
          ],
          "choropleth": [
           {
            "colorbar": {
             "outlinewidth": 0,
             "ticks": ""
            },
            "type": "choropleth"
           }
          ],
          "contour": [
           {
            "colorbar": {
             "outlinewidth": 0,
             "ticks": ""
            },
            "colorscale": [
             [
              0,
              "#0d0887"
             ],
             [
              0.1111111111111111,
              "#46039f"
             ],
             [
              0.2222222222222222,
              "#7201a8"
             ],
             [
              0.3333333333333333,
              "#9c179e"
             ],
             [
              0.4444444444444444,
              "#bd3786"
             ],
             [
              0.5555555555555556,
              "#d8576b"
             ],
             [
              0.6666666666666666,
              "#ed7953"
             ],
             [
              0.7777777777777778,
              "#fb9f3a"
             ],
             [
              0.8888888888888888,
              "#fdca26"
             ],
             [
              1,
              "#f0f921"
             ]
            ],
            "type": "contour"
           }
          ],
          "contourcarpet": [
           {
            "colorbar": {
             "outlinewidth": 0,
             "ticks": ""
            },
            "type": "contourcarpet"
           }
          ],
          "heatmap": [
           {
            "colorbar": {
             "outlinewidth": 0,
             "ticks": ""
            },
            "colorscale": [
             [
              0,
              "#0d0887"
             ],
             [
              0.1111111111111111,
              "#46039f"
             ],
             [
              0.2222222222222222,
              "#7201a8"
             ],
             [
              0.3333333333333333,
              "#9c179e"
             ],
             [
              0.4444444444444444,
              "#bd3786"
             ],
             [
              0.5555555555555556,
              "#d8576b"
             ],
             [
              0.6666666666666666,
              "#ed7953"
             ],
             [
              0.7777777777777778,
              "#fb9f3a"
             ],
             [
              0.8888888888888888,
              "#fdca26"
             ],
             [
              1,
              "#f0f921"
             ]
            ],
            "type": "heatmap"
           }
          ],
          "heatmapgl": [
           {
            "colorbar": {
             "outlinewidth": 0,
             "ticks": ""
            },
            "colorscale": [
             [
              0,
              "#0d0887"
             ],
             [
              0.1111111111111111,
              "#46039f"
             ],
             [
              0.2222222222222222,
              "#7201a8"
             ],
             [
              0.3333333333333333,
              "#9c179e"
             ],
             [
              0.4444444444444444,
              "#bd3786"
             ],
             [
              0.5555555555555556,
              "#d8576b"
             ],
             [
              0.6666666666666666,
              "#ed7953"
             ],
             [
              0.7777777777777778,
              "#fb9f3a"
             ],
             [
              0.8888888888888888,
              "#fdca26"
             ],
             [
              1,
              "#f0f921"
             ]
            ],
            "type": "heatmapgl"
           }
          ],
          "histogram": [
           {
            "marker": {
             "pattern": {
              "fillmode": "overlay",
              "size": 10,
              "solidity": 0.2
             }
            },
            "type": "histogram"
           }
          ],
          "histogram2d": [
           {
            "colorbar": {
             "outlinewidth": 0,
             "ticks": ""
            },
            "colorscale": [
             [
              0,
              "#0d0887"
             ],
             [
              0.1111111111111111,
              "#46039f"
             ],
             [
              0.2222222222222222,
              "#7201a8"
             ],
             [
              0.3333333333333333,
              "#9c179e"
             ],
             [
              0.4444444444444444,
              "#bd3786"
             ],
             [
              0.5555555555555556,
              "#d8576b"
             ],
             [
              0.6666666666666666,
              "#ed7953"
             ],
             [
              0.7777777777777778,
              "#fb9f3a"
             ],
             [
              0.8888888888888888,
              "#fdca26"
             ],
             [
              1,
              "#f0f921"
             ]
            ],
            "type": "histogram2d"
           }
          ],
          "histogram2dcontour": [
           {
            "colorbar": {
             "outlinewidth": 0,
             "ticks": ""
            },
            "colorscale": [
             [
              0,
              "#0d0887"
             ],
             [
              0.1111111111111111,
              "#46039f"
             ],
             [
              0.2222222222222222,
              "#7201a8"
             ],
             [
              0.3333333333333333,
              "#9c179e"
             ],
             [
              0.4444444444444444,
              "#bd3786"
             ],
             [
              0.5555555555555556,
              "#d8576b"
             ],
             [
              0.6666666666666666,
              "#ed7953"
             ],
             [
              0.7777777777777778,
              "#fb9f3a"
             ],
             [
              0.8888888888888888,
              "#fdca26"
             ],
             [
              1,
              "#f0f921"
             ]
            ],
            "type": "histogram2dcontour"
           }
          ],
          "mesh3d": [
           {
            "colorbar": {
             "outlinewidth": 0,
             "ticks": ""
            },
            "type": "mesh3d"
           }
          ],
          "parcoords": [
           {
            "line": {
             "colorbar": {
              "outlinewidth": 0,
              "ticks": ""
             }
            },
            "type": "parcoords"
           }
          ],
          "pie": [
           {
            "automargin": true,
            "type": "pie"
           }
          ],
          "scatter": [
           {
            "fillpattern": {
             "fillmode": "overlay",
             "size": 10,
             "solidity": 0.2
            },
            "type": "scatter"
           }
          ],
          "scatter3d": [
           {
            "line": {
             "colorbar": {
              "outlinewidth": 0,
              "ticks": ""
             }
            },
            "marker": {
             "colorbar": {
              "outlinewidth": 0,
              "ticks": ""
             }
            },
            "type": "scatter3d"
           }
          ],
          "scattercarpet": [
           {
            "marker": {
             "colorbar": {
              "outlinewidth": 0,
              "ticks": ""
             }
            },
            "type": "scattercarpet"
           }
          ],
          "scattergeo": [
           {
            "marker": {
             "colorbar": {
              "outlinewidth": 0,
              "ticks": ""
             }
            },
            "type": "scattergeo"
           }
          ],
          "scattergl": [
           {
            "marker": {
             "colorbar": {
              "outlinewidth": 0,
              "ticks": ""
             }
            },
            "type": "scattergl"
           }
          ],
          "scattermapbox": [
           {
            "marker": {
             "colorbar": {
              "outlinewidth": 0,
              "ticks": ""
             }
            },
            "type": "scattermapbox"
           }
          ],
          "scatterpolar": [
           {
            "marker": {
             "colorbar": {
              "outlinewidth": 0,
              "ticks": ""
             }
            },
            "type": "scatterpolar"
           }
          ],
          "scatterpolargl": [
           {
            "marker": {
             "colorbar": {
              "outlinewidth": 0,
              "ticks": ""
             }
            },
            "type": "scatterpolargl"
           }
          ],
          "scatterternary": [
           {
            "marker": {
             "colorbar": {
              "outlinewidth": 0,
              "ticks": ""
             }
            },
            "type": "scatterternary"
           }
          ],
          "surface": [
           {
            "colorbar": {
             "outlinewidth": 0,
             "ticks": ""
            },
            "colorscale": [
             [
              0,
              "#0d0887"
             ],
             [
              0.1111111111111111,
              "#46039f"
             ],
             [
              0.2222222222222222,
              "#7201a8"
             ],
             [
              0.3333333333333333,
              "#9c179e"
             ],
             [
              0.4444444444444444,
              "#bd3786"
             ],
             [
              0.5555555555555556,
              "#d8576b"
             ],
             [
              0.6666666666666666,
              "#ed7953"
             ],
             [
              0.7777777777777778,
              "#fb9f3a"
             ],
             [
              0.8888888888888888,
              "#fdca26"
             ],
             [
              1,
              "#f0f921"
             ]
            ],
            "type": "surface"
           }
          ],
          "table": [
           {
            "cells": {
             "fill": {
              "color": "#EBF0F8"
             },
             "line": {
              "color": "white"
             }
            },
            "header": {
             "fill": {
              "color": "#C8D4E3"
             },
             "line": {
              "color": "white"
             }
            },
            "type": "table"
           }
          ]
         },
         "layout": {
          "annotationdefaults": {
           "arrowcolor": "#2a3f5f",
           "arrowhead": 0,
           "arrowwidth": 1
          },
          "autotypenumbers": "strict",
          "coloraxis": {
           "colorbar": {
            "outlinewidth": 0,
            "ticks": ""
           }
          },
          "colorscale": {
           "diverging": [
            [
             0,
             "#8e0152"
            ],
            [
             0.1,
             "#c51b7d"
            ],
            [
             0.2,
             "#de77ae"
            ],
            [
             0.3,
             "#f1b6da"
            ],
            [
             0.4,
             "#fde0ef"
            ],
            [
             0.5,
             "#f7f7f7"
            ],
            [
             0.6,
             "#e6f5d0"
            ],
            [
             0.7,
             "#b8e186"
            ],
            [
             0.8,
             "#7fbc41"
            ],
            [
             0.9,
             "#4d9221"
            ],
            [
             1,
             "#276419"
            ]
           ],
           "sequential": [
            [
             0,
             "#0d0887"
            ],
            [
             0.1111111111111111,
             "#46039f"
            ],
            [
             0.2222222222222222,
             "#7201a8"
            ],
            [
             0.3333333333333333,
             "#9c179e"
            ],
            [
             0.4444444444444444,
             "#bd3786"
            ],
            [
             0.5555555555555556,
             "#d8576b"
            ],
            [
             0.6666666666666666,
             "#ed7953"
            ],
            [
             0.7777777777777778,
             "#fb9f3a"
            ],
            [
             0.8888888888888888,
             "#fdca26"
            ],
            [
             1,
             "#f0f921"
            ]
           ],
           "sequentialminus": [
            [
             0,
             "#0d0887"
            ],
            [
             0.1111111111111111,
             "#46039f"
            ],
            [
             0.2222222222222222,
             "#7201a8"
            ],
            [
             0.3333333333333333,
             "#9c179e"
            ],
            [
             0.4444444444444444,
             "#bd3786"
            ],
            [
             0.5555555555555556,
             "#d8576b"
            ],
            [
             0.6666666666666666,
             "#ed7953"
            ],
            [
             0.7777777777777778,
             "#fb9f3a"
            ],
            [
             0.8888888888888888,
             "#fdca26"
            ],
            [
             1,
             "#f0f921"
            ]
           ]
          },
          "colorway": [
           "#636efa",
           "#EF553B",
           "#00cc96",
           "#ab63fa",
           "#FFA15A",
           "#19d3f3",
           "#FF6692",
           "#B6E880",
           "#FF97FF",
           "#FECB52"
          ],
          "font": {
           "color": "#2a3f5f"
          },
          "geo": {
           "bgcolor": "white",
           "lakecolor": "white",
           "landcolor": "#E5ECF6",
           "showlakes": true,
           "showland": true,
           "subunitcolor": "white"
          },
          "hoverlabel": {
           "align": "left"
          },
          "hovermode": "closest",
          "mapbox": {
           "style": "light"
          },
          "paper_bgcolor": "white",
          "plot_bgcolor": "#E5ECF6",
          "polar": {
           "angularaxis": {
            "gridcolor": "white",
            "linecolor": "white",
            "ticks": ""
           },
           "bgcolor": "#E5ECF6",
           "radialaxis": {
            "gridcolor": "white",
            "linecolor": "white",
            "ticks": ""
           }
          },
          "scene": {
           "xaxis": {
            "backgroundcolor": "#E5ECF6",
            "gridcolor": "white",
            "gridwidth": 2,
            "linecolor": "white",
            "showbackground": true,
            "ticks": "",
            "zerolinecolor": "white"
           },
           "yaxis": {
            "backgroundcolor": "#E5ECF6",
            "gridcolor": "white",
            "gridwidth": 2,
            "linecolor": "white",
            "showbackground": true,
            "ticks": "",
            "zerolinecolor": "white"
           },
           "zaxis": {
            "backgroundcolor": "#E5ECF6",
            "gridcolor": "white",
            "gridwidth": 2,
            "linecolor": "white",
            "showbackground": true,
            "ticks": "",
            "zerolinecolor": "white"
           }
          },
          "shapedefaults": {
           "line": {
            "color": "#2a3f5f"
           }
          },
          "ternary": {
           "aaxis": {
            "gridcolor": "white",
            "linecolor": "white",
            "ticks": ""
           },
           "baxis": {
            "gridcolor": "white",
            "linecolor": "white",
            "ticks": ""
           },
           "bgcolor": "#E5ECF6",
           "caxis": {
            "gridcolor": "white",
            "linecolor": "white",
            "ticks": ""
           }
          },
          "title": {
           "x": 0.05
          },
          "xaxis": {
           "automargin": true,
           "gridcolor": "white",
           "linecolor": "white",
           "ticks": "",
           "title": {
            "standoff": 15
           },
           "zerolinecolor": "white",
           "zerolinewidth": 2
          },
          "yaxis": {
           "automargin": true,
           "gridcolor": "white",
           "linecolor": "white",
           "ticks": "",
           "title": {
            "standoff": 15
           },
           "zerolinecolor": "white",
           "zerolinewidth": 2
          }
         }
        },
        "title": {
         "text": "Score vs Perceptions of corruption (Trendline)"
        },
        "width": 1000
       }
      }
     },
     "metadata": {},
     "output_type": "display_data"
    }
   ],
   "source": [
    "import plotly.graph_objects as go\n",
    "\n",
    "name_year = range(2015, 2020)\n",
    "\n",
    "for col in cols: # [GDP, social support, healthy life, etc...]\n",
    "    \n",
    "    print(f\"Score VS {col}\")\n",
    "\n",
    "    # calc the correlation between the score column and other columns in the list\n",
    "    correlation = year['Score'].corr(year[col])\n",
    "    print(\"Correlation: \",correlation)\n",
    "\n",
    "    # make the scatter plot\n",
    "    fig = go.Figure()\n",
    "\n",
    "    # year_now = 0\n",
    "    for year, year_now in zip(years, name_year):\n",
    "        \n",
    "        # visualize the relationship between the score column and each columns in the list\n",
    "\n",
    "        fig.update_layout(height=500, width=1000, title_text = f\"Score vs {col}\")\n",
    "        fig.add_trace(\n",
    "            go.Scatter(\n",
    "                x = year[col],\n",
    "                y = year['Score'],\n",
    "                mode='markers',\n",
    "                name = year_now\n",
    "            )\n",
    "        )\n",
    "\n",
    "    fig.show()\n",
    "\n",
    "    # make the regression plot\n",
    "    fig = go.Figure()\n",
    "\n",
    "    for year, year_now in zip(years, name_year):\n",
    "        \n",
    "        # Calculate the regression line\n",
    "        slope, intercept = np.polyfit(year[col], year['Score'], 1)\n",
    "        regression_line = slope * year[col] + intercept\n",
    "\n",
    "        # visualize the relationship between the score column and each columns in the list\n",
    "        fig.update_layout(height=500, width=1000, title_text = f\"Score vs {col} (Trendline)\")\n",
    "        fig.add_trace(\n",
    "            go.Scatter(\n",
    "                x = year[col],\n",
    "                y = regression_line,\n",
    "                mode='lines',\n",
    "                name = year_now\n",
    "            )\n",
    "        )\n",
    "\n",
    "\n",
    "    fig.show()"
   ]
  },
  {
   "cell_type": "markdown",
   "metadata": {},
   "source": [
    "- from previous analysis, we found that:\n",
    "    - the difference of most factor in every year since 2015 to 2019 isn't significant.\n",
    "    - there is a strong positive correlation between score    and:\n",
    "        1. GDP per capita\n",
    "        2. Social support\n",
    "        3. Healthy life expectacy\n",
    "    - there is a moderate positive correlation between score and:\n",
    "        1. Freedom to make life choices\n",
    "    - there is a weak positive correlation between score and:\n",
    "        1. Perceptions of corruption\n",
    "    - there is a very weak positive correlation between score and:\n",
    "        1. Generosity\n",
    "\n",
    "\n",
    "    "
   ]
  },
  {
   "cell_type": "markdown",
   "metadata": {},
   "source": [
    "<b> After exploring the relationship between score column and other columns, we want to explore the contries and regions that have the highest and lowest score. After that we also male the plot between highest & lowest score in GDP per capita, social support, and healthy life expectacy which are have strong correlation with the score to test the consistency.</b>\n"
   ]
  },
  {
   "cell_type": "markdown",
   "metadata": {},
   "source": [
    "Again, we just pick one year(in 2019) to be plotted due to simplicity."
   ]
  },
  {
   "cell_type": "code",
   "execution_count": 215,
   "metadata": {},
   "outputs": [],
   "source": [
    "# list the highest and lowest 10 contries or regions to explore them\n",
    "\n",
    "df = df.sort_values(by=['Score'], ascending=False)\n",
    "highest_df = df.head(10)\n",
    "lowest_df = df.tail(10)"
   ]
  },
  {
   "cell_type": "code",
   "execution_count": 221,
   "metadata": {},
   "outputs": [
    {
     "data": {
      "application/vnd.plotly.v1+json": {
       "config": {
        "plotlyServerURL": "https://plot.ly"
       },
       "data": [
        {
         "mode": "markers+lines",
         "type": "scatter",
         "x": [
          "Finland",
          "Denmark",
          "Norway",
          "Iceland",
          "Netherlands",
          "Switzerland",
          "Sweden",
          "New Zealand",
          "Canada",
          "Austria"
         ],
         "xaxis": "x",
         "y": [
          7.769,
          7.6,
          7.554,
          7.494,
          7.488,
          7.48,
          7.343,
          7.307,
          7.278,
          7.246
         ],
         "yaxis": "y"
        },
        {
         "mode": "markers+lines",
         "type": "scatter",
         "x": [
          "Haiti",
          "Botswana",
          "Syria",
          "Malawi",
          "Yemen",
          "Rwanda",
          "Tanzania",
          "Afghanistan",
          "Central African Republic",
          "South Sudan"
         ],
         "xaxis": "x2",
         "y": [
          3.597,
          3.488,
          3.462,
          3.41,
          3.38,
          3.334,
          3.231,
          3.203,
          3.083,
          2.853
         ],
         "yaxis": "y2"
        }
       ],
       "layout": {
        "annotations": [
         {
          "font": {
           "size": 16
          },
          "showarrow": false,
          "text": "Highest Scores",
          "x": 0.225,
          "xanchor": "center",
          "xref": "paper",
          "y": 1,
          "yanchor": "bottom",
          "yref": "paper"
         },
         {
          "font": {
           "size": 16
          },
          "showarrow": false,
          "text": "Lowest Scores",
          "x": 0.775,
          "xanchor": "center",
          "xref": "paper",
          "y": 1,
          "yanchor": "bottom",
          "yref": "paper"
         }
        ],
        "height": 500,
        "template": {
         "data": {
          "bar": [
           {
            "error_x": {
             "color": "#2a3f5f"
            },
            "error_y": {
             "color": "#2a3f5f"
            },
            "marker": {
             "line": {
              "color": "#E5ECF6",
              "width": 0.5
             },
             "pattern": {
              "fillmode": "overlay",
              "size": 10,
              "solidity": 0.2
             }
            },
            "type": "bar"
           }
          ],
          "barpolar": [
           {
            "marker": {
             "line": {
              "color": "#E5ECF6",
              "width": 0.5
             },
             "pattern": {
              "fillmode": "overlay",
              "size": 10,
              "solidity": 0.2
             }
            },
            "type": "barpolar"
           }
          ],
          "carpet": [
           {
            "aaxis": {
             "endlinecolor": "#2a3f5f",
             "gridcolor": "white",
             "linecolor": "white",
             "minorgridcolor": "white",
             "startlinecolor": "#2a3f5f"
            },
            "baxis": {
             "endlinecolor": "#2a3f5f",
             "gridcolor": "white",
             "linecolor": "white",
             "minorgridcolor": "white",
             "startlinecolor": "#2a3f5f"
            },
            "type": "carpet"
           }
          ],
          "choropleth": [
           {
            "colorbar": {
             "outlinewidth": 0,
             "ticks": ""
            },
            "type": "choropleth"
           }
          ],
          "contour": [
           {
            "colorbar": {
             "outlinewidth": 0,
             "ticks": ""
            },
            "colorscale": [
             [
              0,
              "#0d0887"
             ],
             [
              0.1111111111111111,
              "#46039f"
             ],
             [
              0.2222222222222222,
              "#7201a8"
             ],
             [
              0.3333333333333333,
              "#9c179e"
             ],
             [
              0.4444444444444444,
              "#bd3786"
             ],
             [
              0.5555555555555556,
              "#d8576b"
             ],
             [
              0.6666666666666666,
              "#ed7953"
             ],
             [
              0.7777777777777778,
              "#fb9f3a"
             ],
             [
              0.8888888888888888,
              "#fdca26"
             ],
             [
              1,
              "#f0f921"
             ]
            ],
            "type": "contour"
           }
          ],
          "contourcarpet": [
           {
            "colorbar": {
             "outlinewidth": 0,
             "ticks": ""
            },
            "type": "contourcarpet"
           }
          ],
          "heatmap": [
           {
            "colorbar": {
             "outlinewidth": 0,
             "ticks": ""
            },
            "colorscale": [
             [
              0,
              "#0d0887"
             ],
             [
              0.1111111111111111,
              "#46039f"
             ],
             [
              0.2222222222222222,
              "#7201a8"
             ],
             [
              0.3333333333333333,
              "#9c179e"
             ],
             [
              0.4444444444444444,
              "#bd3786"
             ],
             [
              0.5555555555555556,
              "#d8576b"
             ],
             [
              0.6666666666666666,
              "#ed7953"
             ],
             [
              0.7777777777777778,
              "#fb9f3a"
             ],
             [
              0.8888888888888888,
              "#fdca26"
             ],
             [
              1,
              "#f0f921"
             ]
            ],
            "type": "heatmap"
           }
          ],
          "heatmapgl": [
           {
            "colorbar": {
             "outlinewidth": 0,
             "ticks": ""
            },
            "colorscale": [
             [
              0,
              "#0d0887"
             ],
             [
              0.1111111111111111,
              "#46039f"
             ],
             [
              0.2222222222222222,
              "#7201a8"
             ],
             [
              0.3333333333333333,
              "#9c179e"
             ],
             [
              0.4444444444444444,
              "#bd3786"
             ],
             [
              0.5555555555555556,
              "#d8576b"
             ],
             [
              0.6666666666666666,
              "#ed7953"
             ],
             [
              0.7777777777777778,
              "#fb9f3a"
             ],
             [
              0.8888888888888888,
              "#fdca26"
             ],
             [
              1,
              "#f0f921"
             ]
            ],
            "type": "heatmapgl"
           }
          ],
          "histogram": [
           {
            "marker": {
             "pattern": {
              "fillmode": "overlay",
              "size": 10,
              "solidity": 0.2
             }
            },
            "type": "histogram"
           }
          ],
          "histogram2d": [
           {
            "colorbar": {
             "outlinewidth": 0,
             "ticks": ""
            },
            "colorscale": [
             [
              0,
              "#0d0887"
             ],
             [
              0.1111111111111111,
              "#46039f"
             ],
             [
              0.2222222222222222,
              "#7201a8"
             ],
             [
              0.3333333333333333,
              "#9c179e"
             ],
             [
              0.4444444444444444,
              "#bd3786"
             ],
             [
              0.5555555555555556,
              "#d8576b"
             ],
             [
              0.6666666666666666,
              "#ed7953"
             ],
             [
              0.7777777777777778,
              "#fb9f3a"
             ],
             [
              0.8888888888888888,
              "#fdca26"
             ],
             [
              1,
              "#f0f921"
             ]
            ],
            "type": "histogram2d"
           }
          ],
          "histogram2dcontour": [
           {
            "colorbar": {
             "outlinewidth": 0,
             "ticks": ""
            },
            "colorscale": [
             [
              0,
              "#0d0887"
             ],
             [
              0.1111111111111111,
              "#46039f"
             ],
             [
              0.2222222222222222,
              "#7201a8"
             ],
             [
              0.3333333333333333,
              "#9c179e"
             ],
             [
              0.4444444444444444,
              "#bd3786"
             ],
             [
              0.5555555555555556,
              "#d8576b"
             ],
             [
              0.6666666666666666,
              "#ed7953"
             ],
             [
              0.7777777777777778,
              "#fb9f3a"
             ],
             [
              0.8888888888888888,
              "#fdca26"
             ],
             [
              1,
              "#f0f921"
             ]
            ],
            "type": "histogram2dcontour"
           }
          ],
          "mesh3d": [
           {
            "colorbar": {
             "outlinewidth": 0,
             "ticks": ""
            },
            "type": "mesh3d"
           }
          ],
          "parcoords": [
           {
            "line": {
             "colorbar": {
              "outlinewidth": 0,
              "ticks": ""
             }
            },
            "type": "parcoords"
           }
          ],
          "pie": [
           {
            "automargin": true,
            "type": "pie"
           }
          ],
          "scatter": [
           {
            "fillpattern": {
             "fillmode": "overlay",
             "size": 10,
             "solidity": 0.2
            },
            "type": "scatter"
           }
          ],
          "scatter3d": [
           {
            "line": {
             "colorbar": {
              "outlinewidth": 0,
              "ticks": ""
             }
            },
            "marker": {
             "colorbar": {
              "outlinewidth": 0,
              "ticks": ""
             }
            },
            "type": "scatter3d"
           }
          ],
          "scattercarpet": [
           {
            "marker": {
             "colorbar": {
              "outlinewidth": 0,
              "ticks": ""
             }
            },
            "type": "scattercarpet"
           }
          ],
          "scattergeo": [
           {
            "marker": {
             "colorbar": {
              "outlinewidth": 0,
              "ticks": ""
             }
            },
            "type": "scattergeo"
           }
          ],
          "scattergl": [
           {
            "marker": {
             "colorbar": {
              "outlinewidth": 0,
              "ticks": ""
             }
            },
            "type": "scattergl"
           }
          ],
          "scattermapbox": [
           {
            "marker": {
             "colorbar": {
              "outlinewidth": 0,
              "ticks": ""
             }
            },
            "type": "scattermapbox"
           }
          ],
          "scatterpolar": [
           {
            "marker": {
             "colorbar": {
              "outlinewidth": 0,
              "ticks": ""
             }
            },
            "type": "scatterpolar"
           }
          ],
          "scatterpolargl": [
           {
            "marker": {
             "colorbar": {
              "outlinewidth": 0,
              "ticks": ""
             }
            },
            "type": "scatterpolargl"
           }
          ],
          "scatterternary": [
           {
            "marker": {
             "colorbar": {
              "outlinewidth": 0,
              "ticks": ""
             }
            },
            "type": "scatterternary"
           }
          ],
          "surface": [
           {
            "colorbar": {
             "outlinewidth": 0,
             "ticks": ""
            },
            "colorscale": [
             [
              0,
              "#0d0887"
             ],
             [
              0.1111111111111111,
              "#46039f"
             ],
             [
              0.2222222222222222,
              "#7201a8"
             ],
             [
              0.3333333333333333,
              "#9c179e"
             ],
             [
              0.4444444444444444,
              "#bd3786"
             ],
             [
              0.5555555555555556,
              "#d8576b"
             ],
             [
              0.6666666666666666,
              "#ed7953"
             ],
             [
              0.7777777777777778,
              "#fb9f3a"
             ],
             [
              0.8888888888888888,
              "#fdca26"
             ],
             [
              1,
              "#f0f921"
             ]
            ],
            "type": "surface"
           }
          ],
          "table": [
           {
            "cells": {
             "fill": {
              "color": "#EBF0F8"
             },
             "line": {
              "color": "white"
             }
            },
            "header": {
             "fill": {
              "color": "#C8D4E3"
             },
             "line": {
              "color": "white"
             }
            },
            "type": "table"
           }
          ]
         },
         "layout": {
          "annotationdefaults": {
           "arrowcolor": "#2a3f5f",
           "arrowhead": 0,
           "arrowwidth": 1
          },
          "autotypenumbers": "strict",
          "coloraxis": {
           "colorbar": {
            "outlinewidth": 0,
            "ticks": ""
           }
          },
          "colorscale": {
           "diverging": [
            [
             0,
             "#8e0152"
            ],
            [
             0.1,
             "#c51b7d"
            ],
            [
             0.2,
             "#de77ae"
            ],
            [
             0.3,
             "#f1b6da"
            ],
            [
             0.4,
             "#fde0ef"
            ],
            [
             0.5,
             "#f7f7f7"
            ],
            [
             0.6,
             "#e6f5d0"
            ],
            [
             0.7,
             "#b8e186"
            ],
            [
             0.8,
             "#7fbc41"
            ],
            [
             0.9,
             "#4d9221"
            ],
            [
             1,
             "#276419"
            ]
           ],
           "sequential": [
            [
             0,
             "#0d0887"
            ],
            [
             0.1111111111111111,
             "#46039f"
            ],
            [
             0.2222222222222222,
             "#7201a8"
            ],
            [
             0.3333333333333333,
             "#9c179e"
            ],
            [
             0.4444444444444444,
             "#bd3786"
            ],
            [
             0.5555555555555556,
             "#d8576b"
            ],
            [
             0.6666666666666666,
             "#ed7953"
            ],
            [
             0.7777777777777778,
             "#fb9f3a"
            ],
            [
             0.8888888888888888,
             "#fdca26"
            ],
            [
             1,
             "#f0f921"
            ]
           ],
           "sequentialminus": [
            [
             0,
             "#0d0887"
            ],
            [
             0.1111111111111111,
             "#46039f"
            ],
            [
             0.2222222222222222,
             "#7201a8"
            ],
            [
             0.3333333333333333,
             "#9c179e"
            ],
            [
             0.4444444444444444,
             "#bd3786"
            ],
            [
             0.5555555555555556,
             "#d8576b"
            ],
            [
             0.6666666666666666,
             "#ed7953"
            ],
            [
             0.7777777777777778,
             "#fb9f3a"
            ],
            [
             0.8888888888888888,
             "#fdca26"
            ],
            [
             1,
             "#f0f921"
            ]
           ]
          },
          "colorway": [
           "#636efa",
           "#EF553B",
           "#00cc96",
           "#ab63fa",
           "#FFA15A",
           "#19d3f3",
           "#FF6692",
           "#B6E880",
           "#FF97FF",
           "#FECB52"
          ],
          "font": {
           "color": "#2a3f5f"
          },
          "geo": {
           "bgcolor": "white",
           "lakecolor": "white",
           "landcolor": "#E5ECF6",
           "showlakes": true,
           "showland": true,
           "subunitcolor": "white"
          },
          "hoverlabel": {
           "align": "left"
          },
          "hovermode": "closest",
          "mapbox": {
           "style": "light"
          },
          "paper_bgcolor": "white",
          "plot_bgcolor": "#E5ECF6",
          "polar": {
           "angularaxis": {
            "gridcolor": "white",
            "linecolor": "white",
            "ticks": ""
           },
           "bgcolor": "#E5ECF6",
           "radialaxis": {
            "gridcolor": "white",
            "linecolor": "white",
            "ticks": ""
           }
          },
          "scene": {
           "xaxis": {
            "backgroundcolor": "#E5ECF6",
            "gridcolor": "white",
            "gridwidth": 2,
            "linecolor": "white",
            "showbackground": true,
            "ticks": "",
            "zerolinecolor": "white"
           },
           "yaxis": {
            "backgroundcolor": "#E5ECF6",
            "gridcolor": "white",
            "gridwidth": 2,
            "linecolor": "white",
            "showbackground": true,
            "ticks": "",
            "zerolinecolor": "white"
           },
           "zaxis": {
            "backgroundcolor": "#E5ECF6",
            "gridcolor": "white",
            "gridwidth": 2,
            "linecolor": "white",
            "showbackground": true,
            "ticks": "",
            "zerolinecolor": "white"
           }
          },
          "shapedefaults": {
           "line": {
            "color": "#2a3f5f"
           }
          },
          "ternary": {
           "aaxis": {
            "gridcolor": "white",
            "linecolor": "white",
            "ticks": ""
           },
           "baxis": {
            "gridcolor": "white",
            "linecolor": "white",
            "ticks": ""
           },
           "bgcolor": "#E5ECF6",
           "caxis": {
            "gridcolor": "white",
            "linecolor": "white",
            "ticks": ""
           }
          },
          "title": {
           "x": 0.05
          },
          "xaxis": {
           "automargin": true,
           "gridcolor": "white",
           "linecolor": "white",
           "ticks": "",
           "title": {
            "standoff": 15
           },
           "zerolinecolor": "white",
           "zerolinewidth": 2
          },
          "yaxis": {
           "automargin": true,
           "gridcolor": "white",
           "linecolor": "white",
           "ticks": "",
           "title": {
            "standoff": 15
           },
           "zerolinecolor": "white",
           "zerolinewidth": 2
          }
         }
        },
        "title": {
         "text": "Highest & Lowest Countries Score"
        },
        "width": 1000,
        "xaxis": {
         "anchor": "y",
         "domain": [
          0,
          0.45
         ]
        },
        "xaxis2": {
         "anchor": "y2",
         "domain": [
          0.55,
          1
         ]
        },
        "yaxis": {
         "anchor": "x",
         "domain": [
          0,
          1
         ]
        },
        "yaxis2": {
         "anchor": "x2",
         "domain": [
          0,
          1
         ]
        }
       }
      }
     },
     "metadata": {},
     "output_type": "display_data"
    }
   ],
   "source": [
    "#  visualize the highest & lowest 10 contries or regions scores\n",
    "\n",
    "fig = make_subplots(rows=1, cols=2, subplot_titles=(\"Highest Scores\",\"Lowest Scores\"))\n",
    "\n",
    "fig.add_trace(\n",
    "    go.Scatter(x=highest_df[\"Country or region\"], y=highest_df[\"Score\"], mode='markers+lines'),\n",
    "    row=1, col=1,\n",
    ")\n",
    "\n",
    "fig.add_trace(\n",
    "    go.Scatter(x=lowest_df[\"Country or region\"], y=lowest_df[\"Score\"], mode='markers+lines'),\n",
    "    row=1, col=2,\n",
    ")\n",
    "\n",
    "fig.update_layout(height=500, width=1000, title_text=\"Highest & Lowest Countries Score\")\n",
    "\n",
    "fig.show()\n"
   ]
  },
  {
   "cell_type": "code",
   "execution_count": 222,
   "metadata": {},
   "outputs": [
    {
     "data": {
      "application/vnd.plotly.v1+json": {
       "config": {
        "plotlyServerURL": "https://plot.ly"
       },
       "data": [
        {
         "mode": "markers+lines",
         "type": "scatter",
         "x": [
          "Finland",
          "Denmark",
          "Norway",
          "Iceland",
          "Netherlands",
          "Switzerland",
          "Sweden",
          "New Zealand",
          "Canada",
          "Austria"
         ],
         "xaxis": "x",
         "y": [
          1.34,
          1.383,
          1.488,
          1.38,
          1.396,
          1.452,
          1.387,
          1.303,
          1.365,
          1.376
         ],
         "yaxis": "y"
        },
        {
         "mode": "markers+lines",
         "type": "scatter",
         "x": [
          "Haiti",
          "Botswana",
          "Syria",
          "Malawi",
          "Yemen",
          "Rwanda",
          "Tanzania",
          "Afghanistan",
          "Central African Republic",
          "South Sudan"
         ],
         "xaxis": "x2",
         "y": [
          0.323,
          1.041,
          0.619,
          0.191,
          0.287,
          0.359,
          0.476,
          0.35,
          0.026,
          0.306
         ],
         "yaxis": "y2"
        }
       ],
       "layout": {
        "annotations": [
         {
          "font": {
           "size": 16
          },
          "showarrow": false,
          "text": "Highest Scores",
          "x": 0.225,
          "xanchor": "center",
          "xref": "paper",
          "y": 1,
          "yanchor": "bottom",
          "yref": "paper"
         },
         {
          "font": {
           "size": 16
          },
          "showarrow": false,
          "text": "Lowest Scores",
          "x": 0.775,
          "xanchor": "center",
          "xref": "paper",
          "y": 1,
          "yanchor": "bottom",
          "yref": "paper"
         }
        ],
        "height": 500,
        "template": {
         "data": {
          "bar": [
           {
            "error_x": {
             "color": "#2a3f5f"
            },
            "error_y": {
             "color": "#2a3f5f"
            },
            "marker": {
             "line": {
              "color": "#E5ECF6",
              "width": 0.5
             },
             "pattern": {
              "fillmode": "overlay",
              "size": 10,
              "solidity": 0.2
             }
            },
            "type": "bar"
           }
          ],
          "barpolar": [
           {
            "marker": {
             "line": {
              "color": "#E5ECF6",
              "width": 0.5
             },
             "pattern": {
              "fillmode": "overlay",
              "size": 10,
              "solidity": 0.2
             }
            },
            "type": "barpolar"
           }
          ],
          "carpet": [
           {
            "aaxis": {
             "endlinecolor": "#2a3f5f",
             "gridcolor": "white",
             "linecolor": "white",
             "minorgridcolor": "white",
             "startlinecolor": "#2a3f5f"
            },
            "baxis": {
             "endlinecolor": "#2a3f5f",
             "gridcolor": "white",
             "linecolor": "white",
             "minorgridcolor": "white",
             "startlinecolor": "#2a3f5f"
            },
            "type": "carpet"
           }
          ],
          "choropleth": [
           {
            "colorbar": {
             "outlinewidth": 0,
             "ticks": ""
            },
            "type": "choropleth"
           }
          ],
          "contour": [
           {
            "colorbar": {
             "outlinewidth": 0,
             "ticks": ""
            },
            "colorscale": [
             [
              0,
              "#0d0887"
             ],
             [
              0.1111111111111111,
              "#46039f"
             ],
             [
              0.2222222222222222,
              "#7201a8"
             ],
             [
              0.3333333333333333,
              "#9c179e"
             ],
             [
              0.4444444444444444,
              "#bd3786"
             ],
             [
              0.5555555555555556,
              "#d8576b"
             ],
             [
              0.6666666666666666,
              "#ed7953"
             ],
             [
              0.7777777777777778,
              "#fb9f3a"
             ],
             [
              0.8888888888888888,
              "#fdca26"
             ],
             [
              1,
              "#f0f921"
             ]
            ],
            "type": "contour"
           }
          ],
          "contourcarpet": [
           {
            "colorbar": {
             "outlinewidth": 0,
             "ticks": ""
            },
            "type": "contourcarpet"
           }
          ],
          "heatmap": [
           {
            "colorbar": {
             "outlinewidth": 0,
             "ticks": ""
            },
            "colorscale": [
             [
              0,
              "#0d0887"
             ],
             [
              0.1111111111111111,
              "#46039f"
             ],
             [
              0.2222222222222222,
              "#7201a8"
             ],
             [
              0.3333333333333333,
              "#9c179e"
             ],
             [
              0.4444444444444444,
              "#bd3786"
             ],
             [
              0.5555555555555556,
              "#d8576b"
             ],
             [
              0.6666666666666666,
              "#ed7953"
             ],
             [
              0.7777777777777778,
              "#fb9f3a"
             ],
             [
              0.8888888888888888,
              "#fdca26"
             ],
             [
              1,
              "#f0f921"
             ]
            ],
            "type": "heatmap"
           }
          ],
          "heatmapgl": [
           {
            "colorbar": {
             "outlinewidth": 0,
             "ticks": ""
            },
            "colorscale": [
             [
              0,
              "#0d0887"
             ],
             [
              0.1111111111111111,
              "#46039f"
             ],
             [
              0.2222222222222222,
              "#7201a8"
             ],
             [
              0.3333333333333333,
              "#9c179e"
             ],
             [
              0.4444444444444444,
              "#bd3786"
             ],
             [
              0.5555555555555556,
              "#d8576b"
             ],
             [
              0.6666666666666666,
              "#ed7953"
             ],
             [
              0.7777777777777778,
              "#fb9f3a"
             ],
             [
              0.8888888888888888,
              "#fdca26"
             ],
             [
              1,
              "#f0f921"
             ]
            ],
            "type": "heatmapgl"
           }
          ],
          "histogram": [
           {
            "marker": {
             "pattern": {
              "fillmode": "overlay",
              "size": 10,
              "solidity": 0.2
             }
            },
            "type": "histogram"
           }
          ],
          "histogram2d": [
           {
            "colorbar": {
             "outlinewidth": 0,
             "ticks": ""
            },
            "colorscale": [
             [
              0,
              "#0d0887"
             ],
             [
              0.1111111111111111,
              "#46039f"
             ],
             [
              0.2222222222222222,
              "#7201a8"
             ],
             [
              0.3333333333333333,
              "#9c179e"
             ],
             [
              0.4444444444444444,
              "#bd3786"
             ],
             [
              0.5555555555555556,
              "#d8576b"
             ],
             [
              0.6666666666666666,
              "#ed7953"
             ],
             [
              0.7777777777777778,
              "#fb9f3a"
             ],
             [
              0.8888888888888888,
              "#fdca26"
             ],
             [
              1,
              "#f0f921"
             ]
            ],
            "type": "histogram2d"
           }
          ],
          "histogram2dcontour": [
           {
            "colorbar": {
             "outlinewidth": 0,
             "ticks": ""
            },
            "colorscale": [
             [
              0,
              "#0d0887"
             ],
             [
              0.1111111111111111,
              "#46039f"
             ],
             [
              0.2222222222222222,
              "#7201a8"
             ],
             [
              0.3333333333333333,
              "#9c179e"
             ],
             [
              0.4444444444444444,
              "#bd3786"
             ],
             [
              0.5555555555555556,
              "#d8576b"
             ],
             [
              0.6666666666666666,
              "#ed7953"
             ],
             [
              0.7777777777777778,
              "#fb9f3a"
             ],
             [
              0.8888888888888888,
              "#fdca26"
             ],
             [
              1,
              "#f0f921"
             ]
            ],
            "type": "histogram2dcontour"
           }
          ],
          "mesh3d": [
           {
            "colorbar": {
             "outlinewidth": 0,
             "ticks": ""
            },
            "type": "mesh3d"
           }
          ],
          "parcoords": [
           {
            "line": {
             "colorbar": {
              "outlinewidth": 0,
              "ticks": ""
             }
            },
            "type": "parcoords"
           }
          ],
          "pie": [
           {
            "automargin": true,
            "type": "pie"
           }
          ],
          "scatter": [
           {
            "fillpattern": {
             "fillmode": "overlay",
             "size": 10,
             "solidity": 0.2
            },
            "type": "scatter"
           }
          ],
          "scatter3d": [
           {
            "line": {
             "colorbar": {
              "outlinewidth": 0,
              "ticks": ""
             }
            },
            "marker": {
             "colorbar": {
              "outlinewidth": 0,
              "ticks": ""
             }
            },
            "type": "scatter3d"
           }
          ],
          "scattercarpet": [
           {
            "marker": {
             "colorbar": {
              "outlinewidth": 0,
              "ticks": ""
             }
            },
            "type": "scattercarpet"
           }
          ],
          "scattergeo": [
           {
            "marker": {
             "colorbar": {
              "outlinewidth": 0,
              "ticks": ""
             }
            },
            "type": "scattergeo"
           }
          ],
          "scattergl": [
           {
            "marker": {
             "colorbar": {
              "outlinewidth": 0,
              "ticks": ""
             }
            },
            "type": "scattergl"
           }
          ],
          "scattermapbox": [
           {
            "marker": {
             "colorbar": {
              "outlinewidth": 0,
              "ticks": ""
             }
            },
            "type": "scattermapbox"
           }
          ],
          "scatterpolar": [
           {
            "marker": {
             "colorbar": {
              "outlinewidth": 0,
              "ticks": ""
             }
            },
            "type": "scatterpolar"
           }
          ],
          "scatterpolargl": [
           {
            "marker": {
             "colorbar": {
              "outlinewidth": 0,
              "ticks": ""
             }
            },
            "type": "scatterpolargl"
           }
          ],
          "scatterternary": [
           {
            "marker": {
             "colorbar": {
              "outlinewidth": 0,
              "ticks": ""
             }
            },
            "type": "scatterternary"
           }
          ],
          "surface": [
           {
            "colorbar": {
             "outlinewidth": 0,
             "ticks": ""
            },
            "colorscale": [
             [
              0,
              "#0d0887"
             ],
             [
              0.1111111111111111,
              "#46039f"
             ],
             [
              0.2222222222222222,
              "#7201a8"
             ],
             [
              0.3333333333333333,
              "#9c179e"
             ],
             [
              0.4444444444444444,
              "#bd3786"
             ],
             [
              0.5555555555555556,
              "#d8576b"
             ],
             [
              0.6666666666666666,
              "#ed7953"
             ],
             [
              0.7777777777777778,
              "#fb9f3a"
             ],
             [
              0.8888888888888888,
              "#fdca26"
             ],
             [
              1,
              "#f0f921"
             ]
            ],
            "type": "surface"
           }
          ],
          "table": [
           {
            "cells": {
             "fill": {
              "color": "#EBF0F8"
             },
             "line": {
              "color": "white"
             }
            },
            "header": {
             "fill": {
              "color": "#C8D4E3"
             },
             "line": {
              "color": "white"
             }
            },
            "type": "table"
           }
          ]
         },
         "layout": {
          "annotationdefaults": {
           "arrowcolor": "#2a3f5f",
           "arrowhead": 0,
           "arrowwidth": 1
          },
          "autotypenumbers": "strict",
          "coloraxis": {
           "colorbar": {
            "outlinewidth": 0,
            "ticks": ""
           }
          },
          "colorscale": {
           "diverging": [
            [
             0,
             "#8e0152"
            ],
            [
             0.1,
             "#c51b7d"
            ],
            [
             0.2,
             "#de77ae"
            ],
            [
             0.3,
             "#f1b6da"
            ],
            [
             0.4,
             "#fde0ef"
            ],
            [
             0.5,
             "#f7f7f7"
            ],
            [
             0.6,
             "#e6f5d0"
            ],
            [
             0.7,
             "#b8e186"
            ],
            [
             0.8,
             "#7fbc41"
            ],
            [
             0.9,
             "#4d9221"
            ],
            [
             1,
             "#276419"
            ]
           ],
           "sequential": [
            [
             0,
             "#0d0887"
            ],
            [
             0.1111111111111111,
             "#46039f"
            ],
            [
             0.2222222222222222,
             "#7201a8"
            ],
            [
             0.3333333333333333,
             "#9c179e"
            ],
            [
             0.4444444444444444,
             "#bd3786"
            ],
            [
             0.5555555555555556,
             "#d8576b"
            ],
            [
             0.6666666666666666,
             "#ed7953"
            ],
            [
             0.7777777777777778,
             "#fb9f3a"
            ],
            [
             0.8888888888888888,
             "#fdca26"
            ],
            [
             1,
             "#f0f921"
            ]
           ],
           "sequentialminus": [
            [
             0,
             "#0d0887"
            ],
            [
             0.1111111111111111,
             "#46039f"
            ],
            [
             0.2222222222222222,
             "#7201a8"
            ],
            [
             0.3333333333333333,
             "#9c179e"
            ],
            [
             0.4444444444444444,
             "#bd3786"
            ],
            [
             0.5555555555555556,
             "#d8576b"
            ],
            [
             0.6666666666666666,
             "#ed7953"
            ],
            [
             0.7777777777777778,
             "#fb9f3a"
            ],
            [
             0.8888888888888888,
             "#fdca26"
            ],
            [
             1,
             "#f0f921"
            ]
           ]
          },
          "colorway": [
           "#636efa",
           "#EF553B",
           "#00cc96",
           "#ab63fa",
           "#FFA15A",
           "#19d3f3",
           "#FF6692",
           "#B6E880",
           "#FF97FF",
           "#FECB52"
          ],
          "font": {
           "color": "#2a3f5f"
          },
          "geo": {
           "bgcolor": "white",
           "lakecolor": "white",
           "landcolor": "#E5ECF6",
           "showlakes": true,
           "showland": true,
           "subunitcolor": "white"
          },
          "hoverlabel": {
           "align": "left"
          },
          "hovermode": "closest",
          "mapbox": {
           "style": "light"
          },
          "paper_bgcolor": "white",
          "plot_bgcolor": "#E5ECF6",
          "polar": {
           "angularaxis": {
            "gridcolor": "white",
            "linecolor": "white",
            "ticks": ""
           },
           "bgcolor": "#E5ECF6",
           "radialaxis": {
            "gridcolor": "white",
            "linecolor": "white",
            "ticks": ""
           }
          },
          "scene": {
           "xaxis": {
            "backgroundcolor": "#E5ECF6",
            "gridcolor": "white",
            "gridwidth": 2,
            "linecolor": "white",
            "showbackground": true,
            "ticks": "",
            "zerolinecolor": "white"
           },
           "yaxis": {
            "backgroundcolor": "#E5ECF6",
            "gridcolor": "white",
            "gridwidth": 2,
            "linecolor": "white",
            "showbackground": true,
            "ticks": "",
            "zerolinecolor": "white"
           },
           "zaxis": {
            "backgroundcolor": "#E5ECF6",
            "gridcolor": "white",
            "gridwidth": 2,
            "linecolor": "white",
            "showbackground": true,
            "ticks": "",
            "zerolinecolor": "white"
           }
          },
          "shapedefaults": {
           "line": {
            "color": "#2a3f5f"
           }
          },
          "ternary": {
           "aaxis": {
            "gridcolor": "white",
            "linecolor": "white",
            "ticks": ""
           },
           "baxis": {
            "gridcolor": "white",
            "linecolor": "white",
            "ticks": ""
           },
           "bgcolor": "#E5ECF6",
           "caxis": {
            "gridcolor": "white",
            "linecolor": "white",
            "ticks": ""
           }
          },
          "title": {
           "x": 0.05
          },
          "xaxis": {
           "automargin": true,
           "gridcolor": "white",
           "linecolor": "white",
           "ticks": "",
           "title": {
            "standoff": 15
           },
           "zerolinecolor": "white",
           "zerolinewidth": 2
          },
          "yaxis": {
           "automargin": true,
           "gridcolor": "white",
           "linecolor": "white",
           "ticks": "",
           "title": {
            "standoff": 15
           },
           "zerolinecolor": "white",
           "zerolinewidth": 2
          }
         }
        },
        "title": {
         "text": "Highest  & Lowest Countries GDP Score"
        },
        "width": 1000,
        "xaxis": {
         "anchor": "y",
         "domain": [
          0,
          0.45
         ]
        },
        "xaxis2": {
         "anchor": "y2",
         "domain": [
          0.55,
          1
         ]
        },
        "yaxis": {
         "anchor": "x",
         "domain": [
          0,
          1
         ]
        },
        "yaxis2": {
         "anchor": "x2",
         "domain": [
          0,
          1
         ]
        }
       }
      }
     },
     "metadata": {},
     "output_type": "display_data"
    }
   ],
   "source": [
    "#  visualize the highest & lowest contries GDP per capita\n",
    "\n",
    "fig = make_subplots(rows=1, cols=2, subplot_titles=(\"Highest Scores\",\"Lowest Scores\"))\n",
    "\n",
    "fig.add_trace(\n",
    "    go.Scatter(x=highest_df[\"Country or region\"], y=highest_df[\"GDP per capita\"], mode='markers+lines'),\n",
    "    row=1, col=1,\n",
    ")\n",
    "\n",
    "fig.add_trace(\n",
    "    go.Scatter(x=lowest_df[\"Country or region\"], y=lowest_df[\"GDP per capita\"], mode='markers+lines'),\n",
    "    row=1, col=2,\n",
    ")\n",
    "\n",
    "fig.update_layout(height=500, width=1000, title_text=\"Highest  & Lowest Countries GDP Score\")\n",
    "\n",
    "fig.show()"
   ]
  },
  {
   "cell_type": "code",
   "execution_count": 223,
   "metadata": {},
   "outputs": [
    {
     "data": {
      "application/vnd.plotly.v1+json": {
       "config": {
        "plotlyServerURL": "https://plot.ly"
       },
       "data": [
        {
         "mode": "markers+lines",
         "type": "scatter",
         "x": [
          "Finland",
          "Denmark",
          "Norway",
          "Iceland",
          "Netherlands",
          "Switzerland",
          "Sweden",
          "New Zealand",
          "Canada",
          "Austria"
         ],
         "xaxis": "x",
         "y": [
          1.587,
          1.573,
          1.582,
          1.624,
          1.522,
          1.526,
          1.487,
          1.557,
          1.505,
          1.475
         ],
         "yaxis": "y"
        },
        {
         "mode": "markers+lines",
         "type": "scatter",
         "x": [
          "Haiti",
          "Botswana",
          "Syria",
          "Malawi",
          "Yemen",
          "Rwanda",
          "Tanzania",
          "Afghanistan",
          "Central African Republic",
          "South Sudan"
         ],
         "xaxis": "x2",
         "y": [
          0.688,
          1.145,
          0.378,
          0.56,
          1.163,
          0.711,
          0.885,
          0.517,
          0,
          0.575
         ],
         "yaxis": "y2"
        }
       ],
       "layout": {
        "annotations": [
         {
          "font": {
           "size": 16
          },
          "showarrow": false,
          "text": "Highest Scores",
          "x": 0.225,
          "xanchor": "center",
          "xref": "paper",
          "y": 1,
          "yanchor": "bottom",
          "yref": "paper"
         },
         {
          "font": {
           "size": 16
          },
          "showarrow": false,
          "text": "Lowest Scores",
          "x": 0.775,
          "xanchor": "center",
          "xref": "paper",
          "y": 1,
          "yanchor": "bottom",
          "yref": "paper"
         }
        ],
        "height": 500,
        "template": {
         "data": {
          "bar": [
           {
            "error_x": {
             "color": "#2a3f5f"
            },
            "error_y": {
             "color": "#2a3f5f"
            },
            "marker": {
             "line": {
              "color": "#E5ECF6",
              "width": 0.5
             },
             "pattern": {
              "fillmode": "overlay",
              "size": 10,
              "solidity": 0.2
             }
            },
            "type": "bar"
           }
          ],
          "barpolar": [
           {
            "marker": {
             "line": {
              "color": "#E5ECF6",
              "width": 0.5
             },
             "pattern": {
              "fillmode": "overlay",
              "size": 10,
              "solidity": 0.2
             }
            },
            "type": "barpolar"
           }
          ],
          "carpet": [
           {
            "aaxis": {
             "endlinecolor": "#2a3f5f",
             "gridcolor": "white",
             "linecolor": "white",
             "minorgridcolor": "white",
             "startlinecolor": "#2a3f5f"
            },
            "baxis": {
             "endlinecolor": "#2a3f5f",
             "gridcolor": "white",
             "linecolor": "white",
             "minorgridcolor": "white",
             "startlinecolor": "#2a3f5f"
            },
            "type": "carpet"
           }
          ],
          "choropleth": [
           {
            "colorbar": {
             "outlinewidth": 0,
             "ticks": ""
            },
            "type": "choropleth"
           }
          ],
          "contour": [
           {
            "colorbar": {
             "outlinewidth": 0,
             "ticks": ""
            },
            "colorscale": [
             [
              0,
              "#0d0887"
             ],
             [
              0.1111111111111111,
              "#46039f"
             ],
             [
              0.2222222222222222,
              "#7201a8"
             ],
             [
              0.3333333333333333,
              "#9c179e"
             ],
             [
              0.4444444444444444,
              "#bd3786"
             ],
             [
              0.5555555555555556,
              "#d8576b"
             ],
             [
              0.6666666666666666,
              "#ed7953"
             ],
             [
              0.7777777777777778,
              "#fb9f3a"
             ],
             [
              0.8888888888888888,
              "#fdca26"
             ],
             [
              1,
              "#f0f921"
             ]
            ],
            "type": "contour"
           }
          ],
          "contourcarpet": [
           {
            "colorbar": {
             "outlinewidth": 0,
             "ticks": ""
            },
            "type": "contourcarpet"
           }
          ],
          "heatmap": [
           {
            "colorbar": {
             "outlinewidth": 0,
             "ticks": ""
            },
            "colorscale": [
             [
              0,
              "#0d0887"
             ],
             [
              0.1111111111111111,
              "#46039f"
             ],
             [
              0.2222222222222222,
              "#7201a8"
             ],
             [
              0.3333333333333333,
              "#9c179e"
             ],
             [
              0.4444444444444444,
              "#bd3786"
             ],
             [
              0.5555555555555556,
              "#d8576b"
             ],
             [
              0.6666666666666666,
              "#ed7953"
             ],
             [
              0.7777777777777778,
              "#fb9f3a"
             ],
             [
              0.8888888888888888,
              "#fdca26"
             ],
             [
              1,
              "#f0f921"
             ]
            ],
            "type": "heatmap"
           }
          ],
          "heatmapgl": [
           {
            "colorbar": {
             "outlinewidth": 0,
             "ticks": ""
            },
            "colorscale": [
             [
              0,
              "#0d0887"
             ],
             [
              0.1111111111111111,
              "#46039f"
             ],
             [
              0.2222222222222222,
              "#7201a8"
             ],
             [
              0.3333333333333333,
              "#9c179e"
             ],
             [
              0.4444444444444444,
              "#bd3786"
             ],
             [
              0.5555555555555556,
              "#d8576b"
             ],
             [
              0.6666666666666666,
              "#ed7953"
             ],
             [
              0.7777777777777778,
              "#fb9f3a"
             ],
             [
              0.8888888888888888,
              "#fdca26"
             ],
             [
              1,
              "#f0f921"
             ]
            ],
            "type": "heatmapgl"
           }
          ],
          "histogram": [
           {
            "marker": {
             "pattern": {
              "fillmode": "overlay",
              "size": 10,
              "solidity": 0.2
             }
            },
            "type": "histogram"
           }
          ],
          "histogram2d": [
           {
            "colorbar": {
             "outlinewidth": 0,
             "ticks": ""
            },
            "colorscale": [
             [
              0,
              "#0d0887"
             ],
             [
              0.1111111111111111,
              "#46039f"
             ],
             [
              0.2222222222222222,
              "#7201a8"
             ],
             [
              0.3333333333333333,
              "#9c179e"
             ],
             [
              0.4444444444444444,
              "#bd3786"
             ],
             [
              0.5555555555555556,
              "#d8576b"
             ],
             [
              0.6666666666666666,
              "#ed7953"
             ],
             [
              0.7777777777777778,
              "#fb9f3a"
             ],
             [
              0.8888888888888888,
              "#fdca26"
             ],
             [
              1,
              "#f0f921"
             ]
            ],
            "type": "histogram2d"
           }
          ],
          "histogram2dcontour": [
           {
            "colorbar": {
             "outlinewidth": 0,
             "ticks": ""
            },
            "colorscale": [
             [
              0,
              "#0d0887"
             ],
             [
              0.1111111111111111,
              "#46039f"
             ],
             [
              0.2222222222222222,
              "#7201a8"
             ],
             [
              0.3333333333333333,
              "#9c179e"
             ],
             [
              0.4444444444444444,
              "#bd3786"
             ],
             [
              0.5555555555555556,
              "#d8576b"
             ],
             [
              0.6666666666666666,
              "#ed7953"
             ],
             [
              0.7777777777777778,
              "#fb9f3a"
             ],
             [
              0.8888888888888888,
              "#fdca26"
             ],
             [
              1,
              "#f0f921"
             ]
            ],
            "type": "histogram2dcontour"
           }
          ],
          "mesh3d": [
           {
            "colorbar": {
             "outlinewidth": 0,
             "ticks": ""
            },
            "type": "mesh3d"
           }
          ],
          "parcoords": [
           {
            "line": {
             "colorbar": {
              "outlinewidth": 0,
              "ticks": ""
             }
            },
            "type": "parcoords"
           }
          ],
          "pie": [
           {
            "automargin": true,
            "type": "pie"
           }
          ],
          "scatter": [
           {
            "fillpattern": {
             "fillmode": "overlay",
             "size": 10,
             "solidity": 0.2
            },
            "type": "scatter"
           }
          ],
          "scatter3d": [
           {
            "line": {
             "colorbar": {
              "outlinewidth": 0,
              "ticks": ""
             }
            },
            "marker": {
             "colorbar": {
              "outlinewidth": 0,
              "ticks": ""
             }
            },
            "type": "scatter3d"
           }
          ],
          "scattercarpet": [
           {
            "marker": {
             "colorbar": {
              "outlinewidth": 0,
              "ticks": ""
             }
            },
            "type": "scattercarpet"
           }
          ],
          "scattergeo": [
           {
            "marker": {
             "colorbar": {
              "outlinewidth": 0,
              "ticks": ""
             }
            },
            "type": "scattergeo"
           }
          ],
          "scattergl": [
           {
            "marker": {
             "colorbar": {
              "outlinewidth": 0,
              "ticks": ""
             }
            },
            "type": "scattergl"
           }
          ],
          "scattermapbox": [
           {
            "marker": {
             "colorbar": {
              "outlinewidth": 0,
              "ticks": ""
             }
            },
            "type": "scattermapbox"
           }
          ],
          "scatterpolar": [
           {
            "marker": {
             "colorbar": {
              "outlinewidth": 0,
              "ticks": ""
             }
            },
            "type": "scatterpolar"
           }
          ],
          "scatterpolargl": [
           {
            "marker": {
             "colorbar": {
              "outlinewidth": 0,
              "ticks": ""
             }
            },
            "type": "scatterpolargl"
           }
          ],
          "scatterternary": [
           {
            "marker": {
             "colorbar": {
              "outlinewidth": 0,
              "ticks": ""
             }
            },
            "type": "scatterternary"
           }
          ],
          "surface": [
           {
            "colorbar": {
             "outlinewidth": 0,
             "ticks": ""
            },
            "colorscale": [
             [
              0,
              "#0d0887"
             ],
             [
              0.1111111111111111,
              "#46039f"
             ],
             [
              0.2222222222222222,
              "#7201a8"
             ],
             [
              0.3333333333333333,
              "#9c179e"
             ],
             [
              0.4444444444444444,
              "#bd3786"
             ],
             [
              0.5555555555555556,
              "#d8576b"
             ],
             [
              0.6666666666666666,
              "#ed7953"
             ],
             [
              0.7777777777777778,
              "#fb9f3a"
             ],
             [
              0.8888888888888888,
              "#fdca26"
             ],
             [
              1,
              "#f0f921"
             ]
            ],
            "type": "surface"
           }
          ],
          "table": [
           {
            "cells": {
             "fill": {
              "color": "#EBF0F8"
             },
             "line": {
              "color": "white"
             }
            },
            "header": {
             "fill": {
              "color": "#C8D4E3"
             },
             "line": {
              "color": "white"
             }
            },
            "type": "table"
           }
          ]
         },
         "layout": {
          "annotationdefaults": {
           "arrowcolor": "#2a3f5f",
           "arrowhead": 0,
           "arrowwidth": 1
          },
          "autotypenumbers": "strict",
          "coloraxis": {
           "colorbar": {
            "outlinewidth": 0,
            "ticks": ""
           }
          },
          "colorscale": {
           "diverging": [
            [
             0,
             "#8e0152"
            ],
            [
             0.1,
             "#c51b7d"
            ],
            [
             0.2,
             "#de77ae"
            ],
            [
             0.3,
             "#f1b6da"
            ],
            [
             0.4,
             "#fde0ef"
            ],
            [
             0.5,
             "#f7f7f7"
            ],
            [
             0.6,
             "#e6f5d0"
            ],
            [
             0.7,
             "#b8e186"
            ],
            [
             0.8,
             "#7fbc41"
            ],
            [
             0.9,
             "#4d9221"
            ],
            [
             1,
             "#276419"
            ]
           ],
           "sequential": [
            [
             0,
             "#0d0887"
            ],
            [
             0.1111111111111111,
             "#46039f"
            ],
            [
             0.2222222222222222,
             "#7201a8"
            ],
            [
             0.3333333333333333,
             "#9c179e"
            ],
            [
             0.4444444444444444,
             "#bd3786"
            ],
            [
             0.5555555555555556,
             "#d8576b"
            ],
            [
             0.6666666666666666,
             "#ed7953"
            ],
            [
             0.7777777777777778,
             "#fb9f3a"
            ],
            [
             0.8888888888888888,
             "#fdca26"
            ],
            [
             1,
             "#f0f921"
            ]
           ],
           "sequentialminus": [
            [
             0,
             "#0d0887"
            ],
            [
             0.1111111111111111,
             "#46039f"
            ],
            [
             0.2222222222222222,
             "#7201a8"
            ],
            [
             0.3333333333333333,
             "#9c179e"
            ],
            [
             0.4444444444444444,
             "#bd3786"
            ],
            [
             0.5555555555555556,
             "#d8576b"
            ],
            [
             0.6666666666666666,
             "#ed7953"
            ],
            [
             0.7777777777777778,
             "#fb9f3a"
            ],
            [
             0.8888888888888888,
             "#fdca26"
            ],
            [
             1,
             "#f0f921"
            ]
           ]
          },
          "colorway": [
           "#636efa",
           "#EF553B",
           "#00cc96",
           "#ab63fa",
           "#FFA15A",
           "#19d3f3",
           "#FF6692",
           "#B6E880",
           "#FF97FF",
           "#FECB52"
          ],
          "font": {
           "color": "#2a3f5f"
          },
          "geo": {
           "bgcolor": "white",
           "lakecolor": "white",
           "landcolor": "#E5ECF6",
           "showlakes": true,
           "showland": true,
           "subunitcolor": "white"
          },
          "hoverlabel": {
           "align": "left"
          },
          "hovermode": "closest",
          "mapbox": {
           "style": "light"
          },
          "paper_bgcolor": "white",
          "plot_bgcolor": "#E5ECF6",
          "polar": {
           "angularaxis": {
            "gridcolor": "white",
            "linecolor": "white",
            "ticks": ""
           },
           "bgcolor": "#E5ECF6",
           "radialaxis": {
            "gridcolor": "white",
            "linecolor": "white",
            "ticks": ""
           }
          },
          "scene": {
           "xaxis": {
            "backgroundcolor": "#E5ECF6",
            "gridcolor": "white",
            "gridwidth": 2,
            "linecolor": "white",
            "showbackground": true,
            "ticks": "",
            "zerolinecolor": "white"
           },
           "yaxis": {
            "backgroundcolor": "#E5ECF6",
            "gridcolor": "white",
            "gridwidth": 2,
            "linecolor": "white",
            "showbackground": true,
            "ticks": "",
            "zerolinecolor": "white"
           },
           "zaxis": {
            "backgroundcolor": "#E5ECF6",
            "gridcolor": "white",
            "gridwidth": 2,
            "linecolor": "white",
            "showbackground": true,
            "ticks": "",
            "zerolinecolor": "white"
           }
          },
          "shapedefaults": {
           "line": {
            "color": "#2a3f5f"
           }
          },
          "ternary": {
           "aaxis": {
            "gridcolor": "white",
            "linecolor": "white",
            "ticks": ""
           },
           "baxis": {
            "gridcolor": "white",
            "linecolor": "white",
            "ticks": ""
           },
           "bgcolor": "#E5ECF6",
           "caxis": {
            "gridcolor": "white",
            "linecolor": "white",
            "ticks": ""
           }
          },
          "title": {
           "x": 0.05
          },
          "xaxis": {
           "automargin": true,
           "gridcolor": "white",
           "linecolor": "white",
           "ticks": "",
           "title": {
            "standoff": 15
           },
           "zerolinecolor": "white",
           "zerolinewidth": 2
          },
          "yaxis": {
           "automargin": true,
           "gridcolor": "white",
           "linecolor": "white",
           "ticks": "",
           "title": {
            "standoff": 15
           },
           "zerolinecolor": "white",
           "zerolinewidth": 2
          }
         }
        },
        "title": {
         "text": "Highest & Lowest Countries Social support"
        },
        "width": 1000,
        "xaxis": {
         "anchor": "y",
         "domain": [
          0,
          0.45
         ]
        },
        "xaxis2": {
         "anchor": "y2",
         "domain": [
          0.55,
          1
         ]
        },
        "yaxis": {
         "anchor": "x",
         "domain": [
          0,
          1
         ]
        },
        "yaxis2": {
         "anchor": "x2",
         "domain": [
          0,
          1
         ]
        }
       }
      }
     },
     "metadata": {},
     "output_type": "display_data"
    }
   ],
   "source": [
    "#  visualize thehighest & lowest contries Social support\n",
    "\n",
    "fig = make_subplots(rows=1, cols=2, subplot_titles=(\"Highest Scores\",\"Lowest Scores\"))\n",
    "\n",
    "fig.add_trace(\n",
    "    go.Scatter(x=highest_df[\"Country or region\"], y=highest_df[\"Social support\"], mode='markers+lines'),\n",
    "    row=1, col=1,\n",
    ")\n",
    "\n",
    "fig.add_trace(\n",
    "    go.Scatter(x=lowest_df[\"Country or region\"], y=lowest_df[\"Social support\"], mode='markers+lines'),\n",
    "    row=1, col=2,\n",
    ")\n",
    "\n",
    "fig.update_layout(height=500, width=1000, title_text=\"Highest & Lowest Countries Social support\")\n",
    "\n",
    "fig.show()"
   ]
  },
  {
   "cell_type": "code",
   "execution_count": 224,
   "metadata": {},
   "outputs": [
    {
     "data": {
      "application/vnd.plotly.v1+json": {
       "config": {
        "plotlyServerURL": "https://plot.ly"
       },
       "data": [
        {
         "mode": "markers+lines",
         "type": "scatter",
         "x": [
          "Finland",
          "Denmark",
          "Norway",
          "Iceland",
          "Netherlands",
          "Switzerland",
          "Sweden",
          "New Zealand",
          "Canada",
          "Austria"
         ],
         "xaxis": "x",
         "y": [
          0.986,
          0.996,
          1.028,
          1.026,
          0.999,
          1.052,
          1.009,
          1.026,
          1.039,
          1.016
         ],
         "yaxis": "y"
        },
        {
         "mode": "markers+lines",
         "type": "scatter",
         "x": [
          "Haiti",
          "Botswana",
          "Syria",
          "Malawi",
          "Yemen",
          "Rwanda",
          "Tanzania",
          "Afghanistan",
          "Central African Republic",
          "South Sudan"
         ],
         "xaxis": "x2",
         "y": [
          0.449,
          0.538,
          0.44,
          0.495,
          0.463,
          0.614,
          0.499,
          0.361,
          0.105,
          0.295
         ],
         "yaxis": "y2"
        }
       ],
       "layout": {
        "annotations": [
         {
          "font": {
           "size": 16
          },
          "showarrow": false,
          "text": "Highest Scores",
          "x": 0.225,
          "xanchor": "center",
          "xref": "paper",
          "y": 1,
          "yanchor": "bottom",
          "yref": "paper"
         },
         {
          "font": {
           "size": 16
          },
          "showarrow": false,
          "text": "Lowest Scores",
          "x": 0.775,
          "xanchor": "center",
          "xref": "paper",
          "y": 1,
          "yanchor": "bottom",
          "yref": "paper"
         }
        ],
        "height": 500,
        "template": {
         "data": {
          "bar": [
           {
            "error_x": {
             "color": "#2a3f5f"
            },
            "error_y": {
             "color": "#2a3f5f"
            },
            "marker": {
             "line": {
              "color": "#E5ECF6",
              "width": 0.5
             },
             "pattern": {
              "fillmode": "overlay",
              "size": 10,
              "solidity": 0.2
             }
            },
            "type": "bar"
           }
          ],
          "barpolar": [
           {
            "marker": {
             "line": {
              "color": "#E5ECF6",
              "width": 0.5
             },
             "pattern": {
              "fillmode": "overlay",
              "size": 10,
              "solidity": 0.2
             }
            },
            "type": "barpolar"
           }
          ],
          "carpet": [
           {
            "aaxis": {
             "endlinecolor": "#2a3f5f",
             "gridcolor": "white",
             "linecolor": "white",
             "minorgridcolor": "white",
             "startlinecolor": "#2a3f5f"
            },
            "baxis": {
             "endlinecolor": "#2a3f5f",
             "gridcolor": "white",
             "linecolor": "white",
             "minorgridcolor": "white",
             "startlinecolor": "#2a3f5f"
            },
            "type": "carpet"
           }
          ],
          "choropleth": [
           {
            "colorbar": {
             "outlinewidth": 0,
             "ticks": ""
            },
            "type": "choropleth"
           }
          ],
          "contour": [
           {
            "colorbar": {
             "outlinewidth": 0,
             "ticks": ""
            },
            "colorscale": [
             [
              0,
              "#0d0887"
             ],
             [
              0.1111111111111111,
              "#46039f"
             ],
             [
              0.2222222222222222,
              "#7201a8"
             ],
             [
              0.3333333333333333,
              "#9c179e"
             ],
             [
              0.4444444444444444,
              "#bd3786"
             ],
             [
              0.5555555555555556,
              "#d8576b"
             ],
             [
              0.6666666666666666,
              "#ed7953"
             ],
             [
              0.7777777777777778,
              "#fb9f3a"
             ],
             [
              0.8888888888888888,
              "#fdca26"
             ],
             [
              1,
              "#f0f921"
             ]
            ],
            "type": "contour"
           }
          ],
          "contourcarpet": [
           {
            "colorbar": {
             "outlinewidth": 0,
             "ticks": ""
            },
            "type": "contourcarpet"
           }
          ],
          "heatmap": [
           {
            "colorbar": {
             "outlinewidth": 0,
             "ticks": ""
            },
            "colorscale": [
             [
              0,
              "#0d0887"
             ],
             [
              0.1111111111111111,
              "#46039f"
             ],
             [
              0.2222222222222222,
              "#7201a8"
             ],
             [
              0.3333333333333333,
              "#9c179e"
             ],
             [
              0.4444444444444444,
              "#bd3786"
             ],
             [
              0.5555555555555556,
              "#d8576b"
             ],
             [
              0.6666666666666666,
              "#ed7953"
             ],
             [
              0.7777777777777778,
              "#fb9f3a"
             ],
             [
              0.8888888888888888,
              "#fdca26"
             ],
             [
              1,
              "#f0f921"
             ]
            ],
            "type": "heatmap"
           }
          ],
          "heatmapgl": [
           {
            "colorbar": {
             "outlinewidth": 0,
             "ticks": ""
            },
            "colorscale": [
             [
              0,
              "#0d0887"
             ],
             [
              0.1111111111111111,
              "#46039f"
             ],
             [
              0.2222222222222222,
              "#7201a8"
             ],
             [
              0.3333333333333333,
              "#9c179e"
             ],
             [
              0.4444444444444444,
              "#bd3786"
             ],
             [
              0.5555555555555556,
              "#d8576b"
             ],
             [
              0.6666666666666666,
              "#ed7953"
             ],
             [
              0.7777777777777778,
              "#fb9f3a"
             ],
             [
              0.8888888888888888,
              "#fdca26"
             ],
             [
              1,
              "#f0f921"
             ]
            ],
            "type": "heatmapgl"
           }
          ],
          "histogram": [
           {
            "marker": {
             "pattern": {
              "fillmode": "overlay",
              "size": 10,
              "solidity": 0.2
             }
            },
            "type": "histogram"
           }
          ],
          "histogram2d": [
           {
            "colorbar": {
             "outlinewidth": 0,
             "ticks": ""
            },
            "colorscale": [
             [
              0,
              "#0d0887"
             ],
             [
              0.1111111111111111,
              "#46039f"
             ],
             [
              0.2222222222222222,
              "#7201a8"
             ],
             [
              0.3333333333333333,
              "#9c179e"
             ],
             [
              0.4444444444444444,
              "#bd3786"
             ],
             [
              0.5555555555555556,
              "#d8576b"
             ],
             [
              0.6666666666666666,
              "#ed7953"
             ],
             [
              0.7777777777777778,
              "#fb9f3a"
             ],
             [
              0.8888888888888888,
              "#fdca26"
             ],
             [
              1,
              "#f0f921"
             ]
            ],
            "type": "histogram2d"
           }
          ],
          "histogram2dcontour": [
           {
            "colorbar": {
             "outlinewidth": 0,
             "ticks": ""
            },
            "colorscale": [
             [
              0,
              "#0d0887"
             ],
             [
              0.1111111111111111,
              "#46039f"
             ],
             [
              0.2222222222222222,
              "#7201a8"
             ],
             [
              0.3333333333333333,
              "#9c179e"
             ],
             [
              0.4444444444444444,
              "#bd3786"
             ],
             [
              0.5555555555555556,
              "#d8576b"
             ],
             [
              0.6666666666666666,
              "#ed7953"
             ],
             [
              0.7777777777777778,
              "#fb9f3a"
             ],
             [
              0.8888888888888888,
              "#fdca26"
             ],
             [
              1,
              "#f0f921"
             ]
            ],
            "type": "histogram2dcontour"
           }
          ],
          "mesh3d": [
           {
            "colorbar": {
             "outlinewidth": 0,
             "ticks": ""
            },
            "type": "mesh3d"
           }
          ],
          "parcoords": [
           {
            "line": {
             "colorbar": {
              "outlinewidth": 0,
              "ticks": ""
             }
            },
            "type": "parcoords"
           }
          ],
          "pie": [
           {
            "automargin": true,
            "type": "pie"
           }
          ],
          "scatter": [
           {
            "fillpattern": {
             "fillmode": "overlay",
             "size": 10,
             "solidity": 0.2
            },
            "type": "scatter"
           }
          ],
          "scatter3d": [
           {
            "line": {
             "colorbar": {
              "outlinewidth": 0,
              "ticks": ""
             }
            },
            "marker": {
             "colorbar": {
              "outlinewidth": 0,
              "ticks": ""
             }
            },
            "type": "scatter3d"
           }
          ],
          "scattercarpet": [
           {
            "marker": {
             "colorbar": {
              "outlinewidth": 0,
              "ticks": ""
             }
            },
            "type": "scattercarpet"
           }
          ],
          "scattergeo": [
           {
            "marker": {
             "colorbar": {
              "outlinewidth": 0,
              "ticks": ""
             }
            },
            "type": "scattergeo"
           }
          ],
          "scattergl": [
           {
            "marker": {
             "colorbar": {
              "outlinewidth": 0,
              "ticks": ""
             }
            },
            "type": "scattergl"
           }
          ],
          "scattermapbox": [
           {
            "marker": {
             "colorbar": {
              "outlinewidth": 0,
              "ticks": ""
             }
            },
            "type": "scattermapbox"
           }
          ],
          "scatterpolar": [
           {
            "marker": {
             "colorbar": {
              "outlinewidth": 0,
              "ticks": ""
             }
            },
            "type": "scatterpolar"
           }
          ],
          "scatterpolargl": [
           {
            "marker": {
             "colorbar": {
              "outlinewidth": 0,
              "ticks": ""
             }
            },
            "type": "scatterpolargl"
           }
          ],
          "scatterternary": [
           {
            "marker": {
             "colorbar": {
              "outlinewidth": 0,
              "ticks": ""
             }
            },
            "type": "scatterternary"
           }
          ],
          "surface": [
           {
            "colorbar": {
             "outlinewidth": 0,
             "ticks": ""
            },
            "colorscale": [
             [
              0,
              "#0d0887"
             ],
             [
              0.1111111111111111,
              "#46039f"
             ],
             [
              0.2222222222222222,
              "#7201a8"
             ],
             [
              0.3333333333333333,
              "#9c179e"
             ],
             [
              0.4444444444444444,
              "#bd3786"
             ],
             [
              0.5555555555555556,
              "#d8576b"
             ],
             [
              0.6666666666666666,
              "#ed7953"
             ],
             [
              0.7777777777777778,
              "#fb9f3a"
             ],
             [
              0.8888888888888888,
              "#fdca26"
             ],
             [
              1,
              "#f0f921"
             ]
            ],
            "type": "surface"
           }
          ],
          "table": [
           {
            "cells": {
             "fill": {
              "color": "#EBF0F8"
             },
             "line": {
              "color": "white"
             }
            },
            "header": {
             "fill": {
              "color": "#C8D4E3"
             },
             "line": {
              "color": "white"
             }
            },
            "type": "table"
           }
          ]
         },
         "layout": {
          "annotationdefaults": {
           "arrowcolor": "#2a3f5f",
           "arrowhead": 0,
           "arrowwidth": 1
          },
          "autotypenumbers": "strict",
          "coloraxis": {
           "colorbar": {
            "outlinewidth": 0,
            "ticks": ""
           }
          },
          "colorscale": {
           "diverging": [
            [
             0,
             "#8e0152"
            ],
            [
             0.1,
             "#c51b7d"
            ],
            [
             0.2,
             "#de77ae"
            ],
            [
             0.3,
             "#f1b6da"
            ],
            [
             0.4,
             "#fde0ef"
            ],
            [
             0.5,
             "#f7f7f7"
            ],
            [
             0.6,
             "#e6f5d0"
            ],
            [
             0.7,
             "#b8e186"
            ],
            [
             0.8,
             "#7fbc41"
            ],
            [
             0.9,
             "#4d9221"
            ],
            [
             1,
             "#276419"
            ]
           ],
           "sequential": [
            [
             0,
             "#0d0887"
            ],
            [
             0.1111111111111111,
             "#46039f"
            ],
            [
             0.2222222222222222,
             "#7201a8"
            ],
            [
             0.3333333333333333,
             "#9c179e"
            ],
            [
             0.4444444444444444,
             "#bd3786"
            ],
            [
             0.5555555555555556,
             "#d8576b"
            ],
            [
             0.6666666666666666,
             "#ed7953"
            ],
            [
             0.7777777777777778,
             "#fb9f3a"
            ],
            [
             0.8888888888888888,
             "#fdca26"
            ],
            [
             1,
             "#f0f921"
            ]
           ],
           "sequentialminus": [
            [
             0,
             "#0d0887"
            ],
            [
             0.1111111111111111,
             "#46039f"
            ],
            [
             0.2222222222222222,
             "#7201a8"
            ],
            [
             0.3333333333333333,
             "#9c179e"
            ],
            [
             0.4444444444444444,
             "#bd3786"
            ],
            [
             0.5555555555555556,
             "#d8576b"
            ],
            [
             0.6666666666666666,
             "#ed7953"
            ],
            [
             0.7777777777777778,
             "#fb9f3a"
            ],
            [
             0.8888888888888888,
             "#fdca26"
            ],
            [
             1,
             "#f0f921"
            ]
           ]
          },
          "colorway": [
           "#636efa",
           "#EF553B",
           "#00cc96",
           "#ab63fa",
           "#FFA15A",
           "#19d3f3",
           "#FF6692",
           "#B6E880",
           "#FF97FF",
           "#FECB52"
          ],
          "font": {
           "color": "#2a3f5f"
          },
          "geo": {
           "bgcolor": "white",
           "lakecolor": "white",
           "landcolor": "#E5ECF6",
           "showlakes": true,
           "showland": true,
           "subunitcolor": "white"
          },
          "hoverlabel": {
           "align": "left"
          },
          "hovermode": "closest",
          "mapbox": {
           "style": "light"
          },
          "paper_bgcolor": "white",
          "plot_bgcolor": "#E5ECF6",
          "polar": {
           "angularaxis": {
            "gridcolor": "white",
            "linecolor": "white",
            "ticks": ""
           },
           "bgcolor": "#E5ECF6",
           "radialaxis": {
            "gridcolor": "white",
            "linecolor": "white",
            "ticks": ""
           }
          },
          "scene": {
           "xaxis": {
            "backgroundcolor": "#E5ECF6",
            "gridcolor": "white",
            "gridwidth": 2,
            "linecolor": "white",
            "showbackground": true,
            "ticks": "",
            "zerolinecolor": "white"
           },
           "yaxis": {
            "backgroundcolor": "#E5ECF6",
            "gridcolor": "white",
            "gridwidth": 2,
            "linecolor": "white",
            "showbackground": true,
            "ticks": "",
            "zerolinecolor": "white"
           },
           "zaxis": {
            "backgroundcolor": "#E5ECF6",
            "gridcolor": "white",
            "gridwidth": 2,
            "linecolor": "white",
            "showbackground": true,
            "ticks": "",
            "zerolinecolor": "white"
           }
          },
          "shapedefaults": {
           "line": {
            "color": "#2a3f5f"
           }
          },
          "ternary": {
           "aaxis": {
            "gridcolor": "white",
            "linecolor": "white",
            "ticks": ""
           },
           "baxis": {
            "gridcolor": "white",
            "linecolor": "white",
            "ticks": ""
           },
           "bgcolor": "#E5ECF6",
           "caxis": {
            "gridcolor": "white",
            "linecolor": "white",
            "ticks": ""
           }
          },
          "title": {
           "x": 0.05
          },
          "xaxis": {
           "automargin": true,
           "gridcolor": "white",
           "linecolor": "white",
           "ticks": "",
           "title": {
            "standoff": 15
           },
           "zerolinecolor": "white",
           "zerolinewidth": 2
          },
          "yaxis": {
           "automargin": true,
           "gridcolor": "white",
           "linecolor": "white",
           "ticks": "",
           "title": {
            "standoff": 15
           },
           "zerolinecolor": "white",
           "zerolinewidth": 2
          }
         }
        },
        "title": {
         "text": "Highest & Lowest Countries Healthy life expectancy"
        },
        "width": 1000,
        "xaxis": {
         "anchor": "y",
         "domain": [
          0,
          0.45
         ]
        },
        "xaxis2": {
         "anchor": "y2",
         "domain": [
          0.55,
          1
         ]
        },
        "yaxis": {
         "anchor": "x",
         "domain": [
          0,
          1
         ]
        },
        "yaxis2": {
         "anchor": "x2",
         "domain": [
          0,
          1
         ]
        }
       }
      }
     },
     "metadata": {},
     "output_type": "display_data"
    }
   ],
   "source": [
    "#  visualize thehighest & lowest contries Healthy life expectancy\n",
    "\n",
    "fig = make_subplots(rows=1, cols=2, subplot_titles=(\"Highest Scores\",\"Lowest Scores\"))\n",
    "\n",
    "fig.add_trace(\n",
    "    go.Scatter(x=highest_df[\"Country or region\"], y=highest_df[\"Healthy life expectancy\"], mode='markers+lines'),\n",
    "    row=1, col=1,\n",
    ")\n",
    "\n",
    "fig.add_trace(\n",
    "    go.Scatter(x=lowest_df[\"Country or region\"], y=lowest_df[\"Healthy life expectancy\"], mode='markers+lines'),\n",
    "    row=1, col=2,\n",
    ")\n",
    "\n",
    "fig.update_layout(height=500, width=1000, title_text=\"Highest & Lowest Countries Healthy life expectancy\")\n",
    "\n",
    "fig.show()"
   ]
  },
  {
   "cell_type": "markdown",
   "metadata": {},
   "source": [
    "As we see the top 10 highest score always has the higher point in GDP per capita, social support, and health life expectacy which is coungruent with the correlation data before."
   ]
  }
 ],
 "metadata": {
  "kernelspec": {
   "display_name": "Python 3",
   "language": "python",
   "name": "python3"
  },
  "language_info": {
   "codemirror_mode": {
    "name": "ipython",
    "version": 3
   },
   "file_extension": ".py",
   "mimetype": "text/x-python",
   "name": "python",
   "nbconvert_exporter": "python",
   "pygments_lexer": "ipython3",
   "version": "3.11.2"
  }
 },
 "nbformat": 4,
 "nbformat_minor": 2
}
