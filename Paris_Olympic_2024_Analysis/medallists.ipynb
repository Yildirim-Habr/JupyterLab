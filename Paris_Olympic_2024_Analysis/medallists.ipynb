{
 "cells": [
  {
   "cell_type": "markdown",
   "metadata": {},
   "source": [
    "First, we import the package needed."
   ]
  },
  {
   "cell_type": "code",
   "execution_count": 28,
   "metadata": {},
   "outputs": [],
   "source": [
    "import numpy as np\n",
    "import pandas as pd\n",
    "import matplotlib.pyplot as plt\n",
    "import seaborn as sns\n",
    "%matplotlib inline \n",
    "\n",
    "from datetime import datetime #is to convert the date based data to be easier to procceed \n",
    "\n",
    "import warnings #import warning is to ignoring any warning to keep the esthetic.\n",
    "warnings.simplefilter(\"ignore\")"
   ]
  },
  {
   "cell_type": "markdown",
   "metadata": {},
   "source": [
    "Now, importing the dataframe"
   ]
  },
  {
   "cell_type": "code",
   "execution_count": 16,
   "metadata": {},
   "outputs": [
    {
     "data": {
      "text/html": [
       "<div>\n",
       "<style scoped>\n",
       "    .dataframe tbody tr th:only-of-type {\n",
       "        vertical-align: middle;\n",
       "    }\n",
       "\n",
       "    .dataframe tbody tr th {\n",
       "        vertical-align: top;\n",
       "    }\n",
       "\n",
       "    .dataframe thead th {\n",
       "        text-align: right;\n",
       "    }\n",
       "</style>\n",
       "<table border=\"1\" class=\"dataframe\">\n",
       "  <thead>\n",
       "    <tr style=\"text-align: right;\">\n",
       "      <th></th>\n",
       "      <th>medal_date</th>\n",
       "      <th>medal_type</th>\n",
       "      <th>medal_code</th>\n",
       "      <th>name</th>\n",
       "      <th>gender</th>\n",
       "      <th>country</th>\n",
       "      <th>country_code</th>\n",
       "      <th>nationality</th>\n",
       "      <th>team</th>\n",
       "      <th>team_gender</th>\n",
       "      <th>discipline</th>\n",
       "      <th>event</th>\n",
       "      <th>event_type</th>\n",
       "      <th>url_event</th>\n",
       "      <th>birth_date</th>\n",
       "      <th>code</th>\n",
       "    </tr>\n",
       "  </thead>\n",
       "  <tbody>\n",
       "    <tr>\n",
       "      <th>0</th>\n",
       "      <td>2024-07-27</td>\n",
       "      <td>Gold Medal</td>\n",
       "      <td>1</td>\n",
       "      <td>EVENEPOEL Remco</td>\n",
       "      <td>Male</td>\n",
       "      <td>Belgium</td>\n",
       "      <td>BEL</td>\n",
       "      <td>Belgium</td>\n",
       "      <td>NaN</td>\n",
       "      <td>NaN</td>\n",
       "      <td>Cycling Road</td>\n",
       "      <td>Men's Individual Time Trial</td>\n",
       "      <td>ATH</td>\n",
       "      <td>/en/paris-2024/results/cycling-road/men-s-indi...</td>\n",
       "      <td>2000-01-25</td>\n",
       "      <td>1903136</td>\n",
       "    </tr>\n",
       "    <tr>\n",
       "      <th>1</th>\n",
       "      <td>2024-07-27</td>\n",
       "      <td>Silver Medal</td>\n",
       "      <td>2</td>\n",
       "      <td>GANNA Filippo</td>\n",
       "      <td>Male</td>\n",
       "      <td>Italy</td>\n",
       "      <td>ITA</td>\n",
       "      <td>Italy</td>\n",
       "      <td>NaN</td>\n",
       "      <td>NaN</td>\n",
       "      <td>Cycling Road</td>\n",
       "      <td>Men's Individual Time Trial</td>\n",
       "      <td>ATH</td>\n",
       "      <td>/en/paris-2024/results/cycling-road/men-s-indi...</td>\n",
       "      <td>1996-07-25</td>\n",
       "      <td>1923520</td>\n",
       "    </tr>\n",
       "    <tr>\n",
       "      <th>2</th>\n",
       "      <td>2024-07-27</td>\n",
       "      <td>Bronze Medal</td>\n",
       "      <td>3</td>\n",
       "      <td>van AERT Wout</td>\n",
       "      <td>Male</td>\n",
       "      <td>Belgium</td>\n",
       "      <td>BEL</td>\n",
       "      <td>Belgium</td>\n",
       "      <td>NaN</td>\n",
       "      <td>NaN</td>\n",
       "      <td>Cycling Road</td>\n",
       "      <td>Men's Individual Time Trial</td>\n",
       "      <td>ATH</td>\n",
       "      <td>/en/paris-2024/results/cycling-road/men-s-indi...</td>\n",
       "      <td>1994-09-15</td>\n",
       "      <td>1903147</td>\n",
       "    </tr>\n",
       "    <tr>\n",
       "      <th>3</th>\n",
       "      <td>2024-07-27</td>\n",
       "      <td>Gold Medal</td>\n",
       "      <td>1</td>\n",
       "      <td>BROWN Grace</td>\n",
       "      <td>Female</td>\n",
       "      <td>Australia</td>\n",
       "      <td>AUS</td>\n",
       "      <td>Australia</td>\n",
       "      <td>NaN</td>\n",
       "      <td>NaN</td>\n",
       "      <td>Cycling Road</td>\n",
       "      <td>Women's Individual Time Trial</td>\n",
       "      <td>ATH</td>\n",
       "      <td>/en/paris-2024/results/cycling-road/women-s-in...</td>\n",
       "      <td>1992-07-07</td>\n",
       "      <td>1940173</td>\n",
       "    </tr>\n",
       "    <tr>\n",
       "      <th>4</th>\n",
       "      <td>2024-07-27</td>\n",
       "      <td>Silver Medal</td>\n",
       "      <td>2</td>\n",
       "      <td>HENDERSON Anna</td>\n",
       "      <td>Female</td>\n",
       "      <td>Great Britain</td>\n",
       "      <td>GBR</td>\n",
       "      <td>Great Britain</td>\n",
       "      <td>NaN</td>\n",
       "      <td>NaN</td>\n",
       "      <td>Cycling Road</td>\n",
       "      <td>Women's Individual Time Trial</td>\n",
       "      <td>ATH</td>\n",
       "      <td>/en/paris-2024/results/cycling-road/women-s-in...</td>\n",
       "      <td>1998-11-14</td>\n",
       "      <td>1912525</td>\n",
       "    </tr>\n",
       "    <tr>\n",
       "      <th>...</th>\n",
       "      <td>...</td>\n",
       "      <td>...</td>\n",
       "      <td>...</td>\n",
       "      <td>...</td>\n",
       "      <td>...</td>\n",
       "      <td>...</td>\n",
       "      <td>...</td>\n",
       "      <td>...</td>\n",
       "      <td>...</td>\n",
       "      <td>...</td>\n",
       "      <td>...</td>\n",
       "      <td>...</td>\n",
       "      <td>...</td>\n",
       "      <td>...</td>\n",
       "      <td>...</td>\n",
       "      <td>...</td>\n",
       "    </tr>\n",
       "    <tr>\n",
       "      <th>2266</th>\n",
       "      <td>2024-08-11</td>\n",
       "      <td>Bronze Medal</td>\n",
       "      <td>3</td>\n",
       "      <td>BOWEN Alex</td>\n",
       "      <td>Male</td>\n",
       "      <td>United States</td>\n",
       "      <td>USA</td>\n",
       "      <td>United States</td>\n",
       "      <td>United States of America</td>\n",
       "      <td>M</td>\n",
       "      <td>Water Polo</td>\n",
       "      <td>Men</td>\n",
       "      <td>HTEAM</td>\n",
       "      <td>/en/paris-2024/results/water-polo/men/fnl-0002...</td>\n",
       "      <td>1993-09-04</td>\n",
       "      <td>1908350</td>\n",
       "    </tr>\n",
       "    <tr>\n",
       "      <th>2267</th>\n",
       "      <td>2024-08-11</td>\n",
       "      <td>Bronze Medal</td>\n",
       "      <td>3</td>\n",
       "      <td>DODD Chase William</td>\n",
       "      <td>Male</td>\n",
       "      <td>United States</td>\n",
       "      <td>USA</td>\n",
       "      <td>United States</td>\n",
       "      <td>United States of America</td>\n",
       "      <td>M</td>\n",
       "      <td>Water Polo</td>\n",
       "      <td>Men</td>\n",
       "      <td>HTEAM</td>\n",
       "      <td>/en/paris-2024/results/water-polo/men/fnl-0002...</td>\n",
       "      <td>2003-04-05</td>\n",
       "      <td>1908354</td>\n",
       "    </tr>\n",
       "    <tr>\n",
       "      <th>2268</th>\n",
       "      <td>2024-08-11</td>\n",
       "      <td>Bronze Medal</td>\n",
       "      <td>3</td>\n",
       "      <td>DODD Ryder</td>\n",
       "      <td>Male</td>\n",
       "      <td>United States</td>\n",
       "      <td>USA</td>\n",
       "      <td>United States</td>\n",
       "      <td>United States of America</td>\n",
       "      <td>M</td>\n",
       "      <td>Water Polo</td>\n",
       "      <td>Men</td>\n",
       "      <td>HTEAM</td>\n",
       "      <td>/en/paris-2024/results/water-polo/men/fnl-0002...</td>\n",
       "      <td>2006-01-19</td>\n",
       "      <td>1908355</td>\n",
       "    </tr>\n",
       "    <tr>\n",
       "      <th>2269</th>\n",
       "      <td>2024-08-11</td>\n",
       "      <td>Bronze Medal</td>\n",
       "      <td>3</td>\n",
       "      <td>IRVING Max</td>\n",
       "      <td>Male</td>\n",
       "      <td>United States</td>\n",
       "      <td>USA</td>\n",
       "      <td>United States</td>\n",
       "      <td>United States of America</td>\n",
       "      <td>M</td>\n",
       "      <td>Water Polo</td>\n",
       "      <td>Men</td>\n",
       "      <td>HTEAM</td>\n",
       "      <td>/en/paris-2024/results/water-polo/men/fnl-0002...</td>\n",
       "      <td>1995-05-21</td>\n",
       "      <td>1908361</td>\n",
       "    </tr>\n",
       "    <tr>\n",
       "      <th>2270</th>\n",
       "      <td>2024-08-11</td>\n",
       "      <td>Bronze Medal</td>\n",
       "      <td>3</td>\n",
       "      <td>HOLLAND Drew</td>\n",
       "      <td>Male</td>\n",
       "      <td>United States</td>\n",
       "      <td>USA</td>\n",
       "      <td>United States</td>\n",
       "      <td>United States of America</td>\n",
       "      <td>M</td>\n",
       "      <td>Water Polo</td>\n",
       "      <td>Men</td>\n",
       "      <td>HTEAM</td>\n",
       "      <td>/en/paris-2024/results/water-polo/men/fnl-0002...</td>\n",
       "      <td>1995-04-11</td>\n",
       "      <td>1908359</td>\n",
       "    </tr>\n",
       "  </tbody>\n",
       "</table>\n",
       "<p>2271 rows × 16 columns</p>\n",
       "</div>"
      ],
      "text/plain": [
       "      medal_date    medal_type  medal_code                name  gender  \\\n",
       "0     2024-07-27    Gold Medal           1     EVENEPOEL Remco    Male   \n",
       "1     2024-07-27  Silver Medal           2       GANNA Filippo    Male   \n",
       "2     2024-07-27  Bronze Medal           3       van AERT Wout    Male   \n",
       "3     2024-07-27    Gold Medal           1         BROWN Grace  Female   \n",
       "4     2024-07-27  Silver Medal           2      HENDERSON Anna  Female   \n",
       "...          ...           ...         ...                 ...     ...   \n",
       "2266  2024-08-11  Bronze Medal           3          BOWEN Alex    Male   \n",
       "2267  2024-08-11  Bronze Medal           3  DODD Chase William    Male   \n",
       "2268  2024-08-11  Bronze Medal           3          DODD Ryder    Male   \n",
       "2269  2024-08-11  Bronze Medal           3          IRVING Max    Male   \n",
       "2270  2024-08-11  Bronze Medal           3        HOLLAND Drew    Male   \n",
       "\n",
       "            country country_code    nationality                      team  \\\n",
       "0           Belgium          BEL        Belgium                       NaN   \n",
       "1             Italy          ITA          Italy                       NaN   \n",
       "2           Belgium          BEL        Belgium                       NaN   \n",
       "3         Australia          AUS      Australia                       NaN   \n",
       "4     Great Britain          GBR  Great Britain                       NaN   \n",
       "...             ...          ...            ...                       ...   \n",
       "2266  United States          USA  United States  United States of America   \n",
       "2267  United States          USA  United States  United States of America   \n",
       "2268  United States          USA  United States  United States of America   \n",
       "2269  United States          USA  United States  United States of America   \n",
       "2270  United States          USA  United States  United States of America   \n",
       "\n",
       "     team_gender    discipline                          event event_type  \\\n",
       "0            NaN  Cycling Road    Men's Individual Time Trial        ATH   \n",
       "1            NaN  Cycling Road    Men's Individual Time Trial        ATH   \n",
       "2            NaN  Cycling Road    Men's Individual Time Trial        ATH   \n",
       "3            NaN  Cycling Road  Women's Individual Time Trial        ATH   \n",
       "4            NaN  Cycling Road  Women's Individual Time Trial        ATH   \n",
       "...          ...           ...                            ...        ...   \n",
       "2266           M    Water Polo                            Men      HTEAM   \n",
       "2267           M    Water Polo                            Men      HTEAM   \n",
       "2268           M    Water Polo                            Men      HTEAM   \n",
       "2269           M    Water Polo                            Men      HTEAM   \n",
       "2270           M    Water Polo                            Men      HTEAM   \n",
       "\n",
       "                                              url_event  birth_date     code  \n",
       "0     /en/paris-2024/results/cycling-road/men-s-indi...  2000-01-25  1903136  \n",
       "1     /en/paris-2024/results/cycling-road/men-s-indi...  1996-07-25  1923520  \n",
       "2     /en/paris-2024/results/cycling-road/men-s-indi...  1994-09-15  1903147  \n",
       "3     /en/paris-2024/results/cycling-road/women-s-in...  1992-07-07  1940173  \n",
       "4     /en/paris-2024/results/cycling-road/women-s-in...  1998-11-14  1912525  \n",
       "...                                                 ...         ...      ...  \n",
       "2266  /en/paris-2024/results/water-polo/men/fnl-0002...  1993-09-04  1908350  \n",
       "2267  /en/paris-2024/results/water-polo/men/fnl-0002...  2003-04-05  1908354  \n",
       "2268  /en/paris-2024/results/water-polo/men/fnl-0002...  2006-01-19  1908355  \n",
       "2269  /en/paris-2024/results/water-polo/men/fnl-0002...  1995-05-21  1908361  \n",
       "2270  /en/paris-2024/results/water-polo/men/fnl-0002...  1995-04-11  1908359  \n",
       "\n",
       "[2271 rows x 16 columns]"
      ]
     },
     "execution_count": 16,
     "metadata": {},
     "output_type": "execute_result"
    }
   ],
   "source": [
    "df = pd.read_csv('./medallists.csv')\n",
    "\n",
    "df"
   ]
  },
  {
   "cell_type": "markdown",
   "metadata": {},
   "source": [
    "Now, listing the top 10 athletes with their neceessary data"
   ]
  },
  {
   "cell_type": "code",
   "execution_count": 17,
   "metadata": {},
   "outputs": [
    {
     "data": {
      "text/plain": [
       "name                country        discipline         \n",
       "ZHANG Yufei         China          Swimming               6\n",
       "MARCHAND Leon       France         Swimming               5\n",
       "HUSKE Torri         United States  Swimming               5\n",
       "McKEOWN Kaylee      Australia      Swimming               5\n",
       "O'CALLAGHAN Mollie  Australia      Swimming               5\n",
       "SMITH Regan         United States  Swimming               5\n",
       "ANDRADE Rebeca      Brazil         Artistic Gymnastics    4\n",
       "DOUGLASS Kate       United States  Swimming               4\n",
       "LEDECKY Katie       United States  Swimming               4\n",
       "BILES Simone        United States  Artistic Gymnastics    4\n",
       "Name: count, dtype: int64"
      ]
     },
     "execution_count": 17,
     "metadata": {},
     "output_type": "execute_result"
    }
   ],
   "source": [
    "top_athletes = df[['name', 'country', 'discipline']].value_counts().head(10)\n",
    "\n",
    "top_athletes"
   ]
  },
  {
   "cell_type": "markdown",
   "metadata": {},
   "source": [
    "As we see, the swimming discipline is very dominant here."
   ]
  },
  {
   "cell_type": "markdown",
   "metadata": {},
   "source": [
    "Now, we want to get the age of athlete at the event. So, we calculate the age based on the birth date data. Also if they have the 'NaN' data we can remove it."
   ]
  },
  {
   "cell_type": "code",
   "execution_count": 35,
   "metadata": {},
   "outputs": [
    {
     "name": "stdout",
     "output_type": "stream",
     "text": [
      "(2252, 18)\n",
      "\n",
      "to\n",
      "\n",
      "(2252, 18)\n"
     ]
    }
   ],
   "source": [
    "df['medal_date'] = pd.to_datetime(df['medal_date']) # transforming the date data to be calculated after\n",
    "df['birth_date'] = pd.to_datetime(df['birth_date'])\n",
    "\n",
    "df['age_at_event'] = df['medal_date'].dt.year - df['birth_date'].dt.year\n",
    "\n",
    "print(df.shape)\n",
    "\n",
    "df = df.dropna(subset=['age_at_event']) # we remove the unlikely data\n",
    "\n",
    "print('\\nto\\n')\n",
    "print(df.shape)"
   ]
  },
  {
   "cell_type": "markdown",
   "metadata": {},
   "source": [
    "We, have 19 Nan data on the table. So, we remove them."
   ]
  },
  {
   "cell_type": "code",
   "execution_count": 37,
   "metadata": {},
   "outputs": [
    {
     "data": {
      "text/plain": [
       "age_group\n",
       "<18       20\n",
       "18-25    729\n",
       "26-30    892\n",
       "31-35    458\n",
       "36-40    120\n",
       "41-50     28\n",
       "50+        5\n",
       "Name: count, dtype: int64"
      ]
     },
     "execution_count": 37,
     "metadata": {},
     "output_type": "execute_result"
    }
   ],
   "source": [
    "# define age group\n",
    "bins = [0, 18, 25, 30, 35, 40, 50, 100]\n",
    "labels = ['<18', '18-25', '26-30', '31-35', '36-40', '41-50', '50+']\n",
    "\n",
    "df['age_group'] = pd.cut(df['age_at_event'], # 'cut' function is to make the classification.\n",
    "                        bins=bins,\n",
    "                        labels=labels,\n",
    "                        right=False)\n",
    "\n",
    "age_group_success = df['age_group'].value_counts().sort_index() # sort_index() is to sorting the output based on the index, not the value.\n",
    "# medallists_df['age_group']\n",
    "age_group_success"
   ]
  },
  {
   "cell_type": "markdown",
   "metadata": {},
   "source": [
    "Now, we separate the medallists based-on their gender."
   ]
  },
  {
   "cell_type": "code",
   "execution_count": 50,
   "metadata": {},
   "outputs": [
    {
     "data": {
      "image/png": "[encoded data removed]",
      "text/plain": [
       "<Figure size 800x500 with 1 Axes>"
      ]
     },
     "metadata": {},
     "output_type": "display_data"
    }
   ],
   "source": [
    "# medal distribution by gender\n",
    "gender_success = df['gender'].value_counts()\n",
    "gender_success.plot(kind='bar',\n",
    "                    figsize=(8,5),\n",
    "                    color=['dodgerblue', 'hotpink'])\n",
    "\n",
    "plt.title('Medal Distribution by Gender', fontsize=17, weight='bold')\n",
    "plt.xlabel('Gender', fontsize=13)\n",
    "plt.ylabel('Number of Medals', fontsize=13)\n",
    "plt.xticks(rotation=0)\n",
    "# plt.tight_layout()\n",
    "\n",
    "plt.show()"
   ]
  },
  {
   "cell_type": "markdown",
   "metadata": {},
   "source": [
    "Then, we showing the perentation of each medallists representing their country, based-on their gender."
   ]
  },
  {
   "cell_type": "code",
   "execution_count": 49,
   "metadata": {},
   "outputs": [
    {
     "data": {
      "image/png": "[encoded data removed]",
      "text/plain": [
       "<Figure size 1400x1000 with 1 Axes>"
      ]
     },
     "metadata": {},
     "output_type": "display_data"
    }
   ],
   "source": [
    "# this fillna() is to make the NaN data into 0.\n",
    "# also the unstack() is to not showing the count result.\n",
    "\n",
    "gender_medal_count = df.groupby(['country','gender'])['medal_type'].count().unstack().fillna(0) \n",
    "\n",
    "gender_medal_count['total'] = gender_medal_count.sum(axis=1) # axis=1 is to process based-on column\n",
    "gender_medal_count['Male'] = gender_medal_count['Male']/gender_medal_count['total']\n",
    "gender_medal_count['Female'] = gender_medal_count['Female']/gender_medal_count['total']\n",
    "\n",
    "top_20_gender_balance = gender_medal_count.sort_values(by='total',ascending=False).head(20)\n",
    "\n",
    "plt.figure(figsize=(14,10))\n",
    "plt.barh(top_20_gender_balance.index,\n",
    "         top_20_gender_balance['Male'],\n",
    "         color='dodgerblue',\n",
    "         label='Male')\n",
    "plt.barh(top_20_gender_balance.index,\n",
    "         top_20_gender_balance['Female'],\n",
    "         left=top_20_gender_balance['Male'],\n",
    "         color='hotpink',\n",
    "         label='Female')\n",
    "\n",
    "plt.xlabel('Proportion of Medals', fontsize=14)\n",
    "plt.ylabel('Country', fontsize=14)\n",
    "plt.title('Medal Count Proportion by Gender and Country (Top 20)',\n",
    "          fontsize=18,\n",
    "          weight='bold')\n",
    "plt.legend(loc='upper right')\n",
    "\n",
    "plt.show()"
   ]
  },
  {
   "cell_type": "markdown",
   "metadata": {},
   "source": [
    "Now, we analyzing the medallists based on their age."
   ]
  },
  {
   "cell_type": "code",
   "execution_count": 52,
   "metadata": {},
   "outputs": [
    {
     "data": {
      "image/png": "[encoded data removed]",
      "text/plain": [
       "<Figure size 1000x600 with 1 Axes>"
      ]
     },
     "metadata": {},
     "output_type": "display_data"
    }
   ],
   "source": [
    "# medal distribution by age group\n",
    "age_group_success.plot(kind='bar',\n",
    "                       figsize=(10,6),\n",
    "                       color='lightcoral')\n",
    "plt.title('Medal Distribution by Age Group', weight='bold', fontsize=17)\n",
    "plt.xlabel('Age Group', fontsize=13)\n",
    "plt.ylabel('Number of Medals', fontsize=13)\n",
    "plt.xticks(rotation=0)\n",
    "\n",
    "plt.show()"
   ]
  },
  {
   "cell_type": "markdown",
   "metadata": {},
   "source": [
    "Now, we deliver the medal distribution based on the discipline and the age."
   ]
  },
  {
   "cell_type": "code",
   "execution_count": 64,
   "metadata": {},
   "outputs": [
    {
     "data": {
      "image/png": "[encoded data removed]",
      "text/plain": [
       "<Figure size 1400x800 with 1 Axes>"
      ]
     },
     "metadata": {},
     "output_type": "display_data"
    }
   ],
   "source": [
    "top_disciplines = df['discipline'].value_counts().head(10).index # index is return to the wanted criteria's index\n",
    "\n",
    "filtered_data = df[df['discipline'].isin(top_disciplines)] # 'isin' is to filtering the column 'discipline' that contain one of the 'top_disciplines'\n",
    "\n",
    "plt.figure(figsize=(14,8))\n",
    "sns.boxplot(data=filtered_data,\n",
    "            x='discipline',\n",
    "            y='age_at_event',\n",
    "            hue='medal_type', # 'hue' is the parameter, then the 'palette' is the color based on hue.\n",
    "            palette=['#FFD700','#C0C0C0','#CD7F32'])\n",
    "plt.title('Age Distribution of Medallists by Discipline and Medal Type', fontsize=17, weight='bold')\n",
    "plt.xlabel('Discipline', fontsize=13)\n",
    "plt.ylabel('Age', fontsize=13)\n",
    "plt.xticks(rotation=30)\n",
    "plt.legend(title='Medal Type',\n",
    "           bbox_to_anchor=(1.05,1),\n",
    "           loc='upper left')\n",
    "\n",
    "plt.show()"
   ]
  },
  {
   "cell_type": "markdown",
   "metadata": {},
   "source": [
    "We can see that every discipline  has its distribution character based on the age. "
   ]
  },
  {
   "cell_type": "markdown",
   "metadata": {},
   "source": [
    "Now, we pick the top 10 number of medal by discipline."
   ]
  },
  {
   "cell_type": "code",
   "execution_count": 78,
   "metadata": {},
   "outputs": [
    {
     "data": {
      "image/png": "[encoded data removed]",
      "text/plain": [
       "<Figure size 1200x800 with 1 Axes>"
      ]
     },
     "metadata": {},
     "output_type": "display_data"
    }
   ],
   "source": [
    "medals_by_sport = df.groupby('discipline')['medal_type'].count().sort_values(ascending=False)\n",
    "\n",
    "# print(medals_by_sport)\n",
    "\n",
    "plt.figure(figsize=(12,8))\n",
    "medals_by_sport.head(10).plot(kind='barh', color='dodgerblue')\n",
    "plt.title('Top 10 Sports by Number of Medals', fontsize=17, weight='bold')\n",
    "plt.xlabel('Number of Medals', fontsize=13)\n",
    "plt.ylabel('Sport', fontsize=13)\n",
    "\n",
    "plt.show()"
   ]
  },
  {
   "cell_type": "markdown",
   "metadata": {},
   "source": [
    "As we see, the athletics and swimming has very large number of medal compared to the others."
   ]
  },
  {
   "cell_type": "markdown",
   "metadata": {},
   "source": [
    "For the addition we plot it with Sankey Diagram Flow."
   ]
  },
  {
   "cell_type": "code",
   "execution_count": 82,
   "metadata": {},
   "outputs": [
    {
     "data": {
      "application/vnd.plotly.v1+json": {
       "config": {
        "plotlyServerURL": "https://plot.ly"
       },
       "data": [
        {
         "link": {
          "source": [
           0,
           0,
           0,
           0,
           0,
           0,
           1,
           1,
           1,
           2,
           2,
           2,
           2,
           2,
           2,
           2,
           3,
           3,
           3,
           3,
           3,
           3,
           4,
           4,
           4,
           4,
           5,
           5,
           5,
           5,
           5,
           5,
           6,
           6,
           6,
           7,
           7,
           7,
           7,
           7,
           7,
           8,
           8,
           8,
           9,
           9,
           9,
           9,
           9,
           9,
           9,
           9,
           9
          ],
          "target": [
           10,
           11,
           12,
           13,
           14,
           15,
           10,
           16,
           14,
           10,
           11,
           12,
           17,
           18,
           14,
           19,
           10,
           12,
           18,
           16,
           13,
           14,
           10,
           12,
           13,
           14,
           10,
           12,
           17,
           13,
           14,
           19,
           10,
           17,
           14,
           10,
           12,
           16,
           13,
           14,
           15,
           10,
           18,
           15,
           10,
           11,
           12,
           17,
           18,
           13,
           14,
           19,
           15
          ],
          "value": [
           8,
           12,
           12,
           2,
           51,
           13,
           4,
           17,
           36,
           1,
           24,
           1,
           16,
           21,
           12,
           13,
           8,
           5,
           20,
           18,
           5,
           2,
           37,
           25,
           36,
           10,
           3,
           9,
           14,
           6,
           10,
           13,
           1,
           17,
           1,
           14,
           9,
           35,
           27,
           2,
           13,
           5,
           22,
           13,
           55,
           24,
           7,
           7,
           20,
           13,
           70,
           26,
           13
          ]
         },
         "node": {
          "label": [
           "Australia",
           "China",
           "France",
           "Germany",
           "Great Britain",
           "Italy",
           "Japan",
           "Netherlands",
           "Spain",
           "United States",
           "Athletics",
           "Basketball",
           "Cycling Track",
           "Rowing",
           "Swimming",
           "Water Polo",
           "Hockey",
           "Fencing",
           "Football",
           "Volleyball"
          ],
          "line": {
           "color": "black",
           "width": 0.5
          },
          "pad": 15,
          "thickness": 20
         },
         "type": "sankey"
        }
       ],
       "layout": {
        "font": {
         "size": 12
        },
        "template": {
         "data": {
          "bar": [
           {
            "error_x": {
             "color": "#2a3f5f"
            },
            "error_y": {
             "color": "#2a3f5f"
            },
            "marker": {
             "line": {
              "color": "#E5ECF6",
              "width": 0.5
             },
             "pattern": {
              "fillmode": "overlay",
              "size": 10,
              "solidity": 0.2
             }
            },
            "type": "bar"
           }
          ],
          "barpolar": [
           {
            "marker": {
             "line": {
              "color": "#E5ECF6",
              "width": 0.5
             },
             "pattern": {
              "fillmode": "overlay",
              "size": 10,
              "solidity": 0.2
             }
            },
            "type": "barpolar"
           }
          ],
          "carpet": [
           {
            "aaxis": {
             "endlinecolor": "#2a3f5f",
             "gridcolor": "white",
             "linecolor": "white",
             "minorgridcolor": "white",
             "startlinecolor": "#2a3f5f"
            },
            "baxis": {
             "endlinecolor": "#2a3f5f",
             "gridcolor": "white",
             "linecolor": "white",
             "minorgridcolor": "white",
             "startlinecolor": "#2a3f5f"
            },
            "type": "carpet"
           }
          ],
          "choropleth": [
           {
            "colorbar": {
             "outlinewidth": 0,
             "ticks": ""
            },
            "type": "choropleth"
           }
          ],
          "contour": [
           {
            "colorbar": {
             "outlinewidth": 0,
             "ticks": ""
            },
            "colorscale": [
             [
              0,
              "#0d0887"
             ],
             [
              0.1111111111111111,
              "#46039f"
             ],
             [
              0.2222222222222222,
              "#7201a8"
             ],
             [
              0.3333333333333333,
              "#9c179e"
             ],
             [
              0.4444444444444444,
              "#bd3786"
             ],
             [
              0.5555555555555556,
              "#d8576b"
             ],
             [
              0.6666666666666666,
              "#ed7953"
             ],
             [
              0.7777777777777778,
              "#fb9f3a"
             ],
             [
              0.8888888888888888,
              "#fdca26"
             ],
             [
              1,
              "#f0f921"
             ]
            ],
            "type": "contour"
           }
          ],
          "contourcarpet": [
           {
            "colorbar": {
             "outlinewidth": 0,
             "ticks": ""
            },
            "type": "contourcarpet"
           }
          ],
          "heatmap": [
           {
            "colorbar": {
             "outlinewidth": 0,
             "ticks": ""
            },
            "colorscale": [
             [
              0,
              "#0d0887"
             ],
             [
              0.1111111111111111,
              "#46039f"
             ],
             [
              0.2222222222222222,
              "#7201a8"
             ],
             [
              0.3333333333333333,
              "#9c179e"
             ],
             [
              0.4444444444444444,
              "#bd3786"
             ],
             [
              0.5555555555555556,
              "#d8576b"
             ],
             [
              0.6666666666666666,
              "#ed7953"
             ],
             [
              0.7777777777777778,
              "#fb9f3a"
             ],
             [
              0.8888888888888888,
              "#fdca26"
             ],
             [
              1,
              "#f0f921"
             ]
            ],
            "type": "heatmap"
           }
          ],
          "heatmapgl": [
           {
            "colorbar": {
             "outlinewidth": 0,
             "ticks": ""
            },
            "colorscale": [
             [
              0,
              "#0d0887"
             ],
             [
              0.1111111111111111,
              "#46039f"
             ],
             [
              0.2222222222222222,
              "#7201a8"
             ],
             [
              0.3333333333333333,
              "#9c179e"
             ],
             [
              0.4444444444444444,
              "#bd3786"
             ],
             [
              0.5555555555555556,
              "#d8576b"
             ],
             [
              0.6666666666666666,
              "#ed7953"
             ],
             [
              0.7777777777777778,
              "#fb9f3a"
             ],
             [
              0.8888888888888888,
              "#fdca26"
             ],
             [
              1,
              "#f0f921"
             ]
            ],
            "type": "heatmapgl"
           }
          ],
          "histogram": [
           {
            "marker": {
             "pattern": {
              "fillmode": "overlay",
              "size": 10,
              "solidity": 0.2
             }
            },
            "type": "histogram"
           }
          ],
          "histogram2d": [
           {
            "colorbar": {
             "outlinewidth": 0,
             "ticks": ""
            },
            "colorscale": [
             [
              0,
              "#0d0887"
             ],
             [
              0.1111111111111111,
              "#46039f"
             ],
             [
              0.2222222222222222,
              "#7201a8"
             ],
             [
              0.3333333333333333,
              "#9c179e"
             ],
             [
              0.4444444444444444,
              "#bd3786"
             ],
             [
              0.5555555555555556,
              "#d8576b"
             ],
             [
              0.6666666666666666,
              "#ed7953"
             ],
             [
              0.7777777777777778,
              "#fb9f3a"
             ],
             [
              0.8888888888888888,
              "#fdca26"
             ],
             [
              1,
              "#f0f921"
             ]
            ],
            "type": "histogram2d"
           }
          ],
          "histogram2dcontour": [
           {
            "colorbar": {
             "outlinewidth": 0,
             "ticks": ""
            },
            "colorscale": [
             [
              0,
              "#0d0887"
             ],
             [
              0.1111111111111111,
              "#46039f"
             ],
             [
              0.2222222222222222,
              "#7201a8"
             ],
             [
              0.3333333333333333,
              "#9c179e"
             ],
             [
              0.4444444444444444,
              "#bd3786"
             ],
             [
              0.5555555555555556,
              "#d8576b"
             ],
             [
              0.6666666666666666,
              "#ed7953"
             ],
             [
              0.7777777777777778,
              "#fb9f3a"
             ],
             [
              0.8888888888888888,
              "#fdca26"
             ],
             [
              1,
              "#f0f921"
             ]
            ],
            "type": "histogram2dcontour"
           }
          ],
          "mesh3d": [
           {
            "colorbar": {
             "outlinewidth": 0,
             "ticks": ""
            },
            "type": "mesh3d"
           }
          ],
          "parcoords": [
           {
            "line": {
             "colorbar": {
              "outlinewidth": 0,
              "ticks": ""
             }
            },
            "type": "parcoords"
           }
          ],
          "pie": [
           {
            "automargin": true,
            "type": "pie"
           }
          ],
          "scatter": [
           {
            "fillpattern": {
             "fillmode": "overlay",
             "size": 10,
             "solidity": 0.2
            },
            "type": "scatter"
           }
          ],
          "scatter3d": [
           {
            "line": {
             "colorbar": {
              "outlinewidth": 0,
              "ticks": ""
             }
            },
            "marker": {
             "colorbar": {
              "outlinewidth": 0,
              "ticks": ""
             }
            },
            "type": "scatter3d"
           }
          ],
          "scattercarpet": [
           {
            "marker": {
             "colorbar": {
              "outlinewidth": 0,
              "ticks": ""
             }
            },
            "type": "scattercarpet"
           }
          ],
          "scattergeo": [
           {
            "marker": {
             "colorbar": {
              "outlinewidth": 0,
              "ticks": ""
             }
            },
            "type": "scattergeo"
           }
          ],
          "scattergl": [
           {
            "marker": {
             "colorbar": {
              "outlinewidth": 0,
              "ticks": ""
             }
            },
            "type": "scattergl"
           }
          ],
          "scattermapbox": [
           {
            "marker": {
             "colorbar": {
              "outlinewidth": 0,
              "ticks": ""
             }
            },
            "type": "scattermapbox"
           }
          ],
          "scatterpolar": [
           {
            "marker": {
             "colorbar": {
              "outlinewidth": 0,
              "ticks": ""
             }
            },
            "type": "scatterpolar"
           }
          ],
          "scatterpolargl": [
           {
            "marker": {
             "colorbar": {
              "outlinewidth": 0,
              "ticks": ""
             }
            },
            "type": "scatterpolargl"
           }
          ],
          "scatterternary": [
           {
            "marker": {
             "colorbar": {
              "outlinewidth": 0,
              "ticks": ""
             }
            },
            "type": "scatterternary"
           }
          ],
          "surface": [
           {
            "colorbar": {
             "outlinewidth": 0,
             "ticks": ""
            },
            "colorscale": [
             [
              0,
              "#0d0887"
             ],
             [
              0.1111111111111111,
              "#46039f"
             ],
             [
              0.2222222222222222,
              "#7201a8"
             ],
             [
              0.3333333333333333,
              "#9c179e"
             ],
             [
              0.4444444444444444,
              "#bd3786"
             ],
             [
              0.5555555555555556,
              "#d8576b"
             ],
             [
              0.6666666666666666,
              "#ed7953"
             ],
             [
              0.7777777777777778,
              "#fb9f3a"
             ],
             [
              0.8888888888888888,
              "#fdca26"
             ],
             [
              1,
              "#f0f921"
             ]
            ],
            "type": "surface"
           }
          ],
          "table": [
           {
            "cells": {
             "fill": {
              "color": "#EBF0F8"
             },
             "line": {
              "color": "white"
             }
            },
            "header": {
             "fill": {
              "color": "#C8D4E3"
             },
             "line": {
              "color": "white"
             }
            },
            "type": "table"
           }
          ]
         },
         "layout": {
          "annotationdefaults": {
           "arrowcolor": "#2a3f5f",
           "arrowhead": 0,
           "arrowwidth": 1
          },
          "autotypenumbers": "strict",
          "coloraxis": {
           "colorbar": {
            "outlinewidth": 0,
            "ticks": ""
           }
          },
          "colorscale": {
           "diverging": [
            [
             0,
             "#8e0152"
            ],
            [
             0.1,
             "#c51b7d"
            ],
            [
             0.2,
             "#de77ae"
            ],
            [
             0.3,
             "#f1b6da"
            ],
            [
             0.4,
             "#fde0ef"
            ],
            [
             0.5,
             "#f7f7f7"
            ],
            [
             0.6,
             "#e6f5d0"
            ],
            [
             0.7,
             "#b8e186"
            ],
            [
             0.8,
             "#7fbc41"
            ],
            [
             0.9,
             "#4d9221"
            ],
            [
             1,
             "#276419"
            ]
           ],
           "sequential": [
            [
             0,
             "#0d0887"
            ],
            [
             0.1111111111111111,
             "#46039f"
            ],
            [
             0.2222222222222222,
             "#7201a8"
            ],
            [
             0.3333333333333333,
             "#9c179e"
            ],
            [
             0.4444444444444444,
             "#bd3786"
            ],
            [
             0.5555555555555556,
             "#d8576b"
            ],
            [
             0.6666666666666666,
             "#ed7953"
            ],
            [
             0.7777777777777778,
             "#fb9f3a"
            ],
            [
             0.8888888888888888,
             "#fdca26"
            ],
            [
             1,
             "#f0f921"
            ]
           ],
           "sequentialminus": [
            [
             0,
             "#0d0887"
            ],
            [
             0.1111111111111111,
             "#46039f"
            ],
            [
             0.2222222222222222,
             "#7201a8"
            ],
            [
             0.3333333333333333,
             "#9c179e"
            ],
            [
             0.4444444444444444,
             "#bd3786"
            ],
            [
             0.5555555555555556,
             "#d8576b"
            ],
            [
             0.6666666666666666,
             "#ed7953"
            ],
            [
             0.7777777777777778,
             "#fb9f3a"
            ],
            [
             0.8888888888888888,
             "#fdca26"
            ],
            [
             1,
             "#f0f921"
            ]
           ]
          },
          "colorway": [
           "#636efa",
           "#EF553B",
           "#00cc96",
           "#ab63fa",
           "#FFA15A",
           "#19d3f3",
           "#FF6692",
           "#B6E880",
           "#FF97FF",
           "#FECB52"
          ],
          "font": {
           "color": "#2a3f5f"
          },
          "geo": {
           "bgcolor": "white",
           "lakecolor": "white",
           "landcolor": "#E5ECF6",
           "showlakes": true,
           "showland": true,
           "subunitcolor": "white"
          },
          "hoverlabel": {
           "align": "left"
          },
          "hovermode": "closest",
          "mapbox": {
           "style": "light"
          },
          "paper_bgcolor": "white",
          "plot_bgcolor": "#E5ECF6",
          "polar": {
           "angularaxis": {
            "gridcolor": "white",
            "linecolor": "white",
            "ticks": ""
           },
           "bgcolor": "#E5ECF6",
           "radialaxis": {
            "gridcolor": "white",
            "linecolor": "white",
            "ticks": ""
           }
          },
          "scene": {
           "xaxis": {
            "backgroundcolor": "#E5ECF6",
            "gridcolor": "white",
            "gridwidth": 2,
            "linecolor": "white",
            "showbackground": true,
            "ticks": "",
            "zerolinecolor": "white"
           },
           "yaxis": {
            "backgroundcolor": "#E5ECF6",
            "gridcolor": "white",
            "gridwidth": 2,
            "linecolor": "white",
            "showbackground": true,
            "ticks": "",
            "zerolinecolor": "white"
           },
           "zaxis": {
            "backgroundcolor": "#E5ECF6",
            "gridcolor": "white",
            "gridwidth": 2,
            "linecolor": "white",
            "showbackground": true,
            "ticks": "",
            "zerolinecolor": "white"
           }
          },
          "shapedefaults": {
           "line": {
            "color": "#2a3f5f"
           }
          },
          "ternary": {
           "aaxis": {
            "gridcolor": "white",
            "linecolor": "white",
            "ticks": ""
           },
           "baxis": {
            "gridcolor": "white",
            "linecolor": "white",
            "ticks": ""
           },
           "bgcolor": "#E5ECF6",
           "caxis": {
            "gridcolor": "white",
            "linecolor": "white",
            "ticks": ""
           }
          },
          "title": {
           "x": 0.05
          },
          "xaxis": {
           "automargin": true,
           "gridcolor": "white",
           "linecolor": "white",
           "ticks": "",
           "title": {
            "standoff": 15
           },
           "zerolinecolor": "white",
           "zerolinewidth": 2
          },
          "yaxis": {
           "automargin": true,
           "gridcolor": "white",
           "linecolor": "white",
           "ticks": "",
           "title": {
            "standoff": 15
           },
           "zerolinecolor": "white",
           "zerolinewidth": 2
          }
         }
        },
        "title": {
         "text": "Sankey Diagram of Medal Flows by Country and Discipline (Top 10 Countries and Disciplines)"
        }
       }
      }
     },
     "metadata": {},
     "output_type": "display_data"
    }
   ],
   "source": [
    "import plotly.graph_objects as go\n",
    "\n",
    "medals_by_country_discipline = df.groupby(['country','discipline']).size().reset_index(name='medal_count')\n",
    "\n",
    "top_10_countries = medals_by_country_discipline.groupby('country')['medal_count'].sum().sort_values(ascending=False).head(10).index\n",
    "filtered_medals = medals_by_country_discipline[medals_by_country_discipline['country'].isin(top_10_countries)]\n",
    "\n",
    "top_disciplines = filtered_medals.groupby('discipline')['medal_count'].sum().sort_values(ascending=False).head(10).index\n",
    "filtered_medals = filtered_medals[filtered_medals['discipline'].isin(top_disciplines)]\n",
    "\n",
    "countries = filtered_medals['country'].unique().tolist()\n",
    "disciplines = filtered_medals['discipline'].unique().tolist()\n",
    "nodes = countries + disciplines\n",
    "\n",
    "source_indices= [nodes.index(country) for country in filtered_medals['country']]\n",
    "target_indices = [nodes.index(discipline) for discipline in filtered_medals['discipline']]\n",
    "\n",
    "fig = go.Figure(go.Sankey(\n",
    "    node=dict(\n",
    "        pad=15,\n",
    "        thickness=20,\n",
    "        line=dict(color='black',width=0.5),\n",
    "        label=nodes\n",
    "    ),\n",
    "    link=dict(\n",
    "        source=source_indices,\n",
    "        target=target_indices,\n",
    "        value=filtered_medals['medal_count']\n",
    "    )\n",
    "))\n",
    "\n",
    "fig.update_layout(title_text='Sankey Diagram of Medal Flows by Country and Discipline (Top 10 Countries and Disciplines)', \n",
    "                  font_size=12)\n",
    "\n",
    "fig.show()"
   ]
  }
 ],
 "metadata": {
  "kernelspec": {
   "display_name": "Python 3",
   "language": "python",
   "name": "python3"
  },
  "language_info": {
   "codemirror_mode": {
    "name": "ipython",
    "version": 3
   },
   "file_extension": ".py",
   "mimetype": "text/x-python",
   "name": "python",
   "nbconvert_exporter": "python",
   "pygments_lexer": "ipython3",
   "version": "3.11.2"
  }
 },
 "nbformat": 4,
 "nbformat_minor": 2
}
